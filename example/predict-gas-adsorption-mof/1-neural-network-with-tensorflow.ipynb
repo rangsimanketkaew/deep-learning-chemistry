{
 "cells": [
  {
   "cell_type": "markdown",
   "source": "# Neural Network with TensorFlow\n",
   "metadata": {
    "tags": [],
    "cell_id": "00000-0d321b2d-32b9-468f-802e-94caeaa3379b",
    "deepnote_cell_type": "markdown"
   }
  },
  {
   "cell_type": "markdown",
   "source": "**This notebook is moidifed from its original version: https://github.com/mrdbourke/tensorflow-deep-learning/blob/main/01_neural_network_regression_in_tensorflow.ipynb**",
   "metadata": {
    "tags": [],
    "cell_id": "00001-b580dc13-00d0-4f8e-b693-6f1455092061",
    "deepnote_cell_type": "markdown"
   }
  },
  {
   "cell_type": "markdown",
   "source": "โดย นายรังสิมันต์ เกษแก้ว <br>\nมหาวิทยาลัยแห่งซูริค <br>\nrangsiman1993@gmail.com",
   "metadata": {
    "tags": [],
    "cell_id": "00002-6edc621b-94a3-43a4-989c-c9999dbce4da",
    "deepnote_cell_type": "markdown"
   }
  },
  {
   "cell_type": "markdown",
   "source": "## What is TensorFlow?\n\n[TensorFlow](https://www.tensorflow.org/) is an open-source end-to-end machine learning library for preprocessing data, modelling data and serving models (getting them into the hands of others).\n\n## Why use TensorFlow?\n\nRather than building machine learning and deep learning models from scratch, it's more likely you'll use a library such as TensorFlow. This is because it contains many of the most common machine learning functions you'll want to use.\n\n## What we're going to cover\n\nTensorFlow is vast. But the main premise is simple: turn data into numbers (tensors) and build machine learning algorithms to find patterns in them.",
   "metadata": {
    "tags": [],
    "cell_id": "00001-46697c53-3b77-41b7-9680-627ef73bc624",
    "deepnote_cell_type": "markdown"
   }
  },
  {
   "cell_type": "markdown",
   "source": "There are many definitions for a [regression problem](https://en.wikipedia.org/wiki/Regression_analysis) but in our case, we're going to simplify it to be: predicting a number.\n\nFor example, you might want to:\n- Predict the selling price of houses given information about them (such as number of rooms, size, number of bathrooms).\n- Predict the coordinates of a bounding box of an item in an image.\n- Predict the cost of medical insurance for an individual given their demographics (age, sex, gender, race).\n\nIn this notebook, we're going to set the foundations for how you can take a sample of inputs (this is your data), build a neural network to discover patterns in those inputs and then make a prediction (in the form of a number) based on those inputs.\n\n## What we're going to cover\n\nSpecifically, we're going to go through doing the following with TensorFlow:\n- Architecture of a regression model\n- Input shapes and output shapes\n  - `X`: features/data (inputs)\n  - `y`: labels (outputs)\n- Creating custom data to view and fit\n- Steps in modelling\n  - Creating a model\n  - Compiling a model\n    - Defining a loss function\n    - Setting up an optimizer\n    - Creating evaluation metrics\n  - Fitting a model (getting it to find patterns in our data)\n- Evaluating a model\n  - Visualizng the model (\"visualize, visualize, visualize\")\n  - Looking at training curves\n  - Compare predictions to ground truth (using our evaluation metrics)\n- Saving a model (so we can use it later)\n- Loading a model\n\nDon't worry if none of these make sense now, we're going to go through each.",
   "metadata": {
    "id": "UPgo18-N1gSi",
    "cell_id": "00000-12949668-2f27-4ea5-863e-0482203041ae",
    "deepnote_cell_type": "markdown"
   }
  },
  {
   "cell_type": "markdown",
   "source": "## Typical architecture of a regresison neural network\n\nThe word *typical* is on purpose.\n\nWhy?\n\nBecause there are many different ways (actually, there's almost an infinite number of ways) to write neural networks.\n\nBut the following is a generic setup for ingesting a collection of numbers, finding patterns in them and then outputing some kind of target number.\n\nYes, the previous sentence is vague but we'll see this in action shortly.\n\n| **Hyperparameter** | **Typical value** |\n| --- | --- |\n| Input layer shape | Same shape as number of features (e.g. 3 for # bedrooms, # bathrooms, # car spaces in housing price prediction) |\n| Hidden layer(s) | Problem specific, minimum = 1, maximum = unlimited |\n| Neurons per hidden layer | Problem specific, generally 10 to 100 |\n| Output layer shape | Same shape as desired prediction shape (e.g. 1 for house price) |\n| Hidden activation | Usually [ReLU](https://www.kaggle.com/dansbecker/rectified-linear-units-relu-in-deep-learning) (rectified linear unit) |\n| Output activation | None, ReLU, logistic/tanh |\n| Loss function | [MSE](https://en.wikipedia.org/wiki/Mean_squared_error) (mean square error) or [MAE](https://en.wikipedia.org/wiki/Mean_absolute_error) (mean absolute error)/Huber (combination of MAE/MSE) if outliers |\n| Optimizer | [SGD](https://www.tensorflow.org/api_docs/python/tf/keras/optimizers/SGD) (stochastic gradient descent), [Adam](https://www.tensorflow.org/api_docs/python/tf/keras/optimizers/Adam) |\n\n***Table 1:*** *Typical architecture of a regression network.* ***Source:*** *Adapted from page 293 of [Hands-On Machine Learning with Scikit-Learn, Keras & TensorFlow Book by Aurélien Géron](https://www.oreilly.com/library/view/hands-on-machine-learning/9781492032632/)*\n\nAgain, if you're new to neural networks and deep learning in general, much of the above table won't make sense. But don't worry, we'll be getting hands-on with all of it soon.\n\n> 🔑 **Note:** A **hyperparameter** in machine learning is something a data analyst or developer can set themselves, where as a **parameter** usually describes something a model learns on its own (a value not explicitly set by an analyst).\n\nOkay, enough talk, let's get started writing code.\n\nTo use TensorFlow, we'll import it as the common alias `tf` (short for TensorFlow).",
   "metadata": {
    "id": "etAu7oCZ8r_G",
    "cell_id": "00001-c2c7bee6-5624-409c-993f-57584048889d",
    "deepnote_cell_type": "markdown"
   }
  },
  {
   "cell_type": "code",
   "metadata": {
    "colab": {
     "base_uri": "https://localhost:8080/"
    },
    "id": "FMqsqKpk7TrH",
    "outputId": "6da43491-def7-454c-895a-19564368972b",
    "cell_id": "00002-bcbe38a0-ea38-479f-baf9-d759097b23fe",
    "deepnote_to_be_reexecuted": false,
    "source_hash": "d0a8d46a",
    "execution_start": 1633150577149,
    "execution_millis": 6752,
    "deepnote_cell_type": "code"
   },
   "source": "import tensorflow as tf\nprint(tf.__version__) # check the version (should be 2.x+)",
   "outputs": [
    {
     "name": "stderr",
     "text": "2021-10-02 04:56:17.446255: W tensorflow/stream_executor/platform/default/dso_loader.cc:60] Could not load dynamic library 'libcudart.so.11.0'; dlerror: libcudart.so.11.0: cannot open shared object file: No such file or directory\n2021-10-02 04:56:17.446322: I tensorflow/stream_executor/cuda/cudart_stub.cc:29] Ignore above cudart dlerror if you do not have a GPU set up on your machine.\n2.4.1\n",
     "output_type": "stream"
    }
   ],
   "execution_count": null
  },
  {
   "cell_type": "markdown",
   "source": "## Creating data to view and fit\n\nSince we're working on a **regression problem** (predicting a number) let's create some linear data (a straight line) to model.",
   "metadata": {
    "id": "8clMYxrF6Mzv",
    "cell_id": "00003-5d2dfae6-3f2b-4146-880a-b1b29510a12f",
    "deepnote_cell_type": "markdown"
   }
  },
  {
   "cell_type": "code",
   "metadata": {
    "colab": {
     "base_uri": "https://localhost:8080/",
     "height": 269
    },
    "id": "G43tWFof6i7T",
    "outputId": "b9a41b5e-1007-406d-801a-eeb9902e2526",
    "cell_id": "00004-583e0b70-9f57-4075-90fc-96cb2ce06e21",
    "deepnote_to_be_reexecuted": false,
    "source_hash": "58d3613c",
    "execution_start": 1633150583909,
    "execution_millis": 1298,
    "deepnote_cell_type": "code"
   },
   "source": "import numpy as np\nimport matplotlib.pyplot as plt\n\n# Create features\nX = np.array([-7.0, -4.0, -1.0, 2.0, 5.0, 8.0, 11.0, 14.0])\n\n# Create labels\ny = np.array([3.0, 6.0, 9.0, 12.0, 15.0, 18.0, 21.0, 24.0])\n\n# Visualize it\nplt.scatter(X, y);",
   "outputs": [
    {
     "data": {
      "text/plain": "<Figure size 432x288 with 1 Axes>",
      "image/png": "[encoded data removed]"
     },
     "metadata": {
      "needs_background": "light",
      "image/png": {
       "width": 374,
       "height": 252
      }
     },
     "output_type": "display_data"
    }
   ],
   "execution_count": null
  },
  {
   "cell_type": "markdown",
   "source": "Before we do any modelling, can you calculate the pattern between `X` and `y`?\n\nFor example, say I asked you, based on this data what the `y` value would be if `X` was 17.0?\n\nOr how about if `X` was -10.0?\n\nThis kind of pattern discover is the essence of what we'll be building neural networks to do for us.",
   "metadata": {
    "id": "9ONZF8un7_xy",
    "cell_id": "00005-0181cb53-8ca5-4f59-a087-52bcb88beb01",
    "deepnote_cell_type": "markdown"
   }
  },
  {
   "cell_type": "markdown",
   "source": "## Regression input shapes and output shapes\n\nOne of the most important concepts when working with neural networks are the input and output shapes.\n\nThe **input shape** is the shape of your data that goes into the model.\n\nThe **output shape** is the shape of your data you want to come out of your model.\n\nThese will differ depending on the problem you're working on.\n\nNeural networks accept numbers and output numbers. These numbers are typically represented as tensors (or arrays).\n\nBefore, we created data using NumPy arrays, but we could do the same with tensors.",
   "metadata": {
    "id": "zNCXxHnF6jjZ",
    "cell_id": "00006-688ec026-bb59-413d-8d44-5ef86e71d741",
    "deepnote_cell_type": "markdown"
   }
  },
  {
   "cell_type": "code",
   "metadata": {
    "colab": {
     "base_uri": "https://localhost:8080/"
    },
    "id": "XrXQ3m0prWXa",
    "outputId": "ca414725-d901-4bce-9444-933ec127092a",
    "cell_id": "00007-4914422a-4fad-402f-a628-e9a11eb98068",
    "deepnote_to_be_reexecuted": false,
    "source_hash": "921cfb7b",
    "execution_start": 1633150585214,
    "execution_millis": 2712124,
    "deepnote_cell_type": "code"
   },
   "source": "# Example input and output shapes of a regresson model\nhouse_info = tf.constant([\"bedroom\", \"bathroom\", \"garage\"])\nhouse_price = tf.constant([939700])\nhouse_info, house_price",
   "outputs": [
    {
     "name": "stderr",
     "text": "2021-10-02 04:56:25.172549: I tensorflow/compiler/jit/xla_cpu_device.cc:41] Not creating XLA devices, tf_xla_enable_xla_devices not set\n2021-10-02 04:56:25.172828: W tensorflow/stream_executor/platform/default/dso_loader.cc:60] Could not load dynamic library 'libcuda.so.1'; dlerror: libcuda.so.1: cannot open shared object file: No such file or directory\n2021-10-02 04:56:25.172853: W tensorflow/stream_executor/cuda/cuda_driver.cc:326] failed call to cuInit: UNKNOWN ERROR (303)\n2021-10-02 04:56:25.172887: I tensorflow/stream_executor/cuda/cuda_diagnostics.cc:156] kernel driver does not appear to be running on this host (p-298852d4-1a55-4c9f-9b50-0f7ec627b93a): /proc/driver/nvidia/version does not exist\n2021-10-02 04:56:25.173302: I tensorflow/core/platform/cpu_feature_guard.cc:142] This TensorFlow binary is optimized with oneAPI Deep Neural Network Library (oneDNN) to use the following CPU instructions in performance-critical operations:  AVX2 FMA\nTo enable them in other operations, rebuild TensorFlow with the appropriate compiler flags.\n2021-10-02 04:56:25.173440: I tensorflow/compiler/jit/xla_gpu_device.cc:99] Not creating XLA devices, tf_xla_enable_xla_devices not set\n",
     "output_type": "stream"
    },
    {
     "output_type": "execute_result",
     "execution_count": 3,
     "data": {
      "text/plain": "(<tf.Tensor: shape=(3,), dtype=string, numpy=array([b'bedroom', b'bathroom', b'garage'], dtype=object)>,\n <tf.Tensor: shape=(1,), dtype=int32, numpy=array([939700], dtype=int32)>)"
     },
     "metadata": {}
    }
   ],
   "execution_count": null
  },
  {
   "cell_type": "code",
   "metadata": {
    "colab": {
     "base_uri": "https://localhost:8080/"
    },
    "id": "Yi3VWKH6sRrZ",
    "outputId": "59dd3d1f-e6df-43e7-b692-b3ec69d634e1",
    "cell_id": "00008-9ce53987-8e4b-4cc3-badc-b03c052a7b75",
    "deepnote_to_be_reexecuted": false,
    "source_hash": "f8f30d46",
    "execution_start": 1633150585244,
    "execution_millis": 2712123,
    "deepnote_cell_type": "code"
   },
   "source": "house_info.shape",
   "outputs": [
    {
     "output_type": "execute_result",
     "execution_count": 4,
     "data": {
      "text/plain": "TensorShape([3])"
     },
     "metadata": {}
    }
   ],
   "execution_count": null
  },
  {
   "cell_type": "code",
   "metadata": {
    "colab": {
     "base_uri": "https://localhost:8080/",
     "height": 269
    },
    "id": "kOxyr9sR6m9X",
    "outputId": "51c54bda-4e0f-41db-c9e9-d03d32cd89b4",
    "cell_id": "00009-1a0d1d7c-2c25-40e0-9b32-58f745347165",
    "deepnote_to_be_reexecuted": false,
    "source_hash": "e81bb926",
    "execution_start": 1633150585291,
    "execution_millis": 385,
    "deepnote_cell_type": "code"
   },
   "source": "import numpy as np\nimport matplotlib.pyplot as plt\n\n# Create features (using tensors)\nX = tf.constant([-7.0, -4.0, -1.0, 2.0, 5.0, 8.0, 11.0, 14.0])\n\n# Create labels (using tensors)\ny = tf.constant([3.0, 6.0, 9.0, 12.0, 15.0, 18.0, 21.0, 24.0])\n\n# Visualize it\nplt.scatter(X, y);",
   "outputs": [
    {
     "data": {
      "text/plain": "<Figure size 432x288 with 1 Axes>",
      "image/png": "[encoded data removed]"
     },
     "metadata": {
      "needs_background": "light",
      "image/png": {
       "width": 374,
       "height": 252
      }
     },
     "output_type": "display_data"
    }
   ],
   "execution_count": null
  },
  {
   "cell_type": "markdown",
   "source": "Our goal here will be to use `X` to predict `y`.\n\nSo our **input** will be `X` and our **output** will be `y`.\n\nKnowing this, what do you think our input and output shapes will be?\n\nLet's take a look.",
   "metadata": {
    "id": "zaPxco6E9i1_",
    "cell_id": "00010-d89d3d33-47a4-44e3-8bbb-1b2e707f3bf5",
    "deepnote_cell_type": "markdown"
   }
  },
  {
   "cell_type": "code",
   "metadata": {
    "colab": {
     "base_uri": "https://localhost:8080/"
    },
    "id": "j1oT1gmB9iX-",
    "outputId": "1760be72-f1d4-43b1-c7a2-7eeac1009b93",
    "cell_id": "00011-f3ae7a16-c892-40c2-a43a-573cb10519a9",
    "deepnote_to_be_reexecuted": false,
    "source_hash": "dc3f5eb3",
    "execution_start": 1633150585585,
    "execution_millis": 6,
    "deepnote_cell_type": "code"
   },
   "source": "# Take a single example of X\ninput_shape = X[0].shape \n\n# Take a single example of y\noutput_shape = y[0].shape\n\ninput_shape, output_shape # these are both scalars (no shape)",
   "outputs": [
    {
     "output_type": "execute_result",
     "execution_count": 6,
     "data": {
      "text/plain": "(TensorShape([]), TensorShape([]))"
     },
     "metadata": {}
    }
   ],
   "execution_count": null
  },
  {
   "cell_type": "markdown",
   "source": "Huh?\n\nFrom this it seems our inputs and outputs have no shape?\n\nHow could that be?\n\nIt's because no matter what kind of data we pass to our model, it's always going to take as input and return as ouput some kind of tensor.\n\nBut in our case because of our dataset (only 2 small lists of numbers), we're looking at a special kind of tensor, more specificially a rank 0 tensor or a scalar.",
   "metadata": {
    "id": "m4txxFTL_EEX",
    "cell_id": "00012-19c224cd-3440-4df9-88cc-f0d3b4dbefaa",
    "deepnote_cell_type": "markdown"
   }
  },
  {
   "cell_type": "code",
   "metadata": {
    "colab": {
     "base_uri": "https://localhost:8080/"
    },
    "id": "Dag5y4MPaTmc",
    "outputId": "e3d6e467-f045-448c-a4ef-89f8abf0f299",
    "cell_id": "00013-914fd639-e64d-4e31-8d95-f6c0aec9d3a0",
    "deepnote_to_be_reexecuted": false,
    "source_hash": "2f9619e8",
    "execution_start": 1633150585639,
    "execution_millis": 37,
    "deepnote_cell_type": "code"
   },
   "source": "# Let's take a look at the single examples invidually\nX[0], y[0]",
   "outputs": [
    {
     "output_type": "execute_result",
     "execution_count": 7,
     "data": {
      "text/plain": "(<tf.Tensor: shape=(), dtype=float32, numpy=-7.0>,\n <tf.Tensor: shape=(), dtype=float32, numpy=3.0>)"
     },
     "metadata": {}
    }
   ],
   "execution_count": null
  },
  {
   "cell_type": "markdown",
   "source": "In our case, we're trying to build a model to predict the pattern between `X[0]` equalling `-7.0` and `y[0]` equalling `3.0`.\n\nSo now we get our answer, we're trying to use 1 `X` value to predict 1 `y` value.\n\nYou might be thinking, \"this seems pretty complicated for just predicting a straight line...\".\n\nAnd you'd be right.\n\nBut the concepts we're covering here, the concepts of input and output shapes to a model are fundamental. \n\nIn fact, they're probably two of the things you'll spend the most time on when you work with neural networks: **making sure your input and outputs are in the correct shape**.\n\nIf it doesn't make sense now, we'll see plenty more examples later on (soon you'll notice the input and output shapes can be almost anything you can imagine).\n\n![example of input and output shapes for a housing price prediction problem](https://raw.githubusercontent.com/mrdbourke/tensorflow-deep-learning/main/images/01-input-and-output-shapes-housing-prices.png)\n*If you were working on building a machine learning algorithm for predicting housing prices, your inputs may be number of bedrooms, number of bathrooms and number of garages, giving you an input shape of 3 (3 different features). And since you're trying to predict the price of the house, your output shape would be 1.*",
   "metadata": {
    "id": "fKtihU57_cOY",
    "cell_id": "00014-0767809f-1989-4c76-812e-76a21ea4e966",
    "deepnote_cell_type": "markdown"
   }
  },
  {
   "cell_type": "markdown",
   "source": "## Steps in modelling with TensorFlow\n\nNow we know what data we have as well as the input and output shapes, let's see how we'd build a neural network to model it.\n\nIn TensorFlow, there are typically 3 fundamental steps to creating and training a model.\n\n1. **Creating a model** - piece together the layers of a neural network yourself (using the [Functional](https://www.tensorflow.org/guide/keras/functional) or [Sequential API](https://www.tensorflow.org/api_docs/python/tf/keras/Sequential)) or import a previously built model (known as transfer learning).\n2. **Compiling a model** - defining how a models performance should be measured (loss/metrics) as well as defining how it should improve (optimizer). \n3. **Fitting a model** - letting the model try to find patterns in the data (how does `X` get to `y`). \n\nLet's see these in action using the [Keras Sequential API](https://www.tensorflow.org/api_docs/python/tf/keras/Sequential) to build a model for our regression data. And then we'll step through each.\n",
   "metadata": {
    "id": "PhAIqjrn6olF",
    "cell_id": "00015-1b747995-bcb8-48f8-a2c2-71df9b4bd9b6",
    "deepnote_cell_type": "markdown"
   }
  },
  {
   "cell_type": "code",
   "metadata": {
    "colab": {
     "base_uri": "https://localhost:8080/"
    },
    "id": "P9jj-OE16yCn",
    "outputId": "bc204319-5970-475c-cde0-bb589898e4d6",
    "cell_id": "00016-0c82bc9f-2140-473a-9a03-bcd0dbd16c6c",
    "deepnote_to_be_reexecuted": false,
    "source_hash": "aa5cc9d3",
    "execution_start": 1633150585639,
    "execution_millis": 1054,
    "deepnote_cell_type": "code"
   },
   "source": "# Set random seed\ntf.random.set_seed(42)\n\n# Create a model using the Sequential API\nmodel = tf.keras.Sequential([\n  tf.keras.layers.Dense(1)\n])\n\n# Compile the model\nmodel.compile(loss=tf.keras.losses.mae, # mae is short for mean absolute error\n              optimizer=tf.keras.optimizers.SGD(), # SGD is short for stochastic gradient descent\n              metrics=[\"mae\"])\n\n# Fit the model\nmodel.fit(X, y, epochs=10)",
   "outputs": [
    {
     "name": "stderr",
     "text": "2021-10-02 04:56:25.772143: I tensorflow/compiler/mlir/mlir_graph_optimization_pass.cc:116] None of the MLIR optimization passes are enabled (registered 2)\n2021-10-02 04:56:25.772785: I tensorflow/core/platform/profile_utils/cpu_utils.cc:112] CPU Frequency: 2199555000 Hz\nEpoch 1/10\n1/1 [==============================] - 1s 696ms/step - loss: 11.5048 - mae: 11.5048\nEpoch 2/10\n1/1 [==============================] - 0s 7ms/step - loss: 11.3723 - mae: 11.3723\nEpoch 3/10\n1/1 [==============================] - 0s 6ms/step - loss: 11.2398 - mae: 11.2398\nEpoch 4/10\n1/1 [==============================] - 0s 12ms/step - loss: 11.1073 - mae: 11.1073\nEpoch 5/10\n1/1 [==============================] - 0s 6ms/step - loss: 10.9748 - mae: 10.9748\nEpoch 6/10\n1/1 [==============================] - 0s 11ms/step - loss: 10.8423 - mae: 10.8423\nEpoch 7/10\n1/1 [==============================] - 0s 7ms/step - loss: 10.7098 - mae: 10.7098\nEpoch 8/10\n1/1 [==============================] - 0s 4ms/step - loss: 10.5773 - mae: 10.5773\nEpoch 9/10\n1/1 [==============================] - 0s 7ms/step - loss: 10.4448 - mae: 10.4448\nEpoch 10/10\n1/1 [==============================] - 0s 7ms/step - loss: 10.3123 - mae: 10.3123\n",
     "output_type": "stream"
    },
    {
     "output_type": "execute_result",
     "execution_count": 8,
     "data": {
      "text/plain": "<tensorflow.python.keras.callbacks.History at 0x7f10405fba10>"
     },
     "metadata": {}
    }
   ],
   "execution_count": null
  },
  {
   "cell_type": "markdown",
   "source": "Boom!\n\nWe've just trained a model to figure out the patterns between `X` and `y`.\n\nHow do you think it went?",
   "metadata": {
    "id": "bbjCwkEtetB9",
    "cell_id": "00017-197c643b-2ac4-43e7-99f4-3f316110cf76",
    "deepnote_cell_type": "markdown"
   }
  },
  {
   "cell_type": "code",
   "metadata": {
    "colab": {
     "base_uri": "https://localhost:8080/"
    },
    "id": "VWLpG2U3erWo",
    "outputId": "2f838c3b-35b1-43d4-d9fa-d82008e4bf6d",
    "cell_id": "00018-416ed667-7d9c-45bd-9ecb-7a8c6a13b420",
    "deepnote_to_be_reexecuted": false,
    "source_hash": "d3a47048",
    "execution_start": 1633150586742,
    "execution_millis": 64,
    "deepnote_cell_type": "code"
   },
   "source": "# Check out X and y\nX, y",
   "outputs": [
    {
     "output_type": "execute_result",
     "execution_count": 9,
     "data": {
      "text/plain": "(<tf.Tensor: shape=(8,), dtype=float32, numpy=array([-7., -4., -1.,  2.,  5.,  8., 11., 14.], dtype=float32)>,\n <tf.Tensor: shape=(8,), dtype=float32, numpy=array([ 3.,  6.,  9., 12., 15., 18., 21., 24.], dtype=float32)>)"
     },
     "metadata": {}
    }
   ],
   "execution_count": null
  },
  {
   "cell_type": "markdown",
   "source": "What do you think the outcome should be if we passed our model an `X` value of 17.0?",
   "metadata": {
    "id": "0ZpkaI_Oe6no",
    "cell_id": "00019-7fc15edd-554e-4175-bd52-300c15fd4d9d",
    "deepnote_cell_type": "markdown"
   }
  },
  {
   "cell_type": "code",
   "metadata": {
    "colab": {
     "base_uri": "https://localhost:8080/"
    },
    "id": "X86cD66Qeo-8",
    "outputId": "653a5904-2ebe-4f63-fca6-12b3a9abc0d7",
    "cell_id": "00020-889d9662-756b-4ddb-b085-f760014db7eb",
    "deepnote_to_be_reexecuted": false,
    "source_hash": "3b38da6d",
    "execution_start": 1633150586830,
    "execution_millis": 226,
    "deepnote_cell_type": "code"
   },
   "source": "# Make a prediction with the model\nmodel.predict([17.0])",
   "outputs": [
    {
     "output_type": "execute_result",
     "execution_count": 10,
     "data": {
      "text/plain": "array([[15.741023]], dtype=float32)"
     },
     "metadata": {}
    }
   ],
   "execution_count": null
  },
  {
   "cell_type": "markdown",
   "source": "It doesn't go very well... it should've output something close to 27.0.\n\n> 🤔 **Question:** What's Keras? I thought we were working with TensorFlow but every time we write TensorFlow code, `keras` comes after `tf` (e.g. `tf.keras.layers.Dense()`)?\n\nBefore TensorFlow 2.0+, [Keras](https://keras.io/) was an API designed to be able to build deep learning models with ease. Since TensorFlow 2.0+, its functionality has been tightly integrated within the TensorFlow library.",
   "metadata": {
    "id": "2YoKIqhffq33",
    "cell_id": "00021-62c1db1a-58e8-43e8-8f53-c6ed4ebff7d4",
    "deepnote_cell_type": "markdown"
   }
  },
  {
   "cell_type": "markdown",
   "source": "## Improving a model\n\nHow do you think you'd improve upon our current model?\n\nIf you guessed by tweaking some of the things we did above, you'd be correct.\n\nTo improve our model, we alter almost every part of the 3 steps we went through before.\n\n1. **Creating a model** - here you might want to add more layers, increase the number of hidden units (also called neurons) within each layer, change the activation functions of each layer.\n2. **Compiling a model** - you might want to choose optimization function or perhaps change the **learning rate** of the optimization function.\n3. **Fitting a model** - perhaps you could fit a model for more **epochs** (leave it training for longer) or on more data (give the model more examples to learn from).\n\n![various options you can use to improve a neural network model](https://raw.githubusercontent.com/mrdbourke/tensorflow-deep-learning/main/images/02-improving-a-model-from-model-perspective.png)\n*There are many different ways to potentially improve a neural network. Some of the most common include: increasing the number of layers (making the network deeper), increasing the number of hidden units (making the network wider) and changing the learning rate. Because these values are all human-changeable, they're referred to as [hyperparameters](https://en.wikipedia.org/wiki/Hyperparameter_(machine_learning)) and the practice of trying to find the best hyperparameters is referred to as [hyperparameter tuning](https://en.wikipedia.org/wiki/Hyperparameter_optimization).*\n\nWoah. We just introduced a bunch of possible steps. The important thing to remember is how you alter each of these will depend on the problem you're working on.\n\nAnd the good thing is, over the next few problems, we'll get hands-on with all of them.\n\nFor now, let's keep it simple, all we'll do is train our model for longer (everything else will stay the same).",
   "metadata": {
    "id": "qAPk1T3xgOm4",
    "cell_id": "00022-148f81a0-1a65-4d5c-a1f5-08066d727b4e",
    "deepnote_cell_type": "markdown"
   }
  },
  {
   "cell_type": "code",
   "metadata": {
    "colab": {
     "base_uri": "https://localhost:8080/"
    },
    "id": "MI0LammMgWcN",
    "outputId": "682b68ee-b2fb-4c02-bc72-e7ce033b8b31",
    "cell_id": "00023-c595df75-b9dc-4a5b-b644-31b71f34cba4",
    "deepnote_to_be_reexecuted": false,
    "source_hash": "1527a01c",
    "execution_start": 1633150587066,
    "execution_millis": 2250,
    "deepnote_cell_type": "code"
   },
   "source": "# Set random seed\ntf.random.set_seed(42)\n\n# Create a model (same as above)\nmodel = tf.keras.Sequential([\n  tf.keras.layers.Dense(1)\n])\n\n# Compile model (same as above)\nmodel.compile(loss=tf.keras.losses.mae,\n              optimizer=tf.keras.optimizers.SGD(),\n              metrics=[\"mae\"])\n\n# Fit model (this time we'll train for longer)\nmodel.fit(X, y, epochs=100) # train for 100 epochs not 10",
   "outputs": [
    {
     "name": "stdout",
     "text": "Epoch 1/100\n1/1 [==============================] - 1s 500ms/step - loss: 11.5048 - mae: 11.5048\nEpoch 2/100\n1/1 [==============================] - 0s 9ms/step - loss: 11.3723 - mae: 11.3723\nEpoch 3/100\n1/1 [==============================] - 0s 9ms/step - loss: 11.2398 - mae: 11.2398\nEpoch 4/100\n1/1 [==============================] - 0s 11ms/step - loss: 11.1073 - mae: 11.1073\nEpoch 5/100\n1/1 [==============================] - 0s 10ms/step - loss: 10.9748 - mae: 10.9748\nEpoch 6/100\n1/1 [==============================] - 0s 13ms/step - loss: 10.8423 - mae: 10.8423\nEpoch 7/100\n1/1 [==============================] - 0s 10ms/step - loss: 10.7098 - mae: 10.7098\nEpoch 8/100\n1/1 [==============================] - 0s 12ms/step - loss: 10.5773 - mae: 10.5773\nEpoch 9/100\n1/1 [==============================] - 0s 8ms/step - loss: 10.4448 - mae: 10.4448\nEpoch 10/100\n1/1 [==============================] - 0s 13ms/step - loss: 10.3123 - mae: 10.3123\nEpoch 11/100\n1/1 [==============================] - 0s 12ms/step - loss: 10.1798 - mae: 10.1798\nEpoch 12/100\n1/1 [==============================] - 0s 7ms/step - loss: 10.0473 - mae: 10.0473\nEpoch 13/100\n1/1 [==============================] - 0s 19ms/step - loss: 9.9148 - mae: 9.9148\nEpoch 14/100\n1/1 [==============================] - 0s 10ms/step - loss: 9.7823 - mae: 9.7823\nEpoch 15/100\n1/1 [==============================] - 0s 7ms/step - loss: 9.6498 - mae: 9.6498\nEpoch 16/100\n1/1 [==============================] - 0s 19ms/step - loss: 9.5173 - mae: 9.5173\nEpoch 17/100\n1/1 [==============================] - 0s 18ms/step - loss: 9.3848 - mae: 9.3848\nEpoch 18/100\n1/1 [==============================] - 0s 19ms/step - loss: 9.2523 - mae: 9.2523\nEpoch 19/100\n1/1 [==============================] - 0s 27ms/step - loss: 9.1198 - mae: 9.1198\nEpoch 20/100\n1/1 [==============================] - 0s 22ms/step - loss: 8.9873 - mae: 8.9873\nEpoch 21/100\n1/1 [==============================] - 0s 10ms/step - loss: 8.8548 - mae: 8.8548\nEpoch 22/100\n1/1 [==============================] - 0s 8ms/step - loss: 8.7223 - mae: 8.7223\nEpoch 23/100\n1/1 [==============================] - 0s 13ms/step - loss: 8.5898 - mae: 8.5898\nEpoch 24/100\n1/1 [==============================] - 0s 8ms/step - loss: 8.4573 - mae: 8.4573\nEpoch 25/100\n1/1 [==============================] - 0s 8ms/step - loss: 8.3248 - mae: 8.3248\nEpoch 26/100\n1/1 [==============================] - 0s 11ms/step - loss: 8.1923 - mae: 8.1923\nEpoch 27/100\n1/1 [==============================] - 0s 8ms/step - loss: 8.0598 - mae: 8.0598\nEpoch 28/100\n1/1 [==============================] - 0s 11ms/step - loss: 7.9273 - mae: 7.9273\nEpoch 29/100\n1/1 [==============================] - 0s 11ms/step - loss: 7.7948 - mae: 7.7948\nEpoch 30/100\n1/1 [==============================] - 0s 7ms/step - loss: 7.6623 - mae: 7.6623\nEpoch 31/100\n1/1 [==============================] - 0s 13ms/step - loss: 7.5298 - mae: 7.5298\nEpoch 32/100\n1/1 [==============================] - 0s 8ms/step - loss: 7.3973 - mae: 7.3973\nEpoch 33/100\n1/1 [==============================] - 0s 9ms/step - loss: 7.2648 - mae: 7.2648\nEpoch 34/100\n1/1 [==============================] - 0s 11ms/step - loss: 7.2525 - mae: 7.2525\nEpoch 35/100\n1/1 [==============================] - 0s 15ms/step - loss: 7.2469 - mae: 7.2469\nEpoch 36/100\n1/1 [==============================] - 0s 5ms/step - loss: 7.2413 - mae: 7.2413\nEpoch 37/100\n1/1 [==============================] - 0s 8ms/step - loss: 7.2356 - mae: 7.2356\nEpoch 38/100\n1/1 [==============================] - 0s 10ms/step - loss: 7.2300 - mae: 7.2300\nEpoch 39/100\n1/1 [==============================] - 0s 11ms/step - loss: 7.2244 - mae: 7.2244\nEpoch 40/100\n1/1 [==============================] - 0s 8ms/step - loss: 7.2188 - mae: 7.2188\nEpoch 41/100\n1/1 [==============================] - 0s 9ms/step - loss: 7.2131 - mae: 7.2131\nEpoch 42/100\n1/1 [==============================] - 0s 8ms/step - loss: 7.2075 - mae: 7.2075\nEpoch 43/100\n1/1 [==============================] - 0s 11ms/step - loss: 7.2019 - mae: 7.2019\nEpoch 44/100\n1/1 [==============================] - 0s 4ms/step - loss: 7.1963 - mae: 7.1963\nEpoch 45/100\n1/1 [==============================] - 0s 7ms/step - loss: 7.1906 - mae: 7.1906\nEpoch 46/100\n1/1 [==============================] - 0s 14ms/step - loss: 7.1850 - mae: 7.1850\nEpoch 47/100\n1/1 [==============================] - 0s 11ms/step - loss: 7.1794 - mae: 7.1794\nEpoch 48/100\n1/1 [==============================] - 0s 14ms/step - loss: 7.1738 - mae: 7.1738\nEpoch 49/100\n1/1 [==============================] - 0s 5ms/step - loss: 7.1681 - mae: 7.1681\nEpoch 50/100\n1/1 [==============================] - 0s 12ms/step - loss: 7.1625 - mae: 7.1625\nEpoch 51/100\n1/1 [==============================] - 0s 7ms/step - loss: 7.1569 - mae: 7.1569\nEpoch 52/100\n1/1 [==============================] - 0s 9ms/step - loss: 7.1512 - mae: 7.1512\nEpoch 53/100IOPub message rate exceeded.\nThe notebook server will temporarily stop sending output\nto the client in order to avoid crashing it.\nTo change this limit, set the config variable\n`--NotebookApp.iopub_msg_rate_limit`.\n\nCurrent values:\nNotebookApp.iopub_msg_rate_limit=50.0 (msgs/sec)\nNotebookApp.rate_limit_window=3.0 (secs)\n\n",
     "output_type": "stream"
    }
   ],
   "execution_count": null
  },
  {
   "cell_type": "markdown",
   "source": "You might've noticed the loss value decrease from before (and keep decreasing as the number of epochs gets higher). \n\nWhat do you think this means for when we make a prediction with our model?\n\nHow about we try predict on 17.0 again?",
   "metadata": {
    "id": "1CIKSm7filgj",
    "cell_id": "00024-f5cdd906-0cfa-47ad-85f4-4739dda4d75f",
    "deepnote_cell_type": "markdown"
   }
  },
  {
   "cell_type": "code",
   "metadata": {
    "colab": {
     "base_uri": "https://localhost:8080/"
    },
    "id": "_YcacZsfi4zZ",
    "outputId": "75cf2818-b564-4b4a-ffb0-3aa2ba5022bf",
    "cell_id": "00025-c980fa82-af9f-4e69-9863-b6a583a53f08",
    "deepnote_to_be_reexecuted": false,
    "source_hash": "c8b63f9a",
    "execution_start": 1633150589373,
    "execution_millis": 2713029,
    "deepnote_cell_type": "code"
   },
   "source": "# Remind ourselves of what X and y are\nX, y",
   "outputs": [
    {
     "output_type": "execute_result",
     "execution_count": 12,
     "data": {
      "text/plain": "(<tf.Tensor: shape=(8,), dtype=float32, numpy=array([-7., -4., -1.,  2.,  5.,  8., 11., 14.], dtype=float32)>,\n <tf.Tensor: shape=(8,), dtype=float32, numpy=array([ 3.,  6.,  9., 12., 15., 18., 21., 24.], dtype=float32)>)"
     },
     "metadata": {}
    }
   ],
   "execution_count": null
  },
  {
   "cell_type": "code",
   "metadata": {
    "colab": {
     "base_uri": "https://localhost:8080/"
    },
    "id": "e6k5V08ZivNO",
    "outputId": "9809e4b0-a1de-4969-da75-23d48064f0f9",
    "cell_id": "00026-affd19ba-d11d-4d81-8bf7-a46e43efc5a2",
    "deepnote_to_be_reexecuted": false,
    "source_hash": "d3939780",
    "execution_start": 1633150589391,
    "execution_millis": 222,
    "deepnote_cell_type": "code"
   },
   "source": "# Try and predict what y would be if X was 17.0\nmodel.predict([17.0]) # the right answer is 27.0 (y = X + 10)",
   "outputs": [
    {
     "output_type": "execute_result",
     "execution_count": 13,
     "data": {
      "text/plain": "array([[30.158512]], dtype=float32)"
     },
     "metadata": {}
    }
   ],
   "execution_count": null
  },
  {
   "cell_type": "markdown",
   "source": "Much better! \n\nWe got closer this time. But we could still be better.\n\nNow we've trained a model, how could we evaluate it?",
   "metadata": {
    "id": "sYi5V8ZYi_dy",
    "cell_id": "00027-e18775d4-d726-4954-bd4b-a809dc41ee6b",
    "deepnote_cell_type": "markdown"
   }
  },
  {
   "cell_type": "markdown",
   "source": "## Evaluating a model \n\nA typical workflow you'll go through when building neural networks is:\n\n```\nBuild a model -> evaluate it -> build (tweak) a model -> evaulate it -> build (tweak) a model -> evaluate it...\n```\n\nThe tweaking comes from maybe not building a model from scratch but adjusting an existing one.\n\n### Visualize, visualize, visualize\n\nWhen it comes to evaluation, you'll want to remember the words: \"visualize, visualize, visualize.\" \n\nThis is because you're probably better looking at something (doing) than you are thinking about something.\n\nIt's a good idea to visualize:\n* **The data** - what data are you working with? What does it look like?\n* **The model itself** - what does the architecture look like? What are the different shapes?\n* **The training of a model** - how does a model perform while it learns?\n* **The predictions of a model** - how do the predictions of a model line up against the ground truth (the original labels)?\n\nLet's start by visualizing the model.\n\nBut first, we'll create a little bit of a bigger dataset and a new model we can use (it'll be the same as before, but the more practice the better).\n",
   "metadata": {
    "id": "HvC98q_h6zvG",
    "cell_id": "00028-f6c32db3-0a5e-40b9-87fa-dd855e03d195",
    "deepnote_cell_type": "markdown"
   }
  },
  {
   "cell_type": "code",
   "metadata": {
    "colab": {
     "base_uri": "https://localhost:8080/"
    },
    "id": "srxuqbeYopns",
    "outputId": "2a243d17-4fbd-489a-b861-bd7a56511437",
    "cell_id": "00029-bc76745b-108a-475f-bf28-bb237e6eade9",
    "deepnote_to_be_reexecuted": false,
    "source_hash": "3e1f360d",
    "execution_start": 1633150589619,
    "execution_millis": 66,
    "deepnote_cell_type": "code"
   },
   "source": "# Make a bigger dataset\nX = np.arange(-100, 100, 4)\nX",
   "outputs": [
    {
     "output_type": "execute_result",
     "execution_count": 14,
     "data": {
      "text/plain": "array([-100,  -96,  -92,  -88,  -84,  -80,  -76,  -72,  -68,  -64,  -60,\n        -56,  -52,  -48,  -44,  -40,  -36,  -32,  -28,  -24,  -20,  -16,\n        -12,   -8,   -4,    0,    4,    8,   12,   16,   20,   24,   28,\n         32,   36,   40,   44,   48,   52,   56,   60,   64,   68,   72,\n         76,   80,   84,   88,   92,   96])"
     },
     "metadata": {}
    }
   ],
   "execution_count": null
  },
  {
   "cell_type": "code",
   "metadata": {
    "colab": {
     "base_uri": "https://localhost:8080/"
    },
    "id": "pQcC0nSko3kJ",
    "outputId": "ef472020-6e83-45da-986f-eb4072f94b35",
    "cell_id": "00030-eab9824f-ef66-4fa1-bf63-dc3cb1a583aa",
    "deepnote_to_be_reexecuted": false,
    "source_hash": "15ec62e6",
    "execution_start": 1633150589734,
    "execution_millis": 63,
    "deepnote_cell_type": "code"
   },
   "source": "# Make labels for the dataset (adhering to the same pattern as before)\ny = np.arange(-90, 110, 4)\ny",
   "outputs": [
    {
     "output_type": "execute_result",
     "execution_count": 15,
     "data": {
      "text/plain": "array([-90, -86, -82, -78, -74, -70, -66, -62, -58, -54, -50, -46, -42,\n       -38, -34, -30, -26, -22, -18, -14, -10,  -6,  -2,   2,   6,  10,\n        14,  18,  22,  26,  30,  34,  38,  42,  46,  50,  54,  58,  62,\n        66,  70,  74,  78,  82,  86,  90,  94,  98, 102, 106])"
     },
     "metadata": {}
    }
   ],
   "execution_count": null
  },
  {
   "cell_type": "markdown",
   "source": "Since $y=X+10$, we could make the labels like so:",
   "metadata": {
    "id": "KNIw5tgGpKjb",
    "cell_id": "00031-a9febfa4-06f5-46c8-9da0-bffe332bdad2",
    "deepnote_cell_type": "markdown"
   }
  },
  {
   "cell_type": "code",
   "metadata": {
    "colab": {
     "base_uri": "https://localhost:8080/"
    },
    "id": "ACgbmrAOpJwW",
    "outputId": "bb561d4d-1bb1-479e-ae3e-a82cc96e95a3",
    "cell_id": "00032-ae2596df-2277-413a-8eb7-ae37e31b8777",
    "deepnote_to_be_reexecuted": false,
    "source_hash": "af90bfcf",
    "execution_start": 1633150589826,
    "execution_millis": 177,
    "deepnote_cell_type": "code"
   },
   "source": "# Same result as above\ny = X + 10\ny",
   "outputs": [
    {
     "output_type": "execute_result",
     "execution_count": 16,
     "data": {
      "text/plain": "array([-90, -86, -82, -78, -74, -70, -66, -62, -58, -54, -50, -46, -42,\n       -38, -34, -30, -26, -22, -18, -14, -10,  -6,  -2,   2,   6,  10,\n        14,  18,  22,  26,  30,  34,  38,  42,  46,  50,  54,  58,  62,\n        66,  70,  74,  78,  82,  86,  90,  94,  98, 102, 106])"
     },
     "metadata": {}
    }
   ],
   "execution_count": null
  },
  {
   "cell_type": "markdown",
   "source": "## Split data into training/test set\n\nOne of the other most common and important steps in a machine learning project is creating a training and test set (and when required, a validation set).\n\nEach set serves a specific purpose:\n* **Training set** - the model learns from this data, which is typically 70-80% of the total data available (like the course materials you study during the semester).\n* **Validation set** - the model gets tuned on this data, which is typically 10-15% of the total data available (like the practice exam you take before the final exam).\n* **Test set** - the model gets evaluated on this data to test what it has learned, it's typically 10-15% of the total data available (like the final exam you take at the end of the semester).\n\nFor now, we'll just use a training and test set, this means we'll have a dataset for our model to learn on as well as be evaluated on.\n\nWe can create them by splitting our `X` and `y` arrays.\n\n> 🔑 **Note:** When dealing with real-world data, this step is typically done right at the start of a project (the test set should always be kept separate from all other data). We want our model to learn on training data and then evaluate it on test data to get an indication of how well it **generalizes** to unseen examples.",
   "metadata": {
    "id": "ax3MnQDupeBp",
    "cell_id": "00033-0225403a-d602-4396-9e0c-e23de80f3434",
    "deepnote_cell_type": "markdown"
   }
  },
  {
   "cell_type": "code",
   "metadata": {
    "colab": {
     "base_uri": "https://localhost:8080/"
    },
    "id": "5G0RDMnZrgvK",
    "outputId": "1da59eba-48b5-4b8f-a925-9537e68621fb",
    "cell_id": "00034-29e91984-8822-4cf1-b328-b4d1f855811a",
    "deepnote_to_be_reexecuted": false,
    "source_hash": "34a69aff",
    "execution_start": 1633150589899,
    "execution_millis": 116,
    "deepnote_cell_type": "code"
   },
   "source": "# Check how many samples we have\nlen(X)",
   "outputs": [
    {
     "output_type": "execute_result",
     "execution_count": 17,
     "data": {
      "text/plain": "50"
     },
     "metadata": {}
    }
   ],
   "execution_count": null
  },
  {
   "cell_type": "code",
   "metadata": {
    "colab": {
     "base_uri": "https://localhost:8080/"
    },
    "id": "4Q9ptcQkrGfO",
    "outputId": "7eda8251-08ea-4ded-99fc-f7be6a3c4f24",
    "cell_id": "00035-94b326b2-c377-4dd4-835e-ae7ed8f06511",
    "deepnote_to_be_reexecuted": false,
    "source_hash": "18aec542",
    "execution_start": 1633150589900,
    "execution_millis": 2713400,
    "deepnote_cell_type": "code"
   },
   "source": "# Split data into train and test sets\nX_train = X[:40] # first 40 examples (80% of data)\ny_train = y[:40]\n\nX_test = X[40:] # last 10 examples (20% of data)\ny_test = y[40:]\n\nlen(X_train), len(X_test)",
   "outputs": [
    {
     "output_type": "execute_result",
     "execution_count": 18,
     "data": {
      "text/plain": "(40, 10)"
     },
     "metadata": {}
    }
   ],
   "execution_count": null
  },
  {
   "cell_type": "markdown",
   "source": "## Visualizing the data\n\nNow we've got our training and test data, it's a good idea to visualize it.\n\nLet's plot it with some nice colours to differentiate what's what.",
   "metadata": {
    "id": "Rz2cIdECsLH5",
    "cell_id": "00036-268c9f5c-d950-4195-9858-b8ff5856158f",
    "deepnote_cell_type": "markdown"
   }
  },
  {
   "cell_type": "code",
   "metadata": {
    "colab": {
     "base_uri": "https://localhost:8080/",
     "height": 428
    },
    "id": "os30CXBHsOAH",
    "outputId": "94949999-9146-45c1-f721-d92315ba4cda",
    "cell_id": "00037-e1b7daf2-c111-4137-85ca-f82f41d08e1b",
    "deepnote_to_be_reexecuted": false,
    "source_hash": "432a57b6",
    "execution_start": 1633150589943,
    "execution_millis": 654,
    "deepnote_cell_type": "code"
   },
   "source": "plt.figure(figsize=(10, 7))\n# Plot training data in blue\nplt.scatter(X_train, y_train, c='b', label='Training data')\n# Plot test data in green\nplt.scatter(X_test, y_test, c='g', label='Testing data')\n# Show the legend\nplt.legend();",
   "outputs": [
    {
     "data": {
      "text/plain": "<Figure size 720x504 with 1 Axes>",
      "image/png": "[encoded data removed]"
     },
     "metadata": {
      "needs_background": "light",
      "image/png": {
       "width": 600,
       "height": 411
      }
     },
     "output_type": "display_data"
    }
   ],
   "execution_count": null
  },
  {
   "cell_type": "markdown",
   "source": "Beautiful! Any time you can visualize your data, your model, your anything, it's a good idea. \n\nWith this graph in mind, what we'll be trying to do is build a model which learns the pattern in the blue dots (`X_train`) to draw the green dots (`X_test`).\n\nTime to build a model. We'll make the exact same one from before (the one we trained for longer).",
   "metadata": {
    "id": "cxRcHZFgtS_B",
    "cell_id": "00038-6c0757fe-0388-44f8-8c55-600bc33e0423",
    "deepnote_cell_type": "markdown"
   }
  },
  {
   "cell_type": "code",
   "metadata": {
    "id": "4qpe0eSStSm-",
    "cell_id": "00039-3e9b5235-c41a-4e97-9e3b-184e7f24bb7a",
    "deepnote_to_be_reexecuted": false,
    "source_hash": "90f72bea",
    "execution_start": 1633150590646,
    "execution_millis": 2539,
    "deepnote_cell_type": "code"
   },
   "source": "# Set random seed\ntf.random.set_seed(42)\n\n# Create a model (same as above)\nmodel = tf.keras.Sequential([\n  tf.keras.layers.Dense(1)\n])\n\n# Compile model (same as above)\nmodel.compile(loss=tf.keras.losses.mae,\n              optimizer=tf.keras.optimizers.SGD(),\n              metrics=[\"mae\"])\n\n# Fit model (same as above)\nmodel.fit(X_train, y_train, epochs=100) # commented out on purpose (not fitting it just yet)",
   "outputs": [
    {
     "name": "stdout",
     "text": "Epoch 1/100\n2/2 [==============================] - 1s 5ms/step - loss: 16.4124 - mae: 16.4124\nEpoch 2/100\n2/2 [==============================] - 0s 19ms/step - loss: 11.0829 - mae: 11.0829\nEpoch 3/100\n2/2 [==============================] - 0s 9ms/step - loss: 11.1242 - mae: 11.1242\nEpoch 4/100\n2/2 [==============================] - 0s 11ms/step - loss: 8.6945 - mae: 8.6945\nEpoch 5/100\n2/2 [==============================] - 0s 6ms/step - loss: 9.8003 - mae: 9.8003\nEpoch 6/100\n2/2 [==============================] - 0s 19ms/step - loss: 9.5263 - mae: 9.5263\nEpoch 7/100\n2/2 [==============================] - 0s 6ms/step - loss: 8.4102 - mae: 8.4102\nEpoch 8/100\n2/2 [==============================] - 0s 6ms/step - loss: 9.1449 - mae: 9.1449\nEpoch 9/100\n2/2 [==============================] - 0s 9ms/step - loss: 19.4932 - mae: 19.4932\nEpoch 10/100\n2/2 [==============================] - 0s 16ms/step - loss: 9.6061 - mae: 9.6061\nEpoch 11/100\n2/2 [==============================] - 0s 18ms/step - loss: 8.5992 - mae: 8.5992\nEpoch 12/100\n2/2 [==============================] - 0s 11ms/step - loss: 10.9324 - mae: 10.9324\nEpoch 13/100\n2/2 [==============================] - 0s 12ms/step - loss: 10.0574 - mae: 10.0574\nEpoch 14/100\n2/2 [==============================] - 0s 5ms/step - loss: 16.5679 - mae: 16.5679\nEpoch 15/100\n2/2 [==============================] - 0s 4ms/step - loss: 11.4537 - mae: 11.4537\nEpoch 16/100\n2/2 [==============================] - 0s 9ms/step - loss: 8.4056 - mae: 8.4056\nEpoch 17/100\n2/2 [==============================] - 0s 4ms/step - loss: 13.8417 - mae: 13.8417\nEpoch 18/100\n2/2 [==============================] - 0s 8ms/step - loss: 11.6621 - mae: 11.6621\nEpoch 19/100\n2/2 [==============================] - 0s 4ms/step - loss: 18.7623 - mae: 18.7623\nEpoch 20/100\n2/2 [==============================] - 0s 10ms/step - loss: 15.5702 - mae: 15.5702\nEpoch 21/100\n2/2 [==============================] - 0s 3ms/step - loss: 10.9959 - mae: 10.9959\nEpoch 22/100\n2/2 [==============================] - 0s 8ms/step - loss: 8.0023 - mae: 8.0023\nEpoch 23/100\n2/2 [==============================] - 0s 7ms/step - loss: 9.8593 - mae: 9.8593\nEpoch 24/100\n2/2 [==============================] - 0s 8ms/step - loss: 7.5796 - mae: 7.5796\nEpoch 25/100\n2/2 [==============================] - 0s 12ms/step - loss: 13.7226 - mae: 13.7226\nEpoch 26/100\n2/2 [==============================] - 0s 11ms/step - loss: 17.1740 - mae: 17.1740\nEpoch 27/100\n2/2 [==============================] - 0s 3ms/step - loss: 13.4233 - mae: 13.4233\nEpoch 28/100\n2/2 [==============================] - 0s 5ms/step - loss: 14.5473 - mae: 14.5473\nEpoch 29/100\n2/2 [==============================] - 0s 3ms/step - loss: 9.8753 - mae: 9.8753\nEpoch 30/100\n2/2 [==============================] - 0s 8ms/step - loss: 17.1187 - mae: 17.1187\nEpoch 31/100\n2/2 [==============================] - 0s 9ms/step - loss: 24.5949 - mae: 24.5949\nEpoch 32/100\n2/2 [==============================] - 0s 7ms/step - loss: 7.6765 - mae: 7.6765\nEpoch 33/100\n2/2 [==============================] - 0s 3ms/step - loss: 9.2971 - mae: 9.2971\nEpoch 34/100\n2/2 [==============================] - 0s 7ms/step - loss: 14.1703 - mae: 14.1703\nEpoch 35/100\n2/2 [==============================] - 0s 7ms/step - loss: 10.8635 - mae: 10.8635\nEpoch 36/100\n2/2 [==============================] - 0s 6ms/step - loss: 13.5690 - mae: 13.5690\nEpoch 37/100\n2/2 [==============================] - 0s 4ms/step - loss: 9.3448 - mae: 9.3448\nEpoch 38/100\n2/2 [==============================] - 0s 13ms/step - loss: 10.4804 - mae: 10.4804\nEpoch 39/100\n2/2 [==============================] - 0s 3ms/step - loss: 10.0178 - mae: 10.0178\nEpoch 40/100\n2/2 [==============================] - 0s 11ms/step - loss: 10.8005 - mae: 10.8005\nEpoch 41/100\n2/2 [==============================] - 0s 5ms/step - loss: 7.7789 - mae: 7.7789\nEpoch 42/100\n2/2 [==============================] - 0s 4ms/step - loss: 10.2844 - mae: 10.2844\nEpoch 43/100\n2/2 [==============================] - 0s 5ms/step - loss: 8.9628 - mae: 8.9628\nEpoch 44/100\n2/2 [==============================] - 0s 5ms/step - loss: 12.6243 - mae: 12.6243\nEpoch 45/100\n2/2 [==============================] - 0s 5ms/step - loss: 14.1236 - mae: 14.1236\nEpoch 46/100\n2/2 [==============================] - 0s 8ms/step - loss: 8.2681 - mae: 8.2681\nEpoch 47/100\n2/2 [==============================] - 0s 5ms/step - loss: 9.0126 - mae: 9.0126\nEpoch 48/100\n2/2 [==============================] - 0s 6ms/step - loss: 10.6882 - mae: 10.6882\nEpoch 49/100\n2/2 [==============================] - 0s 6ms/step - loss: 7.7431 - mae: 7.7431\nEpoch 50/100\n2/2 [==============================] - 0s 6ms/step - loss: 9.3950 - mae: 9.3950\nEpoch 51/100\n2/2 [==============================] - 0s 7ms/step - loss: 8.9267 - mae: 8.9267\nEpoch 52/100\n2/2 [==============================] - 0s 9ms/step - loss: 16.9818 - mae: 16.9818\nEpoch 53/100\n2/2 [==============================] - 0s 9ms/step - loss: 14.8677 - mae: 14.8677\nEpoch 54/100\n2/2 [==============================] - 0s 13ms/step - loss: 22.0413 - mae: 22.0413\nEpoch 55/100\n1/2 [==============>...............] - ETA: 0s - loss: 18.3997 - mae: 18.3997IOPub message rate exceeded.\nThe notebook server will temporarily stop sending output\nto the client in order to avoid crashing it.\nTo change this limit, set the config variable\n`--NotebookApp.iopub_msg_rate_limit`.\n\nCurrent values:\nNotebookApp.iopub_msg_rate_limit=50.0 (msgs/sec)\nNotebookApp.rate_limit_window=3.0 (secs)\n\n",
     "output_type": "stream"
    }
   ],
   "execution_count": null
  },
  {
   "cell_type": "markdown",
   "source": "## Visualizing the model\n\nAfter you've built a model, you might want to take a look at it (especially if you haven't built many before).\n\nYou can take a look at the layers and shapes of your model by calling [`summary()`](https://www.tensorflow.org/api_docs/python/tf/keras/Model#summary) on it.\n\n> 🔑 **Note:** Visualizing a model is particularly helpful when you run into input and output shape mismatches.",
   "metadata": {
    "id": "hc2RHCCfqlAc",
    "cell_id": "00040-9d4f788c-2a08-4301-a287-7d29fa59c49d",
    "deepnote_cell_type": "markdown"
   }
  },
  {
   "cell_type": "code",
   "metadata": {
    "colab": {
     "base_uri": "https://localhost:8080/",
     "height": 414
    },
    "id": "OlgJj0cFwChH",
    "outputId": "af3d8f0f-67ed-4b30-dc32-6083224ff847",
    "cell_id": "00041-6ece5647-5933-4670-a403-629fc2185424",
    "deepnote_to_be_reexecuted": false,
    "source_hash": "936851d3",
    "execution_start": 1633150593191,
    "execution_millis": 46,
    "deepnote_cell_type": "code"
   },
   "source": "# Doesn't work (model not fit/built)\nmodel.summary()",
   "outputs": [
    {
     "name": "stdout",
     "text": "Model: \"sequential_2\"\n_________________________________________________________________\nLayer (type)                 Output Shape              Param #   \n=================================================================\ndense_2 (Dense)              (None, 1)                 2         \n=================================================================\nTotal params: 2\nTrainable params: 2\nNon-trainable params: 0\n_________________________________________________________________\n",
     "output_type": "stream"
    }
   ],
   "execution_count": null
  },
  {
   "cell_type": "markdown",
   "source": "Ahh, the cell above errors because we haven't fit our built our model.\n\nWe also haven't told it what input shape it should be expecting.\n\nRemember above, how we discussed the input shape was just one number?\n\nWe can let our model know the input shape of our data using the `input_shape` parameter to the first layer (usually if `input_shape` isn't defined, Keras tries to figure it out automatically).",
   "metadata": {
    "id": "SJj6KLe8xsyF",
    "cell_id": "00042-a4c9a5a2-d1a8-4f91-9c6c-df2af70cb32c",
    "deepnote_cell_type": "markdown"
   }
  },
  {
   "cell_type": "code",
   "metadata": {
    "id": "zMXKFtFBuWgJ",
    "cell_id": "00043-08898424-ce43-4b29-afe7-4f3bac55c7e6",
    "deepnote_to_be_reexecuted": false,
    "source_hash": "5f8c1788",
    "execution_start": 1633150593250,
    "execution_millis": 62,
    "deepnote_cell_type": "code"
   },
   "source": "# Set random seed\ntf.random.set_seed(42)\n\n# Create a model (same as above)\nmodel = tf.keras.Sequential([\n  tf.keras.layers.Dense(1, input_shape=[1]) # define the input_shape to our model\n])\n\n# Compile model (same as above)\nmodel.compile(loss=tf.keras.losses.mae,\n              optimizer=tf.keras.optimizers.SGD(),\n              metrics=[\"mae\"])",
   "outputs": [],
   "execution_count": null
  },
  {
   "cell_type": "code",
   "metadata": {
    "colab": {
     "base_uri": "https://localhost:8080/"
    },
    "id": "24Q325x2yCoi",
    "outputId": "004adec4-1f35-443a-fd9a-2dab44166849",
    "cell_id": "00044-3b619261-f588-4a32-b2c8-2a735ca3d494",
    "deepnote_to_be_reexecuted": false,
    "source_hash": "ddd4400c",
    "execution_start": 1633150593313,
    "execution_millis": 72,
    "deepnote_cell_type": "code"
   },
   "source": "# This will work after specifying the input shape\nmodel.summary()",
   "outputs": [
    {
     "name": "stdout",
     "text": "Model: \"sequential_3\"\n_________________________________________________________________\nLayer (type)                 Output Shape              Param #   \n=================================================================\ndense_3 (Dense)              (None, 1)                 2         \n=================================================================\nTotal params: 2\nTrainable params: 2\nNon-trainable params: 0\n_________________________________________________________________\n",
     "output_type": "stream"
    }
   ],
   "execution_count": null
  },
  {
   "cell_type": "markdown",
   "source": "Calling `summary()` on our model shows us the layers it contains, the output shape and the number of parameters.\n* **Total params** - total number of parameters in the model.\n* **Trainable parameters** - these are the parameters (patterns) the model can update as it trains.\n* **Non-trainable parameters** - these parameters aren't updated during training (this is typical when you bring in the already learned patterns from other models during transfer learning).\n\n> 📖 **Resource:** For a more in-depth overview of the trainable parameters within a layer, check out [MIT's introduction to deep learning video](https://youtu.be/njKP3FqW3Sk).\n\n> 🛠 **Exercise:** Try playing around with the number of hidden units in the `Dense` layer (e.g. `Dense(2)`, `Dense(3)`). How does this change the Total/Trainable params? Investigate what's causing the change.\n\nFor now, all you need to think about these parameters is that their learnable patterns in the data.\n\nLet's fit our model to the training data.",
   "metadata": {
    "id": "jdurWKlryl6b",
    "cell_id": "00045-a390c7aa-b5c7-43fe-a45e-3721f669c45d",
    "deepnote_cell_type": "markdown"
   }
  },
  {
   "cell_type": "code",
   "metadata": {
    "colab": {
     "base_uri": "https://localhost:8080/"
    },
    "id": "-Kywg4q9u051",
    "outputId": "4189a7c7-d929-4a1f-cda2-ab29be6843e4",
    "cell_id": "00046-7541304e-928c-49d3-9711-f2ae3874eabc",
    "deepnote_to_be_reexecuted": false,
    "source_hash": "9bc18021",
    "execution_start": 1633150593372,
    "execution_millis": 1628,
    "deepnote_cell_type": "code"
   },
   "source": "# Fit the model to the training data\nmodel.fit(X_train, y_train, epochs=100, verbose=0) # verbose controls how much gets output",
   "outputs": [
    {
     "output_type": "execute_result",
     "execution_count": 24,
     "data": {
      "text/plain": "<tensorflow.python.keras.callbacks.History at 0x7f102bf35510>"
     },
     "metadata": {}
    }
   ],
   "execution_count": null
  },
  {
   "cell_type": "code",
   "metadata": {
    "colab": {
     "base_uri": "https://localhost:8080/"
    },
    "id": "-jWuOwj961ri",
    "outputId": "72a950ec-fb60-400c-a711-138ea93b041a",
    "cell_id": "00047-84931903-c5bc-46c3-a432-98fa32471448",
    "deepnote_to_be_reexecuted": false,
    "source_hash": "fd647045",
    "execution_start": 1633150594994,
    "execution_millis": 35,
    "deepnote_cell_type": "code"
   },
   "source": "# Check the model summary\nmodel.summary()",
   "outputs": [
    {
     "name": "stdout",
     "text": "Model: \"sequential_3\"\n_________________________________________________________________\nLayer (type)                 Output Shape              Param #   \n=================================================================\ndense_3 (Dense)              (None, 1)                 2         \n=================================================================\nTotal params: 2\nTrainable params: 2\nNon-trainable params: 0\n_________________________________________________________________\n",
     "output_type": "stream"
    }
   ],
   "execution_count": null
  },
  {
   "cell_type": "markdown",
   "source": "Alongside summary, you can also view a 2D plot of the model using [`plot_model()`](https://www.tensorflow.org/api_docs/python/tf/keras/utils/plot_model).",
   "metadata": {
    "id": "RrrkHEkMYh5A",
    "cell_id": "00048-50c38fef-a4ef-4133-a1ae-5a438d247d85",
    "deepnote_cell_type": "markdown"
   }
  },
  {
   "cell_type": "code",
   "metadata": {
    "colab": {
     "base_uri": "https://localhost:8080/",
     "height": 201
    },
    "id": "liIg5WqDfdK4",
    "outputId": "3d79c635-0cf8-4617-8a91-c79293c69933",
    "cell_id": "00049-a7e4cfa4-4f88-433c-b081-2be8f9815546",
    "deepnote_to_be_reexecuted": false,
    "source_hash": "50a547aa",
    "execution_start": 1633150595035,
    "execution_millis": 14,
    "deepnote_cell_type": "code"
   },
   "source": "from tensorflow.keras.utils import plot_model\n\nplot_model(model, show_shapes=True)",
   "outputs": [
    {
     "name": "stdout",
     "text": "('Failed to import pydot. You must `pip install pydot` and install graphviz (https://graphviz.gitlab.io/download/), ', 'for `pydotprint` to work.')\n",
     "output_type": "stream"
    }
   ],
   "execution_count": null
  },
  {
   "cell_type": "markdown",
   "source": "In our case, the model we used only has an input and an output but visualizing more complicated models can be very helpful for debugging.",
   "metadata": {
    "id": "ygw7V8OVYxQS",
    "cell_id": "00050-b99c7854-981f-43c3-8def-b0877d2db2ed",
    "deepnote_cell_type": "markdown"
   }
  },
  {
   "cell_type": "markdown",
   "source": "## Visualizing the predictions\n\nNow we've got a trained model, let's visualize some predictions.\n\nTo visualize predictions, it's always a good idea to plot them against the ground truth labels.\n\nOften you'll see this in the form of `y_test` vs. `y_pred` (ground truth vs. predictions).\n\nFirst, we'll make some predictions on the test data (`X_test`), remember the model has never seen the test data.",
   "metadata": {
    "id": "gebj2eptqwg8",
    "cell_id": "00051-f82f7f08-b308-4ac7-9e7c-fdbc04c9dd14",
    "deepnote_cell_type": "markdown"
   }
  },
  {
   "cell_type": "code",
   "metadata": {
    "id": "RRzj7LJMYftb",
    "cell_id": "00052-5d8cd7c8-5adc-4de1-a403-f6a72657c0a5",
    "deepnote_to_be_reexecuted": false,
    "source_hash": "8c0dbd05",
    "execution_start": 1633150595083,
    "execution_millis": 113,
    "deepnote_cell_type": "code"
   },
   "source": "# Make predictions\ny_preds = model.predict(X_test)",
   "outputs": [],
   "execution_count": null
  },
  {
   "cell_type": "code",
   "metadata": {
    "colab": {
     "base_uri": "https://localhost:8080/"
    },
    "id": "_hKpW-KOZiAW",
    "outputId": "2d625913-c5ef-4f0d-b1d5-6bf60fdb3460",
    "cell_id": "00053-a22bfbd1-626a-446f-be02-37bbfa17dffc",
    "deepnote_to_be_reexecuted": false,
    "source_hash": "ee3ee16c",
    "execution_start": 1633150595259,
    "execution_millis": 14,
    "deepnote_cell_type": "code"
   },
   "source": "# View the predictions\ny_preds",
   "outputs": [
    {
     "output_type": "execute_result",
     "execution_count": 28,
     "data": {
      "text/plain": "array([[53.57109 ],\n       [57.05633 ],\n       [60.541573],\n       [64.02681 ],\n       [67.512054],\n       [70.99729 ],\n       [74.48254 ],\n       [77.96777 ],\n       [81.45301 ],\n       [84.938255]], dtype=float32)"
     },
     "metadata": {}
    }
   ],
   "execution_count": null
  },
  {
   "cell_type": "markdown",
   "source": "Okay, we get a list of numbers but how do these compare to the ground truth labels?\n\nLet's build a plotting function to find out.\n\n> 🔑 **Note:** If you think you're going to be visualizing something a lot, it's a good idea to functionize it so you can use it later.",
   "metadata": {
    "id": "aPRaFncaZnT-",
    "cell_id": "00054-0ac55cfe-ed23-412f-8076-fcc8e946f849",
    "deepnote_cell_type": "markdown"
   }
  },
  {
   "cell_type": "code",
   "metadata": {
    "id": "56euC69rZvNJ",
    "cell_id": "00055-15fb8ce5-3c39-4965-b13c-35f5d4c124ae",
    "deepnote_to_be_reexecuted": false,
    "source_hash": "bb89c0d7",
    "execution_start": 1633150595260,
    "execution_millis": 43,
    "deepnote_cell_type": "code"
   },
   "source": "def plot_predictions(train_data=X_train, \n                     train_labels=y_train, \n                     test_data=X_test, \n                     test_labels=y_test, \n                     predictions=y_preds):\n  \"\"\"\n  Plots training data, test data and compares predictions.\n  \"\"\"\n  plt.figure(figsize=(10, 7))\n  # Plot training data in blue\n  plt.scatter(train_data, train_labels, c=\"b\", label=\"Training data\")\n  # Plot test data in green\n  plt.scatter(test_data, test_labels, c=\"g\", label=\"Testing data\")\n  # Plot the predictions in red (predictions were made on the test data)\n  plt.scatter(test_data, predictions, c=\"r\", label=\"Predictions\")\n  # Show the legend\n  plt.legend();",
   "outputs": [],
   "execution_count": null
  },
  {
   "cell_type": "code",
   "metadata": {
    "colab": {
     "base_uri": "https://localhost:8080/",
     "height": 428
    },
    "id": "Fug5_B6Ab7Ah",
    "outputId": "4d672d63-80b7-420a-bcc0-7e9d5b901c7e",
    "cell_id": "00056-c33cc8b2-0bae-47f6-9bf8-0e297d7221ea",
    "deepnote_to_be_reexecuted": false,
    "source_hash": "cf87b3b1",
    "execution_start": 1633150595303,
    "execution_millis": 678,
    "deepnote_cell_type": "code"
   },
   "source": "plot_predictions(train_data=X_train,\n                 train_labels=y_train,\n                 test_data=X_test,\n                 test_labels=y_test,\n                 predictions=y_preds)",
   "outputs": [
    {
     "data": {
      "text/plain": "<Figure size 720x504 with 1 Axes>",
      "image/png": "[encoded data removed]"
     },
     "metadata": {
      "needs_background": "light",
      "image/png": {
       "width": 600,
       "height": 411
      }
     },
     "output_type": "display_data"
    }
   ],
   "execution_count": null
  },
  {
   "cell_type": "markdown",
   "source": "From the plot we can see our predictions aren't totally outlandish but they definitely aren't anything special either.",
   "metadata": {
    "id": "H63NPcgPcwZV",
    "cell_id": "00057-296eedf1-9e3a-414f-af6e-148414d16a48",
    "deepnote_cell_type": "markdown"
   }
  },
  {
   "cell_type": "markdown",
   "source": "## Evaluating predictions\n\nAlongisde visualizations, evaulation metrics are your alternative best option for evaluating your model.\n\nDepending on the problem you're working on, different models have different evaluation metrics. \n\nTwo of the main metrics used for regression problems are:\n* **Mean absolute error (MAE)** - the mean difference between each of the predictions.\n* **Mean squared error (MSE)** - the squared mean difference between of the predictions (use if larger errors are more detrimental than smaller errors).\n\nThe lower each of these values, the better.\n\nYou can also use [`model.evaluate()`](https://www.tensorflow.org/api_docs/python/tf/keras/Model#evaluate) which will return the loss of the model as well as any metrics setup during the compile step.",
   "metadata": {
    "id": "orAfIWOrgRDA",
    "cell_id": "00058-32a99aec-f65f-408b-8e60-9e01a143a93f",
    "deepnote_cell_type": "markdown"
   }
  },
  {
   "cell_type": "code",
   "metadata": {
    "colab": {
     "base_uri": "https://localhost:8080/"
    },
    "id": "DPgTdF3ddxiY",
    "outputId": "be305e32-46c6-46b7-ec56-868d4ef17a6b",
    "cell_id": "00059-8d0c0ac3-321d-4acd-bb38-8bad57b0a160",
    "deepnote_to_be_reexecuted": false,
    "source_hash": "bf434180",
    "execution_start": 1633150595992,
    "execution_millis": 518,
    "deepnote_cell_type": "code"
   },
   "source": "# Evaluate the model on the test set\nmodel.evaluate(X_test, y_test)",
   "outputs": [
    {
     "name": "stdout",
     "text": "1/1 [==============================] - 0s 461ms/step - loss: 18.7453 - mae: 18.7453\n",
     "output_type": "stream"
    },
    {
     "output_type": "execute_result",
     "execution_count": 31,
     "data": {
      "text/plain": "[18.74532699584961, 18.74532699584961]"
     },
     "metadata": {}
    }
   ],
   "execution_count": null
  },
  {
   "cell_type": "markdown",
   "source": "In our case, since we used MAE for the loss function as well as MAE for the metrics, `model.evaulate()` returns them both.\n\nTensorFlow also has built in functions for MSE and MAE.\n\nFor many evaluation functions, the premise is the same: compare predictions to the ground truth labels.",
   "metadata": {
    "id": "DAXIRyVzegFd",
    "cell_id": "00060-b64cafe7-2689-4f2c-838b-aac0b06d5d62",
    "deepnote_cell_type": "markdown"
   }
  },
  {
   "cell_type": "code",
   "metadata": {
    "colab": {
     "base_uri": "https://localhost:8080/"
    },
    "id": "gqoMQ0dJeD2S",
    "outputId": "d18078fe-6a35-4465-d77d-68151a2134c5",
    "cell_id": "00061-9a7221ad-ce42-4271-8fa8-f2c2271f1ba3",
    "deepnote_to_be_reexecuted": false,
    "source_hash": "c9d10f34",
    "execution_start": 1633150596526,
    "execution_millis": 18,
    "deepnote_cell_type": "code"
   },
   "source": "# Calculate the mean absolute error\nmae = tf.metrics.mean_absolute_error(y_true=y_test, \n                                     y_pred=y_preds)\nmae",
   "outputs": [
    {
     "output_type": "execute_result",
     "execution_count": 32,
     "data": {
      "text/plain": "<tf.Tensor: shape=(10,), dtype=float32, numpy=\narray([34.42891 , 30.943668, 27.45843 , 23.97319 , 20.487946, 17.202168,\n       14.510478, 12.419336, 11.018796, 10.212349], dtype=float32)>"
     },
     "metadata": {}
    }
   ],
   "execution_count": null
  },
  {
   "cell_type": "markdown",
   "source": "Huh? That's strange, MAE should be a single output.\n\nInstead, we get 10 values.\n\nThis is because our `y_test` and `y_preds` tensors are different shapes.",
   "metadata": {
    "id": "7pYp3XNYfkyC",
    "cell_id": "00062-9c02faae-90be-49cf-a908-1aa215565eb8",
    "deepnote_cell_type": "markdown"
   }
  },
  {
   "cell_type": "code",
   "metadata": {
    "colab": {
     "base_uri": "https://localhost:8080/"
    },
    "id": "zeUHwOc2gIV4",
    "outputId": "2c83e0f4-4ba0-4f8c-ba44-4a9effe82743",
    "cell_id": "00063-81b48e71-a1fa-4b10-a804-3d974bf6b24c",
    "deepnote_to_be_reexecuted": false,
    "source_hash": "3675b948",
    "execution_start": 1633150596571,
    "execution_millis": 58,
    "deepnote_cell_type": "code"
   },
   "source": "# Check the test label tensor values\ny_test",
   "outputs": [
    {
     "output_type": "execute_result",
     "execution_count": 33,
     "data": {
      "text/plain": "array([ 70,  74,  78,  82,  86,  90,  94,  98, 102, 106])"
     },
     "metadata": {}
    }
   ],
   "execution_count": null
  },
  {
   "cell_type": "code",
   "metadata": {
    "colab": {
     "base_uri": "https://localhost:8080/"
    },
    "id": "3aJwlTxugPyc",
    "outputId": "8db8cd49-d1b8-49b4-b48c-ac56e0ec8a5a",
    "cell_id": "00064-82bfd907-359a-4758-b694-b1a49eb62502",
    "deepnote_to_be_reexecuted": false,
    "source_hash": "ca4f693b",
    "execution_start": 1633150596616,
    "execution_millis": 57,
    "deepnote_cell_type": "code"
   },
   "source": "# Check the predictions tensor values (notice the extra square brackets)\ny_preds",
   "outputs": [
    {
     "output_type": "execute_result",
     "execution_count": 34,
     "data": {
      "text/plain": "array([[53.57109 ],\n       [57.05633 ],\n       [60.541573],\n       [64.02681 ],\n       [67.512054],\n       [70.99729 ],\n       [74.48254 ],\n       [77.96777 ],\n       [81.45301 ],\n       [84.938255]], dtype=float32)"
     },
     "metadata": {}
    }
   ],
   "execution_count": null
  },
  {
   "cell_type": "code",
   "metadata": {
    "colab": {
     "base_uri": "https://localhost:8080/"
    },
    "id": "xolZ-lmge_ES",
    "outputId": "c4658cbf-5176-4499-8fae-1c2f3baee7c5",
    "cell_id": "00065-aeb7e687-0de5-42ec-9b42-d63f5e23334d",
    "deepnote_to_be_reexecuted": false,
    "source_hash": "7d6fe632",
    "execution_start": 1633150596660,
    "execution_millis": 14,
    "deepnote_cell_type": "code"
   },
   "source": "# Check the tensor shapes\ny_test.shape, y_preds.shape",
   "outputs": [
    {
     "output_type": "execute_result",
     "execution_count": 35,
     "data": {
      "text/plain": "((10,), (10, 1))"
     },
     "metadata": {}
    }
   ],
   "execution_count": null
  },
  {
   "cell_type": "markdown",
   "source": "Remember how we discussed dealing with different input and output shapes is one the most common issues you'll come across, this is one of those times.\n\nBut not to worry.\n\nWe can fix it using [`squeeze()`](https://www.tensorflow.org/api_docs/python/tf/squeeze), it'll remove the the `1` dimension from our `y_preds` tensor, making it the same shape as `y_test`.\n\n> 🔑 **Note:** If you're comparing two tensors, it's important to make sure they're the right shape(s) (you won't always have to manipulate the shapes, but always be on the look out, *many* errors are the result of mismatched tensors, especially mismatched input and output shapes).",
   "metadata": {
    "id": "eW1qleu5gHyZ",
    "cell_id": "00066-84664d45-ae81-437a-bbb9-0c9edf49be52",
    "deepnote_cell_type": "markdown"
   }
  },
  {
   "cell_type": "code",
   "metadata": {
    "colab": {
     "base_uri": "https://localhost:8080/"
    },
    "id": "tVtMyw70g4aF",
    "outputId": "29dc2bac-aaba-4330-a07e-0806a312ee57",
    "cell_id": "00067-c6fef31c-ab6b-4cdd-9985-6e9c786245e1",
    "deepnote_to_be_reexecuted": false,
    "source_hash": "e01cb89",
    "execution_start": 1633150596660,
    "execution_millis": 56,
    "deepnote_cell_type": "code"
   },
   "source": "# Shape before squeeze()\ny_preds.shape",
   "outputs": [
    {
     "output_type": "execute_result",
     "execution_count": 36,
     "data": {
      "text/plain": "(10, 1)"
     },
     "metadata": {}
    }
   ],
   "execution_count": null
  },
  {
   "cell_type": "code",
   "metadata": {
    "colab": {
     "base_uri": "https://localhost:8080/"
    },
    "id": "qnYaBnCng-Nq",
    "outputId": "04e26605-2304-4596-ada3-01a2199f2575",
    "cell_id": "00068-790ae76c-e4f1-42a5-aacc-e4e89ff727f3",
    "deepnote_to_be_reexecuted": false,
    "source_hash": "dd6848c9",
    "execution_start": 1633150596709,
    "execution_millis": 28,
    "deepnote_cell_type": "code"
   },
   "source": "# Shape after squeeze()\ny_preds.squeeze().shape",
   "outputs": [
    {
     "output_type": "execute_result",
     "execution_count": 37,
     "data": {
      "text/plain": "(10,)"
     },
     "metadata": {}
    }
   ],
   "execution_count": null
  },
  {
   "cell_type": "code",
   "metadata": {
    "colab": {
     "base_uri": "https://localhost:8080/"
    },
    "id": "HxvVeD64hEX8",
    "outputId": "25168925-e44f-4bbc-f6d3-c90495f7898a",
    "cell_id": "00069-12c138f4-c9be-49ea-949d-d0310af25775",
    "deepnote_to_be_reexecuted": false,
    "source_hash": "ee95eedc",
    "execution_start": 1633150596730,
    "execution_millis": 41,
    "deepnote_cell_type": "code"
   },
   "source": "# What do they look like?\ny_test, y_preds.squeeze()",
   "outputs": [
    {
     "output_type": "execute_result",
     "execution_count": 38,
     "data": {
      "text/plain": "(array([ 70,  74,  78,  82,  86,  90,  94,  98, 102, 106]),\n array([53.57109 , 57.05633 , 60.541573, 64.02681 , 67.512054, 70.99729 ,\n        74.48254 , 77.96777 , 81.45301 , 84.938255], dtype=float32))"
     },
     "metadata": {}
    }
   ],
   "execution_count": null
  },
  {
   "cell_type": "markdown",
   "source": "Okay, now we know how to make our `y_test` and `y_preds` tenors the same shape, let's use our evaluation metrics.",
   "metadata": {
    "id": "mfUCIeHyhLk7",
    "cell_id": "00070-5f2a6c03-669e-4eac-80d6-d1b70eda24a2",
    "deepnote_cell_type": "markdown"
   }
  },
  {
   "cell_type": "code",
   "metadata": {
    "colab": {
     "base_uri": "https://localhost:8080/"
    },
    "id": "TvjY6GIJvXBO",
    "outputId": "00569a5a-3fea-4f28-d433-ca625e0b3c48",
    "cell_id": "00071-5d8a8ea4-24ed-47b1-bef7-b0d01606879a",
    "deepnote_to_be_reexecuted": false,
    "source_hash": "befe2441",
    "execution_start": 1633150596787,
    "execution_millis": 7,
    "deepnote_cell_type": "code"
   },
   "source": "# Calcuate the MAE\nmae = tf.metrics.mean_absolute_error(y_true=y_test, \n                                     y_pred=y_preds.squeeze()) # use squeeze() to make same shape\nmae",
   "outputs": [
    {
     "output_type": "execute_result",
     "execution_count": 39,
     "data": {
      "text/plain": "<tf.Tensor: shape=(), dtype=float32, numpy=18.745327>"
     },
     "metadata": {}
    }
   ],
   "execution_count": null
  },
  {
   "cell_type": "code",
   "metadata": {
    "colab": {
     "base_uri": "https://localhost:8080/"
    },
    "id": "EwA9nGJzvbMT",
    "outputId": "562af788-a539-442c-86a5-d5753c252705",
    "cell_id": "00072-ff493b38-985a-4f63-90a6-21951b3ceea8",
    "deepnote_to_be_reexecuted": false,
    "source_hash": "42b7fd20",
    "execution_start": 1633150596863,
    "execution_millis": 0,
    "deepnote_cell_type": "code"
   },
   "source": "# Calculate the MSE\nmse = tf.metrics.mean_squared_error(y_true=y_test,\n                                    y_pred=y_preds.squeeze())\nmse",
   "outputs": [
    {
     "output_type": "execute_result",
     "execution_count": 40,
     "data": {
      "text/plain": "<tf.Tensor: shape=(), dtype=float32, numpy=353.57336>"
     },
     "metadata": {}
    }
   ],
   "execution_count": null
  },
  {
   "cell_type": "markdown",
   "source": "We can also calculate the MAE using pure TensorFlow functions.",
   "metadata": {
    "id": "X06oo_CIjPbL",
    "cell_id": "00073-5a571f98-2ef4-45c9-b0a8-9d361867bab2",
    "deepnote_cell_type": "markdown"
   }
  },
  {
   "cell_type": "code",
   "metadata": {
    "colab": {
     "base_uri": "https://localhost:8080/"
    },
    "id": "YxiD6-QBYSzd",
    "outputId": "02f83e09-754b-4244-ce49-bb896dbcf5b1",
    "cell_id": "00074-db615216-ddc1-4e70-8daf-7c6d16eb3858",
    "deepnote_to_be_reexecuted": false,
    "source_hash": "f46328a2",
    "execution_start": 1633150596907,
    "execution_millis": 2717101,
    "deepnote_cell_type": "code"
   },
   "source": "# Returns the same as tf.metrics.mean_absolute_error()\ntf.reduce_mean(tf.abs(y_test-y_preds.squeeze()))",
   "outputs": [
    {
     "output_type": "execute_result",
     "execution_count": 41,
     "data": {
      "text/plain": "<tf.Tensor: shape=(), dtype=float64, numpy=18.745327377319335>"
     },
     "metadata": {}
    }
   ],
   "execution_count": null
  },
  {
   "cell_type": "markdown",
   "source": "Again, it's a good idea to functionize anything you think you might use over again (or find yourself using over and over again).\n\nLet's make functions for our evaluation metrics.",
   "metadata": {
    "id": "rmEho4lYofOa",
    "cell_id": "00075-49f4e66d-69bb-4755-86ed-147199bdc153",
    "deepnote_cell_type": "markdown"
   }
  },
  {
   "cell_type": "code",
   "metadata": {
    "id": "bs1Z2jgNol5f",
    "cell_id": "00076-8b9df687-6989-4d2e-b37e-2e467908c0e0",
    "deepnote_to_be_reexecuted": false,
    "source_hash": "bb744045",
    "execution_start": 1633150596908,
    "execution_millis": 1,
    "deepnote_cell_type": "code"
   },
   "source": "def mae(y_test, y_pred):\n  \"\"\"\n  Calculuates mean absolute error between y_test and y_preds.\n  \"\"\"\n  return tf.metrics.mean_absolute_error(y_test,\n                                        y_pred)\n  \ndef mse(y_test, y_pred):\n  \"\"\"\n  Calculates mean squared error between y_test and y_preds.\n  \"\"\"\n  return tf.metrics.mean_squared_error(y_test,\n                                       y_pred)",
   "outputs": [],
   "execution_count": null
  },
  {
   "cell_type": "markdown",
   "source": "## Running experiments to improve a model\n\nAfter seeing the evaluation metrics and the predictions your model makes, it's likely you'll want to improve it.\n\nAgain, there are many different ways you can do this, but 3 of the main ones are:\n1. **Get more data** - get more examples for your model to train on (more opportunities to learn patterns).\n2. **Make your model larger (use a more complex model)** - this might come in the form of more layers or more hidden units in each layer.\n3. **Train for longer** - give your model more of a chance to find the patterns in the data.\n\nSince we created our dataset, we could easily make more data but this isn't always the case when you're working with real-world datasets.\n\nSo let's take a look at how we can improve our model using 2 and 3.\n\nTo do so, we'll build 3 models and compare their results:\n1. `model_1` - same as original model, 1 layer, trained for 100 epochs.\n2. `model_2` - 2 layers, trained for 100 epochs.\n3. `model_3` - 2 layers, trained for 500 epochs.\n\n**Build `model_1`**",
   "metadata": {
    "id": "zub5zK7bcl40",
    "cell_id": "00077-5508732f-07ac-47a4-8991-ab91ce8405a1",
    "deepnote_cell_type": "markdown"
   }
  },
  {
   "cell_type": "code",
   "metadata": {
    "colab": {
     "base_uri": "https://localhost:8080/"
    },
    "id": "StVHIIM9csyS",
    "outputId": "43adbb02-32c7-45a0-d8e0-f40a26bca4f9",
    "cell_id": "00078-1df8624f-ce8e-4be5-9ad9-e7a12591b7dd",
    "deepnote_to_be_reexecuted": false,
    "source_hash": "3791435c",
    "execution_start": 1633150596951,
    "execution_millis": 2784,
    "deepnote_cell_type": "code"
   },
   "source": "# Set random seed\ntf.random.set_seed(42)\n\n# Replicate original model\nmodel_1 = tf.keras.Sequential([\n  tf.keras.layers.Dense(1)\n])\n\n# Compile the model\nmodel_1.compile(loss=tf.keras.losses.mae,\n                optimizer=tf.keras.optimizers.SGD(),\n                metrics=['mae'])\n\n# Fit the model\nmodel_1.fit(X_train, y_train, epochs=100)",
   "outputs": [
    {
     "name": "stdout",
     "text": "Epoch 1/100\n2/2 [==============================] - 1s 20ms/step - loss: 16.4124 - mae: 16.4124\nEpoch 2/100\n2/2 [==============================] - 0s 8ms/step - loss: 11.0829 - mae: 11.0829\nEpoch 3/100\n2/2 [==============================] - 0s 9ms/step - loss: 11.1242 - mae: 11.1242\nEpoch 4/100\n2/2 [==============================] - 0s 12ms/step - loss: 8.6945 - mae: 8.6945\nEpoch 5/100\n2/2 [==============================] - 0s 14ms/step - loss: 9.8003 - mae: 9.8003\nEpoch 6/100\n2/2 [==============================] - 0s 13ms/step - loss: 9.5263 - mae: 9.5263\nEpoch 7/100\n2/2 [==============================] - 0s 8ms/step - loss: 8.4102 - mae: 8.4102\nEpoch 8/100\n2/2 [==============================] - 0s 8ms/step - loss: 9.1449 - mae: 9.1449\nEpoch 9/100\n2/2 [==============================] - 0s 12ms/step - loss: 19.4932 - mae: 19.4932\nEpoch 10/100\n2/2 [==============================] - 0s 7ms/step - loss: 9.6061 - mae: 9.6061\nEpoch 11/100\n2/2 [==============================] - 0s 7ms/step - loss: 8.5992 - mae: 8.5992\nEpoch 12/100\n2/2 [==============================] - 0s 13ms/step - loss: 10.9324 - mae: 10.9324\nEpoch 13/100\n2/2 [==============================] - 0s 9ms/step - loss: 10.0574 - mae: 10.0574\nEpoch 14/100\n2/2 [==============================] - 0s 11ms/step - loss: 16.5679 - mae: 16.5679\nEpoch 15/100\n2/2 [==============================] - 0s 7ms/step - loss: 11.4537 - mae: 11.4537\nEpoch 16/100\n2/2 [==============================] - 0s 4ms/step - loss: 8.4056 - mae: 8.4056\nEpoch 17/100\n2/2 [==============================] - 0s 6ms/step - loss: 13.8417 - mae: 13.8417\nEpoch 18/100\n2/2 [==============================] - 0s 9ms/step - loss: 11.6621 - mae: 11.6621\nEpoch 19/100\n2/2 [==============================] - 0s 7ms/step - loss: 18.7623 - mae: 18.7623\nEpoch 20/100\n2/2 [==============================] - 0s 4ms/step - loss: 15.5702 - mae: 15.5702\nEpoch 21/100\n2/2 [==============================] - 0s 4ms/step - loss: 10.9959 - mae: 10.9959\nEpoch 22/100\n2/2 [==============================] - 0s 5ms/step - loss: 8.0023 - mae: 8.0023\nEpoch 23/100\n2/2 [==============================] - 0s 6ms/step - loss: 9.8593 - mae: 9.8593\nEpoch 24/100\n2/2 [==============================] - 0s 20ms/step - loss: 7.5796 - mae: 7.5796\nEpoch 25/100\n2/2 [==============================] - 0s 10ms/step - loss: 13.7226 - mae: 13.7226\nEpoch 26/100\n2/2 [==============================] - 0s 5ms/step - loss: 17.1740 - mae: 17.1740\nEpoch 27/100\n2/2 [==============================] - 0s 5ms/step - loss: 13.4233 - mae: 13.4233\nEpoch 28/100\n2/2 [==============================] - 0s 6ms/step - loss: 14.5473 - mae: 14.5473\nEpoch 29/100\n2/2 [==============================] - 0s 4ms/step - loss: 9.8753 - mae: 9.8753\nEpoch 30/100\n2/2 [==============================] - 0s 6ms/step - loss: 17.1187 - mae: 17.1187\nEpoch 31/100\n2/2 [==============================] - 0s 5ms/step - loss: 24.5949 - mae: 24.5949\nEpoch 32/100\n2/2 [==============================] - 0s 8ms/step - loss: 7.6765 - mae: 7.6765\nEpoch 33/100\n2/2 [==============================] - 0s 7ms/step - loss: 9.2971 - mae: 9.2971\nEpoch 34/100\n2/2 [==============================] - 0s 6ms/step - loss: 14.1703 - mae: 14.1703\nEpoch 35/100\n2/2 [==============================] - 0s 6ms/step - loss: 10.8635 - mae: 10.8635\nEpoch 36/100\n2/2 [==============================] - 0s 6ms/step - loss: 13.5690 - mae: 13.5690\nEpoch 37/100\n2/2 [==============================] - 0s 3ms/step - loss: 9.3448 - mae: 9.3448\nEpoch 38/100\n2/2 [==============================] - 0s 6ms/step - loss: 10.4804 - mae: 10.4804\nEpoch 39/100\n2/2 [==============================] - 0s 7ms/step - loss: 10.0178 - mae: 10.0178\nEpoch 40/100\n2/2 [==============================] - 0s 7ms/step - loss: 10.8005 - mae: 10.8005\nEpoch 41/100\n2/2 [==============================] - 0s 7ms/step - loss: 7.7789 - mae: 7.7789\nEpoch 42/100\n2/2 [==============================] - 0s 7ms/step - loss: 10.2844 - mae: 10.2844\nEpoch 43/100\n2/2 [==============================] - 0s 7ms/step - loss: 8.9628 - mae: 8.9628\nEpoch 44/100\n2/2 [==============================] - 0s 9ms/step - loss: 12.6243 - mae: 12.6243\nEpoch 45/100\n2/2 [==============================] - 0s 6ms/step - loss: 14.1236 - mae: 14.1236\nEpoch 46/100\n2/2 [==============================] - 0s 7ms/step - loss: 8.2681 - mae: 8.2681\nEpoch 47/100\n2/2 [==============================] - 0s 12ms/step - loss: 9.0126 - mae: 9.0126\nEpoch 48/100\n2/2 [==============================] - 0s 5ms/step - loss: 10.6882 - mae: 10.6882\nEpoch 49/100\n2/2 [==============================] - 0s 6ms/step - loss: 7.7431 - mae: 7.7431\nEpoch 50/100\n2/2 [==============================] - 0s 13ms/step - loss: 9.3950 - mae: 9.3950\nEpoch 51/100\n2/2 [==============================] - 0s 11ms/step - loss: 8.9267 - mae: 8.9267\nEpoch 52/100\n2/2 [==============================] - 0s 8ms/step - loss: 16.9818 - mae: 16.9818\nEpoch 53/100\n1/2 [==============>...............] - ETA: 0s - loss: 16.3432 - mae: 16.3432IOPub message rate exceeded.\nThe notebook server will temporarily stop sending output\nto the client in order to avoid crashing it.\nTo change this limit, set the config variable\n`--NotebookApp.iopub_msg_rate_limit`.\n\nCurrent values:\nNotebookApp.iopub_msg_rate_limit=50.0 (msgs/sec)\nNotebookApp.rate_limit_window=3.0 (secs)\n\n",
     "output_type": "stream"
    }
   ],
   "execution_count": null
  },
  {
   "cell_type": "code",
   "metadata": {
    "colab": {
     "base_uri": "https://localhost:8080/",
     "height": 428
    },
    "id": "A-Da56xspOrY",
    "outputId": "c3d54795-1607-474f-a2ca-065cd3eb8d5c",
    "cell_id": "00079-3b212a2e-90dd-4caf-b5b8-8808a7d80097",
    "deepnote_to_be_reexecuted": false,
    "source_hash": "d0227b58",
    "execution_start": 1633150599742,
    "execution_millis": 901,
    "deepnote_cell_type": "code"
   },
   "source": "# Make and plot predictions for model_1\ny_preds_1 = model_1.predict(X_test)\nplot_predictions(predictions=y_preds_1)",
   "outputs": [
    {
     "data": {
      "text/plain": "<Figure size 720x504 with 1 Axes>",
      "image/png": "[encoded data removed]"
     },
     "metadata": {
      "needs_background": "light",
      "image/png": {
       "width": 600,
       "height": 411
      }
     },
     "output_type": "display_data"
    }
   ],
   "execution_count": null
  },
  {
   "cell_type": "code",
   "metadata": {
    "colab": {
     "base_uri": "https://localhost:8080/"
    },
    "id": "EXxHBAtHoSh2",
    "outputId": "374608b9-155f-4252-c9ad-c32e0ac1306b",
    "cell_id": "00080-8fe61c94-b7a5-4974-9101-498245b24688",
    "deepnote_to_be_reexecuted": false,
    "source_hash": "ef4a7a9f",
    "execution_start": 1633150600667,
    "execution_millis": 144,
    "deepnote_cell_type": "code"
   },
   "source": "# Calculate model_1 metrics\nmae_1 = mae(y_test, y_preds_1.squeeze()).numpy()\nmse_1 = mse(y_test, y_preds_1.squeeze()).numpy()\nmae_1, mse_1",
   "outputs": [
    {
     "output_type": "execute_result",
     "execution_count": 45,
     "data": {
      "text/plain": "(18.745327, 353.57336)"
     },
     "metadata": {}
    }
   ],
   "execution_count": null
  },
  {
   "cell_type": "markdown",
   "source": "**Build `model_2`**\n\nThis time we'll add an extra dense layer (so now our model will have 2 layers) whilst keeping everything else the same.",
   "metadata": {
    "id": "XXELOpdBrE9_",
    "cell_id": "00081-f15c698a-10c1-4a2e-a64e-af8d9de776b7",
    "deepnote_cell_type": "markdown"
   }
  },
  {
   "cell_type": "code",
   "metadata": {
    "colab": {
     "base_uri": "https://localhost:8080/"
    },
    "id": "05vcgEP3rEFi",
    "outputId": "efcfdc73-7e52-4f92-c9be-f0a9705bb8b4",
    "cell_id": "00082-0cda8371-0761-442b-a3f6-ad8f5ad7c2eb",
    "deepnote_to_be_reexecuted": false,
    "source_hash": "26dbedf4",
    "execution_start": 1633150600668,
    "execution_millis": 1225,
    "deepnote_cell_type": "code"
   },
   "source": "# Set random seed\ntf.random.set_seed(42)\n\n# Replicate model_1 and add an extra layer\nmodel_2 = tf.keras.Sequential([\n  tf.keras.layers.Dense(1),\n  tf.keras.layers.Dense(1) # add a second layer\n])\n\n# Compile the model\nmodel_2.compile(loss=tf.keras.losses.mae,\n                optimizer=tf.keras.optimizers.SGD(),\n                metrics=['mae'])\n\n# Fit the model\nmodel_2.fit(X_train, y_train, epochs=100, verbose=0) # set verbose to 0 for less output",
   "outputs": [
    {
     "output_type": "execute_result",
     "execution_count": 46,
     "data": {
      "text/plain": "<tensorflow.python.keras.callbacks.History at 0x7f102bf7b990>"
     },
     "metadata": {}
    }
   ],
   "execution_count": null
  },
  {
   "cell_type": "code",
   "metadata": {
    "colab": {
     "base_uri": "https://localhost:8080/",
     "height": 465
    },
    "id": "9xCbDcoDraux",
    "outputId": "ab90da58-ae1e-4639-b210-9dfee04d8426",
    "cell_id": "00083-71b2e8c9-72cc-48e4-b03e-d1becaab7911",
    "deepnote_to_be_reexecuted": false,
    "source_hash": "9d015e2d",
    "execution_start": 1633150601885,
    "execution_millis": 771,
    "deepnote_cell_type": "code"
   },
   "source": "# Make and plot predictions for model_2\ny_preds_2 = model_2.predict(X_test)\nplot_predictions(predictions=y_preds_2)",
   "outputs": [
    {
     "name": "stdout",
     "text": "WARNING:tensorflow:5 out of the last 5 calls to <function Model.make_predict_function.<locals>.predict_function at 0x7f102becacb0> triggered tf.function retracing. Tracing is expensive and the excessive number of tracings could be due to (1) creating @tf.function repeatedly in a loop, (2) passing tensors with different shapes, (3) passing Python objects instead of tensors. For (1), please define your @tf.function outside of the loop. For (2), @tf.function has experimental_relax_shapes=True option that relaxes argument shapes that can avoid unnecessary retracing. For (3), please refer to https://www.tensorflow.org/guide/function#controlling_retracing and https://www.tensorflow.org/api_docs/python/tf/function for  more details.\n",
     "output_type": "stream"
    },
    {
     "data": {
      "text/plain": "<Figure size 720x504 with 1 Axes>",
      "image/png": "[encoded data removed]"
     },
     "metadata": {
      "needs_background": "light",
      "image/png": {
       "width": 606,
       "height": 411
      }
     },
     "output_type": "display_data"
    }
   ],
   "execution_count": null
  },
  {
   "cell_type": "markdown",
   "source": "Woah, that's looking better already! And all it took was an extra layer.",
   "metadata": {
    "id": "GxMYu5Frri6o",
    "cell_id": "00084-228151ce-44cc-4fad-9b6d-e5001a1eb6f6",
    "deepnote_cell_type": "markdown"
   }
  },
  {
   "cell_type": "code",
   "metadata": {
    "colab": {
     "base_uri": "https://localhost:8080/"
    },
    "id": "9LnPuGaBrcrP",
    "outputId": "2d2f9761-fca9-4da2-a470-d2194d3edf35",
    "cell_id": "00085-e31d8ae2-5185-44a7-be90-76f40e6d7d4d",
    "deepnote_to_be_reexecuted": false,
    "source_hash": "4574f746",
    "execution_start": 1633150602663,
    "execution_millis": 49,
    "deepnote_cell_type": "code"
   },
   "source": "# Calculate model_2 metrics\nmae_2 = mae(y_test, y_preds_2.squeeze()).numpy()\nmse_2 = mse(y_test, y_preds_2.squeeze()).numpy()\nmae_2, mse_2",
   "outputs": [
    {
     "output_type": "execute_result",
     "execution_count": 48,
     "data": {
      "text/plain": "(1.9097328, 5.45877)"
     },
     "metadata": {}
    }
   ],
   "execution_count": null
  },
  {
   "cell_type": "markdown",
   "source": "**Build `model_3`**\n\nFor our 3rd model, we'll keep everything the same as `model_2` except this time we'll train for longer (500 epochs instead of 100).\n\nThis will give our model more of a chance to learn the patterns in the data.",
   "metadata": {
    "id": "R8i9yfQGrwHx",
    "cell_id": "00086-2c0d3887-5c20-4138-a6ea-af5ec3a6eaa2",
    "deepnote_cell_type": "markdown"
   }
  },
  {
   "cell_type": "code",
   "metadata": {
    "colab": {
     "base_uri": "https://localhost:8080/"
    },
    "id": "ABGwQFsbrvUS",
    "outputId": "8b839e0e-df92-4308-da5a-2e65984b99c6",
    "cell_id": "00087-24f66dff-e9e0-46aa-b591-cbef858e964e",
    "deepnote_to_be_reexecuted": false,
    "source_hash": "d202872c",
    "execution_start": 1633150602699,
    "execution_millis": 4347,
    "deepnote_cell_type": "code"
   },
   "source": "# Set random seed\ntf.random.set_seed(42)\n\n# Replicate model_2\nmodel_3 = tf.keras.Sequential([\n  tf.keras.layers.Dense(1),\n  tf.keras.layers.Dense(1)\n])\n\n# Compile the model\nmodel_3.compile(loss=tf.keras.losses.mae,\n                optimizer=tf.keras.optimizers.SGD(),\n                metrics=['mae'])\n\n# Fit the model (this time for 500 epochs, not 100)\nmodel_3.fit(X_train, y_train, epochs=500, verbose=0) # set verbose to 0 for less output",
   "outputs": [
    {
     "output_type": "execute_result",
     "execution_count": 49,
     "data": {
      "text/plain": "<tensorflow.python.keras.callbacks.History at 0x7f102bf297d0>"
     },
     "metadata": {}
    }
   ],
   "execution_count": null
  },
  {
   "cell_type": "code",
   "metadata": {
    "colab": {
     "base_uri": "https://localhost:8080/",
     "height": 465
    },
    "id": "jEz4bVmasbFk",
    "outputId": "37b79c36-ae29-494a-a90a-95300857ad7a",
    "cell_id": "00088-3fe3c4d0-d40e-4f47-be14-97ade8af2ebf",
    "deepnote_to_be_reexecuted": false,
    "source_hash": "4b44e6",
    "execution_start": 1633150607027,
    "execution_millis": 691,
    "deepnote_cell_type": "code"
   },
   "source": "# Make and plot predictions for model_3\ny_preds_3 = model_3.predict(X_test)\nplot_predictions(predictions=y_preds_3)",
   "outputs": [
    {
     "name": "stdout",
     "text": "WARNING:tensorflow:6 out of the last 6 calls to <function Model.make_predict_function.<locals>.predict_function at 0x7f104bacf050> triggered tf.function retracing. Tracing is expensive and the excessive number of tracings could be due to (1) creating @tf.function repeatedly in a loop, (2) passing tensors with different shapes, (3) passing Python objects instead of tensors. For (1), please define your @tf.function outside of the loop. For (2), @tf.function has experimental_relax_shapes=True option that relaxes argument shapes that can avoid unnecessary retracing. For (3), please refer to https://www.tensorflow.org/guide/function#controlling_retracing and https://www.tensorflow.org/api_docs/python/tf/function for  more details.\n",
     "output_type": "stream"
    },
    {
     "data": {
      "text/plain": "<Figure size 720x504 with 1 Axes>",
      "image/png": "[encoded data removed]"
     },
     "metadata": {
      "needs_background": "light",
      "image/png": {
       "width": 600,
       "height": 411
      }
     },
     "output_type": "display_data"
    }
   ],
   "execution_count": null
  },
  {
   "cell_type": "markdown",
   "source": "Strange, we trained for longer but our model performed worse?\n\nAs it turns out, our model might've trained too long and has thus resulted in worse results (we'll see ways to prevent training for too long later on).",
   "metadata": {
    "id": "38Ki8ZHcsztG",
    "cell_id": "00089-1bca5fda-31ef-44e5-9919-476b99118e3c",
    "deepnote_cell_type": "markdown"
   }
  },
  {
   "cell_type": "code",
   "metadata": {
    "colab": {
     "base_uri": "https://localhost:8080/"
    },
    "id": "BPTUcFe4sbfk",
    "outputId": "fac9412b-1c17-4def-bac4-9098ba9d409d",
    "cell_id": "00090-d9b53cbd-c7df-445d-b435-187fde61c80e",
    "deepnote_to_be_reexecuted": false,
    "source_hash": "dbed1cfe",
    "execution_start": 1633150607723,
    "execution_millis": 193,
    "deepnote_cell_type": "code"
   },
   "source": "# Calculate model_3 metrics\nmae_3 = mae(y_test, y_preds_3.squeeze()).numpy()\nmse_3 = mse(y_test, y_preds_3.squeeze()).numpy()\nmae_3, mse_3",
   "outputs": [
    {
     "output_type": "execute_result",
     "execution_count": 51,
     "data": {
      "text/plain": "(68.68784, 4804.469)"
     },
     "metadata": {}
    }
   ],
   "execution_count": null
  },
  {
   "cell_type": "markdown",
   "source": "## Comparing results\n\nNow we've got results for 3 similar but slightly different results, let's compare them.",
   "metadata": {
    "id": "UPEeM3UsrxGB",
    "cell_id": "00091-1fd40b3a-3549-444f-8816-a5bfdd98f361",
    "deepnote_cell_type": "markdown"
   }
  },
  {
   "cell_type": "code",
   "metadata": {
    "id": "mw5RZk-BqLZd",
    "cell_id": "00092-233098ce-3e5f-4129-a508-6352940f0c47",
    "deepnote_to_be_reexecuted": false,
    "source_hash": "fe3a33fc",
    "execution_start": 1633150607763,
    "execution_millis": 5,
    "deepnote_cell_type": "code"
   },
   "source": "model_results = [[\"model_1\", mae_1, mse_1],\n                 [\"model_2\", mae_2, mse_2],\n                 [\"model_3\", mae_3, mae_3]]",
   "outputs": [],
   "execution_count": null
  },
  {
   "cell_type": "code",
   "metadata": {
    "colab": {
     "base_uri": "https://localhost:8080/",
     "height": 136
    },
    "id": "Ip7bKH83p5X0",
    "outputId": "0ca9c01f-d6f7-4a15-b0be-a7c497e076eb",
    "cell_id": "00093-a4c91285-72d3-4019-8a81-d576ffedd68e",
    "deepnote_to_be_reexecuted": false,
    "source_hash": "6b14fa2",
    "execution_start": 1633150607768,
    "execution_millis": 161,
    "deepnote_cell_type": "code"
   },
   "source": "import pandas as pd\nall_results = pd.DataFrame(model_results, columns=[\"model\", \"mae\", \"mse\"])\nall_results",
   "outputs": [
    {
     "output_type": "execute_result",
     "execution_count": 53,
     "data": {
      "application/vnd.deepnote.dataframe.v2+json": {
       "row_count": 3,
       "column_count": 3,
       "columns": [
        {
         "name": "model",
         "dtype": "object",
         "stats": {
          "unique_count": 3,
          "nan_count": 0,
          "categories": [
           {
            "name": "model_1",
            "count": 1
           },
           {
            "name": "model_2",
            "count": 1
           },
           {
            "name": "model_3",
            "count": 1
           }
          ]
         }
        },
        {
         "name": "mae",
         "dtype": "float64",
         "stats": {
          "unique_count": 3,
          "nan_count": 0,
          "min": "1.9097328186035156",
          "max": "68.6878433227539",
          "histogram": [
           {
            "bin_start": 1.9097328186035156,
            "bin_end": 8.587543869018555,
            "count": 1
           },
           {
            "bin_start": 8.587543869018555,
            "bin_end": 15.265354919433594,
            "count": 0
           },
           {
            "bin_start": 15.265354919433594,
            "bin_end": 21.943165969848636,
            "count": 1
           },
           {
            "bin_start": 21.943165969848636,
            "bin_end": 28.620977020263673,
            "count": 0
           },
           {
            "bin_start": 28.620977020263673,
            "bin_end": 35.29878807067871,
            "count": 0
           },
           {
            "bin_start": 35.29878807067871,
            "bin_end": 41.976599121093756,
            "count": 0
           },
           {
            "bin_start": 41.976599121093756,
            "bin_end": 48.65441017150879,
            "count": 0
           },
           {
            "bin_start": 48.65441017150879,
            "bin_end": 55.33222122192383,
            "count": 0
           },
           {
            "bin_start": 55.33222122192383,
            "bin_end": 62.01003227233887,
            "count": 0
           },
           {
            "bin_start": 62.01003227233887,
            "bin_end": 68.6878433227539,
            "count": 1
           }
          ]
         }
        },
        {
         "name": "mse",
         "dtype": "float64",
         "stats": {
          "unique_count": 3,
          "nan_count": 0,
          "min": "5.458769798278809",
          "max": "353.5733642578125",
          "histogram": [
           {
            "bin_start": 5.458769798278809,
            "bin_end": 40.270229244232176,
            "count": 1
           },
           {
            "bin_start": 40.270229244232176,
            "bin_end": 75.08168869018554,
            "count": 1
           },
           {
            "bin_start": 75.08168869018554,
            "bin_end": 109.8931481361389,
            "count": 0
           },
           {
            "bin_start": 109.8931481361389,
            "bin_end": 144.70460758209228,
            "count": 0
           },
           {
            "bin_start": 144.70460758209228,
            "bin_end": 179.51606702804565,
            "count": 0
           },
           {
            "bin_start": 179.51606702804565,
            "bin_end": 214.327526473999,
            "count": 0
           },
           {
            "bin_start": 214.327526473999,
            "bin_end": 249.13898591995238,
            "count": 0
           },
           {
            "bin_start": 249.13898591995238,
            "bin_end": 283.95044536590575,
            "count": 0
           },
           {
            "bin_start": 283.95044536590575,
            "bin_end": 318.7619048118591,
            "count": 0
           },
           {
            "bin_start": 318.7619048118591,
            "bin_end": 353.5733642578125,
            "count": 1
           }
          ]
         }
        },
        {
         "name": "_deepnote_index_column",
         "dtype": "int64"
        }
       ],
       "rows_top": [
        {
         "model": "model_1",
         "mae": 18.74532699584961,
         "mse": 353.5733642578125,
         "_deepnote_index_column": 0
        },
        {
         "model": "model_2",
         "mae": 1.9097328186035156,
         "mse": 5.458769798278809,
         "_deepnote_index_column": 1
        },
        {
         "model": "model_3",
         "mae": 68.6878433227539,
         "mse": 68.6878433227539,
         "_deepnote_index_column": 2
        }
       ],
       "rows_bottom": null
      },
      "text/plain": "     model        mae         mse\n0  model_1  18.745327  353.573364\n1  model_2   1.909733    5.458770\n2  model_3  68.687843   68.687843",
      "text/html": "<div>\n<style scoped>\n    .dataframe tbody tr th:only-of-type {\n        vertical-align: middle;\n    }\n\n    .dataframe tbody tr th {\n        vertical-align: top;\n    }\n\n    .dataframe thead th {\n        text-align: right;\n    }\n</style>\n<table border=\"1\" class=\"dataframe\">\n  <thead>\n    <tr style=\"text-align: right;\">\n      <th></th>\n      <th>model</th>\n      <th>mae</th>\n      <th>mse</th>\n    </tr>\n  </thead>\n  <tbody>\n    <tr>\n      <th>0</th>\n      <td>model_1</td>\n      <td>18.745327</td>\n      <td>353.573364</td>\n    </tr>\n    <tr>\n      <th>1</th>\n      <td>model_2</td>\n      <td>1.909733</td>\n      <td>5.458770</td>\n    </tr>\n    <tr>\n      <th>2</th>\n      <td>model_3</td>\n      <td>68.687843</td>\n      <td>68.687843</td>\n    </tr>\n  </tbody>\n</table>\n</div>"
     },
     "metadata": {}
    }
   ],
   "execution_count": null
  },
  {
   "cell_type": "markdown",
   "source": "From our experiments, it looks like `model_2` performed the best.\n\nAnd now, you might be thinking, \"wow, comparing models is tedious...\" and it definitely can be, we've only compared 3 models here. \n\nBut this is part of what machine learning modelling is about, trying many different combinations of models and seeing which performs best.\n\nEach model you build is a small experiment. \n\n> 🔑 **Note:** One of your main goals should be to minimize the time between your experiments. The more experiments you do, the more things you'll figure out which don't work and in turn, get closer to figuring out what does work. Remember the machine learning practitioner's motto: \"experiment, experiment, experiment\".\n\nAnother thing you'll also find is what you thought may work (such as training a model for longer) may not always work and the exact opposite is also often the case.\n\n## Tracking your experiments\n\nOne really good habit to get into is tracking your modelling experiments to see which perform better than others.\n\nWe've done a simple version of this above (keeping the results in different variables).\n\n> 📖 **Resource:** But as you build more models, you'll want to look into using tools such as:\n* [**TensorBoard**](https://tensorboard.dev/) - a component of the TensorFlow library to help track modelling experiments (we'll see this later).\n* [**Weights & Biases**](https://www.wandb.com/) - a tool for tracking all kinds of machine learning experiments (the good news for Weights & Biases is it plugs into TensorBoard).",
   "metadata": {
    "id": "o_AtUiwuuLGo",
    "cell_id": "00094-756373d3-16b4-4850-af3a-19b46eb2e5d1",
    "deepnote_cell_type": "markdown"
   }
  },
  {
   "cell_type": "markdown",
   "source": "## Saving a model\n\nOnce you've trained a model and found one which performs to your liking, you'll probably want to save it for use elsewhere (like a web application or mobile device).\n\nYou can save a TensorFlow/Keras model using [`model.save()`](https://www.tensorflow.org/tutorials/keras/save_and_load#save_the_entire_model).\n\nThere are two ways to save a model in TensorFlow:\n1. The [SavedModel format](https://www.tensorflow.org/tutorials/keras/save_and_load#savedmodel_format) (default).\n2. The [HDF5 format](https://www.tensorflow.org/tutorials/keras/save_and_load#hdf5_format).\n\nThe main difference between the two is the SavedModel is automatically able to save custom objects (such as special layers) without additional modifications when loading the model back in.\n\nWhich one should you use?\n\nIt depends on your situation but the SavedModel format will suffice most of the time.\n\nBoth methods use the same method call.",
   "metadata": {
    "id": "Fe5DgNbX6192",
    "cell_id": "00095-1abb2754-9c41-41b3-89b1-9b7dd35bbe62",
    "deepnote_cell_type": "markdown"
   }
  },
  {
   "cell_type": "code",
   "metadata": {
    "colab": {
     "base_uri": "https://localhost:8080/"
    },
    "id": "gg0jD2cUoPsg",
    "outputId": "302b7457-0b55-4418-a2e5-e1e448d3e050",
    "cell_id": "00096-a5558176-da5d-4cf3-bc99-47f4528cd178",
    "deepnote_to_be_reexecuted": false,
    "source_hash": "caa78451",
    "execution_start": 1633150607847,
    "execution_millis": 1072,
    "deepnote_cell_type": "code"
   },
   "source": "# Save a model using the SavedModel format\nmodel_2.save('best_model_SavedModel_format')",
   "outputs": [
    {
     "name": "stderr",
     "text": "2021-10-02 04:56:48.075512: W tensorflow/python/util/util.cc:348] Sets are not currently considered sequences, but this may change in the future, so consider avoiding using them.\nINFO:tensorflow:Assets written to: best_model_SavedModel_format/assets\n",
     "output_type": "stream"
    }
   ],
   "execution_count": null
  },
  {
   "cell_type": "code",
   "metadata": {
    "colab": {
     "base_uri": "https://localhost:8080/"
    },
    "id": "dsCpDYrU7D1j",
    "outputId": "b111ce11-a64a-40f3-8901-4273713447db",
    "cell_id": "00097-7356b243-66ce-4af6-8938-7dcb958f90de",
    "deepnote_to_be_reexecuted": false,
    "source_hash": "8163db6a",
    "execution_start": 1633150608925,
    "execution_millis": 545,
    "deepnote_cell_type": "code"
   },
   "source": "# Check it out - outputs a protobuf binary file (.pb) as well as other files\n!ls best_model_SavedModel_format",
   "outputs": [
    {
     "name": "stdout",
     "text": "assets\tsaved_model.pb\tvariables\r\n",
     "output_type": "stream"
    }
   ],
   "execution_count": null
  },
  {
   "cell_type": "markdown",
   "source": "Now let's save the model in the HDF5 format, we'll use the same method but with a different filename.",
   "metadata": {
    "id": "NGKmWco_SOEU",
    "cell_id": "00098-6f76eb48-6465-4937-9078-71819a7cfdb8",
    "deepnote_cell_type": "markdown"
   }
  },
  {
   "cell_type": "code",
   "metadata": {
    "id": "97J6GJMBSM2j",
    "cell_id": "00099-5217ba2f-1b9f-439f-8f8c-f37b28db6319",
    "deepnote_to_be_reexecuted": false,
    "source_hash": "ce7a0f8a",
    "execution_start": 1633150609405,
    "execution_millis": 0,
    "deepnote_cell_type": "code"
   },
   "source": "# Save a model using the HDF5 format\nmodel_2.save(\"best_model_HDF5_format.h5\") # note the addition of '.h5' on the end",
   "outputs": [],
   "execution_count": null
  },
  {
   "cell_type": "code",
   "metadata": {
    "colab": {
     "base_uri": "https://localhost:8080/"
    },
    "id": "vB7TmsSGSjdv",
    "outputId": "47447b90-93cf-430f-b338-9549a4c7a80e",
    "cell_id": "00100-51fb2066-ce1a-41b9-bce1-b847cd8565b4",
    "deepnote_to_be_reexecuted": false,
    "source_hash": "455569e1",
    "execution_start": 1633150609406,
    "execution_millis": 359,
    "deepnote_cell_type": "code"
   },
   "source": "# Check it out\n!ls best_model_HDF5_format.h5",
   "outputs": [
    {
     "name": "stdout",
     "text": "best_model_HDF5_format.h5\r\n",
     "output_type": "stream"
    }
   ],
   "execution_count": null
  },
  {
   "cell_type": "markdown",
   "source": "## Loading a model\n\nWe can load a saved model using the [`load_model()`](https://www.tensorflow.org/api_docs/python/tf/keras/models/load_model) method.\n\nLoading a model for the different formats (SavedModel and HDF5) is the same (as long as the pathnames to the particuluar formats are correct).",
   "metadata": {
    "id": "OGA02tY97EUI",
    "cell_id": "00101-50c4c548-d23f-4ee0-bb09-7fe3065aeb6d",
    "deepnote_cell_type": "markdown"
   }
  },
  {
   "cell_type": "code",
   "metadata": {
    "colab": {
     "base_uri": "https://localhost:8080/"
    },
    "id": "FzyLIWfs7Fvh",
    "outputId": "e75e4be0-9031-492a-82b1-df9813dbfa9e",
    "cell_id": "00102-224a4eed-bfa8-44ef-be1f-1e34cc91e1c4",
    "deepnote_to_be_reexecuted": false,
    "source_hash": "9f2fc929",
    "execution_start": 1633150609787,
    "execution_millis": 569,
    "deepnote_cell_type": "code"
   },
   "source": "# Load a model from the SavedModel format\nloaded_saved_model = tf.keras.models.load_model(\"best_model_SavedModel_format\")\nloaded_saved_model.summary()",
   "outputs": [
    {
     "name": "stdout",
     "text": "Model: \"sequential_5\"\n_________________________________________________________________\nLayer (type)                 Output Shape              Param #   \n=================================================================\ndense_5 (Dense)              (None, 1)                 2         \n_________________________________________________________________\ndense_6 (Dense)              (None, 1)                 2         \n=================================================================\nTotal params: 4\nTrainable params: 4\nNon-trainable params: 0\n_________________________________________________________________\n",
     "output_type": "stream"
    }
   ],
   "execution_count": null
  },
  {
   "cell_type": "markdown",
   "source": "Now let's test it out.",
   "metadata": {
    "id": "MfGO0dCQTeQh",
    "cell_id": "00103-bd2f088f-916c-46fb-b71b-1dd967e3c3bf",
    "deepnote_cell_type": "markdown"
   }
  },
  {
   "cell_type": "code",
   "metadata": {
    "colab": {
     "base_uri": "https://localhost:8080/"
    },
    "id": "7rehN8ZxTy43",
    "outputId": "21f5abf1-d4d0-4724-f0c4-af6b36adab66",
    "cell_id": "00104-43ca9535-7b65-405d-8422-eb7dbbde0919",
    "deepnote_to_be_reexecuted": false,
    "source_hash": "dd0ea534",
    "execution_start": 1633150610350,
    "execution_millis": 217,
    "deepnote_cell_type": "code"
   },
   "source": "# Compare model_2 with the SavedModel version (should return True)\nmodel_2_preds = model_2.predict(X_test)\nsaved_model_preds = loaded_saved_model.predict(X_test)\nmae(y_test, saved_model_preds.squeeze()).numpy() == mae(y_test, model_2_preds.squeeze()).numpy()",
   "outputs": [
    {
     "name": "stdout",
     "text": "WARNING:tensorflow:7 out of the last 8 calls to <function Model.make_predict_function.<locals>.predict_function at 0x7f102bb5b5f0> triggered tf.function retracing. Tracing is expensive and the excessive number of tracings could be due to (1) creating @tf.function repeatedly in a loop, (2) passing tensors with different shapes, (3) passing Python objects instead of tensors. For (1), please define your @tf.function outside of the loop. For (2), @tf.function has experimental_relax_shapes=True option that relaxes argument shapes that can avoid unnecessary retracing. For (3), please refer to https://www.tensorflow.org/guide/function#controlling_retracing and https://www.tensorflow.org/api_docs/python/tf/function for  more details.\n",
     "output_type": "stream"
    },
    {
     "output_type": "execute_result",
     "execution_count": 59,
     "data": {
      "text/plain": "True"
     },
     "metadata": {}
    }
   ],
   "execution_count": null
  },
  {
   "cell_type": "markdown",
   "source": "Loading in from the HDF5 is much the same.",
   "metadata": {
    "id": "prjkfX6rUZ6a",
    "cell_id": "00105-47e9db4f-d4b1-40bb-aff2-bf2c6d58dc0b",
    "deepnote_cell_type": "markdown"
   }
  },
  {
   "cell_type": "code",
   "metadata": {
    "colab": {
     "base_uri": "https://localhost:8080/"
    },
    "id": "dQfx-bWKUfRQ",
    "outputId": "4ed850bd-6f03-4278-c1ec-e81c5ea2c3c3",
    "cell_id": "00106-db76c420-d999-481b-9d1b-e5ca42d16528",
    "deepnote_to_be_reexecuted": false,
    "source_hash": "2826387c",
    "execution_start": 1633150610560,
    "execution_millis": 106,
    "deepnote_cell_type": "code"
   },
   "source": "# Load a model from the HDF5 format\nloaded_h5_model = tf.keras.models.load_model(\"best_model_HDF5_format.h5\")\nloaded_h5_model.summary()",
   "outputs": [
    {
     "name": "stdout",
     "text": "Model: \"sequential_5\"\n_________________________________________________________________\nLayer (type)                 Output Shape              Param #   \n=================================================================\ndense_5 (Dense)              (None, 1)                 2         \n_________________________________________________________________\ndense_6 (Dense)              (None, 1)                 2         \n=================================================================\nTotal params: 4\nTrainable params: 4\nNon-trainable params: 0\n_________________________________________________________________\n",
     "output_type": "stream"
    }
   ],
   "execution_count": null
  },
  {
   "cell_type": "code",
   "metadata": {
    "colab": {
     "base_uri": "https://localhost:8080/"
    },
    "id": "L0kT91h-Uru-",
    "outputId": "5968cbb9-26f3-436d-9f05-70d5f00f6a7f",
    "cell_id": "00107-140f6196-b238-4db8-a985-2a56b2b74d08",
    "deepnote_to_be_reexecuted": false,
    "source_hash": "37a0bfdd",
    "execution_start": 1633150610658,
    "execution_millis": 179,
    "deepnote_cell_type": "code"
   },
   "source": "# Compare model_2 with the loaded HDF5 version (should return True)\nh5_model_preds = loaded_h5_model.predict(X_test)\nmae(y_test, h5_model_preds.squeeze()).numpy() == mae(y_test, model_2_preds.squeeze()).numpy()",
   "outputs": [
    {
     "name": "stdout",
     "text": "WARNING:tensorflow:8 out of the last 9 calls to <function Model.make_predict_function.<locals>.predict_function at 0x7f102b902b00> triggered tf.function retracing. Tracing is expensive and the excessive number of tracings could be due to (1) creating @tf.function repeatedly in a loop, (2) passing tensors with different shapes, (3) passing Python objects instead of tensors. For (1), please define your @tf.function outside of the loop. For (2), @tf.function has experimental_relax_shapes=True option that relaxes argument shapes that can avoid unnecessary retracing. For (3), please refer to https://www.tensorflow.org/guide/function#controlling_retracing and https://www.tensorflow.org/api_docs/python/tf/function for  more details.\n",
     "output_type": "stream"
    },
    {
     "output_type": "execute_result",
     "execution_count": 61,
     "data": {
      "text/plain": "True"
     },
     "metadata": {}
    }
   ],
   "execution_count": null
  },
  {
   "cell_type": "markdown",
   "source": "## Preprocessing data (normalization and standardization)\n\nA common practice when working with neural networks is to make sure all of the data you pass to them is in the range 0 to 1.\n\nThis practice is called **normalization** (scaling all values from their original range to, e.g. between 0 and 100,000 to be between 0 and 1).\n\nThere is another process call **standardization** which converts all of your data to unit variance and 0 mean.\n\nThese two practices are often part of a preprocessing pipeline (a series of functions to prepare your data for use with neural networks).\n\nKnowing this, some of the major steps you'll take to preprocess your data for a neural network include:\n* Turning all of your data to numbers (a neural network can't handle strings).\n* Making sure your data is in the right shape (verifying input and output shapes).\n* [**Feature scaling**](https://scikit-learn.org/stable/modules/preprocessing.html#preprocessing-scaler):\n    * Normalizing data (making sure all values are between 0 and 1). This is done by subtracting the minimum value then dividing by the maximum value minus the minmum. This is also referred to as min-max scaling.\n    * Standardization (making sure all values have a mean of 0 and a variance of 1). This is done by substracting the mean value from the target feature and then dividing it by the standard deviation.\n    * Which one should you use?\n      * **With neural networks you'll tend to favour normalization** as they tend to prefer values between 0 and 1 (you'll see this espcially with image processing), however, you'll often find a neural network can perform pretty well with minimal feature scaling.\n\n> 📖 **Resource:** For more on preprocessing data, I'd recommend reading the following resources:\n* [Scikit-Learn's documentation on preprocessing data](https://scikit-learn.org/stable/modules/preprocessing.html#preprocessing-data).\n* [Scale, Standardize or Normalize with Scikit-Learn by Jeff Hale](https://towardsdatascience.com/scale-standardize-or-normalize-with-scikit-learn-6ccc7d176a02).\n\nWe've already turned our data into numbers using `get_dummies()`, let's see how we'd normalize it as well.",
   "metadata": {
    "id": "HS8xYkvIuVZZ",
    "cell_id": "00135-3d243cb0-8b79-4964-8568-2791e828ee8a",
    "deepnote_cell_type": "markdown"
   }
  },
  {
   "cell_type": "code",
   "metadata": {
    "id": "9v7P20A2d7H6",
    "cell_id": "00136-0784fc81-6b5a-43fd-8620-6224f096f8e5",
    "deepnote_to_be_reexecuted": false,
    "source_hash": "2fc88b65",
    "execution_start": 1633150610824,
    "execution_millis": 75,
    "deepnote_cell_type": "code"
   },
   "source": "import pandas as pd\nimport matplotlib.pyplot as plt\nimport tensorflow as tf\n\n# Read in the insurance dataset\ninsurance = pd.read_csv(\"https://raw.githubusercontent.com/stedy/Machine-Learning-with-R-datasets/master/insurance.csv\")",
   "outputs": [],
   "execution_count": null
  },
  {
   "cell_type": "code",
   "metadata": {
    "colab": {
     "base_uri": "https://localhost:8080/",
     "height": 195
    },
    "id": "vir8UAIwlUOo",
    "outputId": "f2b392b0-4e63-49a2-af35-248919293a21",
    "cell_id": "00137-7517a5c1-d5e8-4bd2-94e3-684138528122",
    "deepnote_to_be_reexecuted": false,
    "source_hash": "f6ee95c3",
    "execution_start": 1633150610917,
    "execution_millis": 89,
    "deepnote_cell_type": "code"
   },
   "source": "# Check out the data\ninsurance.head()",
   "outputs": [
    {
     "output_type": "execute_result",
     "execution_count": 63,
     "data": {
      "application/vnd.deepnote.dataframe.v2+json": {
       "row_count": 5,
       "column_count": 7,
       "columns": [
        {
         "name": "age",
         "dtype": "int64",
         "stats": {
          "unique_count": 5,
          "nan_count": 0,
          "min": "18",
          "max": "33",
          "histogram": [
           {
            "bin_start": 18,
            "bin_end": 19.5,
            "count": 2
           },
           {
            "bin_start": 19.5,
            "bin_end": 21,
            "count": 0
           },
           {
            "bin_start": 21,
            "bin_end": 22.5,
            "count": 0
           },
           {
            "bin_start": 22.5,
            "bin_end": 24,
            "count": 0
           },
           {
            "bin_start": 24,
            "bin_end": 25.5,
            "count": 0
           },
           {
            "bin_start": 25.5,
            "bin_end": 27,
            "count": 0
           },
           {
            "bin_start": 27,
            "bin_end": 28.5,
            "count": 1
           },
           {
            "bin_start": 28.5,
            "bin_end": 30,
            "count": 0
           },
           {
            "bin_start": 30,
            "bin_end": 31.5,
            "count": 0
           },
           {
            "bin_start": 31.5,
            "bin_end": 33,
            "count": 2
           }
          ]
         }
        },
        {
         "name": "sex",
         "dtype": "object",
         "stats": {
          "unique_count": 2,
          "nan_count": 0,
          "categories": [
           {
            "name": "male",
            "count": 4
           },
           {
            "name": "female",
            "count": 1
           }
          ]
         }
        },
        {
         "name": "bmi",
         "dtype": "float64",
         "stats": {
          "unique_count": 5,
          "nan_count": 0,
          "min": "22.705",
          "max": "33.77",
          "histogram": [
           {
            "bin_start": 22.705,
            "bin_end": 23.8115,
            "count": 1
           },
           {
            "bin_start": 23.8115,
            "bin_end": 24.918,
            "count": 0
           },
           {
            "bin_start": 24.918,
            "bin_end": 26.0245,
            "count": 0
           },
           {
            "bin_start": 26.0245,
            "bin_end": 27.131,
            "count": 0
           },
           {
            "bin_start": 27.131,
            "bin_end": 28.2375,
            "count": 1
           },
           {
            "bin_start": 28.2375,
            "bin_end": 29.344,
            "count": 1
           },
           {
            "bin_start": 29.344,
            "bin_end": 30.4505,
            "count": 0
           },
           {
            "bin_start": 30.4505,
            "bin_end": 31.557000000000002,
            "count": 0
           },
           {
            "bin_start": 31.557000000000002,
            "bin_end": 32.6635,
            "count": 0
           },
           {
            "bin_start": 32.6635,
            "bin_end": 33.77,
            "count": 2
           }
          ]
         }
        },
        {
         "name": "children",
         "dtype": "int64",
         "stats": {
          "unique_count": 3,
          "nan_count": 0,
          "min": "0",
          "max": "3",
          "histogram": [
           {
            "bin_start": 0,
            "bin_end": 0.3,
            "count": 3
           },
           {
            "bin_start": 0.3,
            "bin_end": 0.6,
            "count": 0
           },
           {
            "bin_start": 0.6,
            "bin_end": 0.8999999999999999,
            "count": 0
           },
           {
            "bin_start": 0.8999999999999999,
            "bin_end": 1.2,
            "count": 1
           },
           {
            "bin_start": 1.2,
            "bin_end": 1.5,
            "count": 0
           },
           {
            "bin_start": 1.5,
            "bin_end": 1.7999999999999998,
            "count": 0
           },
           {
            "bin_start": 1.7999999999999998,
            "bin_end": 2.1,
            "count": 0
           },
           {
            "bin_start": 2.1,
            "bin_end": 2.4,
            "count": 0
           },
           {
            "bin_start": 2.4,
            "bin_end": 2.6999999999999997,
            "count": 0
           },
           {
            "bin_start": 2.6999999999999997,
            "bin_end": 3,
            "count": 1
           }
          ]
         }
        },
        {
         "name": "smoker",
         "dtype": "object",
         "stats": {
          "unique_count": 2,
          "nan_count": 0,
          "categories": [
           {
            "name": "no",
            "count": 4
           },
           {
            "name": "yes",
            "count": 1
           }
          ]
         }
        },
        {
         "name": "region",
         "dtype": "object",
         "stats": {
          "unique_count": 3,
          "nan_count": 0,
          "categories": [
           {
            "name": "southeast",
            "count": 2
           },
           {
            "name": "northwest",
            "count": 2
           },
           {
            "name": "southwest",
            "count": 1
           }
          ]
         }
        },
        {
         "name": "charges",
         "dtype": "float64",
         "stats": {
          "unique_count": 5,
          "nan_count": 0,
          "min": "1725.5523",
          "max": "21984.47061",
          "histogram": [
           {
            "bin_start": 1725.5523,
            "bin_end": 3751.444131,
            "count": 1
           },
           {
            "bin_start": 3751.444131,
            "bin_end": 5777.335962,
            "count": 2
           },
           {
            "bin_start": 5777.335962,
            "bin_end": 7803.227793000001,
            "count": 0
           },
           {
            "bin_start": 7803.227793000001,
            "bin_end": 9829.119624,
            "count": 0
           },
           {
            "bin_start": 9829.119624,
            "bin_end": 11855.011455,
            "count": 0
           },
           {
            "bin_start": 11855.011455,
            "bin_end": 13880.903286,
            "count": 0
           },
           {
            "bin_start": 13880.903286,
            "bin_end": 15906.795117,
            "count": 0
           },
           {
            "bin_start": 15906.795117,
            "bin_end": 17932.686948000002,
            "count": 1
           },
           {
            "bin_start": 17932.686948000002,
            "bin_end": 19958.578779,
            "count": 0
           },
           {
            "bin_start": 19958.578779,
            "bin_end": 21984.47061,
            "count": 1
           }
          ]
         }
        },
        {
         "name": "_deepnote_index_column",
         "dtype": "int64"
        }
       ],
       "rows_top": [
        {
         "age": 19,
         "sex": "female",
         "bmi": 27.9,
         "children": 0,
         "smoker": "yes",
         "region": "southwest",
         "charges": 16884.924,
         "_deepnote_index_column": 0
        },
        {
         "age": 18,
         "sex": "male",
         "bmi": 33.77,
         "children": 1,
         "smoker": "no",
         "region": "southeast",
         "charges": 1725.5523,
         "_deepnote_index_column": 1
        },
        {
         "age": 28,
         "sex": "male",
         "bmi": 33,
         "children": 3,
         "smoker": "no",
         "region": "southeast",
         "charges": 4449.462,
         "_deepnote_index_column": 2
        },
        {
         "age": 33,
         "sex": "male",
         "bmi": 22.705,
         "children": 0,
         "smoker": "no",
         "region": "northwest",
         "charges": 21984.47061,
         "_deepnote_index_column": 3
        },
        {
         "age": 32,
         "sex": "male",
         "bmi": 28.88,
         "children": 0,
         "smoker": "no",
         "region": "northwest",
         "charges": 3866.8552,
         "_deepnote_index_column": 4
        }
       ],
       "rows_bottom": null
      },
      "text/plain": "   age     sex     bmi  children smoker     region      charges\n0   19  female  27.900         0    yes  southwest  16884.92400\n1   18    male  33.770         1     no  southeast   1725.55230\n2   28    male  33.000         3     no  southeast   4449.46200\n3   33    male  22.705         0     no  northwest  21984.47061\n4   32    male  28.880         0     no  northwest   3866.85520",
      "text/html": "<div>\n<style scoped>\n    .dataframe tbody tr th:only-of-type {\n        vertical-align: middle;\n    }\n\n    .dataframe tbody tr th {\n        vertical-align: top;\n    }\n\n    .dataframe thead th {\n        text-align: right;\n    }\n</style>\n<table border=\"1\" class=\"dataframe\">\n  <thead>\n    <tr style=\"text-align: right;\">\n      <th></th>\n      <th>age</th>\n      <th>sex</th>\n      <th>bmi</th>\n      <th>children</th>\n      <th>smoker</th>\n      <th>region</th>\n      <th>charges</th>\n    </tr>\n  </thead>\n  <tbody>\n    <tr>\n      <th>0</th>\n      <td>19</td>\n      <td>female</td>\n      <td>27.900</td>\n      <td>0</td>\n      <td>yes</td>\n      <td>southwest</td>\n      <td>16884.92400</td>\n    </tr>\n    <tr>\n      <th>1</th>\n      <td>18</td>\n      <td>male</td>\n      <td>33.770</td>\n      <td>1</td>\n      <td>no</td>\n      <td>southeast</td>\n      <td>1725.55230</td>\n    </tr>\n    <tr>\n      <th>2</th>\n      <td>28</td>\n      <td>male</td>\n      <td>33.000</td>\n      <td>3</td>\n      <td>no</td>\n      <td>southeast</td>\n      <td>4449.46200</td>\n    </tr>\n    <tr>\n      <th>3</th>\n      <td>33</td>\n      <td>male</td>\n      <td>22.705</td>\n      <td>0</td>\n      <td>no</td>\n      <td>northwest</td>\n      <td>21984.47061</td>\n    </tr>\n    <tr>\n      <th>4</th>\n      <td>32</td>\n      <td>male</td>\n      <td>28.880</td>\n      <td>0</td>\n      <td>no</td>\n      <td>northwest</td>\n      <td>3866.85520</td>\n    </tr>\n  </tbody>\n</table>\n</div>"
     },
     "metadata": {}
    }
   ],
   "execution_count": null
  },
  {
   "cell_type": "markdown",
   "source": "Now, just as before, we need to transform the non-numerical columns into numbers and this time we'll also be normalizing the numerical columns with different ranges (to make sure they're all between 0 and 1).\n\nTo do this, we're going to use a few classes from Scikit-Learn:\n* [`make_column_transformer`](https://scikit-learn.org/stable/modules/generated/sklearn.compose.make_column_transformer.html) - build a multi-step data preprocessing function for the folllowing trnasformations:\n  * [`MinMaxScaler`](https://scikit-learn.org/stable/modules/generated/sklearn.preprocessing.MinMaxScaler.html) - make sure all numerical columns are normalized (between 0 and 1).\n  * [`OneHotEncoder`](https://scikit-learn.org/stable/modules/generated/sklearn.preprocessing.OneHotEncoder.html) - one hot encode the non-numerical columns.\n\nLet's see them in action.",
   "metadata": {
    "id": "SHMQiNosg3J3",
    "cell_id": "00138-79132e72-53ee-4189-a097-90776db00b85",
    "deepnote_cell_type": "markdown"
   }
  },
  {
   "cell_type": "code",
   "metadata": {
    "id": "-x9JwbV0hqWh",
    "cell_id": "00139-81441a86-67c4-4667-b32f-c32744615b57",
    "deepnote_to_be_reexecuted": false,
    "source_hash": "70470f93",
    "execution_start": 1633151761179,
    "execution_millis": 25,
    "deepnote_cell_type": "code"
   },
   "source": "from sklearn.model_selection import train_test_split\nfrom sklearn.compose import make_column_transformer\nfrom sklearn.preprocessing import MinMaxScaler, OneHotEncoder\n\n# Create column transformer (this will help us normalize/preprocess our data)\nct = make_column_transformer(\n    (MinMaxScaler(), [\"age\", \"bmi\", \"children\"]), # get all values between 0 and 1\n    (OneHotEncoder(handle_unknown=\"ignore\"), [\"sex\", \"smoker\", \"region\"])\n)\n\n# Create X & y\nX = insurance.drop(\"charges\", axis=1)\ny = insurance[\"charges\"]\n\n# Build our train and test sets (use random state to ensure same split as before)\nX_train, X_test, y_train, y_test = train_test_split(X, y, test_size=0.2, random_state=42)\n\n# Fit column transformer on the training data only (doing so on test data would result in data leakage)\nct.fit(X_train)\n\n# Transform training and test data with normalization (MinMaxScalar) and one hot encoding (OneHotEncoder)\nX_train_normal = ct.transform(X_train)\nX_test_normal = ct.transform(X_test)",
   "outputs": [],
   "execution_count": null
  },
  {
   "cell_type": "markdown",
   "source": "Now we've normalized it and one-hot encoding it, what does our data look like now?",
   "metadata": {
    "id": "Tz58y3nPiBJ-",
    "cell_id": "00140-b1bb18e9-9dd4-46c6-bf9d-0564e9d5d35b",
    "deepnote_cell_type": "markdown"
   }
  },
  {
   "cell_type": "code",
   "metadata": {
    "colab": {
     "base_uri": "https://localhost:8080/"
    },
    "id": "VODt2YiziK45",
    "outputId": "0ffba739-63b8-4ccc-dcef-4b189c6162ee",
    "cell_id": "00141-74567f85-6123-4d4e-a581-8b2c119bc711",
    "deepnote_to_be_reexecuted": false,
    "source_hash": "d223275",
    "execution_start": 1633150611858,
    "execution_millis": 27,
    "deepnote_cell_type": "code"
   },
   "source": "# Non-normalized and non-one-hot encoded data example\nX_train.loc[0]",
   "outputs": [
    {
     "output_type": "execute_result",
     "execution_count": 65,
     "data": {
      "text/plain": "age                19\nsex            female\nbmi              27.9\nchildren            0\nsmoker            yes\nregion      southwest\nName: 0, dtype: object"
     },
     "metadata": {}
    }
   ],
   "execution_count": null
  },
  {
   "cell_type": "code",
   "metadata": {
    "colab": {
     "base_uri": "https://localhost:8080/"
    },
    "id": "mMYDXdwUnNVt",
    "outputId": "fb2ae984-9e0a-4cad-8475-c2ada4cfb7e6",
    "cell_id": "00142-d37e0214-4e1e-4653-8179-59c59d1ae593",
    "deepnote_to_be_reexecuted": false,
    "source_hash": "a68aa6e5",
    "execution_start": 1633150611877,
    "execution_millis": 54,
    "deepnote_cell_type": "code"
   },
   "source": "# Normalized and one-hot encoded example\nX_train_normal[0]",
   "outputs": [
    {
     "output_type": "execute_result",
     "execution_count": 66,
     "data": {
      "text/plain": "array([0.60869565, 0.10734463, 0.4       , 1.        , 0.        ,\n       1.        , 0.        , 0.        , 1.        , 0.        ,\n       0.        ])"
     },
     "metadata": {}
    }
   ],
   "execution_count": null
  },
  {
   "cell_type": "markdown",
   "source": "How about the shapes?",
   "metadata": {
    "id": "9iI4KtfWib44",
    "cell_id": "00143-7b633db8-a95c-41e3-ade6-223542c36191",
    "deepnote_cell_type": "markdown"
   }
  },
  {
   "cell_type": "code",
   "metadata": {
    "colab": {
     "base_uri": "https://localhost:8080/"
    },
    "id": "SFmxzqrWntj7",
    "outputId": "739eed46-6edc-4487-820b-7c1317300161",
    "cell_id": "00144-33d9662f-4199-45a2-b2f6-c0af364d26e5",
    "deepnote_to_be_reexecuted": false,
    "source_hash": "1df1c097",
    "execution_start": 1633150611896,
    "execution_millis": 41,
    "deepnote_cell_type": "code"
   },
   "source": "# Notice the normalized/one-hot encoded shape is larger because of the extra columns\nX_train_normal.shape, X_train.shape",
   "outputs": [
    {
     "output_type": "execute_result",
     "execution_count": 67,
     "data": {
      "text/plain": "((1070, 11), (1070, 6))"
     },
     "metadata": {}
    }
   ],
   "execution_count": null
  },
  {
   "cell_type": "markdown",
   "source": "Our data is normalized and numerical, let's model it",
   "metadata": {
    "id": "MST951aYijTS",
    "cell_id": "00145-a5dceac8-60a0-4b96-bd9d-5f9fc70194d7",
    "deepnote_cell_type": "markdown"
   }
  },
  {
   "cell_type": "code",
   "source": "# Set random seed\ntf.random.set_seed(42)\n\n# Build the model (3 layers, 100, 10, 1 units)\ninsurance_model_1 = tf.keras.Sequential([\n  tf.keras.layers.Dense(100),\n  tf.keras.layers.Dense(10),\n  tf.keras.layers.Dense(1)\n])\n\n# Compile the model\ninsurance_model_1.compile(loss=tf.keras.losses.mae,\n                          optimizer=tf.keras.optimizers.Adam(),\n                          metrics=['mae'])\n\n# Fit the model for 200 epochs\ninsurance_model_1.fit(X_train_normal, y_train, epochs=100, verbose=0) ",
   "metadata": {
    "tags": [],
    "cell_id": "00123-1a0cb2b1-07b7-405a-b3ce-cdc682b705a8",
    "deepnote_to_be_reexecuted": false,
    "source_hash": "2129db5c",
    "execution_start": 1633151902849,
    "execution_millis": 4364,
    "deepnote_cell_type": "code"
   },
   "outputs": [
    {
     "output_type": "execute_result",
     "execution_count": 83,
     "data": {
      "text/plain": "<tensorflow.python.keras.callbacks.History at 0x7f10533be610>"
     },
     "metadata": {}
    }
   ],
   "execution_count": null
  },
  {
   "cell_type": "markdown",
   "source": "Train longer",
   "metadata": {
    "tags": [],
    "cell_id": "00124-ca90185c-809b-4dab-b245-2e041df09f63",
    "deepnote_cell_type": "markdown"
   }
  },
  {
   "cell_type": "code",
   "metadata": {
    "colab": {
     "base_uri": "https://localhost:8080/"
    },
    "id": "TdHnIQqll83Y",
    "outputId": "cbebadf4-96e7-4353-edd5-d1b327f689e8",
    "cell_id": "00146-9bb15ccd-9273-4cb6-9093-73d15f669eca",
    "deepnote_to_be_reexecuted": false,
    "source_hash": "61ef4904",
    "execution_start": 1633151917052,
    "execution_millis": 7665,
    "deepnote_cell_type": "code"
   },
   "source": "# Set random seed\ntf.random.set_seed(42)\n\n# Build the model (3 layers, 100, 10, 1 units)\ninsurance_model_2 = tf.keras.Sequential([\n  tf.keras.layers.Dense(100),\n  tf.keras.layers.Dense(10),\n  tf.keras.layers.Dense(1)\n])\n\n# Compile the model\ninsurance_model_2.compile(loss=tf.keras.losses.mae,\n                          optimizer=tf.keras.optimizers.Adam(),\n                          metrics=['mae'])\n\n# Fit the model for 200 epochs (same as insurance_model_2)\ninsurance_model_2.fit(X_train_normal, y_train, epochs=200, verbose=0) ",
   "outputs": [
    {
     "output_type": "execute_result",
     "execution_count": 84,
     "data": {
      "text/plain": "<tensorflow.python.keras.callbacks.History at 0x7f1053301ad0>"
     },
     "metadata": {}
    }
   ],
   "execution_count": null
  },
  {
   "cell_type": "markdown",
   "source": "Let's evaluate the model on normalized test set.",
   "metadata": {
    "id": "-DjwktO6jW41",
    "cell_id": "00147-a596c79f-9215-49b7-aeea-cad808d64d53",
    "deepnote_cell_type": "markdown"
   }
  },
  {
   "cell_type": "code",
   "source": "# Evaulate 1st model\ninsurance_model_1_loss, insurance_model_1_mae = insurance_model_1.evaluate(X_test_normal, y_test)\nprint(insurance_model_1_loss)\nprint(insurance_model_1_mae)",
   "metadata": {
    "tags": [],
    "cell_id": "00127-900f27c1-a951-4a86-8669-2345b827feda",
    "deepnote_to_be_reexecuted": false,
    "source_hash": "c8855696",
    "execution_start": 1633151954776,
    "execution_millis": 97,
    "deepnote_cell_type": "code"
   },
   "outputs": [
    {
     "name": "stdout",
     "text": "9/9 [==============================] - 0s 2ms/step - loss: 3438.7844 - mae: 3438.7844\n3438.784423828125\n3438.784423828125\n",
     "output_type": "stream"
    }
   ],
   "execution_count": null
  },
  {
   "cell_type": "code",
   "metadata": {
    "colab": {
     "base_uri": "https://localhost:8080/"
    },
    "id": "sBcXZu9AnZfP",
    "outputId": "4f815a32-198f-41df-8115-56b98beceec2",
    "cell_id": "00148-ec9e1896-ad7e-4dbb-89ed-e8f7dc5d2e71",
    "deepnote_to_be_reexecuted": false,
    "source_hash": "a42476d5",
    "execution_start": 1633151965580,
    "execution_millis": 200,
    "deepnote_cell_type": "code"
   },
   "source": "# Evaulate 2nd model\ninsurance_model_2_loss, insurance_model_2_mae = insurance_model_2.evaluate(X_test_normal, y_test)\nprint(insurance_model_2_loss)\nprint(insurance_model_2_mae)",
   "outputs": [
    {
     "name": "stdout",
     "text": "9/9 [==============================] - 0s 1ms/step - loss: 3171.5774 - mae: 3171.5774\n3171.577392578125\n3171.577392578125\n",
     "output_type": "stream"
    }
   ],
   "execution_count": null
  },
  {
   "cell_type": "markdown",
   "source": "## 🛠 Exercises\n\nWe've a covered a whole lot pretty quickly.\n\nSo now it's time to have a **play around** with a few things and start to build up your initution.\n\nI emphasise the words play around because that's very important. Try a few things out, run the code and see what happens.\n\n1. Create your own regression dataset (or make the one we created in \"Create data to view and fit\" bigger) and build fit a model to it.\n2. Try building a neural network with 4 Dense layers and fitting it to your own regression dataset, how does it perform?\n3. Try and improve the results we got on the insurance dataset, some things you might want to try include:\n  * Building a larger model (how does one with 4 dense layers go?).\n  * Increasing the number of units in each layer.\n  * Lookup the documentation of [Adam](https://www.tensorflow.org/api_docs/python/tf/keras/optimizers/Adam) and find out what the first parameter is, what happens if you increase it by 10x?\n  * What happens if you train for longer (say 300 epochs instead of 200)? \n4. Import the [Boston pricing dataset](https://www.tensorflow.org/api_docs/python/tf/keras/datasets/boston_housing/load_data) from TensorFlow [`tf.keras.datasets`](https://www.tensorflow.org/api_docs/python/tf/keras/datasets) and model it.\n",
   "metadata": {
    "id": "NhIPO_KqocHP",
    "cell_id": "00152-8015885a-ad73-4639-87f0-ee6a00a36687",
    "deepnote_cell_type": "markdown"
   }
  },
  {
   "cell_type": "markdown",
   "source": "## 📖 Extra curriculum\n\nIf you're looking for extra materials relating to this notebook, I'd check out the following:\n\n* [MIT introduction deep learning lecture 1](https://youtu.be/njKP3FqW3Sk) - gives a great overview of what's happening behind all of the code we're running.\n* Reading: 1-hour of [Chapter 1 of Neural Networks and Deep Learning](http://neuralnetworksanddeeplearning.com/chap1.html) by Michael Nielson - a great in-depth and hands-on example of the intuition behind neural networks.\n\nTo practice your regression modelling with TensorFlow, I'd also encourage you to look through [Lion Bridge's collection of datasets](https://lionbridge.ai/datasets/) or [Kaggle's datasets](https://www.kaggle.com/data), find a regression dataset which sparks your interest and try to model.",
   "metadata": {
    "id": "AyiHG2nubmu7",
    "cell_id": "00153-baf57826-c797-4a31-a7c5-ba15fe6e32d2",
    "deepnote_cell_type": "markdown"
   }
  },
  {
   "cell_type": "markdown",
   "source": "<a style='text-decoration:none;line-height:16px;display:flex;color:#5B5B62;padding:10px;justify-content:end;' href='https://deepnote.com?utm_source=created-in-deepnote-cell&projectId=298852d4-1a55-4c9f-9b50-0f7ec627b93a' target=\"_blank\">\n<img alt='Created in deepnote.com' style='display:inline;max-height:16px;margin:0px;margin-right:7.5px;' src='data:image/svg+xml;base64,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' > </img>\nCreated in <span style='font-weight:600;margin-left:4px;'>Deepnote</span></a>",
   "metadata": {
    "tags": [],
    "created_in_deepnote_cell": true,
    "deepnote_cell_type": "markdown"
   }
  }
 ],
 "nbformat": 4,
 "nbformat_minor": 4,
 "metadata": {
  "colab": {
   "authorship_tag": "ABX9TyMpARlRsRDdP2fgkGTM9xv1",
   "collapsed_sections": [],
   "include_colab_link": true,
   "name": "01_neural_network_regression_in_tensorflow.ipynb",
   "provenance": [],
   "toc_visible": true
  },
  "kernelspec": {
   "display_name": "Python 3",
   "language": "python",
   "name": "python3"
  },
  "language_info": {
   "codemirror_mode": {
    "name": "ipython",
    "version": 3
   },
   "file_extension": ".py",
   "mimetype": "text/x-python",
   "name": "python",
   "nbconvert_exporter": "python",
   "pygments_lexer": "ipython3",
   "version": "3.7.10"
  },
  "deepnote_notebook_id": "e24dbd78-e1dc-44ea-9127-4bee72f3736a",
  "deepnote": {},
  "deepnote_execution_queue": []
 }
}