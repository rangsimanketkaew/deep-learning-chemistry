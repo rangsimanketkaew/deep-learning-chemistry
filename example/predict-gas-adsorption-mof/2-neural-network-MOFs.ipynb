{
 "cells": [
  {
   "cell_type": "markdown",
   "source": "# Machine Learning CO<sub>2</sub> Working Capacity of MOFs",
   "metadata": {
    "tags": [],
    "cell_id": "00000-bbcdf087-b579-4e38-a913-3414cca25faa",
    "deepnote_cell_type": "markdown"
   }
  },
  {
   "cell_type": "markdown",
   "source": "โดย รังสิมันต์ เกษแก้ว <br>\nมหาวิทยาลัยแห่งซูริค <br>\nE-mail: rangsiman1993@gmail.com",
   "metadata": {
    "tags": [],
    "cell_id": "00001-174fa7eb-993d-48e0-a0a2-85a1f7e43e3c",
    "deepnote_cell_type": "markdown"
   }
  },
  {
   "cell_type": "markdown",
   "source": "## 0. Import packages",
   "metadata": {
    "tags": [],
    "cell_id": "00002-7da60b53-0058-48e8-8bd0-cd1f67d542dc",
    "deepnote_cell_type": "markdown"
   }
  },
  {
   "cell_type": "code",
   "metadata": {
    "executionInfo": {
     "elapsed": 568,
     "status": "ok",
     "timestamp": 1626879744327,
     "user": {
      "displayName": "Rangsiman",
      "photoUrl": "https://lh3.googleusercontent.com/a-/AOh14Ghrx1oKpguOx-cYNgdxV7f3KiO9I6z1viS7Fhy_uw=s64",
      "userId": "07053109212140093737"
     },
     "user_tz": -120
    },
    "id": "lb_EA4nGHyBc",
    "deepnote_to_be_reexecuted": false,
    "source_hash": "97921c0a",
    "execution_start": 1633498783899,
    "execution_millis": 1229,
    "cell_id": "00003-33c47028-73cd-4ce3-94bc-fd342dff0d11",
    "deepnote_cell_type": "code"
   },
   "source": "# import standard scientific libraries\nimport os\nimport math\nimport numpy as np\nimport pandas as pd\n\n# import ML models from scikit-learn\nfrom sklearn.linear_model import LinearRegression\nfrom sklearn.kernel_ridge import KernelRidge\nfrom sklearn.gaussian_process import GaussianProcessRegressor\nfrom sklearn import svm\nfrom sklearn.preprocessing import PolynomialFeatures\nfrom sklearn.metrics import mean_absolute_error",
   "execution_count": null,
   "outputs": []
  },
  {
   "cell_type": "markdown",
   "source": "## 1. Import the data",
   "metadata": {
    "tags": [],
    "cell_id": "00004-7dc4d806-2ffb-4066-a4d1-c036cfd476ba",
    "deepnote_cell_type": "markdown"
   }
  },
  {
   "cell_type": "code",
   "metadata": {
    "deepnote_to_be_reexecuted": false,
    "source_hash": "d33ac5ac",
    "execution_start": 1633498785130,
    "execution_millis": 3,
    "cell_id": "00005-628ecd2d-d699-4073-a2fb-0ebf5bba07e0",
    "deepnote_cell_type": "code"
   },
   "source": "pd.set_option('max_columns', None)\npd.set_option(\"display.precision\", 8)\n\ndataset = \"./\"",
   "execution_count": null,
   "outputs": []
  },
  {
   "cell_type": "markdown",
   "source": "เนื่องจากในโปรเจ็คนี้เป็นการสาธิตการรัน Machine Learning ดังนั้นจึงจะขอดึงข้อมูล MOFs แค่ 20,000 โครงสร้างแรกเท่านั้น !!!",
   "metadata": {
    "tags": [],
    "cell_id": "00006-3a0733bd-f8cf-465c-9605-76e1603beb33",
    "deepnote_cell_type": "markdown"
   }
  },
  {
   "cell_type": "code",
   "metadata": {
    "executionInfo": {
     "elapsed": 3,
     "status": "ok",
     "timestamp": 1626879743762,
     "user": {
      "displayName": "Rangsiman",
      "photoUrl": "https://lh3.googleusercontent.com/a-/AOh14Ghrx1oKpguOx-cYNgdxV7f3KiO9I6z1viS7Fhy_uw=s64",
      "userId": "07053109212140093737"
     },
     "user_tz": -120
    },
    "id": "UaVIeDWdBsd3",
    "deepnote_to_be_reexecuted": false,
    "source_hash": "526cae80",
    "execution_start": 1633499835949,
    "execution_millis": 279,
    "cell_id": "00007-418cbbb1-52e2-459b-8fe1-2da788f32e5e",
    "deepnote_output_heights": [
     21.1875
    ],
    "deepnote_cell_type": "code"
   },
   "source": "train = pd.read_csv(dataset + \"train.csv\")\ntrain.shape",
   "execution_count": null,
   "outputs": [
    {
     "output_type": "execute_result",
     "execution_count": 11,
     "data": {
      "text/plain": "(68613, 14)"
     },
     "metadata": {}
    }
   ]
  },
  {
   "cell_type": "code",
   "metadata": {
    "tags": [],
    "deepnote_to_be_reexecuted": false,
    "source_hash": "e1f0b45",
    "execution_start": 1633152508949,
    "execution_millis": 28,
    "cell_id": "00008-2d18b78e-6686-4c21-9e14-8cf1473a0f1c",
    "deepnote_cell_type": "code"
   },
   "source": "train.head()",
   "execution_count": null,
   "outputs": [
    {
     "output_type": "execute_result",
     "execution_count": 4,
     "data": {
      "application/vnd.deepnote.dataframe.v2+json": {
       "row_count": 5,
       "column_count": 14,
       "columns": [
        {
         "name": "MOFname",
         "dtype": "object",
         "stats": {
          "unique_count": 5,
          "nan_count": 0,
          "categories": [
           {
            "name": "mof_unit_1",
            "count": 1
           },
           {
            "name": "mof_unit_2",
            "count": 1
           },
           {
            "name": "3 others",
            "count": 3
           }
          ]
         }
        },
        {
         "name": "volume [A^3]",
         "dtype": "float64",
         "stats": {
          "unique_count": 5,
          "nan_count": 0,
          "min": "1089.818728",
          "max": "2769.503842",
          "histogram": [
           {
            "bin_start": 1089.818728,
            "bin_end": 1257.7872394,
            "count": 3
           },
           {
            "bin_start": 1257.7872394,
            "bin_end": 1425.7557508,
            "count": 0
           },
           {
            "bin_start": 1425.7557508,
            "bin_end": 1593.7242621999999,
            "count": 0
           },
           {
            "bin_start": 1593.7242621999999,
            "bin_end": 1761.6927736,
            "count": 0
           },
           {
            "bin_start": 1761.6927736,
            "bin_end": 1929.6612850000001,
            "count": 0
           },
           {
            "bin_start": 1929.6612850000001,
            "bin_end": 2097.6297964,
            "count": 0
           },
           {
            "bin_start": 2097.6297964,
            "bin_end": 2265.5983078,
            "count": 1
           },
           {
            "bin_start": 2265.5983078,
            "bin_end": 2433.5668192000003,
            "count": 0
           },
           {
            "bin_start": 2433.5668192000003,
            "bin_end": 2601.5353305999997,
            "count": 0
           },
           {
            "bin_start": 2601.5353305999997,
            "bin_end": 2769.503842,
            "count": 1
           }
          ]
         }
        },
        {
         "name": "weight [u]",
         "dtype": "float64",
         "stats": {
          "unique_count": 5,
          "nan_count": 0,
          "min": "773.68796",
          "max": "2211.697211",
          "histogram": [
           {
            "bin_start": 773.68796,
            "bin_end": 917.4888851000001,
            "count": 3
           },
           {
            "bin_start": 917.4888851000001,
            "bin_end": 1061.2898102,
            "count": 0
           },
           {
            "bin_start": 1061.2898102,
            "bin_end": 1205.0907353,
            "count": 0
           },
           {
            "bin_start": 1205.0907353,
            "bin_end": 1348.8916604,
            "count": 1
           },
           {
            "bin_start": 1348.8916604,
            "bin_end": 1492.6925855000002,
            "count": 0
           },
           {
            "bin_start": 1492.6925855000002,
            "bin_end": 1636.4935106000003,
            "count": 0
           },
           {
            "bin_start": 1636.4935106000003,
            "bin_end": 1780.2944357000001,
            "count": 0
           },
           {
            "bin_start": 1780.2944357000001,
            "bin_end": 1924.0953608000002,
            "count": 0
           },
           {
            "bin_start": 1924.0953608000002,
            "bin_end": 2067.8962859000003,
            "count": 0
           },
           {
            "bin_start": 2067.8962859000003,
            "bin_end": 2211.697211,
            "count": 1
           }
          ]
         }
        },
        {
         "name": "surface_area [m^2/g]",
         "dtype": "float64",
         "stats": {
          "unique_count": 4,
          "nan_count": 0,
          "min": "0.0",
          "max": "1441.53",
          "histogram": [
           {
            "bin_start": 0,
            "bin_end": 144.153,
            "count": 2
           },
           {
            "bin_start": 144.153,
            "bin_end": 288.306,
            "count": 0
           },
           {
            "bin_start": 288.306,
            "bin_end": 432.45899999999995,
            "count": 0
           },
           {
            "bin_start": 432.45899999999995,
            "bin_end": 576.612,
            "count": 0
           },
           {
            "bin_start": 576.612,
            "bin_end": 720.765,
            "count": 1
           },
           {
            "bin_start": 720.765,
            "bin_end": 864.9179999999999,
            "count": 1
           },
           {
            "bin_start": 864.9179999999999,
            "bin_end": 1009.0709999999999,
            "count": 0
           },
           {
            "bin_start": 1009.0709999999999,
            "bin_end": 1153.224,
            "count": 0
           },
           {
            "bin_start": 1153.224,
            "bin_end": 1297.377,
            "count": 0
           },
           {
            "bin_start": 1297.377,
            "bin_end": 1441.53,
            "count": 1
           }
          ]
         }
        },
        {
         "name": "void_fraction",
         "dtype": "float64",
         "stats": {
          "unique_count": 5,
          "nan_count": 0,
          "min": "0.07778",
          "max": "0.21814",
          "histogram": [
           {
            "bin_start": 0.07778,
            "bin_end": 0.091816,
            "count": 2
           },
           {
            "bin_start": 0.091816,
            "bin_end": 0.105852,
            "count": 0
           },
           {
            "bin_start": 0.105852,
            "bin_end": 0.119888,
            "count": 0
           },
           {
            "bin_start": 0.119888,
            "bin_end": 0.133924,
            "count": 0
           },
           {
            "bin_start": 0.133924,
            "bin_end": 0.14795999999999998,
            "count": 1
           },
           {
            "bin_start": 0.14795999999999998,
            "bin_end": 0.16199599999999997,
            "count": 1
           },
           {
            "bin_start": 0.16199599999999997,
            "bin_end": 0.176032,
            "count": 0
           },
           {
            "bin_start": 0.176032,
            "bin_end": 0.190068,
            "count": 0
           },
           {
            "bin_start": 0.190068,
            "bin_end": 0.204104,
            "count": 0
           },
           {
            "bin_start": 0.204104,
            "bin_end": 0.21814,
            "count": 1
           }
          ]
         }
        },
        {
         "name": "void_volume [cm^3/g]",
         "dtype": "float64",
         "stats": {
          "unique_count": 5,
          "nan_count": 0,
          "min": "0.0591",
          "max": "0.222",
          "histogram": [
           {
            "bin_start": 0.0591,
            "bin_end": 0.07539,
            "count": 2
           },
           {
            "bin_start": 0.07539,
            "bin_end": 0.09168,
            "count": 0
           },
           {
            "bin_start": 0.09168,
            "bin_end": 0.10797,
            "count": 1
           },
           {
            "bin_start": 0.10797,
            "bin_end": 0.12426,
            "count": 0
           },
           {
            "bin_start": 0.12426,
            "bin_end": 0.14055,
            "count": 1
           },
           {
            "bin_start": 0.14055,
            "bin_end": 0.15683999999999998,
            "count": 0
           },
           {
            "bin_start": 0.15683999999999998,
            "bin_end": 0.17313,
            "count": 0
           },
           {
            "bin_start": 0.17313,
            "bin_end": 0.18941999999999998,
            "count": 0
           },
           {
            "bin_start": 0.18941999999999998,
            "bin_end": 0.20571,
            "count": 0
           },
           {
            "bin_start": 0.20571,
            "bin_end": 0.222,
            "count": 1
           }
          ]
         }
        },
        {
         "name": "functional_groups",
         "dtype": "object",
         "stats": {
          "unique_count": 5,
          "nan_count": 0,
          "categories": [
           {
            "name": "COOH-OEt",
            "count": 1
           },
           {
            "name": "F-OMe",
            "count": 1
           },
           {
            "name": "3 others",
            "count": 3
           }
          ]
         }
        },
        {
         "name": "metal_linker",
         "dtype": "int64",
         "stats": {
          "unique_count": 4,
          "nan_count": 0,
          "min": "2",
          "max": "10",
          "histogram": [
           {
            "bin_start": 2,
            "bin_end": 2.8,
            "count": 2
           },
           {
            "bin_start": 2.8,
            "bin_end": 3.6,
            "count": 1
           },
           {
            "bin_start": 3.6,
            "bin_end": 4.4,
            "count": 0
           },
           {
            "bin_start": 4.4,
            "bin_end": 5.2,
            "count": 0
           },
           {
            "bin_start": 5.2,
            "bin_end": 6,
            "count": 0
           },
           {
            "bin_start": 6,
            "bin_end": 6.800000000000001,
            "count": 0
           },
           {
            "bin_start": 6.800000000000001,
            "bin_end": 7.6000000000000005,
            "count": 0
           },
           {
            "bin_start": 7.6000000000000005,
            "bin_end": 8.4,
            "count": 0
           },
           {
            "bin_start": 8.4,
            "bin_end": 9.2,
            "count": 1
           },
           {
            "bin_start": 9.2,
            "bin_end": 10,
            "count": 1
           }
          ]
         }
        },
        {
         "name": "organic_linker1",
         "dtype": "int64",
         "stats": {
          "unique_count": 5,
          "nan_count": 0,
          "min": "1",
          "max": "44",
          "histogram": [
           {
            "bin_start": 1,
            "bin_end": 5.3,
            "count": 2
           },
           {
            "bin_start": 5.3,
            "bin_end": 9.6,
            "count": 0
           },
           {
            "bin_start": 9.6,
            "bin_end": 13.899999999999999,
            "count": 0
           },
           {
            "bin_start": 13.899999999999999,
            "bin_end": 18.2,
            "count": 1
           },
           {
            "bin_start": 18.2,
            "bin_end": 22.5,
            "count": 1
           },
           {
            "bin_start": 22.5,
            "bin_end": 26.799999999999997,
            "count": 0
           },
           {
            "bin_start": 26.799999999999997,
            "bin_end": 31.099999999999998,
            "count": 0
           },
           {
            "bin_start": 31.099999999999998,
            "bin_end": 35.4,
            "count": 0
           },
           {
            "bin_start": 35.4,
            "bin_end": 39.699999999999996,
            "count": 0
           },
           {
            "bin_start": 39.699999999999996,
            "bin_end": 44,
            "count": 1
           }
          ]
         }
        },
        {
         "name": "organic_linker2",
         "dtype": "int64",
         "stats": {
          "unique_count": 4,
          "nan_count": 0,
          "min": "11",
          "max": "57",
          "histogram": [
           {
            "bin_start": 11,
            "bin_end": 15.6,
            "count": 1
           },
           {
            "bin_start": 15.6,
            "bin_end": 20.2,
            "count": 0
           },
           {
            "bin_start": 20.2,
            "bin_end": 24.799999999999997,
            "count": 3
           },
           {
            "bin_start": 24.799999999999997,
            "bin_end": 29.4,
            "count": 0
           },
           {
            "bin_start": 29.4,
            "bin_end": 34,
            "count": 0
           },
           {
            "bin_start": 34,
            "bin_end": 38.599999999999994,
            "count": 0
           },
           {
            "bin_start": 38.599999999999994,
            "bin_end": 43.199999999999996,
            "count": 0
           },
           {
            "bin_start": 43.199999999999996,
            "bin_end": 47.8,
            "count": 0
           },
           {
            "bin_start": 47.8,
            "bin_end": 52.4,
            "count": 0
           },
           {
            "bin_start": 52.4,
            "bin_end": 57,
            "count": 1
           }
          ]
         }
        },
        {
         "name": "topology",
         "dtype": "object",
         "stats": {
          "unique_count": 3,
          "nan_count": 0,
          "categories": [
           {
            "name": "pcu",
            "count": 3
           },
           {
            "name": "etb",
            "count": 1
           },
           {
            "name": "sra",
            "count": 1
           }
          ]
         }
        },
        {
         "name": "CO2/N2_selectivity",
         "dtype": "float64",
         "stats": {
          "unique_count": 5,
          "nan_count": 0,
          "min": "19.26372569",
          "max": "33.61678033",
          "histogram": [
           {
            "bin_start": 19.26372569,
            "bin_end": 20.699031154,
            "count": 1
           },
           {
            "bin_start": 20.699031154,
            "bin_end": 22.134336618,
            "count": 0
           },
           {
            "bin_start": 22.134336618,
            "bin_end": 23.569642082,
            "count": 1
           },
           {
            "bin_start": 23.569642082,
            "bin_end": 25.004947546,
            "count": 0
           },
           {
            "bin_start": 25.004947546,
            "bin_end": 26.44025301,
            "count": 1
           },
           {
            "bin_start": 26.44025301,
            "bin_end": 27.875558473999998,
            "count": 0
           },
           {
            "bin_start": 27.875558473999998,
            "bin_end": 29.310863937999997,
            "count": 0
           },
           {
            "bin_start": 29.310863937999997,
            "bin_end": 30.746169402,
            "count": 1
           },
           {
            "bin_start": 30.746169402,
            "bin_end": 32.181474865999995,
            "count": 0
           },
           {
            "bin_start": 32.181474865999995,
            "bin_end": 33.61678033,
            "count": 1
           }
          ]
         }
        },
        {
         "name": "heat_adsorption_CO2_P0.15bar_T298K [kcal/mol]",
         "dtype": "float64",
         "stats": {
          "unique_count": 5,
          "nan_count": 0,
          "min": "6.190085",
          "max": "7.147286",
          "histogram": [
           {
            "bin_start": 6.190085,
            "bin_end": 6.2858051,
            "count": 1
           },
           {
            "bin_start": 6.2858051,
            "bin_end": 6.3815252,
            "count": 1
           },
           {
            "bin_start": 6.3815252,
            "bin_end": 6.4772453,
            "count": 0
           },
           {
            "bin_start": 6.4772453,
            "bin_end": 6.5729654,
            "count": 1
           },
           {
            "bin_start": 6.5729654,
            "bin_end": 6.6686855000000005,
            "count": 0
           },
           {
            "bin_start": 6.6686855000000005,
            "bin_end": 6.7644056,
            "count": 0
           },
           {
            "bin_start": 6.7644056,
            "bin_end": 6.8601257,
            "count": 1
           },
           {
            "bin_start": 6.8601257,
            "bin_end": 6.9558458000000005,
            "count": 0
           },
           {
            "bin_start": 6.9558458000000005,
            "bin_end": 7.0515659,
            "count": 0
           },
           {
            "bin_start": 7.0515659,
            "bin_end": 7.147286,
            "count": 1
           }
          ]
         }
        },
        {
         "name": "CO2_working_capacity [mL/g]",
         "dtype": "float64",
         "stats": {
          "unique_count": 5,
          "nan_count": 0,
          "min": "79.21000065588355",
          "max": "187.62600449626183",
          "histogram": [
           {
            "bin_start": 79.21000065588355,
            "bin_end": 90.05160103992138,
            "count": 1
           },
           {
            "bin_start": 90.05160103992138,
            "bin_end": 100.8932014239592,
            "count": 0
           },
           {
            "bin_start": 100.8932014239592,
            "bin_end": 111.73480180799703,
            "count": 2
           },
           {
            "bin_start": 111.73480180799703,
            "bin_end": 122.57640219203486,
            "count": 1
           },
           {
            "bin_start": 122.57640219203486,
            "bin_end": 133.4180025760727,
            "count": 0
           },
           {
            "bin_start": 133.4180025760727,
            "bin_end": 144.2596029601105,
            "count": 0
           },
           {
            "bin_start": 144.2596029601105,
            "bin_end": 155.10120334414836,
            "count": 0
           },
           {
            "bin_start": 155.10120334414836,
            "bin_end": 165.94280372818616,
            "count": 0
           },
           {
            "bin_start": 165.94280372818616,
            "bin_end": 176.78440411222402,
            "count": 0
           },
           {
            "bin_start": 176.78440411222402,
            "bin_end": 187.62600449626183,
            "count": 1
           }
          ]
         }
        },
        {
         "name": "_deepnote_index_column",
         "dtype": "int64"
        }
       ],
       "rows_top": [
        {
         "MOFname": "mof_unit_1",
         "volume [A^3]": 1116.667429,
         "weight [u]": 875.2406,
         "surface_area [m^2/g]": 0,
         "void_fraction": 0.07899,
         "void_volume [cm^3/g]": 0.0607,
         "functional_groups": "COOH-OEt",
         "metal_linker": 3,
         "organic_linker1": 4,
         "organic_linker2": 11,
         "topology": "pcu",
         "CO2/N2_selectivity": 22.86416611,
         "heat_adsorption_CO2_P0.15bar_T298K [kcal/mol]": 6.786041,
         "CO2_working_capacity [mL/g]": 105.2845017241596,
         "_deepnote_index_column": 0
        },
        {
         "MOFname": "mof_unit_2",
         "volume [A^3]": 2769.503842,
         "weight [u]": 2211.697211,
         "surface_area [m^2/g]": 603.61,
         "void_fraction": 0.13794,
         "void_volume [cm^3/g]": 0.104,
         "functional_groups": "F-OMe",
         "metal_linker": 10,
         "organic_linker1": 44,
         "organic_linker2": 57,
         "topology": "etb",
         "CO2/N2_selectivity": 33.61678033,
         "heat_adsorption_CO2_P0.15bar_T298K [kcal/mol]": 7.147286,
         "CO2_working_capacity [mL/g]": 101.22477417834172,
         "_deepnote_index_column": 1
        },
        {
         "MOFname": "mof_unit_3",
         "volume [A^3]": 1089.818728,
         "weight [u]": 773.68796,
         "surface_area [m^2/g]": 788.5,
         "void_fraction": 0.14874,
         "void_volume [cm^3/g]": 0.1262,
         "functional_groups": "OMe-COOH",
         "metal_linker": 2,
         "organic_linker1": 22,
         "organic_linker2": 24,
         "topology": "pcu",
         "CO2/N2_selectivity": 19.26372569,
         "heat_adsorption_CO2_P0.15bar_T298K [kcal/mol]": 6.347967,
         "CO2_working_capacity [mL/g]": 118.98701074687752,
         "_deepnote_index_column": 2
        },
        {
         "MOFname": "mof_unit_4",
         "volume [A^3]": 2205.1983010000004,
         "weight [u]": 1304.63872,
         "surface_area [m^2/g]": 1441.53,
         "void_fraction": 0.21814,
         "void_volume [cm^3/g]": 0.222,
         "functional_groups": "H-SO3H",
         "metal_linker": 9,
         "organic_linker1": 17,
         "organic_linker2": 24,
         "topology": "sra",
         "CO2/N2_selectivity": 25.70137692,
         "heat_adsorption_CO2_P0.15bar_T298K [kcal/mol]": 6.190085,
         "CO2_working_capacity [mL/g]": 187.62600449626183,
         "_deepnote_index_column": 3
        },
        {
         "MOFname": "mof_unit_5",
         "volume [A^3]": 1137.800963,
         "weight [u]": 901.73612,
         "surface_area [m^2/g]": 0,
         "void_fraction": 0.07778,
         "void_volume [cm^3/g]": 0.0591,
         "functional_groups": "NHMe-OH",
         "metal_linker": 2,
         "organic_linker1": 1,
         "organic_linker2": 22,
         "topology": "pcu",
         "CO2/N2_selectivity": 30.00183795,
         "heat_adsorption_CO2_P0.15bar_T298K [kcal/mol]": 6.478063,
         "CO2_working_capacity [mL/g]": 79.21000065588355,
         "_deepnote_index_column": 4
        }
       ],
       "rows_bottom": null
      },
      "text/plain": "      MOFname  volume [A^3]   weight [u]  surface_area [m^2/g]  void_fraction  \\\n0  mof_unit_1   1116.667429   875.240600                  0.00        0.07899   \n1  mof_unit_2   2769.503842  2211.697211                603.61        0.13794   \n2  mof_unit_3   1089.818728   773.687960                788.50        0.14874   \n3  mof_unit_4   2205.198301  1304.638720               1441.53        0.21814   \n4  mof_unit_5   1137.800963   901.736120                  0.00        0.07778   \n\n   void_volume [cm^3/g] functional_groups  metal_linker  organic_linker1  \\\n0                0.0607          COOH-OEt             3                4   \n1                0.1040             F-OMe            10               44   \n2                0.1262          OMe-COOH             2               22   \n3                0.2220            H-SO3H             9               17   \n4                0.0591           NHMe-OH             2                1   \n\n   organic_linker2 topology  CO2/N2_selectivity  \\\n0               11      pcu         22.86416611   \n1               57      etb         33.61678033   \n2               24      pcu         19.26372569   \n3               24      sra         25.70137692   \n4               22      pcu         30.00183795   \n\n   heat_adsorption_CO2_P0.15bar_T298K [kcal/mol]  CO2_working_capacity [mL/g]  \n0                                       6.786041                 105.28450172  \n1                                       7.147286                 101.22477418  \n2                                       6.347967                 118.98701075  \n3                                       6.190085                 187.62600450  \n4                                       6.478063                  79.21000066  ",
      "text/html": "<div>\n<style scoped>\n    .dataframe tbody tr th:only-of-type {\n        vertical-align: middle;\n    }\n\n    .dataframe tbody tr th {\n        vertical-align: top;\n    }\n\n    .dataframe thead th {\n        text-align: right;\n    }\n</style>\n<table border=\"1\" class=\"dataframe\">\n  <thead>\n    <tr style=\"text-align: right;\">\n      <th></th>\n      <th>MOFname</th>\n      <th>volume [A^3]</th>\n      <th>weight [u]</th>\n      <th>surface_area [m^2/g]</th>\n      <th>void_fraction</th>\n      <th>void_volume [cm^3/g]</th>\n      <th>functional_groups</th>\n      <th>metal_linker</th>\n      <th>organic_linker1</th>\n      <th>organic_linker2</th>\n      <th>topology</th>\n      <th>CO2/N2_selectivity</th>\n      <th>heat_adsorption_CO2_P0.15bar_T298K [kcal/mol]</th>\n      <th>CO2_working_capacity [mL/g]</th>\n    </tr>\n  </thead>\n  <tbody>\n    <tr>\n      <th>0</th>\n      <td>mof_unit_1</td>\n      <td>1116.667429</td>\n      <td>875.240600</td>\n      <td>0.00</td>\n      <td>0.07899</td>\n      <td>0.0607</td>\n      <td>COOH-OEt</td>\n      <td>3</td>\n      <td>4</td>\n      <td>11</td>\n      <td>pcu</td>\n      <td>22.86416611</td>\n      <td>6.786041</td>\n      <td>105.28450172</td>\n    </tr>\n    <tr>\n      <th>1</th>\n      <td>mof_unit_2</td>\n      <td>2769.503842</td>\n      <td>2211.697211</td>\n      <td>603.61</td>\n      <td>0.13794</td>\n      <td>0.1040</td>\n      <td>F-OMe</td>\n      <td>10</td>\n      <td>44</td>\n      <td>57</td>\n      <td>etb</td>\n      <td>33.61678033</td>\n      <td>7.147286</td>\n      <td>101.22477418</td>\n    </tr>\n    <tr>\n      <th>2</th>\n      <td>mof_unit_3</td>\n      <td>1089.818728</td>\n      <td>773.687960</td>\n      <td>788.50</td>\n      <td>0.14874</td>\n      <td>0.1262</td>\n      <td>OMe-COOH</td>\n      <td>2</td>\n      <td>22</td>\n      <td>24</td>\n      <td>pcu</td>\n      <td>19.26372569</td>\n      <td>6.347967</td>\n      <td>118.98701075</td>\n    </tr>\n    <tr>\n      <th>3</th>\n      <td>mof_unit_4</td>\n      <td>2205.198301</td>\n      <td>1304.638720</td>\n      <td>1441.53</td>\n      <td>0.21814</td>\n      <td>0.2220</td>\n      <td>H-SO3H</td>\n      <td>9</td>\n      <td>17</td>\n      <td>24</td>\n      <td>sra</td>\n      <td>25.70137692</td>\n      <td>6.190085</td>\n      <td>187.62600450</td>\n    </tr>\n    <tr>\n      <th>4</th>\n      <td>mof_unit_5</td>\n      <td>1137.800963</td>\n      <td>901.736120</td>\n      <td>0.00</td>\n      <td>0.07778</td>\n      <td>0.0591</td>\n      <td>NHMe-OH</td>\n      <td>2</td>\n      <td>1</td>\n      <td>22</td>\n      <td>pcu</td>\n      <td>30.00183795</td>\n      <td>6.478063</td>\n      <td>79.21000066</td>\n    </tr>\n  </tbody>\n</table>\n</div>"
     },
     "metadata": {}
    }
   ]
  },
  {
   "cell_type": "code",
   "metadata": {
    "tags": [],
    "cell_id": "00009-4fcb660e-7046-4eec-a085-f33325d42425",
    "deepnote_to_be_reexecuted": false,
    "source_hash": "ca6064e6",
    "execution_start": 1633499838151,
    "execution_millis": 67,
    "deepnote_cell_type": "code"
   },
   "source": "# train[(train['topology'] == 'sra') & (train['organic_linker1'] == 2)]\ntrain[(train['topology'] == 'sra') & ((train['organic_linker1'] == 2) | (train['organic_linker2'] == 2))]\n# train[(train['topology'] == 'sra')]",
   "execution_count": null,
   "outputs": [
    {
     "output_type": "execute_result",
     "execution_count": 12,
     "data": {
      "application/vnd.deepnote.dataframe.v2+json": {
       "row_count": 1460,
       "column_count": 14,
       "columns": [
        {
         "name": "MOFname",
         "dtype": "object",
         "stats": {
          "unique_count": 1460,
          "nan_count": 0,
          "categories": [
           {
            "name": "mof_unit_43",
            "count": 1
           },
           {
            "name": "mof_unit_51",
            "count": 1
           },
           {
            "name": "1458 others",
            "count": 1458
           }
          ]
         }
        },
        {
         "name": "volume [A^3]",
         "dtype": "float64",
         "stats": {
          "unique_count": 1460,
          "nan_count": 0,
          "min": "1403.099132",
          "max": "4297.185377000001",
          "histogram": [
           {
            "bin_start": 1403.099132,
            "bin_end": 1692.5077565000001,
            "count": 585
           },
           {
            "bin_start": 1692.5077565000001,
            "bin_end": 1981.916381,
            "count": 231
           },
           {
            "bin_start": 1981.916381,
            "bin_end": 2271.3250055,
            "count": 362
           },
           {
            "bin_start": 2271.3250055,
            "bin_end": 2560.73363,
            "count": 215
           },
           {
            "bin_start": 2560.73363,
            "bin_end": 2850.1422545000005,
            "count": 25
           },
           {
            "bin_start": 2850.1422545000005,
            "bin_end": 3139.5508790000004,
            "count": 3
           },
           {
            "bin_start": 3139.5508790000004,
            "bin_end": 3428.9595035,
            "count": 0
           },
           {
            "bin_start": 3428.9595035,
            "bin_end": 3718.368128,
            "count": 10
           },
           {
            "bin_start": 3718.368128,
            "bin_end": 4007.7767525,
            "count": 4
           },
           {
            "bin_start": 4007.7767525,
            "bin_end": 4297.185377000001,
            "count": 25
           }
          ]
         }
        },
        {
         "name": "weight [u]",
         "dtype": "float64",
         "stats": {
          "unique_count": 1266,
          "nan_count": 0,
          "min": "952.2766",
          "max": "4048.0027",
          "histogram": [
           {
            "bin_start": 952.2766,
            "bin_end": 1261.84921,
            "count": 435
           },
           {
            "bin_start": 1261.84921,
            "bin_end": 1571.42182,
            "count": 595
           },
           {
            "bin_start": 1571.42182,
            "bin_end": 1880.9944300000002,
            "count": 264
           },
           {
            "bin_start": 1880.9944300000002,
            "bin_end": 2190.56704,
            "count": 90
           },
           {
            "bin_start": 2190.56704,
            "bin_end": 2500.13965,
            "count": 36
           },
           {
            "bin_start": 2500.13965,
            "bin_end": 2809.7122600000002,
            "count": 25
           },
           {
            "bin_start": 2809.7122600000002,
            "bin_end": 3119.28487,
            "count": 5
           },
           {
            "bin_start": 3119.28487,
            "bin_end": 3428.85748,
            "count": 1
           },
           {
            "bin_start": 3428.85748,
            "bin_end": 3738.4300900000003,
            "count": 7
           },
           {
            "bin_start": 3738.4300900000003,
            "bin_end": 4048.0027,
            "count": 2
           }
          ]
         }
        },
        {
         "name": "surface_area [m^2/g]",
         "dtype": "float64",
         "stats": {
          "unique_count": 721,
          "nan_count": 0,
          "min": "0.0",
          "max": "3166.04",
          "histogram": [
           {
            "bin_start": 0,
            "bin_end": 316.604,
            "count": 796
           },
           {
            "bin_start": 316.604,
            "bin_end": 633.208,
            "count": 173
           },
           {
            "bin_start": 633.208,
            "bin_end": 949.8119999999999,
            "count": 141
           },
           {
            "bin_start": 949.8119999999999,
            "bin_end": 1266.416,
            "count": 130
           },
           {
            "bin_start": 1266.416,
            "bin_end": 1583.02,
            "count": 89
           },
           {
            "bin_start": 1583.02,
            "bin_end": 1899.6239999999998,
            "count": 70
           },
           {
            "bin_start": 1899.6239999999998,
            "bin_end": 2216.228,
            "count": 34
           },
           {
            "bin_start": 2216.228,
            "bin_end": 2532.832,
            "count": 17
           },
           {
            "bin_start": 2532.832,
            "bin_end": 2849.4359999999997,
            "count": 7
           },
           {
            "bin_start": 2849.4359999999997,
            "bin_end": 3166.04,
            "count": 3
           }
          ]
         }
        },
        {
         "name": "void_fraction",
         "dtype": "float64",
         "stats": {
          "unique_count": 1185,
          "nan_count": 0,
          "min": "0.0",
          "max": "0.45738",
          "histogram": [
           {
            "bin_start": 0,
            "bin_end": 0.045738,
            "count": 303
           },
           {
            "bin_start": 0.045738,
            "bin_end": 0.091476,
            "count": 246
           },
           {
            "bin_start": 0.091476,
            "bin_end": 0.137214,
            "count": 341
           },
           {
            "bin_start": 0.137214,
            "bin_end": 0.182952,
            "count": 273
           },
           {
            "bin_start": 0.182952,
            "bin_end": 0.22869,
            "count": 156
           },
           {
            "bin_start": 0.22869,
            "bin_end": 0.274428,
            "count": 64
           },
           {
            "bin_start": 0.274428,
            "bin_end": 0.320166,
            "count": 47
           },
           {
            "bin_start": 0.320166,
            "bin_end": 0.365904,
            "count": 13
           },
           {
            "bin_start": 0.365904,
            "bin_end": 0.411642,
            "count": 10
           },
           {
            "bin_start": 0.411642,
            "bin_end": 0.45738,
            "count": 7
           }
          ]
         }
        },
        {
         "name": "void_volume [cm^3/g]",
         "dtype": "float64",
         "stats": {
          "unique_count": 951,
          "nan_count": 0,
          "min": "0.0",
          "max": "0.7818",
          "histogram": [
           {
            "bin_start": 0,
            "bin_end": 0.07818,
            "count": 600
           },
           {
            "bin_start": 0.07818,
            "bin_end": 0.15636,
            "count": 496
           },
           {
            "bin_start": 0.15636,
            "bin_end": 0.23454,
            "count": 218
           },
           {
            "bin_start": 0.23454,
            "bin_end": 0.31272,
            "count": 67
           },
           {
            "bin_start": 0.31272,
            "bin_end": 0.3909,
            "count": 44
           },
           {
            "bin_start": 0.3909,
            "bin_end": 0.46908,
            "count": 15
           },
           {
            "bin_start": 0.46908,
            "bin_end": 0.54726,
            "count": 10
           },
           {
            "bin_start": 0.54726,
            "bin_end": 0.62544,
            "count": 5
           },
           {
            "bin_start": 0.62544,
            "bin_end": 0.70362,
            "count": 3
           },
           {
            "bin_start": 0.70362,
            "bin_end": 0.7818,
            "count": 2
           }
          ]
         }
        },
        {
         "name": "functional_groups",
         "dtype": "object",
         "stats": {
          "unique_count": 325,
          "nan_count": 14,
          "categories": [
           {
            "name": "NO2",
            "count": 41
           },
           {
            "name": "324 others",
            "count": 1405
           },
           {
            "name": "Missing",
            "count": 14
           }
          ]
         }
        },
        {
         "name": "metal_linker",
         "dtype": "int64",
         "stats": {
          "unique_count": 1,
          "nan_count": 0,
          "min": "9",
          "max": "9",
          "histogram": [
           {
            "bin_start": 8.5,
            "bin_end": 8.6,
            "count": 0
           },
           {
            "bin_start": 8.6,
            "bin_end": 8.7,
            "count": 0
           },
           {
            "bin_start": 8.7,
            "bin_end": 8.8,
            "count": 0
           },
           {
            "bin_start": 8.8,
            "bin_end": 8.9,
            "count": 0
           },
           {
            "bin_start": 8.9,
            "bin_end": 9,
            "count": 0
           },
           {
            "bin_start": 9,
            "bin_end": 9.1,
            "count": 1460
           },
           {
            "bin_start": 9.1,
            "bin_end": 9.2,
            "count": 0
           },
           {
            "bin_start": 9.2,
            "bin_end": 9.3,
            "count": 0
           },
           {
            "bin_start": 9.3,
            "bin_end": 9.4,
            "count": 0
           },
           {
            "bin_start": 9.4,
            "bin_end": 9.5,
            "count": 0
           }
          ]
         }
        },
        {
         "name": "organic_linker1",
         "dtype": "int64",
         "stats": {
          "unique_count": 7,
          "nan_count": 0,
          "min": "1",
          "max": "13",
          "histogram": [
           {
            "bin_start": 1,
            "bin_end": 2.2,
            "count": 968
           },
           {
            "bin_start": 2.2,
            "bin_end": 3.4,
            "count": 0
           },
           {
            "bin_start": 3.4,
            "bin_end": 4.6,
            "count": 95
           },
           {
            "bin_start": 4.6,
            "bin_end": 5.8,
            "count": 68
           },
           {
            "bin_start": 5.8,
            "bin_end": 7,
            "count": 0
           },
           {
            "bin_start": 7,
            "bin_end": 8.2,
            "count": 0
           },
           {
            "bin_start": 8.2,
            "bin_end": 9.4,
            "count": 0
           },
           {
            "bin_start": 9.4,
            "bin_end": 10.6,
            "count": 0
           },
           {
            "bin_start": 10.6,
            "bin_end": 11.799999999999999,
            "count": 160
           },
           {
            "bin_start": 11.799999999999999,
            "bin_end": 13,
            "count": 169
           }
          ]
         }
        },
        {
         "name": "organic_linker2",
         "dtype": "int64",
         "stats": {
          "unique_count": 17,
          "nan_count": 0,
          "min": "2",
          "max": "27",
          "histogram": [
           {
            "bin_start": 2,
            "bin_end": 4.5,
            "count": 756
           },
           {
            "bin_start": 4.5,
            "bin_end": 7,
            "count": 9
           },
           {
            "bin_start": 7,
            "bin_end": 9.5,
            "count": 5
           },
           {
            "bin_start": 9.5,
            "bin_end": 12,
            "count": 27
           },
           {
            "bin_start": 12,
            "bin_end": 14.5,
            "count": 28
           },
           {
            "bin_start": 14.5,
            "bin_end": 17,
            "count": 56
           },
           {
            "bin_start": 17,
            "bin_end": 19.5,
            "count": 221
           },
           {
            "bin_start": 19.5,
            "bin_end": 22,
            "count": 95
           },
           {
            "bin_start": 22,
            "bin_end": 24.5,
            "count": 182
           },
           {
            "bin_start": 24.5,
            "bin_end": 27,
            "count": 81
           }
          ]
         }
        },
        {
         "name": "topology",
         "dtype": "object",
         "stats": {
          "unique_count": 1,
          "nan_count": 0,
          "categories": [
           {
            "name": "sra",
            "count": 1460
           }
          ]
         }
        },
        {
         "name": "CO2/N2_selectivity",
         "dtype": "float64",
         "stats": {
          "unique_count": 1350,
          "nan_count": 0,
          "min": "0.0",
          "max": "832.0592592999999",
          "histogram": [
           {
            "bin_start": 0,
            "bin_end": 83.20592592999999,
            "count": 1281
           },
           {
            "bin_start": 83.20592592999999,
            "bin_end": 166.41185185999998,
            "count": 162
           },
           {
            "bin_start": 166.41185185999998,
            "bin_end": 249.61777779,
            "count": 12
           },
           {
            "bin_start": 249.61777779,
            "bin_end": 332.82370371999997,
            "count": 4
           },
           {
            "bin_start": 332.82370371999997,
            "bin_end": 416.02962964999995,
            "count": 0
           },
           {
            "bin_start": 416.02962964999995,
            "bin_end": 499.23555558,
            "count": 0
           },
           {
            "bin_start": 499.23555558,
            "bin_end": 582.4414815099999,
            "count": 0
           },
           {
            "bin_start": 582.4414815099999,
            "bin_end": 665.6474074399999,
            "count": 0
           },
           {
            "bin_start": 665.6474074399999,
            "bin_end": 748.85333337,
            "count": 0
           },
           {
            "bin_start": 748.85333337,
            "bin_end": 832.0592592999999,
            "count": 1
           }
          ]
         }
        },
        {
         "name": "heat_adsorption_CO2_P0.15bar_T298K [kcal/mol]",
         "dtype": "float64",
         "stats": {
          "unique_count": 1333,
          "nan_count": 127,
          "min": "3.990747",
          "max": "13.613487",
          "histogram": [
           {
            "bin_start": 3.990747,
            "bin_end": 4.953021,
            "count": 10
           },
           {
            "bin_start": 4.953021,
            "bin_end": 5.915295,
            "count": 145
           },
           {
            "bin_start": 5.915295,
            "bin_end": 6.877569,
            "count": 283
           },
           {
            "bin_start": 6.877569,
            "bin_end": 7.839843,
            "count": 397
           },
           {
            "bin_start": 7.839843,
            "bin_end": 8.802116999999999,
            "count": 236
           },
           {
            "bin_start": 8.802116999999999,
            "bin_end": 9.764391,
            "count": 148
           },
           {
            "bin_start": 9.764391,
            "bin_end": 10.726665,
            "count": 81
           },
           {
            "bin_start": 10.726665,
            "bin_end": 11.688939000000001,
            "count": 28
           },
           {
            "bin_start": 11.688939000000001,
            "bin_end": 12.651213000000002,
            "count": 3
           },
           {
            "bin_start": 12.651213000000002,
            "bin_end": 13.613487,
            "count": 2
           }
          ]
         }
        },
        {
         "name": "CO2_working_capacity [mL/g]",
         "dtype": "float64",
         "stats": {
          "unique_count": 1360,
          "nan_count": 0,
          "min": "-44.28574584746623",
          "max": "546.3896726414334",
          "histogram": [
           {
            "bin_start": -44.28574584746623,
            "bin_end": 14.781796001423743,
            "count": 129
           },
           {
            "bin_start": 14.781796001423743,
            "bin_end": 73.84933785031372,
            "count": 134
           },
           {
            "bin_start": 73.84933785031372,
            "bin_end": 132.91687969920372,
            "count": 251
           },
           {
            "bin_start": 132.91687969920372,
            "bin_end": 191.98442154809368,
            "count": 274
           },
           {
            "bin_start": 191.98442154809368,
            "bin_end": 251.05196339698364,
            "count": 276
           },
           {
            "bin_start": 251.05196339698364,
            "bin_end": 310.11950524587365,
            "count": 209
           },
           {
            "bin_start": 310.11950524587365,
            "bin_end": 369.1870470947636,
            "count": 127
           },
           {
            "bin_start": 369.1870470947636,
            "bin_end": 428.2545889436536,
            "count": 44
           },
           {
            "bin_start": 428.2545889436536,
            "bin_end": 487.32213079254353,
            "count": 12
           },
           {
            "bin_start": 487.32213079254353,
            "bin_end": 546.3896726414334,
            "count": 4
           }
          ]
         }
        },
        {
         "name": "_deepnote_index_column",
         "dtype": "int64"
        }
       ],
       "rows_top": [
        {
         "MOFname": "mof_unit_43",
         "volume [A^3]": 2379.4496870000003,
         "weight [u]": 1423.6104,
         "surface_area [m^2/g]": 1140.4,
         "void_fraction": 0.18193,
         "void_volume [cm^3/g]": 0.1831,
         "functional_groups": "NO2-OH",
         "metal_linker": 9,
         "organic_linker1": 2,
         "organic_linker2": 25,
         "topology": "sra",
         "CO2/N2_selectivity": 42.82049017,
         "heat_adsorption_CO2_P0.15bar_T298K [kcal/mol]": 6.364212,
         "CO2_working_capacity [mL/g]": 295.4252823531823,
         "_deepnote_index_column": 42
        },
        {
         "MOFname": "mof_unit_51",
         "volume [A^3]": 1640.841092,
         "weight [u]": 1192.58024,
         "surface_area [m^2/g]": 0,
         "void_fraction": 0.04781,
         "void_volume [cm^3/g]": 0.0396,
         "functional_groups": "NHMe",
         "metal_linker": 9,
         "organic_linker1": 12,
         "organic_linker2": 2,
         "topology": "sra",
         "CO2/N2_selectivity": 21.35104563,
         "heat_adsorption_CO2_P0.15bar_T298K [kcal/mol]": 10.039954,
         "CO2_working_capacity [mL/g]": 117.52839436844276,
         "_deepnote_index_column": 50
        },
        {
         "MOFname": "mof_unit_69",
         "volume [A^3]": 2258.507588,
         "weight [u]": 1306.67606,
         "surface_area [m^2/g]": 1274.44,
         "void_fraction": 0.20725,
         "void_volume [cm^3/g]": 0.2157,
         "functional_groups": "OMe",
         "metal_linker": 9,
         "organic_linker1": 2,
         "organic_linker2": 2,
         "topology": "sra",
         "CO2/N2_selectivity": 47.82378078,
         "heat_adsorption_CO2_P0.15bar_T298K [kcal/mol]": 6.472639,
         "CO2_working_capacity [mL/g]": 254.7373798701327,
         "_deepnote_index_column": 68
        },
        {
         "MOFname": "mof_unit_79",
         "volume [A^3]": 1912.868035,
         "weight [u]": 1414.688,
         "surface_area [m^2/g]": 0,
         "void_fraction": 0.0752,
         "void_volume [cm^3/g]": 0.0612,
         "functional_groups": "NO2",
         "metal_linker": 9,
         "organic_linker1": 2,
         "organic_linker2": 16,
         "topology": "sra",
         "CO2/N2_selectivity": 169.6082149,
         "heat_adsorption_CO2_P0.15bar_T298K [kcal/mol]": 8.843831,
         "CO2_working_capacity [mL/g]": 320.0348941341982,
         "_deepnote_index_column": 78
        },
        {
         "MOFname": "mof_unit_100",
         "volume [A^3]": 1644.7839720000002,
         "weight [u]": 1148.377213,
         "surface_area [m^2/g]": 709.86,
         "void_fraction": 0.14109,
         "void_volume [cm^3/g]": 0.1217,
         "functional_groups": "F",
         "metal_linker": 9,
         "organic_linker1": 12,
         "organic_linker2": 2,
         "topology": "sra",
         "CO2/N2_selectivity": 27.86329795,
         "heat_adsorption_CO2_P0.15bar_T298K [kcal/mol]": 7.457391,
         "CO2_working_capacity [mL/g]": 178.92481964935175,
         "_deepnote_index_column": 99
        },
        {
         "MOFname": "mof_unit_145",
         "volume [A^3]": 1924.86342,
         "weight [u]": 1560.78944,
         "surface_area [m^2/g]": 0,
         "void_fraction": 0.04697,
         "void_volume [cm^3/g]": 0.0349,
         "functional_groups": "Me-NO2",
         "metal_linker": 9,
         "organic_linker1": 2,
         "organic_linker2": 16,
         "topology": "sra",
         "CO2/N2_selectivity": 29.17878064,
         "heat_adsorption_CO2_P0.15bar_T298K [kcal/mol]": 9.774616,
         "CO2_working_capacity [mL/g]": 214.49865067428567,
         "_deepnote_index_column": 144
        },
        {
         "MOFname": "mof_unit_165",
         "volume [A^3]": 1662.240748,
         "weight [u]": 1110.06872,
         "surface_area [m^2/g]": 1295.31,
         "void_fraction": 0.21628,
         "void_volume [cm^3/g]": 0.195,
         "functional_groups": "Br",
         "metal_linker": 9,
         "organic_linker1": 11,
         "organic_linker2": 2,
         "topology": "sra",
         "CO2/N2_selectivity": 30.94774563,
         "heat_adsorption_CO2_P0.15bar_T298K [kcal/mol]": 5.824689,
         "CO2_working_capacity [mL/g]": 173.33301666122364,
         "_deepnote_index_column": 164
        },
        {
         "MOFname": "mof_unit_198",
         "volume [A^3]": 3721.590901,
         "weight [u]": 1917.15568,
         "surface_area [m^2/g]": 1892.42,
         "void_fraction": 0.34178,
         "void_volume [cm^3/g]": 0.3995,
         "functional_groups": "SO3H",
         "metal_linker": 9,
         "organic_linker1": 2,
         "organic_linker2": 7,
         "topology": "sra",
         "CO2/N2_selectivity": 17.40150488,
         "heat_adsorption_CO2_P0.15bar_T298K [kcal/mol]": 5.280096,
         "CO2_working_capacity [mL/g]": 59.18621537927213,
         "_deepnote_index_column": 197
        },
        {
         "MOFname": "mof_unit_204",
         "volume [A^3]": 1627.04399,
         "weight [u]": 1590.93388,
         "surface_area [m^2/g]": 0,
         "void_fraction": 0.08669,
         "void_volume [cm^3/g]": 0.0534,
         "functional_groups": "Br-I",
         "metal_linker": 9,
         "organic_linker1": 4,
         "organic_linker2": 2,
         "topology": "sra",
         "CO2/N2_selectivity": 59.42163339,
         "heat_adsorption_CO2_P0.15bar_T298K [kcal/mol]": 7.887867999999999,
         "CO2_working_capacity [mL/g]": 102.0889499073035,
         "_deepnote_index_column": 203
        },
        {
         "MOFname": "mof_unit_269",
         "volume [A^3]": 2278.399164,
         "weight [u]": 1350.746863,
         "surface_area [m^2/g]": 1116.8,
         "void_fraction": 0.1882599999999999,
         "void_volume [cm^3/g]": 0.1912,
         "functional_groups": "Et-F",
         "metal_linker": 9,
         "organic_linker1": 2,
         "organic_linker2": 2,
         "topology": "sra",
         "CO2/N2_selectivity": 31.29418154,
         "heat_adsorption_CO2_P0.15bar_T298K [kcal/mol]": 5.841583,
         "CO2_working_capacity [mL/g]": 165.53050854181458,
         "_deepnote_index_column": 268
        },
        {
         "MOFname": "mof_unit_294",
         "volume [A^3]": 1625.39381,
         "weight [u]": 1165.440663,
         "surface_area [m^2/g]": 0,
         "void_fraction": 0.13126,
         "void_volume [cm^3/g]": 0.1102,
         "functional_groups": "NO2-F",
         "metal_linker": 9,
         "organic_linker1": 4,
         "organic_linker2": 2,
         "topology": "sra",
         "CO2/N2_selectivity": 89.20790435,
         "heat_adsorption_CO2_P0.15bar_T298K [kcal/mol]": 7.632352,
         "CO2_working_capacity [mL/g]": 301.69670548956924,
         "_deepnote_index_column": 293
        },
        {
         "MOFname": "mof_unit_418",
         "volume [A^3]": 1663.479372,
         "weight [u]": 1066.33618,
         "surface_area [m^2/g]": 1248.47,
         "void_fraction": 0.1795,
         "void_volume [cm^3/g]": 0.1686,
         "functional_groups": "HCO-NH2",
         "metal_linker": 9,
         "organic_linker1": 11,
         "organic_linker2": 2,
         "topology": "sra",
         "CO2/N2_selectivity": 32.86903805,
         "heat_adsorption_CO2_P0.15bar_T298K [kcal/mol]": 7.224562,
         "CO2_working_capacity [mL/g]": 236.32474170234016,
         "_deepnote_index_column": 417
        },
        {
         "MOFname": "mof_unit_429",
         "volume [A^3]": 2383.003681,
         "weight [u]": 1502.62771,
         "surface_area [m^2/g]": 1108.99,
         "void_fraction": 0.17809,
         "void_volume [cm^3/g]": 0.1701,
         "functional_groups": "COOH-F",
         "metal_linker": 9,
         "organic_linker1": 2,
         "organic_linker2": 25,
         "topology": "sra",
         "CO2/N2_selectivity": 40.42838044,
         "heat_adsorption_CO2_P0.15bar_T298K [kcal/mol]": 6.689587,
         "CO2_working_capacity [mL/g]": 220.1695253289224,
         "_deepnote_index_column": 428
        },
        {
         "MOFname": "mof_unit_452",
         "volume [A^3]": 2256.29174,
         "weight [u]": 1390.83884,
         "surface_area [m^2/g]": 838.48,
         "void_fraction": 0.1511,
         "void_volume [cm^3/g]": 0.1476,
         "functional_groups": "Et-NH2",
         "metal_linker": 9,
         "organic_linker1": 2,
         "organic_linker2": 2,
         "topology": "sra",
         "CO2/N2_selectivity": 37.95317371,
         "heat_adsorption_CO2_P0.15bar_T298K [kcal/mol]": 6.988355,
         "CO2_working_capacity [mL/g]": 265.7403921028389,
         "_deepnote_index_column": 451
        },
        {
         "MOFname": "mof_unit_466",
         "volume [A^3]": 2381.06715,
         "weight [u]": 1536.6753199999998,
         "surface_area [m^2/g]": 345.96,
         "void_fraction": 0.13677,
         "void_volume [cm^3/g]": 0.1276,
         "functional_groups": "H-COOH",
         "metal_linker": 9,
         "organic_linker1": 2,
         "organic_linker2": 25,
         "topology": "sra",
         "CO2/N2_selectivity": 43.7908491,
         "heat_adsorption_CO2_P0.15bar_T298K [kcal/mol]": 6.059692,
         "CO2_working_capacity [mL/g]": 135.29442769758333,
         "_deepnote_index_column": 465
        },
        {
         "MOFname": "mof_unit_564",
         "volume [A^3]": 2241.180895,
         "weight [u]": 1416.78824,
         "surface_area [m^2/g]": 479.79,
         "void_fraction": 0.14689,
         "void_volume [cm^3/g]": 0.1399,
         "functional_groups": "OEt",
         "metal_linker": 9,
         "organic_linker1": 2,
         "organic_linker2": 17,
         "topology": "sra",
         "CO2/N2_selectivity": 44.95467689,
         "heat_adsorption_CO2_P0.15bar_T298K [kcal/mol]": 7.234994,
         "CO2_working_capacity [mL/g]": 309.9809069761436,
         "_deepnote_index_column": 563
        },
        {
         "MOFname": "mof_unit_583",
         "volume [A^3]": 1616.353781,
         "weight [u]": 1482.698106,
         "surface_area [m^2/g]": 0,
         "void_fraction": 0,
         "void_volume [cm^3/g]": 0,
         "functional_groups": "NH2-F",
         "metal_linker": 9,
         "organic_linker1": 2,
         "organic_linker2": 22,
         "topology": "sra",
         "CO2/N2_selectivity": 16.19384388,
         "heat_adsorption_CO2_P0.15bar_T298K [kcal/mol]": 9.762628,
         "CO2_working_capacity [mL/g]": 103.84420884255668,
         "_deepnote_index_column": 582
        },
        {
         "MOFname": "mof_unit_588",
         "volume [A^3]": 1600.724741,
         "weight [u]": 1388.6874,
         "surface_area [m^2/g]": 0,
         "void_fraction": 0,
         "void_volume [cm^3/g]": 0,
         "functional_groups": "OH-OPr",
         "metal_linker": 9,
         "organic_linker1": 2,
         "organic_linker2": 24,
         "topology": "sra",
         "CO2/N2_selectivity": 24.21590051,
         "heat_adsorption_CO2_P0.15bar_T298K [kcal/mol]": 10.530262,
         "CO2_working_capacity [mL/g]": 62.39695423854742,
         "_deepnote_index_column": 587
        },
        {
         "MOFname": "mof_unit_606",
         "volume [A^3]": 2170.147597,
         "weight [u]": 1146.42062,
         "surface_area [m^2/g]": 2176.35,
         "void_fraction": 0.26946,
         "void_volume [cm^3/g]": 0.3072,
         "functional_groups": "H-OMe",
         "metal_linker": 9,
         "organic_linker1": 2,
         "organic_linker2": 20,
         "topology": "sra",
         "CO2/N2_selectivity": 28.30127548,
         "heat_adsorption_CO2_P0.15bar_T298K [kcal/mol]": 5.742082,
         "CO2_working_capacity [mL/g]": 153.90416726372936,
         "_deepnote_index_column": 605
        },
        {
         "MOFname": "mof_unit_632",
         "volume [A^3]": 1652.819244,
         "weight [u]": 1320.4032,
         "surface_area [m^2/g]": 0,
         "void_fraction": 0.0805299999999999,
         "void_volume [cm^3/g]": 0.0607,
         "functional_groups": "OH-NO2",
         "metal_linker": 9,
         "organic_linker1": 12,
         "organic_linker2": 2,
         "topology": "sra",
         "CO2/N2_selectivity": 48.6532073,
         "heat_adsorption_CO2_P0.15bar_T298K [kcal/mol]": 8.391753999999999,
         "CO2_working_capacity [mL/g]": 262.821673657037,
         "_deepnote_index_column": 631
        },
        {
         "MOFname": "mof_unit_651",
         "volume [A^3]": 2257.705705,
         "weight [u]": 1615.5668,
         "surface_area [m^2/g]": 699.34,
         "void_fraction": 0.14475,
         "void_volume [cm^3/g]": 0.1218,
         "functional_groups": "NHMe-I",
         "metal_linker": 9,
         "organic_linker1": 2,
         "organic_linker2": 2,
         "topology": "sra",
         "CO2/N2_selectivity": 35.73074176,
         "heat_adsorption_CO2_P0.15bar_T298K [kcal/mol]": 5.965307,
         "CO2_working_capacity [mL/g]": 159.81110138205574,
         "_deepnote_index_column": 650
        },
        {
         "MOFname": "mof_unit_692",
         "volume [A^3]": 1592.078807,
         "weight [u]": 1212.513646,
         "surface_area [m^2/g]": 0,
         "void_fraction": 0.0676399999999999,
         "void_volume [cm^3/g]": 0.0535,
         "functional_groups": "H-F",
         "metal_linker": 9,
         "organic_linker1": 2,
         "organic_linker2": 24,
         "topology": "sra",
         "CO2/N2_selectivity": 29.19155505,
         "heat_adsorption_CO2_P0.15bar_T298K [kcal/mol]": 6.9651570000000005,
         "CO2_working_capacity [mL/g]": 256.09959154451525,
         "_deepnote_index_column": 691
        },
        {
         "MOFname": "mof_unit_713",
         "volume [A^3]": 2383.283609,
         "weight [u]": 1501.6607800000002,
         "surface_area [m^2/g]": 1136.49,
         "void_fraction": 0.16682,
         "void_volume [cm^3/g]": 0.1594,
         "functional_groups": "NH2-Br",
         "metal_linker": 9,
         "organic_linker1": 2,
         "organic_linker2": 25,
         "topology": "sra",
         "CO2/N2_selectivity": 63.96729184,
         "heat_adsorption_CO2_P0.15bar_T298K [kcal/mol]": 7.536882,
         "CO2_working_capacity [mL/g]": 411.8098613202925,
         "_deepnote_index_column": 712
        },
        {
         "MOFname": "mof_unit_734",
         "volume [A^3]": 2159.661044,
         "weight [u]": 1537.02288,
         "surface_area [m^2/g]": 0,
         "void_fraction": 0,
         "void_volume [cm^3/g]": 0,
         "functional_groups": "Et",
         "metal_linker": 9,
         "organic_linker1": 2,
         "organic_linker2": 18,
         "topology": "sra",
         "CO2/N2_selectivity": 162.24424019999998,
         "heat_adsorption_CO2_P0.15bar_T298K [kcal/mol]": 10.703965,
         "CO2_working_capacity [mL/g]": 364.4101114706993,
         "_deepnote_index_column": 733
        },
        {
         "MOFname": "mof_unit_751",
         "volume [A^3]": 1971.212831,
         "weight [u]": 2080.07206,
         "surface_area [m^2/g]": 0,
         "void_fraction": 0.06052,
         "void_volume [cm^3/g]": 0.0345,
         "functional_groups": "I",
         "metal_linker": 9,
         "organic_linker1": 2,
         "organic_linker2": 16,
         "topology": "sra",
         "CO2/N2_selectivity": 31.48972503,
         "heat_adsorption_CO2_P0.15bar_T298K [kcal/mol]": 8.607657000000001,
         "CO2_working_capacity [mL/g]": 121.03032825845128,
         "_deepnote_index_column": 750
        },
        {
         "MOFname": "mof_unit_761",
         "volume [A^3]": 1947.077231,
         "weight [u]": 1461.2637,
         "surface_area [m^2/g]": 0,
         "void_fraction": 0.12252,
         "void_volume [cm^3/g]": 0.0983,
         "functional_groups": "Br",
         "metal_linker": 9,
         "organic_linker1": 13,
         "organic_linker2": 2,
         "topology": "sra",
         "CO2/N2_selectivity": 94.39214051,
         "heat_adsorption_CO2_P0.15bar_T298K [kcal/mol]": 7.355001,
         "CO2_working_capacity [mL/g]": 301.5246957265171,
         "_deepnote_index_column": 760
        },
        {
         "MOFname": "mof_unit_829",
         "volume [A^3]": 1623.321688,
         "weight [u]": 1147.4502,
         "surface_area [m^2/g]": 0,
         "void_fraction": 0.12616,
         "void_volume [cm^3/g]": 0.1075,
         "functional_groups": "NO2",
         "metal_linker": 9,
         "organic_linker1": 4,
         "organic_linker2": 2,
         "topology": "sra",
         "CO2/N2_selectivity": 41.12837384,
         "heat_adsorption_CO2_P0.15bar_T298K [kcal/mol]": 7.882332000000001,
         "CO2_working_capacity [mL/g]": 265.93617288880813,
         "_deepnote_index_column": 828
        },
        {
         "MOFname": "mof_unit_877",
         "volume [A^3]": 2174.069249,
         "weight [u]": 1514.3752,
         "surface_area [m^2/g]": 733.78,
         "void_fraction": 0.1530099999999999,
         "void_volume [cm^3/g]": 0.1323,
         "functional_groups": "OH-NO2",
         "metal_linker": 9,
         "organic_linker1": 2,
         "organic_linker2": 20,
         "topology": "sra",
         "CO2/N2_selectivity": 39.02854329,
         "heat_adsorption_CO2_P0.15bar_T298K [kcal/mol]": 7.299987,
         "CO2_working_capacity [mL/g]": 136.91547939928424,
         "_deepnote_index_column": 876
        },
        {
         "MOFname": "mof_unit_882",
         "volume [A^3]": 2249.425734,
         "weight [u]": 1518.708196,
         "surface_area [m^2/g]": 898.28,
         "void_fraction": 0.1537,
         "void_volume [cm^3/g]": 0.1371,
         "functional_groups": "F-HCO",
         "metal_linker": 9,
         "organic_linker1": 2,
         "organic_linker2": 17,
         "topology": "sra",
         "CO2/N2_selectivity": 91.26864574,
         "heat_adsorption_CO2_P0.15bar_T298K [kcal/mol]": 7.427074,
         "CO2_working_capacity [mL/g]": 282.0091811413046,
         "_deepnote_index_column": 881
        },
        {
         "MOFname": "mof_unit_913",
         "volume [A^3]": 1643.736753,
         "weight [u]": 1334.29952,
         "surface_area [m^2/g]": 0,
         "void_fraction": 0.0560299999999999,
         "void_volume [cm^3/g]": 0.0416,
         "functional_groups": "OMe-Cl",
         "metal_linker": 9,
         "organic_linker1": 12,
         "organic_linker2": 2,
         "topology": "sra",
         "CO2/N2_selectivity": 11.4421493,
         "heat_adsorption_CO2_P0.15bar_T298K [kcal/mol]": 7.079155,
         "CO2_working_capacity [mL/g]": 88.63323032389746,
         "_deepnote_index_column": 912
        },
        {
         "MOFname": "mof_unit_988",
         "volume [A^3]": 1619.668393,
         "weight [u]": 1201.37204,
         "surface_area [m^2/g]": 0,
         "void_fraction": 0.0970299999999999,
         "void_volume [cm^3/g]": 0.0788,
         "functional_groups": "NH2-Cl",
         "metal_linker": 9,
         "organic_linker1": 4,
         "organic_linker2": 2,
         "topology": "sra",
         "CO2/N2_selectivity": 50.28724679,
         "heat_adsorption_CO2_P0.15bar_T298K [kcal/mol]": 7.450353,
         "CO2_working_capacity [mL/g]": 264.0140215634918,
         "_deepnote_index_column": 987
        },
        {
         "MOFname": "mof_unit_1033",
         "volume [A^3]": 2257.849994,
         "weight [u]": 1436.64408,
         "surface_area [m^2/g]": 969.32,
         "void_fraction": 0.16987,
         "void_volume [cm^3/g]": 0.1608,
         "functional_groups": "OH-H",
         "metal_linker": 9,
         "organic_linker1": 2,
         "organic_linker2": 2,
         "topology": "sra",
         "CO2/N2_selectivity": 71.77916763,
         "heat_adsorption_CO2_P0.15bar_T298K [kcal/mol]": 7.074522,
         "CO2_working_capacity [mL/g]": 373.86057876913895,
         "_deepnote_index_column": 1032
        },
        {
         "MOFname": "mof_unit_1046",
         "volume [A^3]": 2381.7132420000003,
         "weight [u]": 1572.0242,
         "surface_area [m^2/g]": 728.84,
         "void_fraction": 0.15188,
         "void_volume [cm^3/g]": 0.1386,
         "functional_groups": "Cl-HCO",
         "metal_linker": 9,
         "organic_linker1": 2,
         "organic_linker2": 25,
         "topology": "sra",
         "CO2/N2_selectivity": 38.79437103,
         "heat_adsorption_CO2_P0.15bar_T298K [kcal/mol]": 7.279632,
         "CO2_working_capacity [mL/g]": 196.9165126196557,
         "_deepnote_index_column": 1045
        },
        {
         "MOFname": "mof_unit_1079",
         "volume [A^3]": 2390.1834940000003,
         "weight [u]": 2687.1687,
         "surface_area [m^2/g]": 0,
         "void_fraction": 0.07142,
         "void_volume [cm^3/g]": 0.0383,
         "functional_groups": "Cl-Br",
         "metal_linker": 9,
         "organic_linker1": 2,
         "organic_linker2": 25,
         "topology": "sra",
         "CO2/N2_selectivity": 49.42545928,
         "heat_adsorption_CO2_P0.15bar_T298K [kcal/mol]": 9.166142,
         "CO2_working_capacity [mL/g]": 100.35993814318786,
         "_deepnote_index_column": 1078
        },
        {
         "MOFname": "mof_unit_1150",
         "volume [A^3]": 2819.297225,
         "weight [u]": 1624.6943199999998,
         "surface_area [m^2/g]": 1436.7,
         "void_fraction": 0.24222,
         "void_volume [cm^3/g]": 0.2531,
         "functional_groups": "HCO",
         "metal_linker": 9,
         "organic_linker1": 2,
         "organic_linker2": 13,
         "topology": "sra",
         "CO2/N2_selectivity": 26.31928605,
         "heat_adsorption_CO2_P0.15bar_T298K [kcal/mol]": 5.938031,
         "CO2_working_capacity [mL/g]": 99.79603665510125,
         "_deepnote_index_column": 1149
        }
       ],
       "rows_bottom": [
        {
         "MOFname": "mof_unit_68207",
         "volume [A^3]": 1699.624467,
         "weight [u]": 1926.76812,
         "surface_area [m^2/g]": 0,
         "void_fraction": 0,
         "void_volume [cm^3/g]": 0,
         "functional_groups": "OMe-NO2",
         "metal_linker": 9,
         "organic_linker1": 2,
         "organic_linker2": 24,
         "topology": "sra",
         "CO2/N2_selectivity": 0,
         "heat_adsorption_CO2_P0.15bar_T298K [kcal/mol]": "nan",
         "CO2_working_capacity [mL/g]": 0,
         "_deepnote_index_column": 68206
        },
        {
         "MOFname": "mof_unit_68208",
         "volume [A^3]": 1716.864016,
         "weight [u]": 4043.62898,
         "surface_area [m^2/g]": 0,
         "void_fraction": 0,
         "void_volume [cm^3/g]": 0,
         "functional_groups": "I-Br",
         "metal_linker": 9,
         "organic_linker1": 2,
         "organic_linker2": 24,
         "topology": "sra",
         "CO2/N2_selectivity": 0,
         "heat_adsorption_CO2_P0.15bar_T298K [kcal/mol]": "nan",
         "CO2_working_capacity [mL/g]": 0,
         "_deepnote_index_column": 68207
        },
        {
         "MOFname": "mof_unit_68209",
         "volume [A^3]": 1618.779725,
         "weight [u]": 1466.94492,
         "surface_area [m^2/g]": 0,
         "void_fraction": 0,
         "void_volume [cm^3/g]": 0,
         "functional_groups": "H-NHMe",
         "metal_linker": 9,
         "organic_linker1": 2,
         "organic_linker2": 24,
         "topology": "sra",
         "CO2/N2_selectivity": 0,
         "heat_adsorption_CO2_P0.15bar_T298K [kcal/mol]": "nan",
         "CO2_working_capacity [mL/g]": 0,
         "_deepnote_index_column": 68208
        },
        {
         "MOFname": "mof_unit_68210",
         "volume [A^3]": 1699.2485739999995,
         "weight [u]": 1930.44068,
         "surface_area [m^2/g]": 0,
         "void_fraction": 0.005,
         "void_volume [cm^3/g]": 0,
         "functional_groups": "Br-Et",
         "metal_linker": 9,
         "organic_linker1": 2,
         "organic_linker2": 24,
         "topology": "sra",
         "CO2/N2_selectivity": 0,
         "heat_adsorption_CO2_P0.15bar_T298K [kcal/mol]": "nan",
         "CO2_working_capacity [mL/g]": 0,
         "_deepnote_index_column": 68209
        },
        {
         "MOFname": "mof_unit_68211",
         "volume [A^3]": 1619.404121,
         "weight [u]": 1624.95268,
         "surface_area [m^2/g]": 0,
         "void_fraction": 0,
         "void_volume [cm^3/g]": 0,
         "functional_groups": "Et-HCO",
         "metal_linker": 9,
         "organic_linker1": 2,
         "organic_linker2": 24,
         "topology": "sra",
         "CO2/N2_selectivity": 0,
         "heat_adsorption_CO2_P0.15bar_T298K [kcal/mol]": "nan",
         "CO2_working_capacity [mL/g]": 0,
         "_deepnote_index_column": 68210
        },
        {
         "MOFname": "mof_unit_68212",
         "volume [A^3]": 1618.911277,
         "weight [u]": 1868.96852,
         "surface_area [m^2/g]": 0,
         "void_fraction": 0,
         "void_volume [cm^3/g]": 0,
         "functional_groups": "Cl-NH2",
         "metal_linker": 9,
         "organic_linker1": 2,
         "organic_linker2": 24,
         "topology": "sra",
         "CO2/N2_selectivity": 0,
         "heat_adsorption_CO2_P0.15bar_T298K [kcal/mol]": "nan",
         "CO2_working_capacity [mL/g]": 0,
         "_deepnote_index_column": 68211
        },
        {
         "MOFname": "mof_unit_68214",
         "volume [A^3]": 1633.593563,
         "weight [u]": 1470.65568,
         "surface_area [m^2/g]": 0,
         "void_fraction": 0,
         "void_volume [cm^3/g]": 0,
         "functional_groups": "OH-OMe",
         "metal_linker": 9,
         "organic_linker1": 4,
         "organic_linker2": 2,
         "topology": "sra",
         "CO2/N2_selectivity": 3.005649718,
         "heat_adsorption_CO2_P0.15bar_T298K [kcal/mol]": "nan",
         "CO2_working_capacity [mL/g]": 0,
         "_deepnote_index_column": 68213
        },
        {
         "MOFname": "mof_unit_68227",
         "volume [A^3]": 1429.778458,
         "weight [u]": 1380.6208,
         "surface_area [m^2/g]": 0,
         "void_fraction": 0,
         "void_volume [cm^3/g]": 0,
         "functional_groups": "OPr-OH",
         "metal_linker": 9,
         "organic_linker1": 5,
         "organic_linker2": 2,
         "topology": "sra",
         "CO2/N2_selectivity": 0,
         "heat_adsorption_CO2_P0.15bar_T298K [kcal/mol]": "nan",
         "CO2_working_capacity [mL/g]": 0,
         "_deepnote_index_column": 68226
        },
        {
         "MOFname": "mof_unit_68228",
         "volume [A^3]": 1526.239949,
         "weight [u]": 1545.01392,
         "surface_area [m^2/g]": 0,
         "void_fraction": 0,
         "void_volume [cm^3/g]": 0,
         "functional_groups": "OEt-NHMe",
         "metal_linker": 9,
         "organic_linker1": 5,
         "organic_linker2": 2,
         "topology": "sra",
         "CO2/N2_selectivity": 0,
         "heat_adsorption_CO2_P0.15bar_T298K [kcal/mol]": "nan",
         "CO2_working_capacity [mL/g]": 0,
         "_deepnote_index_column": 68227
        },
        {
         "MOFname": "mof_unit_68229",
         "volume [A^3]": 1511.181663,
         "weight [u]": 1420.94456,
         "surface_area [m^2/g]": 0,
         "void_fraction": 0,
         "void_volume [cm^3/g]": 0,
         "functional_groups": "Et-OH",
         "metal_linker": 9,
         "organic_linker1": 5,
         "organic_linker2": 2,
         "topology": "sra",
         "CO2/N2_selectivity": 0,
         "heat_adsorption_CO2_P0.15bar_T298K [kcal/mol]": "nan",
         "CO2_working_capacity [mL/g]": 0,
         "_deepnote_index_column": 68228
        },
        {
         "MOFname": "mof_unit_68230",
         "volume [A^3]": 1437.270783,
         "weight [u]": 1660.81464,
         "surface_area [m^2/g]": 0,
         "void_fraction": 0,
         "void_volume [cm^3/g]": 0,
         "functional_groups": "SO3H",
         "metal_linker": 9,
         "organic_linker1": 5,
         "organic_linker2": 2,
         "topology": "sra",
         "CO2/N2_selectivity": 0,
         "heat_adsorption_CO2_P0.15bar_T298K [kcal/mol]": "nan",
         "CO2_working_capacity [mL/g]": 0,
         "_deepnote_index_column": 68229
        },
        {
         "MOFname": "mof_unit_68231",
         "volume [A^3]": 1517.771814,
         "weight [u]": 1545.00072,
         "surface_area [m^2/g]": 0,
         "void_fraction": 0,
         "void_volume [cm^3/g]": 0,
         "functional_groups": "NH2-OPr",
         "metal_linker": 9,
         "organic_linker1": 5,
         "organic_linker2": 2,
         "topology": "sra",
         "CO2/N2_selectivity": 0,
         "heat_adsorption_CO2_P0.15bar_T298K [kcal/mol]": "nan",
         "CO2_working_capacity [mL/g]": 0,
         "_deepnote_index_column": 68230
        },
        {
         "MOFname": "mof_unit_68232",
         "volume [A^3]": 1403.099132,
         "weight [u]": 1412.7088,
         "surface_area [m^2/g]": 0,
         "void_fraction": 0,
         "void_volume [cm^3/g]": 0,
         "functional_groups": "HCO-Pr",
         "metal_linker": 9,
         "organic_linker1": 5,
         "organic_linker2": 2,
         "topology": "sra",
         "CO2/N2_selectivity": 0,
         "heat_adsorption_CO2_P0.15bar_T298K [kcal/mol]": "nan",
         "CO2_working_capacity [mL/g]": 0,
         "_deepnote_index_column": 68231
        },
        {
         "MOFname": "mof_unit_68233",
         "volume [A^3]": 1464.191652,
         "weight [u]": 1936.37512,
         "surface_area [m^2/g]": 0,
         "void_fraction": 0,
         "void_volume [cm^3/g]": 0,
         "functional_groups": "SO3H-Cl",
         "metal_linker": 9,
         "organic_linker1": 5,
         "organic_linker2": 2,
         "topology": "sra",
         "CO2/N2_selectivity": 0,
         "heat_adsorption_CO2_P0.15bar_T298K [kcal/mol]": "nan",
         "CO2_working_capacity [mL/g]": 0,
         "_deepnote_index_column": 68232
        },
        {
         "MOFname": "mof_unit_68234",
         "volume [A^3]": 1412.169826,
         "weight [u]": 1244.73432,
         "surface_area [m^2/g]": 0,
         "void_fraction": 0,
         "void_volume [cm^3/g]": 0,
         "functional_groups": "Et-Me",
         "metal_linker": 9,
         "organic_linker1": 5,
         "organic_linker2": 2,
         "topology": "sra",
         "CO2/N2_selectivity": 0,
         "heat_adsorption_CO2_P0.15bar_T298K [kcal/mol]": "nan",
         "CO2_working_capacity [mL/g]": 0,
         "_deepnote_index_column": 68233
        },
        {
         "MOFname": "mof_unit_68235",
         "volume [A^3]": 1491.128614,
         "weight [u]": 1604.7148,
         "surface_area [m^2/g]": 0,
         "void_fraction": 0,
         "void_volume [cm^3/g]": 0,
         "functional_groups": "COOH-NHMe",
         "metal_linker": 9,
         "organic_linker1": 5,
         "organic_linker2": 2,
         "topology": "sra",
         "CO2/N2_selectivity": 0,
         "heat_adsorption_CO2_P0.15bar_T298K [kcal/mol]": "nan",
         "CO2_working_capacity [mL/g]": 0,
         "_deepnote_index_column": 68234
        },
        {
         "MOFname": "mof_unit_68236",
         "volume [A^3]": 1493.361323,
         "weight [u]": 1604.7148,
         "surface_area [m^2/g]": 0,
         "void_fraction": 0,
         "void_volume [cm^3/g]": 0,
         "functional_groups": "NHMe-COOH",
         "metal_linker": 9,
         "organic_linker1": 5,
         "organic_linker2": 2,
         "topology": "sra",
         "CO2/N2_selectivity": 0,
         "heat_adsorption_CO2_P0.15bar_T298K [kcal/mol]": "nan",
         "CO2_working_capacity [mL/g]": 0,
         "_deepnote_index_column": 68235
        },
        {
         "MOFname": "mof_unit_68237",
         "volume [A^3]": 1455.027429,
         "weight [u]": 1488.8944,
         "surface_area [m^2/g]": 0,
         "void_fraction": 0,
         "void_volume [cm^3/g]": 0,
         "functional_groups": "OEt-NHMe",
         "metal_linker": 9,
         "organic_linker1": 5,
         "organic_linker2": 2,
         "topology": "sra",
         "CO2/N2_selectivity": 0,
         "heat_adsorption_CO2_P0.15bar_T298K [kcal/mol]": "nan",
         "CO2_working_capacity [mL/g]": 0,
         "_deepnote_index_column": 68236
        },
        {
         "MOFname": "mof_unit_68238",
         "volume [A^3]": 1438.118253,
         "weight [u]": 1312.68416,
         "surface_area [m^2/g]": 0,
         "void_fraction": 0,
         "void_volume [cm^3/g]": 0,
         "functional_groups": "NHMe-OEt",
         "metal_linker": 9,
         "organic_linker1": 5,
         "organic_linker2": 2,
         "topology": "sra",
         "CO2/N2_selectivity": 0,
         "heat_adsorption_CO2_P0.15bar_T298K [kcal/mol]": "nan",
         "CO2_working_capacity [mL/g]": 0,
         "_deepnote_index_column": 68237
        },
        {
         "MOFname": "mof_unit_68239",
         "volume [A^3]": 1415.29907,
         "weight [u]": 1256.59104,
         "surface_area [m^2/g]": 0,
         "void_fraction": 0,
         "void_volume [cm^3/g]": 0,
         "functional_groups": "NH2-NHMe",
         "metal_linker": 9,
         "organic_linker1": 5,
         "organic_linker2": 2,
         "topology": "sra",
         "CO2/N2_selectivity": 0,
         "heat_adsorption_CO2_P0.15bar_T298K [kcal/mol]": "nan",
         "CO2_working_capacity [mL/g]": 0,
         "_deepnote_index_column": 68238
        },
        {
         "MOFname": "mof_unit_68240",
         "volume [A^3]": 1455.63257,
         "weight [u]": 1364.85144,
         "surface_area [m^2/g]": 0,
         "void_fraction": 0,
         "void_volume [cm^3/g]": 0,
         "functional_groups": "Me-NHMe",
         "metal_linker": 9,
         "organic_linker1": 5,
         "organic_linker2": 2,
         "topology": "sra",
         "CO2/N2_selectivity": 0,
         "heat_adsorption_CO2_P0.15bar_T298K [kcal/mol]": "nan",
         "CO2_working_capacity [mL/g]": 0,
         "_deepnote_index_column": 68239
        },
        {
         "MOFname": "mof_unit_68275",
         "volume [A^3]": 1663.11091,
         "weight [u]": 1844.91616,
         "surface_area [m^2/g]": 0,
         "void_fraction": 0,
         "void_volume [cm^3/g]": 0,
         "functional_groups": "OH-SO3H",
         "metal_linker": 9,
         "organic_linker1": 12,
         "organic_linker2": 2,
         "topology": "sra",
         "CO2/N2_selectivity": 0,
         "heat_adsorption_CO2_P0.15bar_T298K [kcal/mol]": "nan",
         "CO2_working_capacity [mL/g]": 0,
         "_deepnote_index_column": 68274
        },
        {
         "MOFname": "mof_unit_68278",
         "volume [A^3]": 1650.443258,
         "weight [u]": 1434.88964,
         "surface_area [m^2/g]": 0,
         "void_fraction": 0,
         "void_volume [cm^3/g]": 0,
         "functional_groups": "Ph-Et",
         "metal_linker": 9,
         "organic_linker1": 4,
         "organic_linker2": 2,
         "topology": "sra",
         "CO2/N2_selectivity": 0,
         "heat_adsorption_CO2_P0.15bar_T298K [kcal/mol]": "nan",
         "CO2_working_capacity [mL/g]": 0,
         "_deepnote_index_column": 68277
        },
        {
         "MOFname": "mof_unit_68284",
         "volume [A^3]": 1662.50032,
         "weight [u]": 2547.71066,
         "surface_area [m^2/g]": 0,
         "void_fraction": 0,
         "void_volume [cm^3/g]": 0,
         "functional_groups": "Et-I",
         "metal_linker": 9,
         "organic_linker1": 2,
         "organic_linker2": 24,
         "topology": "sra",
         "CO2/N2_selectivity": 7.230938557999999,
         "heat_adsorption_CO2_P0.15bar_T298K [kcal/mol]": "nan",
         "CO2_working_capacity [mL/g]": 0,
         "_deepnote_index_column": 68283
        },
        {
         "MOFname": "mof_unit_68304",
         "volume [A^3]": 1419.084168,
         "weight [u]": 1516.59984,
         "surface_area [m^2/g]": 0,
         "void_fraction": 0,
         "void_volume [cm^3/g]": 0,
         "functional_groups": "SO3H-COOH",
         "metal_linker": 9,
         "organic_linker1": 5,
         "organic_linker2": 2,
         "topology": "sra",
         "CO2/N2_selectivity": 0.054694145,
         "heat_adsorption_CO2_P0.15bar_T298K [kcal/mol]": "nan",
         "CO2_working_capacity [mL/g]": 0,
         "_deepnote_index_column": 68303
        },
        {
         "MOFname": "mof_unit_68341",
         "volume [A^3]": 1607.250636,
         "weight [u]": 1436.91564,
         "surface_area [m^2/g]": 0,
         "void_fraction": 0,
         "void_volume [cm^3/g]": 0,
         "functional_groups": "NH2-Me",
         "metal_linker": 9,
         "organic_linker1": 2,
         "organic_linker2": 24,
         "topology": "sra",
         "CO2/N2_selectivity": 0,
         "heat_adsorption_CO2_P0.15bar_T298K [kcal/mol]": "nan",
         "CO2_working_capacity [mL/g]": 0,
         "_deepnote_index_column": 68340
        },
        {
         "MOFname": "mof_unit_68373",
         "volume [A^3]": 1593.78735,
         "weight [u]": 1380.574246,
         "surface_area [m^2/g]": 0,
         "void_fraction": 0.01983,
         "void_volume [cm^3/g]": 0.0138,
         "functional_groups": "F-HCO",
         "metal_linker": 9,
         "organic_linker1": 2,
         "organic_linker2": 24,
         "topology": "sra",
         "CO2/N2_selectivity": 0,
         "heat_adsorption_CO2_P0.15bar_T298K [kcal/mol]": "nan",
         "CO2_working_capacity [mL/g]": -0.0021459951244513,
         "_deepnote_index_column": 68372
        },
        {
         "MOFname": "mof_unit_68385",
         "volume [A^3]": 2013.194758,
         "weight [u]": 2403.92784,
         "surface_area [m^2/g]": 0,
         "void_fraction": 0,
         "void_volume [cm^3/g]": 0,
         "functional_groups": "Cl-COOH",
         "metal_linker": 9,
         "organic_linker1": 2,
         "organic_linker2": 16,
         "topology": "sra",
         "CO2/N2_selectivity": 0,
         "heat_adsorption_CO2_P0.15bar_T298K [kcal/mol]": "nan",
         "CO2_working_capacity [mL/g]": -0.0036316840567638,
         "_deepnote_index_column": 68384
        },
        {
         "MOFname": "mof_unit_68389",
         "volume [A^3]": 1639.155426,
         "weight [u]": 1466.94492,
         "surface_area [m^2/g]": 0,
         "void_fraction": 0,
         "void_volume [cm^3/g]": 0,
         "functional_groups": "NHMe-H",
         "metal_linker": 9,
         "organic_linker1": 2,
         "organic_linker2": 24,
         "topology": "sra",
         "CO2/N2_selectivity": 0,
         "heat_adsorption_CO2_P0.15bar_T298K [kcal/mol]": "nan",
         "CO2_working_capacity [mL/g]": -0.0039618371528332,
         "_deepnote_index_column": 68388
        },
        {
         "MOFname": "mof_unit_68455",
         "volume [A^3]": 2539.112762,
         "weight [u]": 3657.24272,
         "surface_area [m^2/g]": 0,
         "void_fraction": 0,
         "void_volume [cm^3/g]": 0,
         "functional_groups": "Br-SO3H",
         "metal_linker": 9,
         "organic_linker1": 2,
         "organic_linker2": 18,
         "topology": "sra",
         "CO2/N2_selectivity": 2.148242052,
         "heat_adsorption_CO2_P0.15bar_T298K [kcal/mol]": "nan",
         "CO2_working_capacity [mL/g]": -0.0259170180414509,
         "_deepnote_index_column": 68454
        },
        {
         "MOFname": "mof_unit_68469",
         "volume [A^3]": 1722.988384,
         "weight [u]": 2642.95776,
         "surface_area [m^2/g]": 0,
         "void_fraction": 0,
         "void_volume [cm^3/g]": 0,
         "functional_groups": "OH-Br",
         "metal_linker": 9,
         "organic_linker1": 2,
         "organic_linker2": 22,
         "topology": "sra",
         "CO2/N2_selectivity": 832.0592592999999,
         "heat_adsorption_CO2_P0.15bar_T298K [kcal/mol]": "nan",
         "CO2_working_capacity [mL/g]": -0.0465515865457742,
         "_deepnote_index_column": 68468
        },
        {
         "MOFname": "mof_unit_68473",
         "volume [A^3]": 1626.03899,
         "weight [u]": 1644.69408,
         "surface_area [m^2/g]": 0,
         "void_fraction": 0,
         "void_volume [cm^3/g]": 0,
         "functional_groups": "OH-CN",
         "metal_linker": 9,
         "organic_linker1": 2,
         "organic_linker2": 22,
         "topology": "sra",
         "CO2/N2_selectivity": 0,
         "heat_adsorption_CO2_P0.15bar_T298K [kcal/mol]": "nan",
         "CO2_working_capacity [mL/g]": -0.0523292657270059,
         "_deepnote_index_column": 68472
        },
        {
         "MOFname": "mof_unit_68515",
         "volume [A^3]": 1609.898593,
         "weight [u]": 1546.6653789999998,
         "surface_area [m^2/g]": 0,
         "void_fraction": 0,
         "void_volume [cm^3/g]": 0,
         "functional_groups": "F-CN",
         "metal_linker": 9,
         "organic_linker1": 2,
         "organic_linker2": 22,
         "topology": "sra",
         "CO2/N2_selectivity": 0,
         "heat_adsorption_CO2_P0.15bar_T298K [kcal/mol]": "nan",
         "CO2_working_capacity [mL/g]": -0.3519432004100212,
         "_deepnote_index_column": 68514
        },
        {
         "MOFname": "mof_unit_68566",
         "volume [A^3]": 1438.870103,
         "weight [u]": 1518.40104,
         "surface_area [m^2/g]": 0,
         "void_fraction": 0,
         "void_volume [cm^3/g]": 0,
         "functional_groups": "OMe-Cl",
         "metal_linker": 9,
         "organic_linker1": 5,
         "organic_linker2": 2,
         "topology": "sra",
         "CO2/N2_selectivity": 9.321135495,
         "heat_adsorption_CO2_P0.15bar_T298K [kcal/mol]": "nan",
         "CO2_working_capacity [mL/g]": -1.900196144427652,
         "_deepnote_index_column": 68565
        },
        {
         "MOFname": "mof_unit_68580",
         "volume [A^3]": 1999.622538,
         "weight [u]": 1661.3308,
         "surface_area [m^2/g]": 0,
         "void_fraction": 0,
         "void_volume [cm^3/g]": 0,
         "functional_groups": "H-Et",
         "metal_linker": 9,
         "organic_linker1": 2,
         "organic_linker2": 16,
         "topology": "sra",
         "CO2/N2_selectivity": 0,
         "heat_adsorption_CO2_P0.15bar_T298K [kcal/mol]": "nan",
         "CO2_working_capacity [mL/g]": -2.622240965531513,
         "_deepnote_index_column": 68579
        },
        {
         "MOFname": "mof_unit_68595",
         "volume [A^3]": 1652.258112,
         "weight [u]": 1766.5988,
         "surface_area [m^2/g]": 0,
         "void_fraction": 0,
         "void_volume [cm^3/g]": 0,
         "functional_groups": "OH-NO2",
         "metal_linker": 9,
         "organic_linker1": 2,
         "organic_linker2": 22,
         "topology": "sra",
         "CO2/N2_selectivity": 0,
         "heat_adsorption_CO2_P0.15bar_T298K [kcal/mol]": "nan",
         "CO2_working_capacity [mL/g]": -3.942523196713197,
         "_deepnote_index_column": 68594
        }
       ]
      },
      "text/plain": "              MOFname  volume [A^3]   weight [u]  surface_area [m^2/g]  \\\n42        mof_unit_43   2379.449687  1423.610400               1140.40   \n50        mof_unit_51   1640.841092  1192.580240                  0.00   \n68        mof_unit_69   2258.507588  1306.676060               1274.44   \n78        mof_unit_79   1912.868035  1414.688000                  0.00   \n99       mof_unit_100   1644.783972  1148.377213                709.86   \n...               ...           ...          ...                   ...   \n68472  mof_unit_68473   1626.038990  1644.694080                  0.00   \n68514  mof_unit_68515   1609.898593  1546.665379                  0.00   \n68565  mof_unit_68566   1438.870103  1518.401040                  0.00   \n68579  mof_unit_68580   1999.622538  1661.330800                  0.00   \n68594  mof_unit_68595   1652.258112  1766.598800                  0.00   \n\n       void_fraction  void_volume [cm^3/g] functional_groups  metal_linker  \\\n42           0.18193                0.1831            NO2-OH             9   \n50           0.04781                0.0396              NHMe             9   \n68           0.20725                0.2157               OMe             9   \n78           0.07520                0.0612               NO2             9   \n99           0.14109                0.1217                 F             9   \n...              ...                   ...               ...           ...   \n68472        0.00000                0.0000             OH-CN             9   \n68514        0.00000                0.0000              F-CN             9   \n68565        0.00000                0.0000            OMe-Cl             9   \n68579        0.00000                0.0000              H-Et             9   \n68594        0.00000                0.0000            OH-NO2             9   \n\n       organic_linker1  organic_linker2 topology  CO2/N2_selectivity  \\\n42                   2               25      sra         42.82049017   \n50                  12                2      sra         21.35104563   \n68                   2                2      sra         47.82378078   \n78                   2               16      sra        169.60821490   \n99                  12                2      sra         27.86329795   \n...                ...              ...      ...                 ...   \n68472                2               22      sra          0.00000000   \n68514                2               22      sra          0.00000000   \n68565                5                2      sra          9.32113550   \n68579                2               16      sra          0.00000000   \n68594                2               22      sra          0.00000000   \n\n       heat_adsorption_CO2_P0.15bar_T298K [kcal/mol]  \\\n42                                          6.364212   \n50                                         10.039954   \n68                                          6.472639   \n78                                          8.843831   \n99                                          7.457391   \n...                                              ...   \n68472                                            NaN   \n68514                                            NaN   \n68565                                            NaN   \n68579                                            NaN   \n68594                                            NaN   \n\n       CO2_working_capacity [mL/g]  \n42                    295.42528235  \n50                    117.52839437  \n68                    254.73737987  \n78                    320.03489413  \n99                    178.92481965  \n...                            ...  \n68472                  -0.05232927  \n68514                  -0.35194320  \n68565                  -1.90019614  \n68579                  -2.62224097  \n68594                  -3.94252320  \n\n[1460 rows x 14 columns]",
      "text/html": "<div>\n<style scoped>\n    .dataframe tbody tr th:only-of-type {\n        vertical-align: middle;\n    }\n\n    .dataframe tbody tr th {\n        vertical-align: top;\n    }\n\n    .dataframe thead th {\n        text-align: right;\n    }\n</style>\n<table border=\"1\" class=\"dataframe\">\n  <thead>\n    <tr style=\"text-align: right;\">\n      <th></th>\n      <th>MOFname</th>\n      <th>volume [A^3]</th>\n      <th>weight [u]</th>\n      <th>surface_area [m^2/g]</th>\n      <th>void_fraction</th>\n      <th>void_volume [cm^3/g]</th>\n      <th>functional_groups</th>\n      <th>metal_linker</th>\n      <th>organic_linker1</th>\n      <th>organic_linker2</th>\n      <th>topology</th>\n      <th>CO2/N2_selectivity</th>\n      <th>heat_adsorption_CO2_P0.15bar_T298K [kcal/mol]</th>\n      <th>CO2_working_capacity [mL/g]</th>\n    </tr>\n  </thead>\n  <tbody>\n    <tr>\n      <th>42</th>\n      <td>mof_unit_43</td>\n      <td>2379.449687</td>\n      <td>1423.610400</td>\n      <td>1140.40</td>\n      <td>0.18193</td>\n      <td>0.1831</td>\n      <td>NO2-OH</td>\n      <td>9</td>\n      <td>2</td>\n      <td>25</td>\n      <td>sra</td>\n      <td>42.82049017</td>\n      <td>6.364212</td>\n      <td>295.42528235</td>\n    </tr>\n    <tr>\n      <th>50</th>\n      <td>mof_unit_51</td>\n      <td>1640.841092</td>\n      <td>1192.580240</td>\n      <td>0.00</td>\n      <td>0.04781</td>\n      <td>0.0396</td>\n      <td>NHMe</td>\n      <td>9</td>\n      <td>12</td>\n      <td>2</td>\n      <td>sra</td>\n      <td>21.35104563</td>\n      <td>10.039954</td>\n      <td>117.52839437</td>\n    </tr>\n    <tr>\n      <th>68</th>\n      <td>mof_unit_69</td>\n      <td>2258.507588</td>\n      <td>1306.676060</td>\n      <td>1274.44</td>\n      <td>0.20725</td>\n      <td>0.2157</td>\n      <td>OMe</td>\n      <td>9</td>\n      <td>2</td>\n      <td>2</td>\n      <td>sra</td>\n      <td>47.82378078</td>\n      <td>6.472639</td>\n      <td>254.73737987</td>\n    </tr>\n    <tr>\n      <th>78</th>\n      <td>mof_unit_79</td>\n      <td>1912.868035</td>\n      <td>1414.688000</td>\n      <td>0.00</td>\n      <td>0.07520</td>\n      <td>0.0612</td>\n      <td>NO2</td>\n      <td>9</td>\n      <td>2</td>\n      <td>16</td>\n      <td>sra</td>\n      <td>169.60821490</td>\n      <td>8.843831</td>\n      <td>320.03489413</td>\n    </tr>\n    <tr>\n      <th>99</th>\n      <td>mof_unit_100</td>\n      <td>1644.783972</td>\n      <td>1148.377213</td>\n      <td>709.86</td>\n      <td>0.14109</td>\n      <td>0.1217</td>\n      <td>F</td>\n      <td>9</td>\n      <td>12</td>\n      <td>2</td>\n      <td>sra</td>\n      <td>27.86329795</td>\n      <td>7.457391</td>\n      <td>178.92481965</td>\n    </tr>\n    <tr>\n      <th>...</th>\n      <td>...</td>\n      <td>...</td>\n      <td>...</td>\n      <td>...</td>\n      <td>...</td>\n      <td>...</td>\n      <td>...</td>\n      <td>...</td>\n      <td>...</td>\n      <td>...</td>\n      <td>...</td>\n      <td>...</td>\n      <td>...</td>\n      <td>...</td>\n    </tr>\n    <tr>\n      <th>68472</th>\n      <td>mof_unit_68473</td>\n      <td>1626.038990</td>\n      <td>1644.694080</td>\n      <td>0.00</td>\n      <td>0.00000</td>\n      <td>0.0000</td>\n      <td>OH-CN</td>\n      <td>9</td>\n      <td>2</td>\n      <td>22</td>\n      <td>sra</td>\n      <td>0.00000000</td>\n      <td>NaN</td>\n      <td>-0.05232927</td>\n    </tr>\n    <tr>\n      <th>68514</th>\n      <td>mof_unit_68515</td>\n      <td>1609.898593</td>\n      <td>1546.665379</td>\n      <td>0.00</td>\n      <td>0.00000</td>\n      <td>0.0000</td>\n      <td>F-CN</td>\n      <td>9</td>\n      <td>2</td>\n      <td>22</td>\n      <td>sra</td>\n      <td>0.00000000</td>\n      <td>NaN</td>\n      <td>-0.35194320</td>\n    </tr>\n    <tr>\n      <th>68565</th>\n      <td>mof_unit_68566</td>\n      <td>1438.870103</td>\n      <td>1518.401040</td>\n      <td>0.00</td>\n      <td>0.00000</td>\n      <td>0.0000</td>\n      <td>OMe-Cl</td>\n      <td>9</td>\n      <td>5</td>\n      <td>2</td>\n      <td>sra</td>\n      <td>9.32113550</td>\n      <td>NaN</td>\n      <td>-1.90019614</td>\n    </tr>\n    <tr>\n      <th>68579</th>\n      <td>mof_unit_68580</td>\n      <td>1999.622538</td>\n      <td>1661.330800</td>\n      <td>0.00</td>\n      <td>0.00000</td>\n      <td>0.0000</td>\n      <td>H-Et</td>\n      <td>9</td>\n      <td>2</td>\n      <td>16</td>\n      <td>sra</td>\n      <td>0.00000000</td>\n      <td>NaN</td>\n      <td>-2.62224097</td>\n    </tr>\n    <tr>\n      <th>68594</th>\n      <td>mof_unit_68595</td>\n      <td>1652.258112</td>\n      <td>1766.598800</td>\n      <td>0.00</td>\n      <td>0.00000</td>\n      <td>0.0000</td>\n      <td>OH-NO2</td>\n      <td>9</td>\n      <td>2</td>\n      <td>22</td>\n      <td>sra</td>\n      <td>0.00000000</td>\n      <td>NaN</td>\n      <td>-3.94252320</td>\n    </tr>\n  </tbody>\n</table>\n<p>1460 rows × 14 columns</p>\n</div>"
     },
     "metadata": {}
    }
   ]
  },
  {
   "cell_type": "code",
   "metadata": {
    "colab": {
     "base_uri": "https://localhost:8080/"
    },
    "executionInfo": {
     "elapsed": 18,
     "status": "ok",
     "timestamp": 1626879746753,
     "user": {
      "displayName": "Rangsiman",
      "photoUrl": "https://lh3.googleusercontent.com/a-/AOh14Ghrx1oKpguOx-cYNgdxV7f3KiO9I6z1viS7Fhy_uw=s64",
      "userId": "07053109212140093737"
     },
     "user_tz": -120
    },
    "id": "SomFg6o8ILS8",
    "outputId": "b3f8f53b-6f85-426f-ada6-b56110747bb0",
    "deepnote_to_be_reexecuted": false,
    "source_hash": "515b194f",
    "execution_start": 1633152508983,
    "execution_millis": 8,
    "cell_id": "00009-f9a53b72-19a0-4737-9529-a93109e512ed",
    "deepnote_output_heights": [
     270.625
    ],
    "deepnote_cell_type": "code"
   },
   "source": "feat = list(train.columns.values)\nfeat = {k: v for k, v in enumerate(feat)}\nfeat",
   "execution_count": null,
   "outputs": [
    {
     "output_type": "execute_result",
     "execution_count": 5,
     "data": {
      "text/plain": "{0: 'MOFname',\n 1: 'volume [A^3]',\n 2: 'weight [u]',\n 3: 'surface_area [m^2/g]',\n 4: 'void_fraction',\n 5: 'void_volume [cm^3/g]',\n 6: 'functional_groups',\n 7: 'metal_linker',\n 8: 'organic_linker1',\n 9: 'organic_linker2',\n 10: 'topology',\n 11: 'CO2/N2_selectivity',\n 12: 'heat_adsorption_CO2_P0.15bar_T298K [kcal/mol]',\n 13: 'CO2_working_capacity [mL/g]'}"
     },
     "metadata": {}
    }
   ]
  },
  {
   "cell_type": "markdown",
   "source": "## 2. Clean data",
   "metadata": {
    "cell_id": "00010-7c8837ed-f3d3-49ee-9604-597f6b6f5c1b",
    "deepnote_cell_type": "markdown"
   }
  },
  {
   "cell_type": "code",
   "metadata": {
    "colab": {
     "base_uri": "https://localhost:8080/",
     "height": 456
    },
    "executionInfo": {
     "elapsed": 17,
     "status": "ok",
     "timestamp": 1626879746754,
     "user": {
      "displayName": "Rangsiman",
      "photoUrl": "https://lh3.googleusercontent.com/a-/AOh14Ghrx1oKpguOx-cYNgdxV7f3KiO9I6z1viS7Fhy_uw=s64",
      "userId": "07053109212140093737"
     },
     "user_tz": -120
    },
    "id": "acMro5_IahfP",
    "outputId": "a620da7c-2eeb-48e1-c948-1fc1ed14ba17",
    "deepnote_to_be_reexecuted": false,
    "source_hash": "699bf936",
    "execution_start": 1633152509035,
    "execution_millis": 110,
    "cell_id": "00011-c72a1092-9b18-4a26-9f09-cc0be5431431",
    "deepnote_cell_type": "code"
   },
   "source": "train = train.iloc[:, [1,2,3,4,5,7,8,9,11,12,13]]\ntrain",
   "execution_count": null,
   "outputs": [
    {
     "output_type": "execute_result",
     "execution_count": 6,
     "data": {
      "application/vnd.deepnote.dataframe.v2+json": {
       "row_count": 20000,
       "column_count": 11,
       "columns": [
        {
         "name": "volume [A^3]",
         "dtype": "float64",
         "stats": {
          "unique_count": 20000,
          "nan_count": 0,
          "min": "622.480922",
          "max": "49079.066486",
          "histogram": [
           {
            "bin_start": 622.480922,
            "bin_end": 5468.1394783999995,
            "count": 18890
           },
           {
            "bin_start": 5468.1394783999995,
            "bin_end": 10313.7980348,
            "count": 845
           },
           {
            "bin_start": 10313.7980348,
            "bin_end": 15159.4565912,
            "count": 180
           },
           {
            "bin_start": 15159.4565912,
            "bin_end": 20005.115147599998,
            "count": 46
           },
           {
            "bin_start": 20005.115147599998,
            "bin_end": 24850.773703999996,
            "count": 26
           },
           {
            "bin_start": 24850.773703999996,
            "bin_end": 29696.432260399997,
            "count": 11
           },
           {
            "bin_start": 29696.432260399997,
            "bin_end": 34542.0908168,
            "count": 1
           },
           {
            "bin_start": 34542.0908168,
            "bin_end": 39387.7493732,
            "count": 0
           },
           {
            "bin_start": 39387.7493732,
            "bin_end": 44233.4079296,
            "count": 0
           },
           {
            "bin_start": 44233.4079296,
            "bin_end": 49079.066486,
            "count": 1
           }
          ]
         }
        },
        {
         "name": "weight [u]",
         "dtype": "float64",
         "stats": {
          "unique_count": 17786,
          "nan_count": 0,
          "min": "439.28122",
          "max": "21152.0688",
          "histogram": [
           {
            "bin_start": 439.28122,
            "bin_end": 2510.559978,
            "count": 17573
           },
           {
            "bin_start": 2510.559978,
            "bin_end": 4581.838736,
            "count": 2014
           },
           {
            "bin_start": 4581.838736,
            "bin_end": 6653.117493999999,
            "count": 310
           },
           {
            "bin_start": 6653.117493999999,
            "bin_end": 8724.396252,
            "count": 77
           },
           {
            "bin_start": 8724.396252,
            "bin_end": 10795.67501,
            "count": 15
           },
           {
            "bin_start": 10795.67501,
            "bin_end": 12866.953768,
            "count": 8
           },
           {
            "bin_start": 12866.953768,
            "bin_end": 14938.232526,
            "count": 1
           },
           {
            "bin_start": 14938.232526,
            "bin_end": 17009.511284,
            "count": 1
           },
           {
            "bin_start": 17009.511284,
            "bin_end": 19080.790042,
            "count": 0
           },
           {
            "bin_start": 19080.790042,
            "bin_end": 21152.0688,
            "count": 1
           }
          ]
         }
        },
        {
         "name": "surface_area [m^2/g]",
         "dtype": "float64",
         "stats": {
          "unique_count": 15483,
          "nan_count": 0,
          "min": "-1.0",
          "max": "5938.18",
          "histogram": [
           {
            "bin_start": -1,
            "bin_end": 592.918,
            "count": 5291
           },
           {
            "bin_start": 592.918,
            "bin_end": 1186.836,
            "count": 3025
           },
           {
            "bin_start": 1186.836,
            "bin_end": 1780.754,
            "count": 3816
           },
           {
            "bin_start": 1780.754,
            "bin_end": 2374.672,
            "count": 3394
           },
           {
            "bin_start": 2374.672,
            "bin_end": 2968.59,
            "count": 2344
           },
           {
            "bin_start": 2968.59,
            "bin_end": 3562.508,
            "count": 1389
           },
           {
            "bin_start": 3562.508,
            "bin_end": 4156.426,
            "count": 526
           },
           {
            "bin_start": 4156.426,
            "bin_end": 4750.344,
            "count": 170
           },
           {
            "bin_start": 4750.344,
            "bin_end": 5344.262,
            "count": 39
           },
           {
            "bin_start": 5344.262,
            "bin_end": 5938.18,
            "count": 6
           }
          ]
         }
        },
        {
         "name": "void_fraction",
         "dtype": "float64",
         "stats": {
          "unique_count": 15630,
          "nan_count": 0,
          "min": "-1.0",
          "max": "0.73147",
          "histogram": [
           {
            "bin_start": -1,
            "bin_end": -0.8268530000000001,
            "count": 18
           },
           {
            "bin_start": -0.8268530000000001,
            "bin_end": -0.653706,
            "count": 0
           },
           {
            "bin_start": -0.653706,
            "bin_end": -0.48055899999999996,
            "count": 0
           },
           {
            "bin_start": -0.48055899999999996,
            "bin_end": -0.307412,
            "count": 0
           },
           {
            "bin_start": -0.307412,
            "bin_end": -0.13426500000000008,
            "count": 0
           },
           {
            "bin_start": -0.13426500000000008,
            "bin_end": 0.03888200000000008,
            "count": 483
           },
           {
            "bin_start": 0.03888200000000008,
            "bin_end": 0.21202900000000002,
            "count": 8342
           },
           {
            "bin_start": 0.21202900000000002,
            "bin_end": 0.38517599999999996,
            "count": 9110
           },
           {
            "bin_start": 0.38517599999999996,
            "bin_end": 0.5583229999999999,
            "count": 1994
           },
           {
            "bin_start": 0.5583229999999999,
            "bin_end": 0.73147,
            "count": 53
           }
          ]
         }
        },
        {
         "name": "void_volume [cm^3/g]",
         "dtype": "float64",
         "stats": {
          "unique_count": 6531,
          "nan_count": 0,
          "min": "0.0",
          "max": "2.9846",
          "histogram": [
           {
            "bin_start": 0,
            "bin_end": 0.29846,
            "count": 12384
           },
           {
            "bin_start": 0.29846,
            "bin_end": 0.59692,
            "count": 6062
           },
           {
            "bin_start": 0.59692,
            "bin_end": 0.8953800000000001,
            "count": 1254
           },
           {
            "bin_start": 0.8953800000000001,
            "bin_end": 1.19384,
            "count": 241
           },
           {
            "bin_start": 1.19384,
            "bin_end": 1.4923,
            "count": 47
           },
           {
            "bin_start": 1.4923,
            "bin_end": 1.7907600000000001,
            "count": 8
           },
           {
            "bin_start": 1.7907600000000001,
            "bin_end": 2.08922,
            "count": 2
           },
           {
            "bin_start": 2.08922,
            "bin_end": 2.38768,
            "count": 1
           },
           {
            "bin_start": 2.38768,
            "bin_end": 2.68614,
            "count": 0
           },
           {
            "bin_start": 2.68614,
            "bin_end": 2.9846,
            "count": 1
           }
          ]
         }
        },
        {
         "name": "metal_linker",
         "dtype": "int64"
        },
        {
         "name": "organic_linker1",
         "dtype": "int64"
        },
        {
         "name": "organic_linker2",
         "dtype": "int64"
        },
        {
         "name": "CO2/N2_selectivity",
         "dtype": "float64"
        },
        {
         "name": "heat_adsorption_CO2_P0.15bar_T298K [kcal/mol]",
         "dtype": "float64"
        },
        {
         "name": "CO2_working_capacity [mL/g]",
         "dtype": "float64"
        },
        {
         "name": "_deepnote_index_column",
         "dtype": "int64"
        }
       ],
       "rows_top": [
        {
         "volume [A^3]": 1116.667429,
         "weight [u]": 875.2406,
         "surface_area [m^2/g]": 0,
         "void_fraction": 0.07899,
         "void_volume [cm^3/g]": 0.0607,
         "metal_linker": 3,
         "organic_linker1": 4,
         "organic_linker2": 11,
         "CO2/N2_selectivity": 22.86416611,
         "heat_adsorption_CO2_P0.15bar_T298K [kcal/mol]": 6.786041,
         "CO2_working_capacity [mL/g]": 105.2845017241596,
         "_deepnote_index_column": 0
        },
        {
         "volume [A^3]": 2769.503842,
         "weight [u]": 2211.697211,
         "surface_area [m^2/g]": 603.61,
         "void_fraction": 0.13794,
         "void_volume [cm^3/g]": 0.104,
         "metal_linker": 10,
         "organic_linker1": 44,
         "organic_linker2": 57,
         "CO2/N2_selectivity": 33.61678033,
         "heat_adsorption_CO2_P0.15bar_T298K [kcal/mol]": 7.147286,
         "CO2_working_capacity [mL/g]": 101.22477417834172,
         "_deepnote_index_column": 1
        },
        {
         "volume [A^3]": 1089.818728,
         "weight [u]": 773.68796,
         "surface_area [m^2/g]": 788.5,
         "void_fraction": 0.14874,
         "void_volume [cm^3/g]": 0.1262,
         "metal_linker": 2,
         "organic_linker1": 22,
         "organic_linker2": 24,
         "CO2/N2_selectivity": 19.26372569,
         "heat_adsorption_CO2_P0.15bar_T298K [kcal/mol]": 6.347967,
         "CO2_working_capacity [mL/g]": 118.98701074687752,
         "_deepnote_index_column": 2
        },
        {
         "volume [A^3]": 2205.1983010000004,
         "weight [u]": 1304.63872,
         "surface_area [m^2/g]": 1441.53,
         "void_fraction": 0.21814,
         "void_volume [cm^3/g]": 0.222,
         "metal_linker": 9,
         "organic_linker1": 17,
         "organic_linker2": 24,
         "CO2/N2_selectivity": 25.70137692,
         "heat_adsorption_CO2_P0.15bar_T298K [kcal/mol]": 6.190085,
         "CO2_working_capacity [mL/g]": 187.62600449626183,
         "_deepnote_index_column": 3
        },
        {
         "volume [A^3]": 1137.800963,
         "weight [u]": 901.73612,
         "surface_area [m^2/g]": 0,
         "void_fraction": 0.07778,
         "void_volume [cm^3/g]": 0.0591,
         "metal_linker": 2,
         "organic_linker1": 1,
         "organic_linker2": 22,
         "CO2/N2_selectivity": 30.00183795,
         "heat_adsorption_CO2_P0.15bar_T298K [kcal/mol]": 6.478063,
         "CO2_working_capacity [mL/g]": 79.21000065588355,
         "_deepnote_index_column": 4
        },
        {
         "volume [A^3]": 3954.659761,
         "weight [u]": 1543.02768,
         "surface_area [m^2/g]": 2430.55,
         "void_fraction": 0.37094,
         "void_volume [cm^3/g]": 0.5725,
         "metal_linker": 9,
         "organic_linker1": 7,
         "organic_linker2": 23,
         "CO2/N2_selectivity": 17.14654102,
         "heat_adsorption_CO2_P0.15bar_T298K [kcal/mol]": 5.398304,
         "CO2_working_capacity [mL/g]": 55.7869591021412,
         "_deepnote_index_column": 5
        },
        {
         "volume [A^3]": 3565.914939,
         "weight [u]": 1954.749656,
         "surface_area [m^2/g]": 1530.02,
         "void_fraction": 0.33337,
         "void_volume [cm^3/g]": 0.3662,
         "metal_linker": 10,
         "organic_linker1": 53,
         "organic_linker2": 55,
         "CO2/N2_selectivity": 18.36379134,
         "heat_adsorption_CO2_P0.15bar_T298K [kcal/mol]": 6.303857,
         "CO2_working_capacity [mL/g]": 111.69046224719489,
         "_deepnote_index_column": 6
        },
        {
         "volume [A^3]": 916.043907,
         "weight [u]": 639.1115599999999,
         "surface_area [m^2/g]": 1685.58,
         "void_fraction": 0.28458,
         "void_volume [cm^3/g]": 0.2456,
         "metal_linker": 2,
         "organic_linker1": 5,
         "organic_linker2": 13,
         "CO2/N2_selectivity": 12.68480443,
         "heat_adsorption_CO2_P0.15bar_T298K [kcal/mol]": 5.234732,
         "CO2_working_capacity [mL/g]": 58.98977428711081,
         "_deepnote_index_column": 7
        },
        {
         "volume [A^3]": 2228.882339,
         "weight [u]": 1422.69182,
         "surface_area [m^2/g]": 1458.02,
         "void_fraction": 0.2427699999999999,
         "void_volume [cm^3/g]": 0.2291,
         "metal_linker": 4,
         "organic_linker1": 14,
         "organic_linker2": 19,
         "CO2/N2_selectivity": 37.04042435,
         "heat_adsorption_CO2_P0.15bar_T298K [kcal/mol]": 6.298964,
         "CO2_working_capacity [mL/g]": 135.58710841724886,
         "_deepnote_index_column": 8
        },
        {
         "volume [A^3]": 4275.421420000001,
         "weight [u]": 1606.196,
         "surface_area [m^2/g]": 3276.11,
         "void_fraction": 0.4100399999999999,
         "void_volume [cm^3/g]": 0.6573,
         "metal_linker": 3,
         "organic_linker1": 13,
         "organic_linker2": 29,
         "CO2/N2_selectivity": 10.9992991,
         "heat_adsorption_CO2_P0.15bar_T298K [kcal/mol]": 5.539327,
         "CO2_working_capacity [mL/g]": 59.73905673864041,
         "_deepnote_index_column": 9
        },
        {
         "volume [A^3]": 1607.935338,
         "weight [u]": 1110.38712,
         "surface_area [m^2/g]": 1098.36,
         "void_fraction": 0.18787,
         "void_volume [cm^3/g]": 0.1638,
         "metal_linker": 9,
         "organic_linker1": 1,
         "organic_linker2": 24,
         "CO2/N2_selectivity": 24.25902464,
         "heat_adsorption_CO2_P0.15bar_T298K [kcal/mol]": 5.926444,
         "CO2_working_capacity [mL/g]": 161.06749898914796,
         "_deepnote_index_column": 10
        },
        {
         "volume [A^3]": 1175.47586,
         "weight [u]": 1397.05128,
         "surface_area [m^2/g]": 0,
         "void_fraction": 0.05704,
         "void_volume [cm^3/g]": 0.0289,
         "metal_linker": 2,
         "organic_linker1": 22,
         "organic_linker2": 24,
         "CO2/N2_selectivity": 58.10697445,
         "heat_adsorption_CO2_P0.15bar_T298K [kcal/mol]": 7.407897999999999,
         "CO2_working_capacity [mL/g]": 101.96481234318138,
         "_deepnote_index_column": 11
        },
        {
         "volume [A^3]": 1650.879383,
         "weight [u]": 796.68968,
         "surface_area [m^2/g]": 2117.01,
         "void_fraction": 0.30405,
         "void_volume [cm^3/g]": 0.3794,
         "metal_linker": 2,
         "organic_linker1": 4,
         "organic_linker2": 6,
         "CO2/N2_selectivity": 12.99674112,
         "heat_adsorption_CO2_P0.15bar_T298K [kcal/mol]": 4.936655,
         "CO2_working_capacity [mL/g]": 79.91916950624072,
         "_deepnote_index_column": 12
        },
        {
         "volume [A^3]": 1071.619874,
         "weight [u]": 701.6286,
         "surface_area [m^2/g]": 0,
         "void_fraction": 0.10455,
         "void_volume [cm^3/g]": 0.0962,
         "metal_linker": 2,
         "organic_linker1": 12,
         "organic_linker2": 22,
         "CO2/N2_selectivity": 31.66445559,
         "heat_adsorption_CO2_P0.15bar_T298K [kcal/mol]": 7.427183,
         "CO2_working_capacity [mL/g]": 133.3711208364308,
         "_deepnote_index_column": 13
        },
        {
         "volume [A^3]": 1769.973982,
         "weight [u]": 945.403413,
         "surface_area [m^2/g]": 1870.11,
         "void_fraction": 0.27705,
         "void_volume [cm^3/g]": 0.3124,
         "metal_linker": 3,
         "organic_linker1": 4,
         "organic_linker2": 26,
         "CO2/N2_selectivity": 17.01166312,
         "heat_adsorption_CO2_P0.15bar_T298K [kcal/mol]": 5.139598,
         "CO2_working_capacity [mL/g]": 62.32762208837283,
         "_deepnote_index_column": 14
        },
        {
         "volume [A^3]": 4282.561071,
         "weight [u]": 2478.166816,
         "surface_area [m^2/g]": 1294.48,
         "void_fraction": 0.28607,
         "void_volume [cm^3/g]": 0.2977,
         "metal_linker": 10,
         "organic_linker1": 52,
         "organic_linker2": 54,
         "CO2/N2_selectivity": 19.28955582,
         "heat_adsorption_CO2_P0.15bar_T298K [kcal/mol]": 5.867149,
         "CO2_working_capacity [mL/g]": 54.93615457357025,
         "_deepnote_index_column": 15
        },
        {
         "volume [A^3]": 7840.492345000001,
         "weight [u]": 4627.98816,
         "surface_area [m^2/g]": 1664.62,
         "void_fraction": 0.26885,
         "void_volume [cm^3/g]": 0.2743,
         "metal_linker": 2,
         "organic_linker1": 38,
         "organic_linker2": 41,
         "CO2/N2_selectivity": 15.894512699999998,
         "heat_adsorption_CO2_P0.15bar_T298K [kcal/mol]": 5.390903,
         "CO2_working_capacity [mL/g]": 98.10944956383054,
         "_deepnote_index_column": 16
        },
        {
         "volume [A^3]": 2252.940492,
         "weight [u]": 1583.399493,
         "surface_area [m^2/g]": 851.04,
         "void_fraction": 0.15162,
         "void_volume [cm^3/g]": 0.1299,
         "metal_linker": 2,
         "organic_linker1": 14,
         "organic_linker2": 14,
         "CO2/N2_selectivity": 35.34220222,
         "heat_adsorption_CO2_P0.15bar_T298K [kcal/mol]": 7.488088999999999,
         "CO2_working_capacity [mL/g]": 324.0160452431515,
         "_deepnote_index_column": 17
        },
        {
         "volume [A^3]": 2334.528642,
         "weight [u]": 937.8558,
         "surface_area [m^2/g]": 2773.01,
         "void_fraction": 0.41436,
         "void_volume [cm^3/g]": 0.6211,
         "metal_linker": 2,
         "organic_linker1": 8,
         "organic_linker2": 10,
         "CO2/N2_selectivity": 11.94115719,
         "heat_adsorption_CO2_P0.15bar_T298K [kcal/mol]": 5.547677999999999,
         "CO2_working_capacity [mL/g]": 60.05088633787799,
         "_deepnote_index_column": 18
        },
        {
         "volume [A^3]": 919.305781,
         "weight [u]": 689.1744,
         "surface_area [m^2/g]": 0,
         "void_fraction": 0.07816,
         "void_volume [cm^3/g]": 0.0628,
         "metal_linker": 3,
         "organic_linker1": 10,
         "organic_linker2": 18,
         "CO2/N2_selectivity": 47.33272089,
         "heat_adsorption_CO2_P0.15bar_T298K [kcal/mol]": 7.957782000000001,
         "CO2_working_capacity [mL/g]": 136.3873995221212,
         "_deepnote_index_column": 19
        },
        {
         "volume [A^3]": 1585.308617,
         "weight [u]": 866.6691800000001,
         "surface_area [m^2/g]": 1825.67,
         "void_fraction": 0.31685,
         "void_volume [cm^3/g]": 0.349,
         "metal_linker": 3,
         "organic_linker1": 14,
         "organic_linker2": 17,
         "CO2/N2_selectivity": 14.56002553,
         "heat_adsorption_CO2_P0.15bar_T298K [kcal/mol]": 5.713488,
         "CO2_working_capacity [mL/g]": 104.97861488065128,
         "_deepnote_index_column": 20
        },
        {
         "volume [A^3]": 3409.7421659999995,
         "weight [u]": 1812.74148,
         "surface_area [m^2/g]": 1922.93,
         "void_fraction": 0.2672,
         "void_volume [cm^3/g]": 0.3027,
         "metal_linker": 9,
         "organic_linker1": 7,
         "organic_linker2": 16,
         "CO2/N2_selectivity": 40.54284142,
         "heat_adsorption_CO2_P0.15bar_T298K [kcal/mol]": 6.425527,
         "CO2_working_capacity [mL/g]": 230.69959325150907,
         "_deepnote_index_column": 21
        },
        {
         "volume [A^3]": 4366.170427,
         "weight [u]": 1937.4993600000005,
         "surface_area [m^2/g]": 2148.78,
         "void_fraction": 0.2641699999999999,
         "void_volume [cm^3/g]": 0.3585,
         "metal_linker": 9,
         "organic_linker1": 18,
         "organic_linker2": 27,
         "CO2/N2_selectivity": 56.34296165,
         "heat_adsorption_CO2_P0.15bar_T298K [kcal/mol]": 6.857435000000001,
         "CO2_working_capacity [mL/g]": 252.38041691729305,
         "_deepnote_index_column": 22
        },
        {
         "volume [A^3]": 1906.333143,
         "weight [u]": 1033.97772,
         "surface_area [m^2/g]": 1523.05,
         "void_fraction": 0.2350699999999999,
         "void_volume [cm^3/g]": 0.261,
         "metal_linker": 2,
         "organic_linker1": 16,
         "organic_linker2": 18,
         "CO2/N2_selectivity": 22.9136176,
         "heat_adsorption_CO2_P0.15bar_T298K [kcal/mol]": 6.870048,
         "CO2_working_capacity [mL/g]": 262.6415751431312,
         "_deepnote_index_column": 23
        },
        {
         "volume [A^3]": 1803.619737,
         "weight [u]": 973.70752,
         "surface_area [m^2/g]": 1957.26,
         "void_fraction": 0.27738,
         "void_volume [cm^3/g]": 0.3094,
         "metal_linker": 2,
         "organic_linker1": 2,
         "organic_linker2": 10,
         "CO2/N2_selectivity": 23.01799947,
         "heat_adsorption_CO2_P0.15bar_T298K [kcal/mol]": 6.021285,
         "CO2_working_capacity [mL/g]": 136.52804474104676,
         "_deepnote_index_column": 24
        },
        {
         "volume [A^3]": 2777.131295,
         "weight [u]": 1480.42508,
         "surface_area [m^2/g]": 1135.53,
         "void_fraction": 0.1655599999999999,
         "void_volume [cm^3/g]": 0.187,
         "metal_linker": 2,
         "organic_linker1": 12,
         "organic_linker2": 29,
         "CO2/N2_selectivity": 26.1894427,
         "heat_adsorption_CO2_P0.15bar_T298K [kcal/mol]": 7.153111,
         "CO2_working_capacity [mL/g]": 346.0309838421578,
         "_deepnote_index_column": 25
        },
        {
         "volume [A^3]": 1629.942174,
         "weight [u]": 1093.94384,
         "surface_area [m^2/g]": 1139.7,
         "void_fraction": 0.20692,
         "void_volume [cm^3/g]": 0.1857,
         "metal_linker": 2,
         "organic_linker1": 13,
         "organic_linker2": 14,
         "CO2/N2_selectivity": 22.47671204,
         "heat_adsorption_CO2_P0.15bar_T298K [kcal/mol]": 6.1497,
         "CO2_working_capacity [mL/g]": 100.479453563965,
         "_deepnote_index_column": 26
        },
        {
         "volume [A^3]": 1208.371986,
         "weight [u]": 655.4740400000001,
         "surface_area [m^2/g]": 2286.28,
         "void_fraction": 0.26882,
         "void_volume [cm^3/g]": 0.2984,
         "metal_linker": 2,
         "organic_linker1": 5,
         "organic_linker2": 8,
         "CO2/N2_selectivity": 14.97878372,
         "heat_adsorption_CO2_P0.15bar_T298K [kcal/mol]": 5.160807,
         "CO2_working_capacity [mL/g]": 75.63295693651922,
         "_deepnote_index_column": 27
        },
        {
         "volume [A^3]": 8686.956791,
         "weight [u]": 4552.65248,
         "surface_area [m^2/g]": 1765.83,
         "void_fraction": 0.28834,
         "void_volume [cm^3/g]": 0.3313,
         "metal_linker": 1,
         "organic_linker1": 5,
         "organic_linker2": 17,
         "CO2/N2_selectivity": 14.96061853,
         "heat_adsorption_CO2_P0.15bar_T298K [kcal/mol]": 5.359237,
         "CO2_working_capacity [mL/g]": 69.87261079284771,
         "_deepnote_index_column": 28
        },
        {
         "volume [A^3]": 1824.319922,
         "weight [u]": 1059.29236,
         "surface_area [m^2/g]": 2112.92,
         "void_fraction": 0.31239,
         "void_volume [cm^3/g]": 0.324,
         "metal_linker": 2,
         "organic_linker1": 4,
         "organic_linker2": 7,
         "CO2/N2_selectivity": 11.22829945,
         "heat_adsorption_CO2_P0.15bar_T298K [kcal/mol]": 5.341076999999999,
         "CO2_working_capacity [mL/g]": 66.1344523626015,
         "_deepnote_index_column": 29
        },
        {
         "volume [A^3]": 2270.674945,
         "weight [u]": 1520.58351,
         "surface_area [m^2/g]": 1474,
         "void_fraction": 0.24855,
         "void_volume [cm^3/g]": 0.2235,
         "metal_linker": 4,
         "organic_linker1": 4,
         "organic_linker2": 19,
         "CO2/N2_selectivity": 25.46720601,
         "heat_adsorption_CO2_P0.15bar_T298K [kcal/mol]": 6.200198,
         "CO2_working_capacity [mL/g]": 84.0399753748314,
         "_deepnote_index_column": 30
        },
        {
         "volume [A^3]": 2648.735681,
         "weight [u]": 1800.495496,
         "surface_area [m^2/g]": 1068.24,
         "void_fraction": 0.22341,
         "void_volume [cm^3/g]": 0.1979,
         "metal_linker": 10,
         "organic_linker1": 44,
         "organic_linker2": 56,
         "CO2/N2_selectivity": 28.8402435,
         "heat_adsorption_CO2_P0.15bar_T298K [kcal/mol]": 5.997696,
         "CO2_working_capacity [mL/g]": 77.21637118526824,
         "_deepnote_index_column": 31
        },
        {
         "volume [A^3]": 1811.246493,
         "weight [u]": 957.79592,
         "surface_area [m^2/g]": 2277.35,
         "void_fraction": 0.27907,
         "void_volume [cm^3/g]": 0.3178,
         "metal_linker": 2,
         "organic_linker1": 2,
         "organic_linker2": 10,
         "CO2/N2_selectivity": 30.67616776,
         "heat_adsorption_CO2_P0.15bar_T298K [kcal/mol]": 5.951407,
         "CO2_working_capacity [mL/g]": 264.7743641437398,
         "_deepnote_index_column": 32
        },
        {
         "volume [A^3]": 2300.488977,
         "weight [u]": 982.03564,
         "surface_area [m^2/g]": 2909.69,
         "void_fraction": 0.33992,
         "void_volume [cm^3/g]": 0.4795,
         "metal_linker": 2,
         "organic_linker1": 2,
         "organic_linker2": 9,
         "CO2/N2_selectivity": 16.2403506,
         "heat_adsorption_CO2_P0.15bar_T298K [kcal/mol]": 5.48463,
         "CO2_working_capacity [mL/g]": 62.92916102941136,
         "_deepnote_index_column": 33
        },
        {
         "volume [A^3]": 3990.788468,
         "weight [u]": 1931.0772,
         "surface_area [m^2/g]": 2694.1,
         "void_fraction": 0.32799,
         "void_volume [cm^3/g]": 0.4082,
         "metal_linker": 3,
         "organic_linker1": 13,
         "organic_linker2": 13,
         "CO2/N2_selectivity": 12.95779834,
         "heat_adsorption_CO2_P0.15bar_T298K [kcal/mol]": 5.289416,
         "CO2_working_capacity [mL/g]": 80.09365541751342,
         "_deepnote_index_column": 34
        },
        {
         "volume [A^3]": 3046.767549,
         "weight [u]": 985.5793,
         "surface_area [m^2/g]": 3480.31,
         "void_fraction": 0.52022,
         "void_volume [cm^3/g]": 0.9685,
         "metal_linker": 3,
         "organic_linker1": 16,
         "organic_linker2": 27,
         "CO2/N2_selectivity": 13.19123073,
         "heat_adsorption_CO2_P0.15bar_T298K [kcal/mol]": 5.038692,
         "CO2_working_capacity [mL/g]": 93.33312472299396,
         "_deepnote_index_column": 35
        },
        {
         "volume [A^3]": 2509.357174,
         "weight [u]": 899.9318,
         "surface_area [m^2/g]": 3277.33,
         "void_fraction": 0.42139,
         "void_volume [cm^3/g]": 0.7076,
         "metal_linker": 2,
         "organic_linker1": 6,
         "organic_linker2": 15,
         "CO2/N2_selectivity": 19.49111978,
         "heat_adsorption_CO2_P0.15bar_T298K [kcal/mol]": 6.361339,
         "CO2_working_capacity [mL/g]": 61.474011258485305,
         "_deepnote_index_column": 36
        },
        {
         "volume [A^3]": 810.133031,
         "weight [u]": 691.59732,
         "surface_area [m^2/g]": 0,
         "void_fraction": 0,
         "void_volume [cm^3/g]": 0,
         "metal_linker": 2,
         "organic_linker1": 10,
         "organic_linker2": 13,
         "CO2/N2_selectivity": 25.08042926,
         "heat_adsorption_CO2_P0.15bar_T298K [kcal/mol]": 8.718779,
         "CO2_working_capacity [mL/g]": 149.11859813620285,
         "_deepnote_index_column": 37
        },
        {
         "volume [A^3]": 3803.859079,
         "weight [u]": 1488.25624,
         "surface_area [m^2/g]": 2297.13,
         "void_fraction": 0.38719,
         "void_volume [cm^3/g]": 0.596,
         "metal_linker": 2,
         "organic_linker1": 3,
         "organic_linker2": 4,
         "CO2/N2_selectivity": 13.30269543,
         "heat_adsorption_CO2_P0.15bar_T298K [kcal/mol]": 4.940098,
         "CO2_working_capacity [mL/g]": 70.2720960390917,
         "_deepnote_index_column": 38
        },
        {
         "volume [A^3]": 6298.018506,
         "weight [u]": 2984.09296,
         "surface_area [m^2/g]": 2320.05,
         "void_fraction": 0.36905,
         "void_volume [cm^3/g]": 0.4691,
         "metal_linker": 2,
         "organic_linker1": 17,
         "organic_linker2": 17,
         "CO2/N2_selectivity": 13.66093584,
         "heat_adsorption_CO2_P0.15bar_T298K [kcal/mol]": 5.48879,
         "CO2_working_capacity [mL/g]": 64.11209957262815,
         "_deepnote_index_column": 39
        },
        {
         "volume [A^3]": 3063.338667,
         "weight [u]": 1093.98984,
         "surface_area [m^2/g]": 3218.08,
         "void_fraction": 0.49075,
         "void_volume [cm^3/g]": 0.8275,
         "metal_linker": 2,
         "organic_linker1": 17,
         "organic_linker2": 18,
         "CO2/N2_selectivity": 13.86149462,
         "heat_adsorption_CO2_P0.15bar_T298K [kcal/mol]": 5.086847,
         "CO2_working_capacity [mL/g]": 38.4154587228036,
         "_deepnote_index_column": 40
        },
        {
         "volume [A^3]": 3818.179293,
         "weight [u]": 2139.537979,
         "surface_area [m^2/g]": 1972.88,
         "void_fraction": 0.34857,
         "void_volume [cm^3/g]": 0.3746,
         "metal_linker": 3,
         "organic_linker1": 41,
         "organic_linker2": 41,
         "CO2/N2_selectivity": 31.56455057,
         "heat_adsorption_CO2_P0.15bar_T298K [kcal/mol]": 6.524972,
         "CO2_working_capacity [mL/g]": 328.1030104193951,
         "_deepnote_index_column": 41
        },
        {
         "volume [A^3]": 2379.4496870000003,
         "weight [u]": 1423.6104,
         "surface_area [m^2/g]": 1140.4,
         "void_fraction": 0.18193,
         "void_volume [cm^3/g]": 0.1831,
         "metal_linker": 9,
         "organic_linker1": 2,
         "organic_linker2": 25,
         "CO2/N2_selectivity": 42.82049017,
         "heat_adsorption_CO2_P0.15bar_T298K [kcal/mol]": 6.364212,
         "CO2_working_capacity [mL/g]": 295.4252823531823,
         "_deepnote_index_column": 42
        },
        {
         "volume [A^3]": 995.320211,
         "weight [u]": 591.5162,
         "surface_area [m^2/g]": 1224.26,
         "void_fraction": 0.19587,
         "void_volume [cm^3/g]": 0.1985,
         "metal_linker": 2,
         "organic_linker1": 10,
         "organic_linker2": 23,
         "CO2/N2_selectivity": 19.01040433,
         "heat_adsorption_CO2_P0.15bar_T298K [kcal/mol]": 6.350441,
         "CO2_working_capacity [mL/g]": 144.67539776930033,
         "_deepnote_index_column": 43
        },
        {
         "volume [A^3]": 2071.222251,
         "weight [u]": 1364.69264,
         "surface_area [m^2/g]": 1259.37,
         "void_fraction": 0.20088,
         "void_volume [cm^3/g]": 0.1836,
         "metal_linker": 4,
         "organic_linker1": 11,
         "organic_linker2": 11,
         "CO2/N2_selectivity": 28.108380800000003,
         "heat_adsorption_CO2_P0.15bar_T298K [kcal/mol]": 6.347883,
         "CO2_working_capacity [mL/g]": 125.18976203928209,
         "_deepnote_index_column": 44
        }
       ],
       "rows_bottom": [
        {
         "volume [A^3]": 1915.019368,
         "weight [u]": 969.98012,
         "surface_area [m^2/g]": 2023.01,
         "void_fraction": 0.25449,
         "void_volume [cm^3/g]": 0.3026,
         "metal_linker": 2,
         "organic_linker1": 16,
         "organic_linker2": 18,
         "CO2/N2_selectivity": 31.3136184,
         "heat_adsorption_CO2_P0.15bar_T298K [kcal/mol]": 6.252351,
         "CO2_working_capacity [mL/g]": 288.4460109788224,
         "_deepnote_index_column": 19955
        },
        {
         "volume [A^3]": 1594.725947,
         "weight [u]": 1131.66952,
         "surface_area [m^2/g]": 393.28,
         "void_fraction": 0.08134,
         "void_volume [cm^3/g]": 0.069,
         "metal_linker": 3,
         "organic_linker1": 10,
         "organic_linker2": 28,
         "CO2/N2_selectivity": 47.97899232,
         "heat_adsorption_CO2_P0.15bar_T298K [kcal/mol]": 9.637191,
         "CO2_working_capacity [mL/g]": 257.43192436370344,
         "_deepnote_index_column": 19956
        },
        {
         "volume [A^3]": 5276.164899,
         "weight [u]": 3329.13384,
         "surface_area [m^2/g]": 0,
         "void_fraction": 0.06425,
         "void_volume [cm^3/g]": 0.0613,
         "metal_linker": 12,
         "organic_linker1": 11,
         "organic_linker2": 12,
         "CO2/N2_selectivity": 27.13298094,
         "heat_adsorption_CO2_P0.15bar_T298K [kcal/mol]": 7.634299,
         "CO2_working_capacity [mL/g]": 115.5558946959759,
         "_deepnote_index_column": 19957
        },
        {
         "volume [A^3]": 1615.360171,
         "weight [u]": 988.325403,
         "surface_area [m^2/g]": 1366.98,
         "void_fraction": 0.23451,
         "void_volume [cm^3/g]": 0.2308,
         "metal_linker": 9,
         "organic_linker1": 1,
         "organic_linker2": 22,
         "CO2/N2_selectivity": 19.06597294,
         "heat_adsorption_CO2_P0.15bar_T298K [kcal/mol]": 5.339959,
         "CO2_working_capacity [mL/g]": 80.56874572275733,
         "_deepnote_index_column": 19958
        },
        {
         "volume [A^3]": 1483.404096,
         "weight [u]": 805.7344400000001,
         "surface_area [m^2/g]": 1463.06,
         "void_fraction": 0.20634,
         "void_volume [cm^3/g]": 0.2288,
         "metal_linker": 2,
         "organic_linker1": 16,
         "organic_linker2": 24,
         "CO2/N2_selectivity": 24.45551833,
         "heat_adsorption_CO2_P0.15bar_T298K [kcal/mol]": 6.297208,
         "CO2_working_capacity [mL/g]": 176.55134904170853,
         "_deepnote_index_column": 19959
        },
        {
         "volume [A^3]": 2110.468536,
         "weight [u]": 1727.6400199999998,
         "surface_area [m^2/g]": 1242.65,
         "void_fraction": 0.26492,
         "void_volume [cm^3/g]": 0.1949,
         "metal_linker": 2,
         "organic_linker1": 16,
         "organic_linker2": 17,
         "CO2/N2_selectivity": 15.36669406,
         "heat_adsorption_CO2_P0.15bar_T298K [kcal/mol]": 6.024731,
         "CO2_working_capacity [mL/g]": 77.77185376940507,
         "_deepnote_index_column": 19960
        },
        {
         "volume [A^3]": 1623.734693,
         "weight [u]": 1144.53238,
         "surface_area [m^2/g]": 443.72,
         "void_fraction": 0.11732,
         "void_volume [cm^3/g]": 0.1002,
         "metal_linker": 9,
         "organic_linker1": 4,
         "organic_linker2": 2,
         "CO2/N2_selectivity": 69.95728483,
         "heat_adsorption_CO2_P0.15bar_T298K [kcal/mol]": 7.8035,
         "CO2_working_capacity [mL/g]": 299.41402698334525,
         "_deepnote_index_column": 19961
        },
        {
         "volume [A^3]": 2923.536826,
         "weight [u]": 2699.89592,
         "surface_area [m^2/g]": 786.88,
         "void_fraction": 0.17034,
         "void_volume [cm^3/g]": 0.1111,
         "metal_linker": 9,
         "organic_linker1": 16,
         "organic_linker2": 17,
         "CO2/N2_selectivity": 92.07063952,
         "heat_adsorption_CO2_P0.15bar_T298K [kcal/mol]": 7.351278,
         "CO2_working_capacity [mL/g]": 302.16007535990275,
         "_deepnote_index_column": 19962
        },
        {
         "volume [A^3]": 1367.528053,
         "weight [u]": 827.37556,
         "surface_area [m^2/g]": 1482.86,
         "void_fraction": 0.26878,
         "void_volume [cm^3/g]": 0.2675,
         "metal_linker": 2,
         "organic_linker1": 11,
         "organic_linker2": 13,
         "CO2/N2_selectivity": 14.26212553,
         "heat_adsorption_CO2_P0.15bar_T298K [kcal/mol]": 4.997523,
         "CO2_working_capacity [mL/g]": 66.16383598815169,
         "_deepnote_index_column": 19963
        },
        {
         "volume [A^3]": 6476.998335,
         "weight [u]": 3039.68368,
         "surface_area [m^2/g]": 2542.82,
         "void_fraction": 0.36248,
         "void_volume [cm^3/g]": 0.4651,
         "metal_linker": 12,
         "organic_linker1": 1,
         "organic_linker2": 13,
         "CO2/N2_selectivity": 16.27319094,
         "heat_adsorption_CO2_P0.15bar_T298K [kcal/mol]": 5.39325,
         "CO2_working_capacity [mL/g]": 101.99403089218352,
         "_deepnote_index_column": 19964
        },
        {
         "volume [A^3]": 1734.7769399999995,
         "weight [u]": 1466.7867199999998,
         "surface_area [m^2/g]": 651.64,
         "void_fraction": 0.14294,
         "void_volume [cm^3/g]": 0.1018,
         "metal_linker": 3,
         "organic_linker1": 22,
         "organic_linker2": 25,
         "CO2/N2_selectivity": 47.88850608,
         "heat_adsorption_CO2_P0.15bar_T298K [kcal/mol]": 7.369730000000001,
         "CO2_working_capacity [mL/g]": 184.8637786179968,
         "_deepnote_index_column": 19965
        },
        {
         "volume [A^3]": 2265.706923,
         "weight [u]": 1015.83172,
         "surface_area [m^2/g]": 2689.24,
         "void_fraction": 0.34803,
         "void_volume [cm^3/g]": 0.4675,
         "metal_linker": 2,
         "organic_linker1": 2,
         "organic_linker2": 9,
         "CO2/N2_selectivity": 18.13485663,
         "heat_adsorption_CO2_P0.15bar_T298K [kcal/mol]": 5.075003,
         "CO2_working_capacity [mL/g]": 66.55275633532148,
         "_deepnote_index_column": 19966
        },
        {
         "volume [A^3]": 1101.617549,
         "weight [u]": 927.78652,
         "surface_area [m^2/g]": 0,
         "void_fraction": 0.05619,
         "void_volume [cm^3/g]": 0.0402,
         "metal_linker": 2,
         "organic_linker1": 12,
         "organic_linker2": 15,
         "CO2/N2_selectivity": 41.44500654,
         "heat_adsorption_CO2_P0.15bar_T298K [kcal/mol]": 8.959696000000001,
         "CO2_working_capacity [mL/g]": 128.01108532174348,
         "_deepnote_index_column": 19967
        },
        {
         "volume [A^3]": 1574.2808619999998,
         "weight [u]": 691.2698,
         "surface_area [m^2/g]": 3329.53,
         "void_fraction": 0.37418,
         "void_volume [cm^3/g]": 0.5132,
         "metal_linker": 3,
         "organic_linker1": 1,
         "organic_linker2": 17,
         "CO2/N2_selectivity": 9.627229849,
         "heat_adsorption_CO2_P0.15bar_T298K [kcal/mol]": 4.746307,
         "CO2_working_capacity [mL/g]": 50.980260176466246,
         "_deepnote_index_column": 19968
        },
        {
         "volume [A^3]": 5076.049984,
         "weight [u]": 2271.428653,
         "surface_area [m^2/g]": 3170.82,
         "void_fraction": 0.3770699999999999,
         "void_volume [cm^3/g]": 0.5075,
         "metal_linker": 12,
         "organic_linker1": 1,
         "organic_linker2": 22,
         "CO2/N2_selectivity": 11.69497388,
         "heat_adsorption_CO2_P0.15bar_T298K [kcal/mol]": 5.223775,
         "CO2_working_capacity [mL/g]": 69.67319832282176,
         "_deepnote_index_column": 19969
        },
        {
         "volume [A^3]": 2263.347613,
         "weight [u]": 1587.35886,
         "surface_area [m^2/g]": 1386.74,
         "void_fraction": 0.24939,
         "void_volume [cm^3/g]": 0.2141,
         "metal_linker": 4,
         "organic_linker1": 4,
         "organic_linker2": 19,
         "CO2/N2_selectivity": 27.55625111,
         "heat_adsorption_CO2_P0.15bar_T298K [kcal/mol]": 5.600676,
         "CO2_working_capacity [mL/g]": 76.16235742606658,
         "_deepnote_index_column": 19970
        },
        {
         "volume [A^3]": 1128.278858,
         "weight [u]": 746.341946,
         "surface_area [m^2/g]": 702.12,
         "void_fraction": 0.12988,
         "void_volume [cm^3/g]": 0.1182,
         "metal_linker": 3,
         "organic_linker1": 4,
         "organic_linker2": 22,
         "CO2/N2_selectivity": 25.54686435,
         "heat_adsorption_CO2_P0.15bar_T298K [kcal/mol]": 6.472784,
         "CO2_working_capacity [mL/g]": 125.28220490618156,
         "_deepnote_index_column": 19971
        },
        {
         "volume [A^3]": 1142.088632,
         "weight [u]": 935.44796,
         "surface_area [m^2/g]": 356.39,
         "void_fraction": 0.08087,
         "void_volume [cm^3/g]": 0.0595,
         "metal_linker": 3,
         "organic_linker1": 4,
         "organic_linker2": 9,
         "CO2/N2_selectivity": 77.11134897,
         "heat_adsorption_CO2_P0.15bar_T298K [kcal/mol]": 8.225941,
         "CO2_working_capacity [mL/g]": 166.07278500210867,
         "_deepnote_index_column": 19972
        },
        {
         "volume [A^3]": 1129.329733,
         "weight [u]": 951.49668,
         "surface_area [m^2/g]": 0,
         "void_fraction": 0.07797,
         "void_volume [cm^3/g]": 0.0557,
         "metal_linker": 2,
         "organic_linker1": 4,
         "organic_linker2": 12,
         "CO2/N2_selectivity": 60.52948175,
         "heat_adsorption_CO2_P0.15bar_T298K [kcal/mol]": 6.830593,
         "CO2_working_capacity [mL/g]": 96.7584630947144,
         "_deepnote_index_column": 19973
        },
        {
         "volume [A^3]": 2389.0359120000003,
         "weight [u]": 968.87124,
         "surface_area [m^2/g]": 3179.69,
         "void_fraction": 0.37399,
         "void_volume [cm^3/g]": 0.5553,
         "metal_linker": 2,
         "organic_linker1": 16,
         "organic_linker2": 26,
         "CO2/N2_selectivity": 16.89079431,
         "heat_adsorption_CO2_P0.15bar_T298K [kcal/mol]": 5.602545,
         "CO2_working_capacity [mL/g]": 134.03027149273342,
         "_deepnote_index_column": 19974
        },
        {
         "volume [A^3]": 898.785821,
         "weight [u]": 590.48838,
         "surface_area [m^2/g]": 1179.05,
         "void_fraction": 0.17351,
         "void_volume [cm^3/g]": 0.159,
         "metal_linker": 2,
         "organic_linker1": 4,
         "organic_linker2": 10,
         "CO2/N2_selectivity": 29.42947145,
         "heat_adsorption_CO2_P0.15bar_T298K [kcal/mol]": 6.312621,
         "CO2_working_capacity [mL/g]": 198.45568635353152,
         "_deepnote_index_column": 19975
        },
        {
         "volume [A^3]": 1885.494446,
         "weight [u]": 1384.023436,
         "surface_area [m^2/g]": 919.3,
         "void_fraction": 0.1727,
         "void_volume [cm^3/g]": 0.1417,
         "metal_linker": 2,
         "organic_linker1": 16,
         "organic_linker2": 21,
         "CO2/N2_selectivity": 38.22237002,
         "heat_adsorption_CO2_P0.15bar_T298K [kcal/mol]": 6.782057000000001,
         "CO2_working_capacity [mL/g]": 165.09734767977153,
         "_deepnote_index_column": 19976
        },
        {
         "volume [A^3]": 3018.284118,
         "weight [u]": 1223.76972,
         "surface_area [m^2/g]": 2593.55,
         "void_fraction": 0.37349,
         "void_volume [cm^3/g]": 0.5547,
         "metal_linker": 3,
         "organic_linker1": 16,
         "organic_linker2": 27,
         "CO2/N2_selectivity": 13.64386512,
         "heat_adsorption_CO2_P0.15bar_T298K [kcal/mol]": 4.945465,
         "CO2_working_capacity [mL/g]": 49.99079134754614,
         "_deepnote_index_column": 19977
        },
        {
         "volume [A^3]": 2975.712741,
         "weight [u]": 1263.83028,
         "surface_area [m^2/g]": 3114.94,
         "void_fraction": 0.31806,
         "void_volume [cm^3/g]": 0.451,
         "metal_linker": 3,
         "organic_linker1": 11,
         "organic_linker2": 29,
         "CO2/N2_selectivity": 15.22133907,
         "heat_adsorption_CO2_P0.15bar_T298K [kcal/mol]": 5.536437,
         "CO2_working_capacity [mL/g]": 164.07156201028377,
         "_deepnote_index_column": 19978
        },
        {
         "volume [A^3]": 2867.85634,
         "weight [u]": 1079.92182,
         "surface_area [m^2/g]": 3653.27,
         "void_fraction": 0.43637,
         "void_volume [cm^3/g]": 0.6979,
         "metal_linker": 2,
         "organic_linker1": 4,
         "organic_linker2": 29,
         "CO2/N2_selectivity": 8.601845941,
         "heat_adsorption_CO2_P0.15bar_T298K [kcal/mol]": 4.625645,
         "CO2_working_capacity [mL/g]": 60.44541928768097,
         "_deepnote_index_column": 19979
        },
        {
         "volume [A^3]": 2064.587256,
         "weight [u]": 1051.6906,
         "surface_area [m^2/g]": 2201.68,
         "void_fraction": 0.27738,
         "void_volume [cm^3/g]": 0.3279,
         "metal_linker": 12,
         "organic_linker1": 1,
         "organic_linker2": 10,
         "CO2/N2_selectivity": 16.94934556,
         "heat_adsorption_CO2_P0.15bar_T298K [kcal/mol]": 5.879281,
         "CO2_working_capacity [mL/g]": 131.89665710938473,
         "_deepnote_index_column": 19980
        },
        {
         "volume [A^3]": 6085.440664,
         "weight [u]": 3161.26034,
         "surface_area [m^2/g]": 725.31,
         "void_fraction": 0.14343,
         "void_volume [cm^3/g]": 0.1663,
         "metal_linker": 4,
         "organic_linker1": 3,
         "organic_linker2": 7,
         "CO2/N2_selectivity": 20.40060604,
         "heat_adsorption_CO2_P0.15bar_T298K [kcal/mol]": 6.0119,
         "CO2_working_capacity [mL/g]": 120.12158186152011,
         "_deepnote_index_column": 19981
        },
        {
         "volume [A^3]": 4383.764416,
         "weight [u]": 1723.4298199999998,
         "surface_area [m^2/g]": 3054.98,
         "void_fraction": 0.38404,
         "void_volume [cm^3/g]": 0.5883,
         "metal_linker": 12,
         "organic_linker1": 13,
         "organic_linker2": 17,
         "CO2/N2_selectivity": 13.36349237,
         "heat_adsorption_CO2_P0.15bar_T298K [kcal/mol]": 5.131789,
         "CO2_working_capacity [mL/g]": 97.38575397724632,
         "_deepnote_index_column": 19982
        },
        {
         "volume [A^3]": 1976.577845,
         "weight [u]": 1694.496136,
         "surface_area [m^2/g]": 443.92,
         "void_fraction": 0.09956,
         "void_volume [cm^3/g]": 0.0699,
         "metal_linker": 10,
         "organic_linker1": 46,
         "organic_linker2": 55,
         "CO2/N2_selectivity": 34.93791462,
         "heat_adsorption_CO2_P0.15bar_T298K [kcal/mol]": 6.903562,
         "CO2_working_capacity [mL/g]": 98.81977395002392,
         "_deepnote_index_column": 19983
        },
        {
         "volume [A^3]": 1793.248364,
         "weight [u]": 816.6413299999999,
         "surface_area [m^2/g]": 2705.2,
         "void_fraction": 0.36438,
         "void_volume [cm^3/g]": 0.4819,
         "metal_linker": 2,
         "organic_linker1": 14,
         "organic_linker2": 26,
         "CO2/N2_selectivity": 15.31189109,
         "heat_adsorption_CO2_P0.15bar_T298K [kcal/mol]": 5.502676,
         "CO2_working_capacity [mL/g]": 77.03891389613094,
         "_deepnote_index_column": 19984
        },
        {
         "volume [A^3]": 1128.337782,
         "weight [u]": 793.76372,
         "surface_area [m^2/g]": 0,
         "void_fraction": 0.06802,
         "void_volume [cm^3/g]": 0.0582,
         "metal_linker": 2,
         "organic_linker1": 1,
         "organic_linker2": 4,
         "CO2/N2_selectivity": 46.10205857,
         "heat_adsorption_CO2_P0.15bar_T298K [kcal/mol]": 7.859323,
         "CO2_working_capacity [mL/g]": 222.92019584882493,
         "_deepnote_index_column": 19985
        },
        {
         "volume [A^3]": 1128.263707,
         "weight [u]": 777.55562,
         "surface_area [m^2/g]": 1005.34,
         "void_fraction": 0.17213,
         "void_volume [cm^3/g]": 0.1504,
         "metal_linker": 2,
         "organic_linker1": 4,
         "organic_linker2": 4,
         "CO2/N2_selectivity": 65.76054257,
         "heat_adsorption_CO2_P0.15bar_T298K [kcal/mol]": 6.754144999999999,
         "CO2_working_capacity [mL/g]": 343.0709962593473,
         "_deepnote_index_column": 19986
        },
        {
         "volume [A^3]": 2532.558608,
         "weight [u]": 1053.61702,
         "surface_area [m^2/g]": 3219.12,
         "void_fraction": 0.39078,
         "void_volume [cm^3/g]": 0.5657,
         "metal_linker": 3,
         "organic_linker1": 16,
         "organic_linker2": 23,
         "CO2/N2_selectivity": 14.45635165,
         "heat_adsorption_CO2_P0.15bar_T298K [kcal/mol]": 5.00802,
         "CO2_working_capacity [mL/g]": 91.07190616801437,
         "_deepnote_index_column": 19987
        },
        {
         "volume [A^3]": 8829.697436,
         "weight [u]": 4857.084797,
         "surface_area [m^2/g]": 1789.81,
         "void_fraction": 0.28125,
         "void_volume [cm^3/g]": 0.3079,
         "metal_linker": 1,
         "organic_linker1": 1,
         "organic_linker2": 11,
         "CO2/N2_selectivity": 16.26166569,
         "heat_adsorption_CO2_P0.15bar_T298K [kcal/mol]": 5.47885,
         "CO2_working_capacity [mL/g]": 68.83543484154556,
         "_deepnote_index_column": 19988
        },
        {
         "volume [A^3]": 2997.478353,
         "weight [u]": 1097.83676,
         "surface_area [m^2/g]": 3285.34,
         "void_fraction": 0.40892,
         "void_volume [cm^3/g]": 0.6724,
         "metal_linker": 3,
         "organic_linker1": 17,
         "organic_linker2": 20,
         "CO2/N2_selectivity": 8.664079351,
         "heat_adsorption_CO2_P0.15bar_T298K [kcal/mol]": 5.102883,
         "CO2_working_capacity [mL/g]": 57.170960880864286,
         "_deepnote_index_column": 19989
        },
        {
         "volume [A^3]": 1605.805982,
         "weight [u]": 1126.47096,
         "surface_area [m^2/g]": 679.77,
         "void_fraction": 0.1102799999999999,
         "void_volume [cm^3/g]": 0.0947,
         "metal_linker": 9,
         "organic_linker1": 1,
         "organic_linker2": 24,
         "CO2/N2_selectivity": 22.61477782,
         "heat_adsorption_CO2_P0.15bar_T298K [kcal/mol]": 6.528509,
         "CO2_working_capacity [mL/g]": 124.9768132923173,
         "_deepnote_index_column": 19990
        },
        {
         "volume [A^3]": 4296.739427,
         "weight [u]": 1535.0797,
         "surface_area [m^2/g]": 3708.54,
         "void_fraction": 0.4671399999999999,
         "void_volume [cm^3/g]": 0.7874,
         "metal_linker": 12,
         "organic_linker1": 13,
         "organic_linker2": 17,
         "CO2/N2_selectivity": 14.57178748,
         "heat_adsorption_CO2_P0.15bar_T298K [kcal/mol]": 4.801615,
         "CO2_working_capacity [mL/g]": 60.14200859239315,
         "_deepnote_index_column": 19991
        },
        {
         "volume [A^3]": 4597.892468,
         "weight [u]": 2025.4949,
         "surface_area [m^2/g]": 2573.15,
         "void_fraction": 0.3571,
         "void_volume [cm^3/g]": 0.4882,
         "metal_linker": 4,
         "organic_linker1": 17,
         "organic_linker2": 23,
         "CO2/N2_selectivity": 22.06196066,
         "heat_adsorption_CO2_P0.15bar_T298K [kcal/mol]": 5.400854,
         "CO2_working_capacity [mL/g]": 131.77284969835867,
         "_deepnote_index_column": 19992
        },
        {
         "volume [A^3]": 2246.349941,
         "weight [u]": 1844.14768,
         "surface_area [m^2/g]": 850.67,
         "void_fraction": 0.1636099999999999,
         "void_volume [cm^3/g]": 0.12,
         "metal_linker": 9,
         "organic_linker1": 1,
         "organic_linker2": 17,
         "CO2/N2_selectivity": 36.65075671,
         "heat_adsorption_CO2_P0.15bar_T298K [kcal/mol]": 6.999496000000001,
         "CO2_working_capacity [mL/g]": 161.5696618482696,
         "_deepnote_index_column": 19993
        },
        {
         "volume [A^3]": 1426.344845,
         "weight [u]": 895.53166,
         "surface_area [m^2/g]": 589.29,
         "void_fraction": 0.10626,
         "void_volume [cm^3/g]": 0.1019,
         "metal_linker": 3,
         "organic_linker1": 4,
         "organic_linker2": 21,
         "CO2/N2_selectivity": 35.35983789,
         "heat_adsorption_CO2_P0.15bar_T298K [kcal/mol]": 6.81653,
         "CO2_working_capacity [mL/g]": 159.78501928746624,
         "_deepnote_index_column": 19994
        },
        {
         "volume [A^3]": 5189.923599000001,
         "weight [u]": 2423.54144,
         "surface_area [m^2/g]": 2944.18,
         "void_fraction": 0.3367199999999999,
         "void_volume [cm^3/g]": 0.4342,
         "metal_linker": 12,
         "organic_linker1": 11,
         "organic_linker2": 11,
         "CO2/N2_selectivity": 8.852425761000001,
         "heat_adsorption_CO2_P0.15bar_T298K [kcal/mol]": 4.787996,
         "CO2_working_capacity [mL/g]": 63.357864824657526,
         "_deepnote_index_column": 19995
        },
        {
         "volume [A^3]": 13710.436745,
         "weight [u]": 4426.378,
         "surface_area [m^2/g]": 3208.43,
         "void_fraction": 0.44798,
         "void_volume [cm^3/g]": 0.8356,
         "metal_linker": 3,
         "organic_linker1": 3,
         "organic_linker2": 3,
         "CO2/N2_selectivity": 14.8056893,
         "heat_adsorption_CO2_P0.15bar_T298K [kcal/mol]": 4.909318,
         "CO2_working_capacity [mL/g]": 90.6669733956852,
         "_deepnote_index_column": 19996
        },
        {
         "volume [A^3]": 1215.143789,
         "weight [u]": 691.01496,
         "surface_area [m^2/g]": 2102.05,
         "void_fraction": 0.3310599999999999,
         "void_volume [cm^3/g]": 0.3506,
         "metal_linker": 3,
         "organic_linker1": 1,
         "organic_linker2": 19,
         "CO2/N2_selectivity": 18.93154465,
         "heat_adsorption_CO2_P0.15bar_T298K [kcal/mol]": 5.574042,
         "CO2_working_capacity [mL/g]": 78.37355778699163,
         "_deepnote_index_column": 19997
        },
        {
         "volume [A^3]": 1271.408263,
         "weight [u]": 713.46376,
         "surface_area [m^2/g]": 1818.66,
         "void_fraction": 0.22698,
         "void_volume [cm^3/g]": 0.2436,
         "metal_linker": 2,
         "organic_linker1": 12,
         "organic_linker2": 13,
         "CO2/N2_selectivity": 19.42797408,
         "heat_adsorption_CO2_P0.15bar_T298K [kcal/mol]": 5.772101999999999,
         "CO2_working_capacity [mL/g]": 114.99909149945478,
         "_deepnote_index_column": 19998
        },
        {
         "volume [A^3]": 1646.78834,
         "weight [u]": 894.87728,
         "surface_area [m^2/g]": 1264.5,
         "void_fraction": 0.1877,
         "void_volume [cm^3/g]": 0.208,
         "metal_linker": 2,
         "organic_linker1": 16,
         "organic_linker2": 19,
         "CO2/N2_selectivity": 28.19799629,
         "heat_adsorption_CO2_P0.15bar_T298K [kcal/mol]": 6.243139,
         "CO2_working_capacity [mL/g]": 221.4970709282176,
         "_deepnote_index_column": 19999
        }
       ]
      },
      "text/plain": "       volume [A^3]   weight [u]  surface_area [m^2/g]  void_fraction  \\\n0       1116.667429   875.240600                  0.00        0.07899   \n1       2769.503842  2211.697211                603.61        0.13794   \n2       1089.818728   773.687960                788.50        0.14874   \n3       2205.198301  1304.638720               1441.53        0.21814   \n4       1137.800963   901.736120                  0.00        0.07778   \n...             ...          ...                   ...            ...   \n19995   5189.923599  2423.541440               2944.18        0.33672   \n19996  13710.436745  4426.378000               3208.43        0.44798   \n19997   1215.143789   691.014960               2102.05        0.33106   \n19998   1271.408263   713.463760               1818.66        0.22698   \n19999   1646.788340   894.877280               1264.50        0.18770   \n\n       void_volume [cm^3/g]  metal_linker  organic_linker1  organic_linker2  \\\n0                    0.0607             3                4               11   \n1                    0.1040            10               44               57   \n2                    0.1262             2               22               24   \n3                    0.2220             9               17               24   \n4                    0.0591             2                1               22   \n...                     ...           ...              ...              ...   \n19995                0.4342            12               11               11   \n19996                0.8356             3                3                3   \n19997                0.3506             3                1               19   \n19998                0.2436             2               12               13   \n19999                0.2080             2               16               19   \n\n       CO2/N2_selectivity  heat_adsorption_CO2_P0.15bar_T298K [kcal/mol]  \\\n0             22.86416611                                       6.786041   \n1             33.61678033                                       7.147286   \n2             19.26372569                                       6.347967   \n3             25.70137692                                       6.190085   \n4             30.00183795                                       6.478063   \n...                   ...                                            ...   \n19995          8.85242576                                       4.787996   \n19996         14.80568930                                       4.909318   \n19997         18.93154465                                       5.574042   \n19998         19.42797408                                       5.772102   \n19999         28.19799629                                       6.243139   \n\n       CO2_working_capacity [mL/g]  \n0                     105.28450172  \n1                     101.22477418  \n2                     118.98701075  \n3                     187.62600450  \n4                      79.21000066  \n...                            ...  \n19995                  63.35786482  \n19996                  90.66697340  \n19997                  78.37355779  \n19998                 114.99909150  \n19999                 221.49707093  \n\n[20000 rows x 11 columns]",
      "text/html": "<div>\n<style scoped>\n    .dataframe tbody tr th:only-of-type {\n        vertical-align: middle;\n    }\n\n    .dataframe tbody tr th {\n        vertical-align: top;\n    }\n\n    .dataframe thead th {\n        text-align: right;\n    }\n</style>\n<table border=\"1\" class=\"dataframe\">\n  <thead>\n    <tr style=\"text-align: right;\">\n      <th></th>\n      <th>volume [A^3]</th>\n      <th>weight [u]</th>\n      <th>surface_area [m^2/g]</th>\n      <th>void_fraction</th>\n      <th>void_volume [cm^3/g]</th>\n      <th>metal_linker</th>\n      <th>organic_linker1</th>\n      <th>organic_linker2</th>\n      <th>CO2/N2_selectivity</th>\n      <th>heat_adsorption_CO2_P0.15bar_T298K [kcal/mol]</th>\n      <th>CO2_working_capacity [mL/g]</th>\n    </tr>\n  </thead>\n  <tbody>\n    <tr>\n      <th>0</th>\n      <td>1116.667429</td>\n      <td>875.240600</td>\n      <td>0.00</td>\n      <td>0.07899</td>\n      <td>0.0607</td>\n      <td>3</td>\n      <td>4</td>\n      <td>11</td>\n      <td>22.86416611</td>\n      <td>6.786041</td>\n      <td>105.28450172</td>\n    </tr>\n    <tr>\n      <th>1</th>\n      <td>2769.503842</td>\n      <td>2211.697211</td>\n      <td>603.61</td>\n      <td>0.13794</td>\n      <td>0.1040</td>\n      <td>10</td>\n      <td>44</td>\n      <td>57</td>\n      <td>33.61678033</td>\n      <td>7.147286</td>\n      <td>101.22477418</td>\n    </tr>\n    <tr>\n      <th>2</th>\n      <td>1089.818728</td>\n      <td>773.687960</td>\n      <td>788.50</td>\n      <td>0.14874</td>\n      <td>0.1262</td>\n      <td>2</td>\n      <td>22</td>\n      <td>24</td>\n      <td>19.26372569</td>\n      <td>6.347967</td>\n      <td>118.98701075</td>\n    </tr>\n    <tr>\n      <th>3</th>\n      <td>2205.198301</td>\n      <td>1304.638720</td>\n      <td>1441.53</td>\n      <td>0.21814</td>\n      <td>0.2220</td>\n      <td>9</td>\n      <td>17</td>\n      <td>24</td>\n      <td>25.70137692</td>\n      <td>6.190085</td>\n      <td>187.62600450</td>\n    </tr>\n    <tr>\n      <th>4</th>\n      <td>1137.800963</td>\n      <td>901.736120</td>\n      <td>0.00</td>\n      <td>0.07778</td>\n      <td>0.0591</td>\n      <td>2</td>\n      <td>1</td>\n      <td>22</td>\n      <td>30.00183795</td>\n      <td>6.478063</td>\n      <td>79.21000066</td>\n    </tr>\n    <tr>\n      <th>...</th>\n      <td>...</td>\n      <td>...</td>\n      <td>...</td>\n      <td>...</td>\n      <td>...</td>\n      <td>...</td>\n      <td>...</td>\n      <td>...</td>\n      <td>...</td>\n      <td>...</td>\n      <td>...</td>\n    </tr>\n    <tr>\n      <th>19995</th>\n      <td>5189.923599</td>\n      <td>2423.541440</td>\n      <td>2944.18</td>\n      <td>0.33672</td>\n      <td>0.4342</td>\n      <td>12</td>\n      <td>11</td>\n      <td>11</td>\n      <td>8.85242576</td>\n      <td>4.787996</td>\n      <td>63.35786482</td>\n    </tr>\n    <tr>\n      <th>19996</th>\n      <td>13710.436745</td>\n      <td>4426.378000</td>\n      <td>3208.43</td>\n      <td>0.44798</td>\n      <td>0.8356</td>\n      <td>3</td>\n      <td>3</td>\n      <td>3</td>\n      <td>14.80568930</td>\n      <td>4.909318</td>\n      <td>90.66697340</td>\n    </tr>\n    <tr>\n      <th>19997</th>\n      <td>1215.143789</td>\n      <td>691.014960</td>\n      <td>2102.05</td>\n      <td>0.33106</td>\n      <td>0.3506</td>\n      <td>3</td>\n      <td>1</td>\n      <td>19</td>\n      <td>18.93154465</td>\n      <td>5.574042</td>\n      <td>78.37355779</td>\n    </tr>\n    <tr>\n      <th>19998</th>\n      <td>1271.408263</td>\n      <td>713.463760</td>\n      <td>1818.66</td>\n      <td>0.22698</td>\n      <td>0.2436</td>\n      <td>2</td>\n      <td>12</td>\n      <td>13</td>\n      <td>19.42797408</td>\n      <td>5.772102</td>\n      <td>114.99909150</td>\n    </tr>\n    <tr>\n      <th>19999</th>\n      <td>1646.788340</td>\n      <td>894.877280</td>\n      <td>1264.50</td>\n      <td>0.18770</td>\n      <td>0.2080</td>\n      <td>2</td>\n      <td>16</td>\n      <td>19</td>\n      <td>28.19799629</td>\n      <td>6.243139</td>\n      <td>221.49707093</td>\n    </tr>\n  </tbody>\n</table>\n<p>20000 rows × 11 columns</p>\n</div>"
     },
     "metadata": {}
    }
   ]
  },
  {
   "cell_type": "code",
   "metadata": {
    "tags": [],
    "deepnote_to_be_reexecuted": false,
    "source_hash": "3227d3b0",
    "execution_start": 1633152509175,
    "execution_millis": 9,
    "cell_id": "00012-09936c5b-e380-49c7-9fb7-35f8acc9db25",
    "deepnote_output_heights": [
     232.25
    ],
    "deepnote_cell_type": "code"
   },
   "source": "# find rows having NaN\ntrain.isnull().any(axis=0)",
   "execution_count": null,
   "outputs": [
    {
     "output_type": "execute_result",
     "execution_count": 7,
     "data": {
      "text/plain": "volume [A^3]                                     False\nweight [u]                                       False\nsurface_area [m^2/g]                             False\nvoid_fraction                                    False\nvoid_volume [cm^3/g]                             False\nmetal_linker                                     False\norganic_linker1                                  False\norganic_linker2                                  False\nCO2/N2_selectivity                               False\nheat_adsorption_CO2_P0.15bar_T298K [kcal/mol]    False\nCO2_working_capacity [mL/g]                      False\ndtype: bool"
     },
     "metadata": {}
    }
   ]
  },
  {
   "cell_type": "code",
   "metadata": {
    "deepnote_to_be_reexecuted": false,
    "source_hash": "e7d885b7",
    "execution_start": 1633152509176,
    "execution_millis": 8,
    "cell_id": "00013-d8599a67-4dd2-4ec8-90ab-cc02bbd96a38",
    "deepnote_output_heights": [
     232.25
    ],
    "deepnote_cell_type": "code"
   },
   "source": "# find row having inf\nnp.isinf(train).any(axis=0)",
   "execution_count": null,
   "outputs": [
    {
     "output_type": "execute_result",
     "execution_count": 8,
     "data": {
      "text/plain": "volume [A^3]                                     False\nweight [u]                                       False\nsurface_area [m^2/g]                             False\nvoid_fraction                                    False\nvoid_volume [cm^3/g]                             False\nmetal_linker                                     False\norganic_linker1                                  False\norganic_linker2                                  False\nCO2/N2_selectivity                               False\nheat_adsorption_CO2_P0.15bar_T298K [kcal/mol]    False\nCO2_working_capacity [mL/g]                      False\ndtype: bool"
     },
     "metadata": {}
    }
   ]
  },
  {
   "cell_type": "markdown",
   "source": "## 3. Prepare training and test sets",
   "metadata": {
    "tags": [],
    "cell_id": "00014-2c5ad603-e031-4236-bada-a668fbaecf11",
    "deepnote_cell_type": "markdown"
   }
  },
  {
   "cell_type": "markdown",
   "source": "Prepare input\n- x_train = train input\n- y_train = train output\n- x_test = test input\n- y_test = test predict",
   "metadata": {
    "id": "Vqjek9LIJbmK",
    "cell_id": "00015-7bfbad0c-4c23-4816-9c39-ac8ace70d40d",
    "deepnote_cell_type": "markdown"
   }
  },
  {
   "cell_type": "code",
   "metadata": {
    "executionInfo": {
     "elapsed": 219,
     "status": "ok",
     "timestamp": 1626879944638,
     "user": {
      "displayName": "Rangsiman",
      "photoUrl": "https://lh3.googleusercontent.com/a-/AOh14Ghrx1oKpguOx-cYNgdxV7f3KiO9I6z1viS7Fhy_uw=s64",
      "userId": "07053109212140093737"
     },
     "user_tz": -120
    },
    "id": "7bq8D1sMmFqz",
    "deepnote_to_be_reexecuted": false,
    "source_hash": "4e208ce1",
    "execution_start": 1633152509176,
    "execution_millis": 14,
    "cell_id": "00016-2280873d-325e-49fd-bc6e-b207d3757ba3",
    "deepnote_cell_type": "code"
   },
   "source": "ratio = 0.8\ntrain_size = math.floor(train.shape[0]*0.8)\ntest_size = train.shape[0] - train_size\nprint(\"dataset size:\", train.shape[0])\nprint(\"train size:\", train_size)\nprint(\"test size:\", test_size)",
   "execution_count": null,
   "outputs": [
    {
     "name": "stdout",
     "text": "dataset size: 20000\ntrain size: 16000\ntest size: 4000\n",
     "output_type": "stream"
    }
   ]
  },
  {
   "cell_type": "code",
   "metadata": {
    "deepnote_to_be_reexecuted": false,
    "source_hash": "515b194f",
    "execution_start": 1633152509188,
    "execution_millis": 7,
    "cell_id": "00017-106c690e-71d6-4fc1-b909-c133fcec9378",
    "deepnote_output_heights": [
     213.0625
    ],
    "deepnote_cell_type": "code"
   },
   "source": "feat = list(train.columns.values)\nfeat = {k: v for k, v in enumerate(feat)}\nfeat",
   "execution_count": null,
   "outputs": [
    {
     "output_type": "execute_result",
     "execution_count": 10,
     "data": {
      "text/plain": "{0: 'volume [A^3]',\n 1: 'weight [u]',\n 2: 'surface_area [m^2/g]',\n 3: 'void_fraction',\n 4: 'void_volume [cm^3/g]',\n 5: 'metal_linker',\n 6: 'organic_linker1',\n 7: 'organic_linker2',\n 8: 'CO2/N2_selectivity',\n 9: 'heat_adsorption_CO2_P0.15bar_T298K [kcal/mol]',\n 10: 'CO2_working_capacity [mL/g]'}"
     },
     "metadata": {}
    }
   ]
  },
  {
   "cell_type": "code",
   "metadata": {
    "colab": {
     "base_uri": "https://localhost:8080/"
    },
    "executionInfo": {
     "elapsed": 16,
     "status": "ok",
     "timestamp": 1626879945002,
     "user": {
      "displayName": "Rangsiman",
      "photoUrl": "https://lh3.googleusercontent.com/a-/AOh14Ghrx1oKpguOx-cYNgdxV7f3KiO9I6z1viS7Fhy_uw=s64",
      "userId": "07053109212140093737"
     },
     "user_tz": -120
    },
    "id": "4jUHDryFJkZC",
    "outputId": "6f2ffab5-c1f7-4f02-d4a1-5b520879c4f4",
    "deepnote_to_be_reexecuted": false,
    "source_hash": "5a8fc099",
    "execution_start": 1633152509239,
    "execution_millis": 0,
    "cell_id": "00018-2a8e5484-4bb5-42a0-b33e-676597928150",
    "deepnote_cell_type": "code"
   },
   "source": "x_train = train.iloc[0:train_size, :-1].astype(np.float32)\ny_train = train.iloc[0:train_size, -1].astype(np.float32)\nx_test = train.iloc[train_size:train_size+test_size, :-1].astype(np.float32)\ny_true = train.iloc[train_size:train_size+test_size, -1].astype(np.float32)",
   "execution_count": null,
   "outputs": []
  },
  {
   "cell_type": "markdown",
   "source": "## 4. Neural network",
   "metadata": {
    "tags": [],
    "cell_id": "00047-35503a68-cd9d-4149-a7bc-f1829927c7c2",
    "deepnote_cell_type": "markdown"
   }
  },
  {
   "cell_type": "markdown",
   "source": "### 4.1: Feed forward neural network",
   "metadata": {
    "tags": [],
    "cell_id": "00048-2fbd60bd-75f6-43b3-bf50-1e4433e6c64e",
    "deepnote_cell_type": "markdown"
   }
  },
  {
   "cell_type": "code",
   "metadata": {
    "deepnote_to_be_reexecuted": false,
    "source_hash": "65b553d1",
    "execution_start": 1633153621501,
    "execution_millis": 5,
    "cell_id": "00050-4fb812ef-6a08-4924-b026-5f856dd66f72",
    "deepnote_cell_type": "code"
   },
   "source": "import tensorflow as tf\nfrom tensorflow.keras.models import Sequential\nfrom tensorflow.keras.layers import Dense",
   "execution_count": null,
   "outputs": []
  },
  {
   "cell_type": "code",
   "metadata": {
    "deepnote_to_be_reexecuted": false,
    "source_hash": "428f6543",
    "execution_start": 1633152514436,
    "execution_millis": 57,
    "cell_id": "00054-c934c388-ce79-4c03-8afc-8016a6da8ca6",
    "deepnote_cell_type": "code"
   },
   "source": "model = Sequential()\nmodel.add(Dense(12, input_dim=(x_train.shape[1]), activation='relu')) # input\nmodel.add(Dense(24, activation='relu')) # hidden 1\nmodel.add(Dense(12, activation='relu')) # hidden 2\nmodel.add(Dense(1, activation='linear')) # output",
   "execution_count": null,
   "outputs": [
    {
     "name": "stderr",
     "text": "2021-10-02 05:28:34.439591: I tensorflow/compiler/jit/xla_cpu_device.cc:41] Not creating XLA devices, tf_xla_enable_xla_devices not set\n2021-10-02 05:28:34.439850: W tensorflow/stream_executor/platform/default/dso_loader.cc:60] Could not load dynamic library 'libcuda.so.1'; dlerror: libcuda.so.1: cannot open shared object file: No such file or directory\n2021-10-02 05:28:34.439867: W tensorflow/stream_executor/cuda/cuda_driver.cc:326] failed call to cuInit: UNKNOWN ERROR (303)\n2021-10-02 05:28:34.439893: I tensorflow/stream_executor/cuda/cuda_diagnostics.cc:156] kernel driver does not appear to be running on this host (p-298852d4-1a55-4c9f-9b50-0f7ec627b93a): /proc/driver/nvidia/version does not exist\n2021-10-02 05:28:34.440117: I tensorflow/core/platform/cpu_feature_guard.cc:142] This TensorFlow binary is optimized with oneAPI Deep Neural Network Library (oneDNN) to use the following CPU instructions in performance-critical operations:  AVX2 FMA\nTo enable them in other operations, rebuild TensorFlow with the appropriate compiler flags.\n2021-10-02 05:28:34.440241: I tensorflow/compiler/jit/xla_gpu_device.cc:99] Not creating XLA devices, tf_xla_enable_xla_devices not set\n",
     "output_type": "stream"
    }
   ]
  },
  {
   "cell_type": "code",
   "metadata": {
    "tags": [],
    "deepnote_to_be_reexecuted": false,
    "source_hash": "c7a7d7a",
    "execution_start": 1633152514497,
    "execution_millis": 27195,
    "cell_id": "00055-298ebb7c-2487-4a90-aad6-d0b58978380c",
    "deepnote_output_heights": [
     null,
     21.1875
    ],
    "deepnote_cell_type": "code"
   },
   "source": "model.compile(loss='mae', optimizer='adam', metrics=['accuracy'])\nmodel.fit(x_train, y_train, epochs=100, batch_size=64)",
   "execution_count": null,
   "outputs": [
    {
     "name": "stderr",
     "text": "2021-10-02 05:28:34.561814: I tensorflow/compiler/mlir/mlir_graph_optimization_pass.cc:116] None of the MLIR optimization passes are enabled (registered 2)\n2021-10-02 05:28:34.579301: I tensorflow/core/platform/profile_utils/cpu_utils.cc:112] CPU Frequency: 2199555000 Hz\nEpoch 1/100\n250/250 [==============================] - 1s 1ms/step - loss: 86.3240 - accuracy: 0.0000e+00\nEpoch 2/100\n250/250 [==============================] - 0s 960us/step - loss: 64.7644 - accuracy: 0.0000e+00\nEpoch 3/100\n250/250 [==============================] - 0s 1ms/step - loss: 59.2862 - accuracy: 0.0000e+00\nEpoch 4/100\n250/250 [==============================] - 0s 1ms/step - loss: 51.1190 - accuracy: 0.0000e+00\nEpoch 5/100\n250/250 [==============================] - 0s 1ms/step - loss: 44.5639 - accuracy: 0.0000e+00\nEpoch 6/100\n250/250 [==============================] - 0s 985us/step - loss: 42.0850 - accuracy: 0.0000e+00\nEpoch 7/100\n250/250 [==============================] - 0s 1ms/step - loss: 39.9121 - accuracy: 0.0000e+00\nEpoch 8/100\n250/250 [==============================] - 0s 970us/step - loss: 38.1464 - accuracy: 0.0000e+00\nEpoch 9/100\n250/250 [==============================] - 0s 1ms/step - loss: 37.1403 - accuracy: 0.0000e+00\nEpoch 10/100\n250/250 [==============================] - 0s 1ms/step - loss: 35.9208 - accuracy: 0.0000e+00\nEpoch 11/100\n250/250 [==============================] - 0s 1ms/step - loss: 35.9825 - accuracy: 0.0000e+00\nEpoch 12/100\n250/250 [==============================] - 0s 993us/step - loss: 36.5610 - accuracy: 0.0000e+00\nEpoch 13/100\n250/250 [==============================] - 0s 925us/step - loss: 35.7247 - accuracy: 0.0000e+00\nEpoch 14/100\n250/250 [==============================] - 0s 1ms/step - loss: 35.5346 - accuracy: 0.0000e+00\nEpoch 15/100\n250/250 [==============================] - 0s 1ms/step - loss: 36.4865 - accuracy: 0.0000e+00\nEpoch 16/100\n250/250 [==============================] - 0s 1ms/step - loss: 35.1366 - accuracy: 0.0000e+00\nEpoch 17/100\n250/250 [==============================] - 0s 983us/step - loss: 35.9241 - accuracy: 0.0000e+00\nEpoch 18/100\n250/250 [==============================] - 0s 1ms/step - loss: 34.1647 - accuracy: 0.0000e+00\nEpoch 19/100\n250/250 [==============================] - 0s 1ms/step - loss: 34.4082 - accuracy: 0.0000e+00\nEpoch 20/100\n250/250 [==============================] - 0s 950us/step - loss: 34.4632 - accuracy: 0.0000e+00\nEpoch 21/100\n250/250 [==============================] - 0s 934us/step - loss: 35.5959 - accuracy: 0.0000e+00\nEpoch 22/100\n250/250 [==============================] - 0s 1ms/step - loss: 35.1697 - accuracy: 0.0000e+00\nEpoch 23/100\n250/250 [==============================] - 0s 998us/step - loss: 35.3719 - accuracy: 0.0000e+00\nEpoch 24/100\n250/250 [==============================] - 0s 918us/step - loss: 35.2953 - accuracy: 0.0000e+00\nEpoch 25/100\n250/250 [==============================] - 0s 917us/step - loss: 34.4728 - accuracy: 0.0000e+00\nEpoch 26/100\n250/250 [==============================] - 0s 1ms/step - loss: 34.4847 - accuracy: 0.0000e+00\nEpoch 27/100\n250/250 [==============================] - 0s 1ms/step - loss: 33.8797 - accuracy: 0.0000e+00\nEpoch 28/100\n250/250 [==============================] - 0s 924us/step - loss: 34.7433 - accuracy: 0.0000e+00\nEpoch 29/100\n250/250 [==============================] - 0s 906us/step - loss: 34.3380 - accuracy: 0.0000e+00\nEpoch 30/100\n250/250 [==============================] - 0s 962us/step - loss: 33.9250 - accuracy: 0.0000e+00\nEpoch 31/100\n250/250 [==============================] - 0s 1ms/step - loss: 33.1990 - accuracy: 0.0000e+00\nEpoch 32/100\n250/250 [==============================] - 0s 1ms/step - loss: 33.3553 - accuracy: 0.0000e+00\nEpoch 33/100\n250/250 [==============================] - 0s 988us/step - loss: 33.9173 - accuracy: 0.0000e+00\nEpoch 34/100\n250/250 [==============================] - 0s 1ms/step - loss: 33.5853 - accuracy: 0.0000e+00\nEpoch 35/100\n250/250 [==============================] - 0s 934us/step - loss: 33.8661 - accuracy: 0.0000e+00\nEpoch 36/100\n250/250 [==============================] - 0s 918us/step - loss: 34.1491 - accuracy: 0.0000e+00\nEpoch 37/100\n250/250 [==============================] - 0s 1ms/step - loss: 33.7282 - accuracy: 0.0000e+00\nEpoch 38/100\n250/250 [==============================] - 0s 1ms/step - loss: 33.9485 - accuracy: 0.0000e+00\nEpoch 39/100\n250/250 [==============================] - 0s 971us/step - loss: 33.5074 - accuracy: 0.0000e+00\nEpoch 40/100\n250/250 [==============================] - 0s 979us/step - loss: 33.5292 - accuracy: 0.0000e+00\nEpoch 41/100\n250/250 [==============================] - 0s 996us/step - loss: 33.4461 - accuracy: 0.0000e+00\nEpoch 42/100\n250/250 [==============================] - 0s 1ms/step - loss: 32.9106 - accuracy: 0.0000e+00\nEpoch 43/100\n250/250 [==============================] - 0s 1ms/step - loss: 32.6814 - accuracy: 0.0000e+00\nEpoch 44/100\n250/250 [==============================] - 0s 943us/step - loss: 34.2166 - accuracy: 0.0000e+00\nEpoch 45/100\n250/250 [==============================] - 0s 1ms/step - loss: 33.7561 - accuracy: 0.0000e+00\nEpoch 46/100\n250/250 [==============================] - 0s 1ms/step - loss: 33.3367 - accuracy: 0.0000e+00\nEpoch 47/100\n250/250 [==============================] - 0s 995us/step - loss: 32.6460 - accuracy: 0.0000e+00\nEpoch 48/100\n250/250 [==============================] - 0s 918us/step - loss: 33.1426 - accuracy: 0.0000e+00\nEpoch 49/100\n250/250 [==============================] - 0s 1ms/step - loss: 33.8693 - accuracy: 0.0000e+00\nEpoch 50/100\n250/250 [==============================] - 0s 1ms/step - loss: 33.1201 - accuracy: 0.0000e+00\nEpoch 51/100\n250/250 [==============================] - 0s 1ms/step - loss: 32.3196 - accuracy: 0.0000e+00\nEpoch 52/100\n250/250 [==============================] - 0s 1ms/step - loss: 33.3673 - accuracy: 0.0000e+00\nEpoch 53/100\n250/250 [==============================] - 0s 1ms/step - loss: 32.6476 - accuracy: 0.0000e+00\nEpoch 54/100\n250/250 [==============================] - 0s 1ms/step - loss: 33.2527 - accuracy: 0.0000e+00\nEpoch 55/100\n250/250 [==============================] - 0s 941us/step - loss: 33.2986 - accuracy: 0.0000e+00\nEpoch 56/100\n250/250 [==============================] - 0s 1ms/step - loss: 33.1756 - accuracy: 0.0000e+00\nEpoch 57/100\n250/250 [==============================] - 0s 994us/step - loss: 33.3177 - accuracy: 0.0000e+00\nEpoch 58/100\n250/250 [==============================] - 0s 1ms/step - loss: 33.0942 - accuracy: 0.0000e+00\nEpoch 59/100\n250/250 [==============================] - 0s 923us/step - loss: 32.7435 - accuracy: 0.0000e+00\nEpoch 60/100\n250/250 [==============================] - 0s 968us/step - loss: 33.3258 - accuracy: 0.0000e+00\nEpoch 61/100\n250/250 [==============================] - 0s 997us/step - loss: 33.2439 - accuracy: 0.0000e+00\nEpoch 62/100\n250/250 [==============================] - 0s 949us/step - loss: 32.6384 - accuracy: 0.0000e+00\nEpoch 63/100\n250/250 [==============================] - 0s 919us/step - loss: 33.0572 - accuracy: 0.0000e+00\nEpoch 64/100\n250/250 [==============================] - 0s 903us/step - loss: 32.7194 - accuracy: 0.0000e+00\nEpoch 65/100\n250/250 [==============================] - 0s 1ms/step - loss: 32.5868 - accuracy: 0.0000e+00\nEpoch 66/100\n250/250 [==============================] - 0s 967us/step - loss: 32.9686 - accuracy: 0.0000e+00\nEpoch 67/100\n250/250 [==============================] - 0s 970us/step - loss: 33.3682 - accuracy: 0.0000e+00\nEpoch 68/100\n250/250 [==============================] - 0s 1ms/step - loss: 32.5949 - accuracy: 0.0000e+00\nEpoch 69/100\n250/250 [==============================] - 0s 1ms/step - loss: 33.2508 - accuracy: 0.0000e+00\nEpoch 70/100\n250/250 [==============================] - 0s 1ms/step - loss: 33.0003 - accuracy: 0.0000e+00\nEpoch 71/100\n250/250 [==============================] - 0s 950us/step - loss: 32.9866 - accuracy: 0.0000e+00\nEpoch 72/100\n250/250 [==============================] - 0s 1ms/step - loss: 33.1226 - accuracy: 0.0000e+00\nEpoch 73/100\n250/250 [==============================] - 0s 1ms/step - loss: 32.4873 - accuracy: 0.0000e+00\nEpoch 74/100\n250/250 [==============================] - 0s 947us/step - loss: 32.1369 - accuracy: 0.0000e+00\nEpoch 75/100\n250/250 [==============================] - 0s 959us/step - loss: 32.7393 - accuracy: 0.0000e+00\nEpoch 76/100\n250/250 [==============================] - 0s 1ms/step - loss: 32.9127 - accuracy: 0.0000e+00\nEpoch 77/100\n250/250 [==============================] - 0s 1ms/step - loss: 32.8645 - accuracy: 0.0000e+00\nEpoch 78/100\n250/250 [==============================] - 0s 928us/step - loss: 32.4000 - accuracy: 0.0000e+00\nEpoch 79/100\n250/250 [==============================] - 0s 926us/step - loss: 32.4227 - accuracy: 0.0000e+00\nEpoch 80/100\n250/250 [==============================] - 0s 1ms/step - loss: 32.8773 - accuracy: 0.0000e+00\nEpoch 81/100\n250/250 [==============================] - 0s 1ms/step - loss: 32.8103 - accuracy: 0.0000e+00\nEpoch 82/100\n250/250 [==============================] - 0s 951us/step - loss: 32.5017 - accuracy: 0.0000e+00\nEpoch 83/100\n250/250 [==============================] - 0s 1ms/step - loss: 33.5558 - accuracy: 0.0000e+00\nEpoch 84/100\n250/250 [==============================] - 0s 969us/step - loss: 33.0243 - accuracy: 0.0000e+00\nEpoch 85/100\n250/250 [==============================] - 0s 1ms/step - loss: 32.3643 - accuracy: 0.0000e+00\nEpoch 86/100\n250/250 [==============================] - 0s 924us/step - loss: 32.5196 - accuracy: 0.0000e+00\nEpoch 87/100\n250/250 [==============================] - 0s 1ms/step - loss: 32.5351 - accuracy: 0.0000e+00\nEpoch 88/100\n250/250 [==============================] - 0s 913us/step - loss: 31.9990 - accuracy: 0.0000e+00\nEpoch 89/100\n250/250 [==============================] - 0s 1ms/step - loss: 32.7782 - accuracy: 0.0000e+00\nEpoch 90/100\n250/250 [==============================] - 0s 959us/step - loss: 32.2571 - accuracy: 0.0000e+00\nEpoch 91/100\n250/250 [==============================] - 0s 1ms/step - loss: 32.2115 - accuracy: 0.0000e+00\nEpoch 92/100\n250/250 [==============================] - 0s 965us/step - loss: 32.4238 - accuracy: 0.0000e+00\nEpoch 93/100\n250/250 [==============================] - 0s 1ms/step - loss: 32.6276 - accuracy: 0.0000e+00\nEpoch 94/100\n250/250 [==============================] - 0s 1ms/step - loss: 32.6399 - accuracy: 0.0000e+00\nEpoch 95/100\n250/250 [==============================] - 0s 1ms/step - loss: 32.3442 - accuracy: 0.0000e+00\nEpoch 96/100\n250/250 [==============================] - 0s 1ms/step - loss: 31.9754 - accuracy: 0.0000e+00\nEpoch 97/100\n250/250 [==============================] - 0s 994us/step - loss: 32.0341 - accuracy: 0.0000e+00\nEpoch 98/100\n250/250 [==============================] - 0s 1ms/step - loss: 32.4111 - accuracy: 0.0000e+00\nEpoch 99/100\n250/250 [==============================] - 0s 896us/step - loss: 32.3991 - accuracy: 0.0000e+00\nEpoch 100/100\n250/250 [==============================] - 0s 1ms/step - loss: 31.9452 - accuracy: 0.0000e+00\n",
     "output_type": "stream"
    },
    {
     "output_type": "execute_result",
     "execution_count": 14,
     "data": {
      "text/plain": "<tensorflow.python.keras.callbacks.History at 0x7f82806fc090>"
     },
     "metadata": {}
    }
   ]
  },
  {
   "cell_type": "markdown",
   "source": "<details>\n<summary> <font color='green'>Click here for some more information about hyperparaper of neural network</font></summary>\nWe use MAE as a loss function in the neural network but we use LMAE as a metric in our competition. Is this reasonable?\n</details>",
   "metadata": {
    "tags": [],
    "cell_id": "00056-7a9774e9-8647-4c17-a412-76ca626b3d22",
    "deepnote_cell_type": "markdown"
   }
  },
  {
   "cell_type": "code",
   "metadata": {
    "deepnote_to_be_reexecuted": false,
    "source_hash": "b6c3c0f2",
    "execution_start": 1633152541688,
    "execution_millis": 186,
    "cell_id": "00057-56552538-c846-4ba5-9b8e-6831a0da844b",
    "deepnote_output_heights": [
     136.3125
    ],
    "deepnote_cell_type": "code"
   },
   "source": "y_pred = model.predict(x_test)\ny_pred",
   "execution_count": null,
   "outputs": [
    {
     "output_type": "execute_result",
     "execution_count": 15,
     "data": {
      "text/plain": "array([[188.59196 ],\n       [ 77.22174 ],\n       [320.67645 ],\n       ...,\n       [ 98.66495 ],\n       [117.793365],\n       [189.86482 ]], dtype=float32)"
     },
     "metadata": {}
    }
   ]
  },
  {
   "cell_type": "code",
   "metadata": {
    "deepnote_to_be_reexecuted": false,
    "source_hash": "77d8642f",
    "execution_start": 1633152541919,
    "execution_millis": 7,
    "cell_id": "00058-87c37976-0ff7-419f-a2da-de24880d28cb",
    "deepnote_output_heights": [
     21.1875
    ],
    "deepnote_cell_type": "code"
   },
   "source": "log_mae = np.log(mean_absolute_error(y_pred, y_true))\nlog_mae",
   "execution_count": null,
   "outputs": [
    {
     "output_type": "execute_result",
     "execution_count": 16,
     "data": {
      "text/plain": "3.4873366"
     },
     "metadata": {}
    }
   ]
  },
  {
   "cell_type": "markdown",
   "source": "## 4.2 Customization",
   "metadata": {
    "tags": [],
    "cell_id": "00027-832232b8-cdca-4389-afed-3c0708ea2274",
    "deepnote_cell_type": "markdown"
   }
  },
  {
   "cell_type": "code",
   "metadata": {
    "tags": [],
    "cell_id": "00028-e8cc0a10-ecc6-4e5f-bef7-3b1c2f65437d",
    "deepnote_to_be_reexecuted": false,
    "source_hash": "51ddff1d",
    "execution_start": 1633153652939,
    "execution_millis": 3,
    "deepnote_cell_type": "code"
   },
   "source": "import tensorflow.keras.backend as kb\n\ndef custom_loss(y_actual, y_pred): \n    custom_loss=tf.experimental.numpy.log10(kb.sum(kb.abs(y_actual - y_pred)) / y_actual.shape[0])\n    return custom_loss",
   "execution_count": null,
   "outputs": []
  },
  {
   "cell_type": "code",
   "metadata": {
    "tags": [],
    "cell_id": "00029-a303efc6-8e6b-4b24-9aad-b2a081f81c80",
    "deepnote_to_be_reexecuted": false,
    "source_hash": "ecca56e",
    "execution_start": 1633153657117,
    "execution_millis": 29907,
    "deepnote_output_heights": [
     null,
     21.1875
    ],
    "deepnote_cell_type": "code"
   },
   "source": "model.compile(loss=custom_loss, optimizer='adam', metrics=['accuracy'])\nmodel.fit(x_train, y_train, epochs=100, batch_size=64)",
   "execution_count": null,
   "outputs": [
    {
     "name": "stdout",
     "text": "Epoch 1/100\n250/250 [==============================] - 1s 1ms/step - loss: 1.5099 - accuracy: 0.0000e+00\nEpoch 2/100\n250/250 [==============================] - 0s 1ms/step - loss: 1.5024 - accuracy: 0.0000e+00\nEpoch 3/100\n250/250 [==============================] - 0s 1ms/step - loss: 1.5066 - accuracy: 0.0000e+00\nEpoch 4/100\n250/250 [==============================] - 0s 939us/step - loss: 1.5055 - accuracy: 0.0000e+00\nEpoch 5/100\n250/250 [==============================] - 0s 1ms/step - loss: 1.5026 - accuracy: 0.0000e+00\nEpoch 6/100\n250/250 [==============================] - 0s 1ms/step - loss: 1.5089 - accuracy: 0.0000e+00\nEpoch 7/100\n250/250 [==============================] - 0s 935us/step - loss: 1.5045 - accuracy: 0.0000e+00\nEpoch 8/100\n250/250 [==============================] - 0s 1ms/step - loss: 1.5198 - accuracy: 0.0000e+00\nEpoch 9/100\n250/250 [==============================] - 0s 1ms/step - loss: 1.5081 - accuracy: 0.0000e+00\nEpoch 10/100\n250/250 [==============================] - 0s 1ms/step - loss: 1.5092 - accuracy: 0.0000e+00\nEpoch 11/100\n250/250 [==============================] - 0s 944us/step - loss: 1.5092 - accuracy: 0.0000e+00\nEpoch 12/100\n250/250 [==============================] - 0s 971us/step - loss: 1.4956 - accuracy: 0.0000e+00\nEpoch 13/100\n250/250 [==============================] - 0s 1ms/step - loss: 1.4979 - accuracy: 0.0000e+00\nEpoch 14/100\n250/250 [==============================] - 0s 1ms/step - loss: 1.5119 - accuracy: 0.0000e+00\nEpoch 15/100\n250/250 [==============================] - 0s 964us/step - loss: 1.5035 - accuracy: 0.0000e+00\nEpoch 16/100\n250/250 [==============================] - 0s 1ms/step - loss: 1.5107 - accuracy: 0.0000e+00\nEpoch 17/100\n250/250 [==============================] - 0s 1ms/step - loss: 1.4969 - accuracy: 0.0000e+00\nEpoch 18/100\n250/250 [==============================] - 0s 1ms/step - loss: 1.5041 - accuracy: 0.0000e+00\nEpoch 19/100\n250/250 [==============================] - 0s 990us/step - loss: 1.4964 - accuracy: 0.0000e+00\nEpoch 20/100\n250/250 [==============================] - 0s 2ms/step - loss: 1.5042 - accuracy: 0.0000e+00\nEpoch 21/100\n250/250 [==============================] - 0s 1ms/step - loss: 1.4963 - accuracy: 0.0000e+00\nEpoch 22/100\n250/250 [==============================] - 0s 975us/step - loss: 1.4977 - accuracy: 0.0000e+00\nEpoch 23/100\n250/250 [==============================] - 0s 1ms/step - loss: 1.5070 - accuracy: 0.0000e+00\nEpoch 24/100\n250/250 [==============================] - 0s 1ms/step - loss: 1.5016 - accuracy: 0.0000e+00\nEpoch 25/100\n250/250 [==============================] - 0s 1ms/step - loss: 1.5043 - accuracy: 0.0000e+00\nEpoch 26/100\n250/250 [==============================] - 0s 1ms/step - loss: 1.5025 - accuracy: 0.0000e+00\nEpoch 27/100\n250/250 [==============================] - 0s 1ms/step - loss: 1.5010 - accuracy: 0.0000e+00\nEpoch 28/100\n250/250 [==============================] - 0s 1ms/step - loss: 1.5044 - accuracy: 0.0000e+00\nEpoch 29/100\n250/250 [==============================] - 0s 1ms/step - loss: 1.5016 - accuracy: 0.0000e+00\nEpoch 30/100\n250/250 [==============================] - 0s 1ms/step - loss: 1.5024 - accuracy: 0.0000e+00\nEpoch 31/100\n250/250 [==============================] - 0s 1ms/step - loss: 1.4986 - accuracy: 0.0000e+00\nEpoch 32/100\n250/250 [==============================] - 0s 1ms/step - loss: 1.5046 - accuracy: 0.0000e+00\nEpoch 33/100\n250/250 [==============================] - 0s 1ms/step - loss: 1.4945 - accuracy: 0.0000e+00\nEpoch 34/100\n250/250 [==============================] - 0s 934us/step - loss: 1.4984 - accuracy: 0.0000e+00\nEpoch 35/100\n250/250 [==============================] - 0s 1ms/step - loss: 1.5001 - accuracy: 0.0000e+00\nEpoch 36/100\n250/250 [==============================] - 0s 954us/step - loss: 1.5010 - accuracy: 0.0000e+00\nEpoch 37/100\n250/250 [==============================] - 0s 1ms/step - loss: 1.4986 - accuracy: 0.0000e+00\nEpoch 38/100\n250/250 [==============================] - 0s 1ms/step - loss: 1.5099 - accuracy: 0.0000e+00\nEpoch 39/100\n250/250 [==============================] - 0s 1ms/step - loss: 1.4954 - accuracy: 0.0000e+00\nEpoch 40/100\n250/250 [==============================] - 0s 1ms/step - loss: 1.4960 - accuracy: 0.0000e+00\nEpoch 41/100\n250/250 [==============================] - 0s 1ms/step - loss: 1.4940 - accuracy: 0.0000e+00\nEpoch 42/100\n250/250 [==============================] - 0s 1ms/step - loss: 1.5027 - accuracy: 0.0000e+00\nEpoch 43/100\n250/250 [==============================] - 0s 2ms/step - loss: 1.4998 - accuracy: 0.0000e+00\nEpoch 44/100\n250/250 [==============================] - 0s 2ms/step - loss: 1.5033 - accuracy: 0.0000e+00\nEpoch 45/100\n250/250 [==============================] - 0s 1ms/step - loss: 1.4937 - accuracy: 0.0000e+00\nEpoch 46/100\n250/250 [==============================] - 0s 2ms/step - loss: 1.4982 - accuracy: 0.0000e+00\nEpoch 47/100\n250/250 [==============================] - 0s 1ms/step - loss: 1.4910 - accuracy: 0.0000e+00\nEpoch 48/100\n250/250 [==============================] - 0s 969us/step - loss: 1.4874 - accuracy: 0.0000e+00\nEpoch 49/100\n250/250 [==============================] - 0s 1ms/step - loss: 1.4932 - accuracy: 0.0000e+00\nEpoch 50/100\n250/250 [==============================] - 0s 1ms/step - loss: 1.4963 - accuracy: 0.0000e+00\nEpoch 51/100\n250/250 [==============================] - 0s 2ms/step - loss: 1.4929 - accuracy: 0.0000e+00\nEpoch 52/100\n250/250 [==============================] - 1s 2ms/step - loss: 1.4965 - accuracy: 0.0000e+00\nEpoch 53/100\n250/250 [==============================] - 0s 1ms/step - loss: 1.5007 - accuracy: 0.0000e+00\nEpoch 54/100\n250/250 [==============================] - 0s 1ms/step - loss: 1.4952 - accuracy: 0.0000e+00\nEpoch 55/100\n250/250 [==============================] - 0s 1ms/step - loss: 1.4932 - accuracy: 0.0000e+00\nEpoch 56/100\n250/250 [==============================] - 0s 1ms/step - loss: 1.4933 - accuracy: 0.0000e+00\nEpoch 57/100\n250/250 [==============================] - 0s 1ms/step - loss: 1.4959 - accuracy: 0.0000e+00\nEpoch 58/100\n250/250 [==============================] - 0s 958us/step - loss: 1.4975 - accuracy: 0.0000e+00\nEpoch 59/100\n250/250 [==============================] - 0s 1ms/step - loss: 1.4885 - accuracy: 0.0000e+00\nEpoch 60/100\n250/250 [==============================] - 0s 1ms/step - loss: 1.4946 - accuracy: 0.0000e+00\nEpoch 61/100\n250/250 [==============================] - 0s 1ms/step - loss: 1.4983 - accuracy: 0.0000e+00\nEpoch 62/100\n250/250 [==============================] - 0s 1ms/step - loss: 1.4994 - accuracy: 0.0000e+00\nEpoch 63/100\n250/250 [==============================] - 0s 2ms/step - loss: 1.4904 - accuracy: 0.0000e+00\nEpoch 64/100\n250/250 [==============================] - 0s 1ms/step - loss: 1.4980 - accuracy: 0.0000e+00\nEpoch 65/100\n250/250 [==============================] - 0s 989us/step - loss: 1.4975 - accuracy: 0.0000e+00\nEpoch 66/100\n250/250 [==============================] - 0s 927us/step - loss: 1.4970 - accuracy: 0.0000e+00\nEpoch 67/100\n250/250 [==============================] - 0s 1ms/step - loss: 1.4964 - accuracy: 0.0000e+00\nEpoch 68/100\n250/250 [==============================] - 0s 1ms/step - loss: 1.4923 - accuracy: 0.0000e+00\nEpoch 69/100\n250/250 [==============================] - 0s 958us/step - loss: 1.5024 - accuracy: 0.0000e+00\nEpoch 70/100\n250/250 [==============================] - 0s 990us/step - loss: 1.4957 - accuracy: 0.0000e+00\nEpoch 71/100\n250/250 [==============================] - 0s 951us/step - loss: 1.4858 - accuracy: 0.0000e+00\nEpoch 72/100\n250/250 [==============================] - 0s 1ms/step - loss: 1.4973 - accuracy: 0.0000e+00\nEpoch 73/100\n250/250 [==============================] - 0s 1ms/step - loss: 1.4856 - accuracy: 0.0000e+00\nEpoch 74/100\n250/250 [==============================] - 0s 1ms/step - loss: 1.4952 - accuracy: 0.0000e+00\nEpoch 75/100\n250/250 [==============================] - 0s 1ms/step - loss: 1.4953 - accuracy: 0.0000e+00\nEpoch 76/100\n250/250 [==============================] - 0s 1ms/step - loss: 1.4864 - accuracy: 0.0000e+00\nEpoch 77/100\n250/250 [==============================] - 0s 1ms/step - loss: 1.4916 - accuracy: 0.0000e+00\nEpoch 78/100\n250/250 [==============================] - 0s 987us/step - loss: 1.4920 - accuracy: 0.0000e+00\nEpoch 79/100\n250/250 [==============================] - 0s 1ms/step - loss: 1.4968 - accuracy: 0.0000e+00\nEpoch 80/100\n250/250 [==============================] - 0s 936us/step - loss: 1.4873 - accuracy: 0.0000e+00\nEpoch 81/100\n250/250 [==============================] - 0s 970us/step - loss: 1.4929 - accuracy: 0.0000e+00\nEpoch 82/100\n250/250 [==============================] - 0s 984us/step - loss: 1.4859 - accuracy: 0.0000e+00\nEpoch 83/100\n250/250 [==============================] - 0s 1ms/step - loss: 1.5016 - accuracy: 0.0000e+00\nEpoch 84/100\n250/250 [==============================] - 0s 944us/step - loss: 1.4935 - accuracy: 0.0000e+00\nEpoch 85/100\n250/250 [==============================] - 0s 1ms/step - loss: 1.4926 - accuracy: 0.0000e+00\nEpoch 86/100\n250/250 [==============================] - 0s 992us/step - loss: 1.4973 - accuracy: 0.0000e+00\nEpoch 87/100\n250/250 [==============================] - 0s 1ms/step - loss: 1.4915 - accuracy: 0.0000e+00\nEpoch 88/100\n250/250 [==============================] - 0s 1ms/step - loss: 1.4876 - accuracy: 0.0000e+00\nEpoch 89/100\n250/250 [==============================] - 0s 1ms/step - loss: 1.4880 - accuracy: 0.0000e+00\nEpoch 90/100\n250/250 [==============================] - 0s 1ms/step - loss: 1.4881 - accuracy: 0.0000e+00\nEpoch 91/100\n250/250 [==============================] - 0s 1ms/step - loss: 1.4912 - accuracy: 0.0000e+00\nEpoch 92/100\n250/250 [==============================] - 0s 1ms/step - loss: 1.4882 - accuracy: 0.0000e+00\nEpoch 93/100\n250/250 [==============================] - 0s 967us/step - loss: 1.4897 - accuracy: 0.0000e+00\nEpoch 94/100\n250/250 [==============================] - 0s 1ms/step - loss: 1.4927 - accuracy: 0.0000e+00\nEpoch 95/100\n250/250 [==============================] - 0s 1ms/step - loss: 1.4868 - accuracy: 0.0000e+00\nEpoch 96/100\n250/250 [==============================] - 0s 1ms/step - loss: 1.4909 - accuracy: 0.0000e+00\nEpoch 97/100\n250/250 [==============================] - 0s 1ms/step - loss: 1.4855 - accuracy: 0.0000e+00\nEpoch 98/100\n250/250 [==============================] - 0s 2ms/step - loss: 1.4930 - accuracy: 0.0000e+00\nEpoch 99/100\n250/250 [==============================] - 0s 1ms/step - loss: 1.4955 - accuracy: 0.0000e+00\nEpoch 100/100\n250/250 [==============================] - 0s 977us/step - loss: 1.4861 - accuracy: 0.0000e+00\n",
     "output_type": "stream"
    },
    {
     "output_type": "execute_result",
     "execution_count": 28,
     "data": {
      "text/plain": "<tensorflow.python.keras.callbacks.History at 0x7f826280d050>"
     },
     "metadata": {}
    }
   ]
  },
  {
   "cell_type": "code",
   "metadata": {
    "tags": [],
    "cell_id": "00030-8decf2a7-db0e-46f7-82d5-dd3289e40a5e",
    "deepnote_to_be_reexecuted": false,
    "source_hash": "8ec60f45",
    "execution_start": 1633153694796,
    "execution_millis": 161,
    "deepnote_output_heights": [
     21.1875
    ],
    "deepnote_cell_type": "code"
   },
   "source": "# predict\ny_pred = model.predict(x_test)\n# evaluate error\nlog_mae = np.log(mean_absolute_error(y_pred, y_true))\nlog_mae",
   "execution_count": null,
   "outputs": [
    {
     "output_type": "execute_result",
     "execution_count": 29,
     "data": {
      "text/plain": "3.429515"
     },
     "metadata": {}
    }
   ]
  },
  {
   "cell_type": "markdown",
   "source": "## 5. Predicting CO<sub>2</sub> WC ",
   "metadata": {
    "tags": [],
    "cell_id": "00059-e898d4eb-9416-4eaa-add5-2472a13f0f42",
    "deepnote_cell_type": "markdown"
   }
  },
  {
   "cell_type": "markdown",
   "source": "### Import pretest and proprocessing\n\nToday we will prepare a submission file for pretest set for the phase 1 (Development).",
   "metadata": {
    "tags": [],
    "cell_id": "00060-1813a205-c726-4f17-9c43-25d5afc9e188",
    "deepnote_cell_type": "markdown"
   }
  },
  {
   "cell_type": "code",
   "metadata": {
    "tags": [],
    "deepnote_to_be_reexecuted": false,
    "source_hash": "40ed25ed",
    "execution_start": 1633152541921,
    "execution_millis": 6,
    "cell_id": "00061-f73edc34-076e-4df4-a56e-025c9642a5f0",
    "deepnote_output_heights": [
     21.1875
    ],
    "deepnote_cell_type": "code"
   },
   "source": "pretest = pd.read_csv(dataset + \"pretest.csv\")\npretest.shape",
   "execution_count": null,
   "outputs": [
    {
     "output_type": "execute_result",
     "execution_count": 17,
     "data": {
      "text/plain": "(2000, 13)"
     },
     "metadata": {}
    }
   ]
  },
  {
   "cell_type": "code",
   "metadata": {
    "tags": [],
    "deepnote_to_be_reexecuted": false,
    "source_hash": "64a7b60d",
    "execution_start": 1633152541964,
    "execution_millis": 5,
    "cell_id": "00062-504e3874-ce4f-4cdf-a8a4-6b5d1792ae44",
    "deepnote_output_heights": [
     270.625
    ],
    "deepnote_cell_type": "code"
   },
   "source": "col = [\"functional_groups\", \"topology\"]\nfor i in col:\n    pretest[i] = pretest[i].astype(\"category\").cat.codes\n\npretest.dtypes",
   "execution_count": null,
   "outputs": [
    {
     "output_type": "execute_result",
     "execution_count": 18,
     "data": {
      "text/plain": "MOFname                                           object\nvolume [A^3]                                     float64\nweight [u]                                       float64\nsurface_area [m^2/g]                             float64\nvoid_fraction                                    float64\nvoid_volume [cm^3/g]                             float64\nfunctional_groups                                  int16\nmetal_linker                                       int64\norganic_linker1                                    int64\norganic_linker2                                    int64\ntopology                                            int8\nCO2/N2_selectivity                               float64\nheat_adsorption_CO2_P0.15bar_T298K [kcal/mol]    float64\ndtype: object"
     },
     "metadata": {}
    }
   ]
  },
  {
   "cell_type": "code",
   "metadata": {
    "tags": [],
    "deepnote_to_be_reexecuted": false,
    "source_hash": "4506e71d",
    "execution_start": 1633152541965,
    "execution_millis": 92,
    "cell_id": "00063-72ea5c9c-0c1c-4312-9710-7b1f879c7c2a",
    "deepnote_cell_type": "code"
   },
   "source": "pretest",
   "execution_count": null,
   "outputs": [
    {
     "output_type": "execute_result",
     "execution_count": 19,
     "data": {
      "application/vnd.deepnote.dataframe.v2+json": {
       "row_count": 2000,
       "column_count": 13,
       "columns": [
        {
         "name": "MOFname",
         "dtype": "object",
         "stats": {
          "unique_count": 2000,
          "nan_count": 0,
          "categories": [
           {
            "name": "mof_unit_pretest_1",
            "count": 1
           },
           {
            "name": "mof_unit_pretest_2",
            "count": 1
           },
           {
            "name": "1998 others",
            "count": 1998
           }
          ]
         }
        },
        {
         "name": "volume [A^3]",
         "dtype": "float64",
         "stats": {
          "unique_count": 2000,
          "nan_count": 0,
          "min": "670.112177",
          "max": "80465.312439",
          "histogram": [
           {
            "bin_start": 670.112177,
            "bin_end": 8649.632203199999,
            "count": 1756
           },
           {
            "bin_start": 8649.632203199999,
            "bin_end": 16629.1522294,
            "count": 94
           },
           {
            "bin_start": 16629.1522294,
            "bin_end": 24608.6722556,
            "count": 69
           },
           {
            "bin_start": 24608.6722556,
            "bin_end": 32588.1922818,
            "count": 51
           },
           {
            "bin_start": 32588.1922818,
            "bin_end": 40567.712308,
            "count": 20
           },
           {
            "bin_start": 40567.712308,
            "bin_end": 48547.2323342,
            "count": 4
           },
           {
            "bin_start": 48547.2323342,
            "bin_end": 56526.7523604,
            "count": 2
           },
           {
            "bin_start": 56526.7523604,
            "bin_end": 64506.2723866,
            "count": 1
           },
           {
            "bin_start": 64506.2723866,
            "bin_end": 72485.7924128,
            "count": 1
           },
           {
            "bin_start": 72485.7924128,
            "bin_end": 80465.312439,
            "count": 2
           }
          ]
         }
        },
        {
         "name": "weight [u]",
         "dtype": "float64",
         "stats": {
          "unique_count": 1978,
          "nan_count": 0,
          "min": "467.01368",
          "max": "16731.4848",
          "histogram": [
           {
            "bin_start": 467.01368,
            "bin_end": 2093.460792,
            "count": 1471
           },
           {
            "bin_start": 2093.460792,
            "bin_end": 3719.9079039999997,
            "count": 306
           },
           {
            "bin_start": 3719.9079039999997,
            "bin_end": 5346.3550159999995,
            "count": 133
           },
           {
            "bin_start": 5346.3550159999995,
            "bin_end": 6972.802127999999,
            "count": 54
           },
           {
            "bin_start": 6972.802127999999,
            "bin_end": 8599.24924,
            "count": 26
           },
           {
            "bin_start": 8599.24924,
            "bin_end": 10225.696351999999,
            "count": 4
           },
           {
            "bin_start": 10225.696351999999,
            "bin_end": 11852.143463999999,
            "count": 2
           },
           {
            "bin_start": 11852.143463999999,
            "bin_end": 13478.590575999999,
            "count": 2
           },
           {
            "bin_start": 13478.590575999999,
            "bin_end": 15105.037687999999,
            "count": 1
           },
           {
            "bin_start": 15105.037687999999,
            "bin_end": 16731.4848,
            "count": 1
           }
          ]
         }
        },
        {
         "name": "surface_area [m^2/g]",
         "dtype": "float64",
         "stats": {
          "unique_count": 1688,
          "nan_count": 0,
          "min": "0.0",
          "max": "6685.94",
          "histogram": [
           {
            "bin_start": 0,
            "bin_end": 668.5939999999999,
            "count": 411
           },
           {
            "bin_start": 668.5939999999999,
            "bin_end": 1337.1879999999999,
            "count": 275
           },
           {
            "bin_start": 1337.1879999999999,
            "bin_end": 2005.7819999999997,
            "count": 325
           },
           {
            "bin_start": 2005.7819999999997,
            "bin_end": 2674.3759999999997,
            "count": 296
           },
           {
            "bin_start": 2674.3759999999997,
            "bin_end": 3342.97,
            "count": 240
           },
           {
            "bin_start": 3342.97,
            "bin_end": 4011.5639999999994,
            "count": 173
           },
           {
            "bin_start": 4011.5639999999994,
            "bin_end": 4680.157999999999,
            "count": 142
           },
           {
            "bin_start": 4680.157999999999,
            "bin_end": 5348.7519999999995,
            "count": 76
           },
           {
            "bin_start": 5348.7519999999995,
            "bin_end": 6017.346,
            "count": 41
           },
           {
            "bin_start": 6017.346,
            "bin_end": 6685.94,
            "count": 21
           }
          ]
         }
        },
        {
         "name": "void_fraction",
         "dtype": "float64",
         "stats": {
          "unique_count": 1936,
          "nan_count": 0,
          "min": "0.0",
          "max": "0.86871",
          "histogram": [
           {
            "bin_start": 0,
            "bin_end": 0.086871,
            "count": 154
           },
           {
            "bin_start": 0.086871,
            "bin_end": 0.173742,
            "count": 341
           },
           {
            "bin_start": 0.173742,
            "bin_end": 0.260613,
            "count": 379
           },
           {
            "bin_start": 0.260613,
            "bin_end": 0.347484,
            "count": 355
           },
           {
            "bin_start": 0.347484,
            "bin_end": 0.43435500000000005,
            "count": 285
           },
           {
            "bin_start": 0.43435500000000005,
            "bin_end": 0.521226,
            "count": 116
           },
           {
            "bin_start": 0.521226,
            "bin_end": 0.608097,
            "count": 146
           },
           {
            "bin_start": 0.608097,
            "bin_end": 0.694968,
            "count": 129
           },
           {
            "bin_start": 0.694968,
            "bin_end": 0.7818390000000001,
            "count": 69
           },
           {
            "bin_start": 0.7818390000000001,
            "bin_end": 0.86871,
            "count": 26
           }
          ]
         }
        },
        {
         "name": "void_volume [cm^3/g]",
         "dtype": "float64",
         "stats": {
          "unique_count": 1797,
          "nan_count": 0,
          "min": "0.0",
          "max": "5.2083",
          "histogram": [
           {
            "bin_start": 0,
            "bin_end": 0.52083,
            "count": 1341
           },
           {
            "bin_start": 0.52083,
            "bin_end": 1.04166,
            "count": 365
           },
           {
            "bin_start": 1.04166,
            "bin_end": 1.56249,
            "count": 126
           },
           {
            "bin_start": 1.56249,
            "bin_end": 2.08332,
            "count": 87
           },
           {
            "bin_start": 2.08332,
            "bin_end": 2.60415,
            "count": 32
           },
           {
            "bin_start": 2.60415,
            "bin_end": 3.12498,
            "count": 20
           },
           {
            "bin_start": 3.12498,
            "bin_end": 3.64581,
            "count": 13
           },
           {
            "bin_start": 3.64581,
            "bin_end": 4.16664,
            "count": 7
           },
           {
            "bin_start": 4.16664,
            "bin_end": 4.68747,
            "count": 8
           },
           {
            "bin_start": 4.68747,
            "bin_end": 5.2083,
            "count": 1
           }
          ]
         }
        },
        {
         "name": "functional_groups",
         "dtype": "int16",
         "stats": {
          "unique_count": 377,
          "nan_count": 0,
          "min": "-1",
          "max": "375",
          "histogram": [
           {
            "bin_start": -1,
            "bin_end": 36.6,
            "count": 194
           },
           {
            "bin_start": 36.6,
            "bin_end": 74.2,
            "count": 217
           },
           {
            "bin_start": 74.2,
            "bin_end": 111.80000000000001,
            "count": 208
           },
           {
            "bin_start": 111.80000000000001,
            "bin_end": 149.4,
            "count": 265
           },
           {
            "bin_start": 149.4,
            "bin_end": 187,
            "count": 173
           },
           {
            "bin_start": 187,
            "bin_end": 224.60000000000002,
            "count": 198
           },
           {
            "bin_start": 224.60000000000002,
            "bin_end": 262.2,
            "count": 203
           },
           {
            "bin_start": 262.2,
            "bin_end": 299.8,
            "count": 227
           },
           {
            "bin_start": 299.8,
            "bin_end": 337.40000000000003,
            "count": 163
           },
           {
            "bin_start": 337.40000000000003,
            "bin_end": 375,
            "count": 152
           }
          ]
         }
        },
        {
         "name": "metal_linker",
         "dtype": "int64",
         "stats": {
          "unique_count": 7,
          "nan_count": 0,
          "min": "1",
          "max": "12",
          "histogram": [
           {
            "bin_start": 1,
            "bin_end": 2.1,
            "count": 780
           },
           {
            "bin_start": 2.1,
            "bin_end": 3.2,
            "count": 658
           },
           {
            "bin_start": 3.2,
            "bin_end": 4.300000000000001,
            "count": 157
           },
           {
            "bin_start": 4.300000000000001,
            "bin_end": 5.4,
            "count": 0
           },
           {
            "bin_start": 5.4,
            "bin_end": 6.5,
            "count": 0
           },
           {
            "bin_start": 6.5,
            "bin_end": 7.6000000000000005,
            "count": 0
           },
           {
            "bin_start": 7.6000000000000005,
            "bin_end": 8.700000000000001,
            "count": 0
           },
           {
            "bin_start": 8.700000000000001,
            "bin_end": 9.8,
            "count": 243
           },
           {
            "bin_start": 9.8,
            "bin_end": 10.9,
            "count": 73
           },
           {
            "bin_start": 10.9,
            "bin_end": 12,
            "count": 89
           }
          ]
         }
        },
        {
         "name": "organic_linker1",
         "dtype": "int64",
         "stats": {
          "unique_count": 52,
          "nan_count": 0,
          "min": "1",
          "max": "56",
          "histogram": [
           {
            "bin_start": 1,
            "bin_end": 6.5,
            "count": 796
           },
           {
            "bin_start": 6.5,
            "bin_end": 12,
            "count": 403
           },
           {
            "bin_start": 12,
            "bin_end": 17.5,
            "count": 417
           },
           {
            "bin_start": 17.5,
            "bin_end": 23,
            "count": 200
           },
           {
            "bin_start": 23,
            "bin_end": 28.5,
            "count": 77
           },
           {
            "bin_start": 28.5,
            "bin_end": 34,
            "count": 3
           },
           {
            "bin_start": 34,
            "bin_end": 39.5,
            "count": 23
           },
           {
            "bin_start": 39.5,
            "bin_end": 45,
            "count": 32
           },
           {
            "bin_start": 45,
            "bin_end": 50.5,
            "count": 37
           },
           {
            "bin_start": 50.5,
            "bin_end": 56,
            "count": 12
           }
          ]
         }
        },
        {
         "name": "organic_linker2",
         "dtype": "int64",
         "stats": {
          "unique_count": 51,
          "nan_count": 0,
          "min": "1",
          "max": "58",
          "histogram": [
           {
            "bin_start": 1,
            "bin_end": 6.7,
            "count": 137
           },
           {
            "bin_start": 6.7,
            "bin_end": 12.4,
            "count": 239
           },
           {
            "bin_start": 12.4,
            "bin_end": 18.1,
            "count": 485
           },
           {
            "bin_start": 18.1,
            "bin_end": 23.8,
            "count": 442
           },
           {
            "bin_start": 23.8,
            "bin_end": 29.5,
            "count": 590
           },
           {
            "bin_start": 29.5,
            "bin_end": 35.2,
            "count": 8
           },
           {
            "bin_start": 35.2,
            "bin_end": 40.9,
            "count": 19
           },
           {
            "bin_start": 40.9,
            "bin_end": 46.6,
            "count": 10
           },
           {
            "bin_start": 46.6,
            "bin_end": 52.300000000000004,
            "count": 23
           },
           {
            "bin_start": 52.300000000000004,
            "bin_end": 58,
            "count": 47
           }
          ]
         }
        },
        {
         "name": "topology",
         "dtype": "int8",
         "stats": {
          "unique_count": 10,
          "nan_count": 0,
          "min": "0",
          "max": "9",
          "histogram": [
           {
            "bin_start": 0,
            "bin_end": 0.9,
            "count": 157
           },
           {
            "bin_start": 0.9,
            "bin_end": 1.8,
            "count": 89
           },
           {
            "bin_start": 1.8,
            "bin_end": 2.7,
            "count": 73
           },
           {
            "bin_start": 2.7,
            "bin_end": 3.6,
            "count": 21
           },
           {
            "bin_start": 3.6,
            "bin_end": 4.5,
            "count": 203
           },
           {
            "bin_start": 4.5,
            "bin_end": 5.4,
            "count": 1201
           },
           {
            "bin_start": 5.4,
            "bin_end": 6.3,
            "count": 10
           },
           {
            "bin_start": 6.3,
            "bin_end": 7.2,
            "count": 1
           },
           {
            "bin_start": 7.2,
            "bin_end": 8.1,
            "count": 243
           },
           {
            "bin_start": 8.1,
            "bin_end": 9,
            "count": 2
           }
          ]
         }
        },
        {
         "name": "CO2/N2_selectivity",
         "dtype": "float64",
         "stats": {
          "unique_count": 2000,
          "nan_count": 0,
          "min": "2.28261165",
          "max": "456.2986475",
          "histogram": [
           {
            "bin_start": 2.28261165,
            "bin_end": 47.684215235,
            "count": 1780
           },
           {
            "bin_start": 47.684215235,
            "bin_end": 93.08581882000001,
            "count": 186
           },
           {
            "bin_start": 93.08581882000001,
            "bin_end": 138.48742240500002,
            "count": 29
           },
           {
            "bin_start": 138.48742240500002,
            "bin_end": 183.88902599000002,
            "count": 3
           },
           {
            "bin_start": 183.88902599000002,
            "bin_end": 229.29062957500003,
            "count": 1
           },
           {
            "bin_start": 229.29062957500003,
            "bin_end": 274.69223316,
            "count": 0
           },
           {
            "bin_start": 274.69223316,
            "bin_end": 320.09383674500003,
            "count": 0
           },
           {
            "bin_start": 320.09383674500003,
            "bin_end": 365.49544033,
            "count": 0
           },
           {
            "bin_start": 365.49544033,
            "bin_end": 410.897043915,
            "count": 0
           },
           {
            "bin_start": 410.897043915,
            "bin_end": 456.2986475,
            "count": 1
           }
          ]
         }
        },
        {
         "name": "heat_adsorption_CO2_P0.15bar_T298K [kcal/mol]",
         "dtype": "float64",
         "stats": {
          "unique_count": 2000,
          "nan_count": 0,
          "min": "1.7565849999999998",
          "max": "10.700387",
          "histogram": [
           {
            "bin_start": 1.7565849999999998,
            "bin_end": 2.6509652,
            "count": 30
           },
           {
            "bin_start": 2.6509652,
            "bin_end": 3.5453453999999995,
            "count": 242
           },
           {
            "bin_start": 3.5453453999999995,
            "bin_end": 4.439725599999999,
            "count": 187
           },
           {
            "bin_start": 4.439725599999999,
            "bin_end": 5.3341058,
            "count": 336
           },
           {
            "bin_start": 5.3341058,
            "bin_end": 6.228486,
            "count": 578
           },
           {
            "bin_start": 6.228486,
            "bin_end": 7.122866199999999,
            "count": 311
           },
           {
            "bin_start": 7.122866199999999,
            "bin_end": 8.0172464,
            "count": 193
           },
           {
            "bin_start": 8.0172464,
            "bin_end": 8.9116266,
            "count": 79
           },
           {
            "bin_start": 8.9116266,
            "bin_end": 9.806006799999999,
            "count": 31
           },
           {
            "bin_start": 9.806006799999999,
            "bin_end": 10.700387,
            "count": 13
           }
          ]
         }
        },
        {
         "name": "_deepnote_index_column",
         "dtype": "int64"
        }
       ],
       "rows_top": [
        {
         "MOFname": "mof_unit_pretest_1",
         "volume [A^3]": 6288.293858,
         "weight [u]": 2271.68714,
         "surface_area [m^2/g]": 4148.48,
         "void_fraction": 0.41225,
         "void_volume [cm^3/g]": 0.6872,
         "functional_groups": 305,
         "metal_linker": 4,
         "organic_linker1": 7,
         "organic_linker2": 27,
         "topology": 0,
         "CO2/N2_selectivity": 14.04879074,
         "heat_adsorption_CO2_P0.15bar_T298K [kcal/mol]": 5.604779,
         "_deepnote_index_column": 0
        },
        {
         "MOFname": "mof_unit_pretest_2",
         "volume [A^3]": 1790.506437,
         "weight [u]": 887.74732,
         "surface_area [m^2/g]": 2191.34,
         "void_fraction": 0.3023099999999999,
         "void_volume [cm^3/g]": 0.3672,
         "functional_groups": 149,
         "metal_linker": 2,
         "organic_linker1": 4,
         "organic_linker2": 26,
         "topology": 5,
         "CO2/N2_selectivity": 20.21722169,
         "heat_adsorption_CO2_P0.15bar_T298K [kcal/mol]": 6.148776,
         "_deepnote_index_column": 1
        },
        {
         "MOFname": "mof_unit_pretest_3",
         "volume [A^3]": 2348.969203,
         "weight [u]": 1239.7658800000002,
         "surface_area [m^2/g]": 2030.88,
         "void_fraction": 0.28533,
         "void_volume [cm^3/g]": 0.3256,
         "functional_groups": 371,
         "metal_linker": 3,
         "organic_linker1": 18,
         "organic_linker2": 22,
         "topology": 5,
         "CO2/N2_selectivity": 33.10866151,
         "heat_adsorption_CO2_P0.15bar_T298K [kcal/mol]": 6.164397,
         "_deepnote_index_column": 2
        },
        {
         "MOFname": "mof_unit_pretest_4",
         "volume [A^3]": 2941.571525,
         "weight [u]": 1147.9514,
         "surface_area [m^2/g]": 3587.13,
         "void_fraction": 0.41963,
         "void_volume [cm^3/g]": 0.6475,
         "functional_groups": 91,
         "metal_linker": 2,
         "organic_linker1": 8,
         "organic_linker2": 15,
         "topology": 5,
         "CO2/N2_selectivity": 12.80056168,
         "heat_adsorption_CO2_P0.15bar_T298K [kcal/mol]": 5.164957,
         "_deepnote_index_column": 3
        },
        {
         "MOFname": "mof_unit_pretest_5",
         "volume [A^3]": 705.397601,
         "weight [u]": 643.27074,
         "surface_area [m^2/g]": 0,
         "void_fraction": 0.0706,
         "void_volume [cm^3/g]": 0.0466,
         "functional_groups": 65,
         "metal_linker": 3,
         "organic_linker1": 10,
         "organic_linker2": 22,
         "topology": 5,
         "CO2/N2_selectivity": 23.39561652,
         "heat_adsorption_CO2_P0.15bar_T298K [kcal/mol]": 7.090687,
         "_deepnote_index_column": 4
        },
        {
         "MOFname": "mof_unit_pretest_6",
         "volume [A^3]": 2795.376504,
         "weight [u]": 1592.74518,
         "surface_area [m^2/g]": 1480.38,
         "void_fraction": 0.20913,
         "void_volume [cm^3/g]": 0.221,
         "functional_groups": 251,
         "metal_linker": 9,
         "organic_linker1": 10,
         "organic_linker2": 28,
         "topology": 8,
         "CO2/N2_selectivity": 49.25180982,
         "heat_adsorption_CO2_P0.15bar_T298K [kcal/mol]": 7.334542999999999,
         "_deepnote_index_column": 5
        },
        {
         "MOFname": "mof_unit_pretest_7",
         "volume [A^3]": 1493.202771,
         "weight [u]": 895.9242800000001,
         "surface_area [m^2/g]": 1769.29,
         "void_fraction": 0.28863,
         "void_volume [cm^3/g]": 0.2897,
         "functional_groups": 65,
         "metal_linker": 3,
         "organic_linker1": 1,
         "organic_linker2": 18,
         "topology": 5,
         "CO2/N2_selectivity": 18.48760329,
         "heat_adsorption_CO2_P0.15bar_T298K [kcal/mol]": 5.671204,
         "_deepnote_index_column": 6
        },
        {
         "MOFname": "mof_unit_pretest_8",
         "volume [A^3]": 4288.4052950000005,
         "weight [u]": 1848.99596,
         "surface_area [m^2/g]": 2734.28,
         "void_fraction": 0.38902,
         "void_volume [cm^3/g]": 0.5434,
         "functional_groups": 30,
         "metal_linker": 3,
         "organic_linker1": 16,
         "organic_linker2": 16,
         "topology": 5,
         "CO2/N2_selectivity": 13.97259895,
         "heat_adsorption_CO2_P0.15bar_T298K [kcal/mol]": 5.274335,
         "_deepnote_index_column": 7
        },
        {
         "MOFname": "mof_unit_pretest_9",
         "volume [A^3]": 6880.322139,
         "weight [u]": 2356.7782260000004,
         "surface_area [m^2/g]": 3985.18,
         "void_fraction": 0.43976,
         "void_volume [cm^3/g]": 0.7731,
         "functional_groups": 25,
         "metal_linker": 4,
         "organic_linker1": 3,
         "organic_linker2": 27,
         "topology": 0,
         "CO2/N2_selectivity": 10.29489266,
         "heat_adsorption_CO2_P0.15bar_T298K [kcal/mol]": 5.064876,
         "_deepnote_index_column": 8
        },
        {
         "MOFname": "mof_unit_pretest_10",
         "volume [A^3]": 1750.548457,
         "weight [u]": 1027.715,
         "surface_area [m^2/g]": 1426.86,
         "void_fraction": 0.2068199999999999,
         "void_volume [cm^3/g]": 0.2121,
         "functional_groups": 129,
         "metal_linker": 2,
         "organic_linker1": 10,
         "organic_linker2": 29,
         "topology": 5,
         "CO2/N2_selectivity": 72.74346069,
         "heat_adsorption_CO2_P0.15bar_T298K [kcal/mol]": 7.425464,
         "_deepnote_index_column": 9
        },
        {
         "MOFname": "mof_unit_pretest_11",
         "volume [A^3]": 4158.54216,
         "weight [u]": 1987.45176,
         "surface_area [m^2/g]": 2213.81,
         "void_fraction": 0.28601,
         "void_volume [cm^3/g]": 0.3604,
         "functional_groups": 350,
         "metal_linker": 4,
         "organic_linker1": 6,
         "organic_linker2": 17,
         "topology": 0,
         "CO2/N2_selectivity": 35.17498629,
         "heat_adsorption_CO2_P0.15bar_T298K [kcal/mol]": 6.726739,
         "_deepnote_index_column": 10
        },
        {
         "MOFname": "mof_unit_pretest_12",
         "volume [A^3]": 7354.202104000001,
         "weight [u]": 3502.94744,
         "surface_area [m^2/g]": 1770.07,
         "void_fraction": 0.2340199999999999,
         "void_volume [cm^3/g]": 0.2959,
         "functional_groups": 320,
         "metal_linker": 4,
         "organic_linker1": 27,
         "organic_linker2": 27,
         "topology": 0,
         "CO2/N2_selectivity": 32.90207562,
         "heat_adsorption_CO2_P0.15bar_T298K [kcal/mol]": 6.600984,
         "_deepnote_index_column": 11
        },
        {
         "MOFname": "mof_unit_pretest_13",
         "volume [A^3]": 5067.83424,
         "weight [u]": 2694.70244,
         "surface_area [m^2/g]": 0,
         "void_fraction": 0.24333,
         "void_volume [cm^3/g]": 0.2756,
         "functional_groups": 290,
         "metal_linker": 3,
         "organic_linker1": 9,
         "organic_linker2": 9,
         "topology": 4,
         "CO2/N2_selectivity": 14.18270662,
         "heat_adsorption_CO2_P0.15bar_T298K [kcal/mol]": 5.996164,
         "_deepnote_index_column": 12
        },
        {
         "MOFname": "mof_unit_pretest_14",
         "volume [A^3]": 3930.439874,
         "weight [u]": 2941.622173,
         "surface_area [m^2/g]": 645.62,
         "void_fraction": 0.13293,
         "void_volume [cm^3/g]": 0.107,
         "functional_groups": 121,
         "metal_linker": 4,
         "organic_linker1": 4,
         "organic_linker2": 11,
         "topology": 0,
         "CO2/N2_selectivity": 64.13190702,
         "heat_adsorption_CO2_P0.15bar_T298K [kcal/mol]": 7.544046000000001,
         "_deepnote_index_column": 13
        },
        {
         "MOFname": "mof_unit_pretest_15",
         "volume [A^3]": 2004.557069,
         "weight [u]": 1695.0737800000002,
         "surface_area [m^2/g]": 0,
         "void_fraction": 0.0748,
         "void_volume [cm^3/g]": 0.0533,
         "functional_groups": 133,
         "metal_linker": 4,
         "organic_linker1": 14,
         "organic_linker2": 22,
         "topology": 0,
         "CO2/N2_selectivity": 165.80064319999997,
         "heat_adsorption_CO2_P0.15bar_T298K [kcal/mol]": 8.819875,
         "_deepnote_index_column": 14
        },
        {
         "MOFname": "mof_unit_pretest_16",
         "volume [A^3]": 1043.078308,
         "weight [u]": 587.97836,
         "surface_area [m^2/g]": 1774.18,
         "void_fraction": 0.2609599999999999,
         "void_volume [cm^3/g]": 0.2788,
         "functional_groups": 59,
         "metal_linker": 3,
         "organic_linker1": 10,
         "organic_linker2": 23,
         "topology": 5,
         "CO2/N2_selectivity": 13.89850112,
         "heat_adsorption_CO2_P0.15bar_T298K [kcal/mol]": 5.212527,
         "_deepnote_index_column": 15
        },
        {
         "MOFname": "mof_unit_pretest_17",
         "volume [A^3]": 1148.410429,
         "weight [u]": 580.49356,
         "surface_area [m^2/g]": 2536.87,
         "void_fraction": 0.30959,
         "void_volume [cm^3/g]": 0.3688,
         "functional_groups": 202,
         "metal_linker": 2,
         "organic_linker1": 11,
         "organic_linker2": 14,
         "topology": 5,
         "CO2/N2_selectivity": 11.39964462,
         "heat_adsorption_CO2_P0.15bar_T298K [kcal/mol]": 4.847198000000001,
         "_deepnote_index_column": 16
        },
        {
         "MOFname": "mof_unit_pretest_18",
         "volume [A^3]": 3756.862488,
         "weight [u]": 1165.90236,
         "surface_area [m^2/g]": 3712.31,
         "void_fraction": 0.4831399999999999,
         "void_volume [cm^3/g]": 0.9375,
         "functional_groups": 347,
         "metal_linker": 3,
         "organic_linker1": 18,
         "organic_linker2": 26,
         "topology": 5,
         "CO2/N2_selectivity": 11.00255867,
         "heat_adsorption_CO2_P0.15bar_T298K [kcal/mol]": 5.209406,
         "_deepnote_index_column": 17
        },
        {
         "MOFname": "mof_unit_pretest_19",
         "volume [A^3]": 2873.520984,
         "weight [u]": 1107.9749800000002,
         "surface_area [m^2/g]": 3478.72,
         "void_fraction": 0.4154199999999999,
         "void_volume [cm^3/g]": 0.6488,
         "functional_groups": 85,
         "metal_linker": 2,
         "organic_linker1": 4,
         "organic_linker2": 29,
         "topology": 5,
         "CO2/N2_selectivity": 14.22726006,
         "heat_adsorption_CO2_P0.15bar_T298K [kcal/mol]": 4.948911,
         "_deepnote_index_column": 18
        },
        {
         "MOFname": "mof_unit_pretest_20",
         "volume [A^3]": 1821.909507,
         "weight [u]": 1283.711,
         "surface_area [m^2/g]": 1247.59,
         "void_fraction": 0.21677,
         "void_volume [cm^3/g]": 0.1853,
         "functional_groups": 371,
         "metal_linker": 3,
         "organic_linker1": 4,
         "organic_linker2": 7,
         "topology": 5,
         "CO2/N2_selectivity": 32.82573611,
         "heat_adsorption_CO2_P0.15bar_T298K [kcal/mol]": 6.621175,
         "_deepnote_index_column": 19
        },
        {
         "MOFname": "mof_unit_pretest_21",
         "volume [A^3]": 2492.1623050000003,
         "weight [u]": 1059.35664,
         "surface_area [m^2/g]": 3114.67,
         "void_fraction": 0.4329199999999999,
         "void_volume [cm^3/g]": 0.6133,
         "functional_groups": 229,
         "metal_linker": 3,
         "organic_linker1": 1,
         "organic_linker2": 28,
         "topology": 5,
         "CO2/N2_selectivity": 8.36419162,
         "heat_adsorption_CO2_P0.15bar_T298K [kcal/mol]": 4.905192,
         "_deepnote_index_column": 20
        },
        {
         "MOFname": "mof_unit_pretest_22",
         "volume [A^3]": 1347.684216,
         "weight [u]": 784.7154400000001,
         "surface_area [m^2/g]": 1291.07,
         "void_fraction": 0.20065,
         "void_volume [cm^3/g]": 0.2075,
         "functional_groups": 259,
         "metal_linker": 2,
         "organic_linker1": 4,
         "organic_linker2": 13,
         "topology": 5,
         "CO2/N2_selectivity": 31.52642488,
         "heat_adsorption_CO2_P0.15bar_T298K [kcal/mol]": 6.377837,
         "_deepnote_index_column": 21
        },
        {
         "MOFname": "mof_unit_pretest_23",
         "volume [A^3]": 2264.969206,
         "weight [u]": 1495.88506,
         "surface_area [m^2/g]": 457.88,
         "void_fraction": 0.12567,
         "void_volume [cm^3/g]": 0.1146,
         "functional_groups": 245,
         "metal_linker": 9,
         "organic_linker1": 2,
         "organic_linker2": 2,
         "topology": 8,
         "CO2/N2_selectivity": 33.87359855,
         "heat_adsorption_CO2_P0.15bar_T298K [kcal/mol]": 6.402529,
         "_deepnote_index_column": 22
        },
        {
         "MOFname": "mof_unit_pretest_24",
         "volume [A^3]": 1212.656776,
         "weight [u]": 621.5006599999999,
         "surface_area [m^2/g]": 2353.16,
         "void_fraction": 0.30135,
         "void_volume [cm^3/g]": 0.3541,
         "functional_groups": 172,
         "metal_linker": 2,
         "organic_linker1": 14,
         "organic_linker2": 19,
         "topology": 5,
         "CO2/N2_selectivity": 17.45588102,
         "heat_adsorption_CO2_P0.15bar_T298K [kcal/mol]": 5.835593,
         "_deepnote_index_column": 23
        },
        {
         "MOFname": "mof_unit_pretest_25",
         "volume [A^3]": 3993.131734000001,
         "weight [u]": 3266.17824,
         "surface_area [m^2/g]": 0,
         "void_fraction": 0.0738,
         "void_volume [cm^3/g]": 0.0543,
         "functional_groups": 375,
         "metal_linker": 4,
         "organic_linker1": 1,
         "organic_linker2": 11,
         "topology": 0,
         "CO2/N2_selectivity": 40.83383262,
         "heat_adsorption_CO2_P0.15bar_T298K [kcal/mol]": 8.105341000000001,
         "_deepnote_index_column": 24
        },
        {
         "MOFname": "mof_unit_pretest_26",
         "volume [A^3]": 2432.756583,
         "weight [u]": 1799.63768,
         "surface_area [m^2/g]": 1032.36,
         "void_fraction": 0.20059,
         "void_volume [cm^3/g]": 0.1633,
         "functional_groups": 0,
         "metal_linker": 9,
         "organic_linker1": 18,
         "organic_linker2": 19,
         "topology": 8,
         "CO2/N2_selectivity": 47.83305961,
         "heat_adsorption_CO2_P0.15bar_T298K [kcal/mol]": 6.679682000000001,
         "_deepnote_index_column": 25
        },
        {
         "MOFname": "mof_unit_pretest_27",
         "volume [A^3]": 1638.493106,
         "weight [u]": 978.31388,
         "surface_area [m^2/g]": 1497.16,
         "void_fraction": 0.25654,
         "void_volume [cm^3/g]": 0.2587,
         "functional_groups": 115,
         "metal_linker": 9,
         "organic_linker1": 4,
         "organic_linker2": 11,
         "topology": 8,
         "CO2/N2_selectivity": 13.02054117,
         "heat_adsorption_CO2_P0.15bar_T298K [kcal/mol]": 5.577853,
         "_deepnote_index_column": 26
        },
        {
         "MOFname": "mof_unit_pretest_28",
         "volume [A^3]": 1298.343461,
         "weight [u]": 709.260263,
         "surface_area [m^2/g]": 1740.33,
         "void_fraction": 0.26968,
         "void_volume [cm^3/g]": 0.2973,
         "functional_groups": 95,
         "metal_linker": 3,
         "organic_linker1": 4,
         "organic_linker2": 16,
         "topology": 5,
         "CO2/N2_selectivity": 16.26037363,
         "heat_adsorption_CO2_P0.15bar_T298K [kcal/mol]": 5.46802,
         "_deepnote_index_column": 27
        },
        {
         "MOFname": "mof_unit_pretest_29",
         "volume [A^3]": 2002.451074,
         "weight [u]": 868.3934199999999,
         "surface_area [m^2/g]": 2712.76,
         "void_fraction": 0.3867,
         "void_volume [cm^3/g]": 0.537,
         "functional_groups": 200,
         "metal_linker": 3,
         "organic_linker1": 14,
         "organic_linker2": 27,
         "topology": 5,
         "CO2/N2_selectivity": 11.75062397,
         "heat_adsorption_CO2_P0.15bar_T298K [kcal/mol]": 4.967974,
         "_deepnote_index_column": 28
        },
        {
         "MOFname": "mof_unit_pretest_30",
         "volume [A^3]": 1534.629101,
         "weight [u]": 951.66213,
         "surface_area [m^2/g]": 1482.66,
         "void_fraction": 0.22557,
         "void_volume [cm^3/g]": 0.2191,
         "functional_groups": 165,
         "metal_linker": 2,
         "organic_linker1": 4,
         "organic_linker2": 18,
         "topology": 5,
         "CO2/N2_selectivity": 17.95802711,
         "heat_adsorption_CO2_P0.15bar_T298K [kcal/mol]": 6.072034,
         "_deepnote_index_column": 29
        },
        {
         "MOFname": "mof_unit_pretest_31",
         "volume [A^3]": 2033.553469,
         "weight [u]": 995.58428,
         "surface_area [m^2/g]": 2540.58,
         "void_fraction": 0.31956,
         "void_volume [cm^3/g]": 0.3931,
         "functional_groups": 172,
         "metal_linker": 12,
         "organic_linker1": 1,
         "organic_linker2": 10,
         "topology": 1,
         "CO2/N2_selectivity": 25.39120983,
         "heat_adsorption_CO2_P0.15bar_T298K [kcal/mol]": 5.803627,
         "_deepnote_index_column": 30
        },
        {
         "MOFname": "mof_unit_pretest_32",
         "volume [A^3]": 2776.2598350000003,
         "weight [u]": 1199.98268,
         "surface_area [m^2/g]": 3117.28,
         "void_fraction": 0.36578,
         "void_volume [cm^3/g]": 0.5096,
         "functional_groups": 54,
         "metal_linker": 2,
         "organic_linker1": 24,
         "organic_linker2": 29,
         "topology": 5,
         "CO2/N2_selectivity": 12.4541596,
         "heat_adsorption_CO2_P0.15bar_T298K [kcal/mol]": 4.956232,
         "_deepnote_index_column": 31
        },
        {
         "MOFname": "mof_unit_pretest_33",
         "volume [A^3]": 920.860707,
         "weight [u]": 791.1949400000001,
         "surface_area [m^2/g]": 791.22,
         "void_fraction": 0.17359,
         "void_volume [cm^3/g]": 0.1217,
         "functional_groups": 163,
         "metal_linker": 2,
         "organic_linker1": 5,
         "organic_linker2": 13,
         "topology": 5,
         "CO2/N2_selectivity": 19.18901518,
         "heat_adsorption_CO2_P0.15bar_T298K [kcal/mol]": 6.3690370000000005,
         "_deepnote_index_column": 32
        },
        {
         "MOFname": "mof_unit_pretest_34",
         "volume [A^3]": 4529.021154,
         "weight [u]": 1287.85344,
         "surface_area [m^2/g]": 4701.36,
         "void_fraction": 0.4900899999999999,
         "void_volume [cm^3/g]": 1.0379,
         "functional_groups": 299,
         "metal_linker": 3,
         "organic_linker1": 25,
         "organic_linker2": 27,
         "topology": 5,
         "CO2/N2_selectivity": 12.9285465,
         "heat_adsorption_CO2_P0.15bar_T298K [kcal/mol]": 5.32066,
         "_deepnote_index_column": 33
        },
        {
         "MOFname": "mof_unit_pretest_35",
         "volume [A^3]": 1348.618265,
         "weight [u]": 996.19844,
         "surface_area [m^2/g]": 0,
         "void_fraction": 0.09917,
         "void_volume [cm^3/g]": 0.0809,
         "functional_groups": 276,
         "metal_linker": 9,
         "organic_linker1": 5,
         "organic_linker2": 24,
         "topology": 8,
         "CO2/N2_selectivity": 27.13887544,
         "heat_adsorption_CO2_P0.15bar_T298K [kcal/mol]": 6.894887,
         "_deepnote_index_column": 34
        },
        {
         "MOFname": "mof_unit_pretest_36",
         "volume [A^3]": 704.9624269999999,
         "weight [u]": 488.949783,
         "surface_area [m^2/g]": 1210.82,
         "void_fraction": 0.21938,
         "void_volume [cm^3/g]": 0.1905,
         "functional_groups": 139,
         "metal_linker": 3,
         "organic_linker1": 10,
         "organic_linker2": 11,
         "topology": 5,
         "CO2/N2_selectivity": 17.46808633,
         "heat_adsorption_CO2_P0.15bar_T298K [kcal/mol]": 5.769334,
         "_deepnote_index_column": 35
        },
        {
         "MOFname": "mof_unit_pretest_37",
         "volume [A^3]": 2345.350561,
         "weight [u]": 1976.672576,
         "surface_area [m^2/g]": 511.79,
         "void_fraction": 0.10188,
         "void_volume [cm^3/g]": 0.0728,
         "functional_groups": 206,
         "metal_linker": 10,
         "organic_linker1": 50,
         "organic_linker2": 57,
         "topology": 2,
         "CO2/N2_selectivity": 25.36073055,
         "heat_adsorption_CO2_P0.15bar_T298K [kcal/mol]": 6.365133,
         "_deepnote_index_column": 36
        },
        {
         "MOFname": "mof_unit_pretest_38",
         "volume [A^3]": 5140.2653740000005,
         "weight [u]": 2575.1096,
         "surface_area [m^2/g]": 2450.29,
         "void_fraction": 0.36068,
         "void_volume [cm^3/g]": 0.4336,
         "functional_groups": 193,
         "metal_linker": 12,
         "organic_linker1": 1,
         "organic_linker2": 22,
         "topology": 1,
         "CO2/N2_selectivity": 12.51165092,
         "heat_adsorption_CO2_P0.15bar_T298K [kcal/mol]": 4.724266,
         "_deepnote_index_column": 37
        }
       ],
       "rows_bottom": [
        {
         "MOFname": "mof_unit_pretest_1963",
         "volume [A^3]": 26604.007471,
         "weight [u]": 3011.773773,
         "surface_area [m^2/g]": 6319.94,
         "void_fraction": 0.83819,
         "void_volume [cm^3/g]": 4.4588,
         "functional_groups": 25,
         "metal_linker": 2,
         "organic_linker1": 20,
         "organic_linker2": 25,
         "topology": 4,
         "CO2/N2_selectivity": 2.749424899,
         "heat_adsorption_CO2_P0.15bar_T298K [kcal/mol]": 1.7565849999999998,
         "_deepnote_index_column": 1962
        },
        {
         "MOFname": "mof_unit_pretest_1964",
         "volume [A^3]": 1531.130181,
         "weight [u]": 691.54766,
         "surface_area [m^2/g]": 2429.41,
         "void_fraction": 0.34319,
         "void_volume [cm^3/g]": 0.4576,
         "functional_groups": 224,
         "metal_linker": 2,
         "organic_linker1": 11,
         "organic_linker2": 20,
         "topology": 5,
         "CO2/N2_selectivity": 4.81495642,
         "heat_adsorption_CO2_P0.15bar_T298K [kcal/mol]": 4.15681,
         "_deepnote_index_column": 1963
        },
        {
         "MOFname": "mof_unit_pretest_1965",
         "volume [A^3]": 4982.932646,
         "weight [u]": 1040.19106,
         "surface_area [m^2/g]": 5053.63,
         "void_fraction": 0.7194699999999999,
         "void_volume [cm^3/g]": 2.0756,
         "functional_groups": 65,
         "metal_linker": 1,
         "organic_linker1": 21,
         "organic_linker2": 26,
         "topology": 5,
         "CO2/N2_selectivity": 2.950583944,
         "heat_adsorption_CO2_P0.15bar_T298K [kcal/mol]": 2.893219,
         "_deepnote_index_column": 1964
        },
        {
         "MOFname": "mof_unit_pretest_1966",
         "volume [A^3]": 18349.883679,
         "weight [u]": 3628.804,
         "surface_area [m^2/g]": 4901.58,
         "void_fraction": 0.70973,
         "void_volume [cm^3/g]": 2.1613,
         "functional_groups": 266,
         "metal_linker": 2,
         "organic_linker1": 4,
         "organic_linker2": 27,
         "topology": 4,
         "CO2/N2_selectivity": 3.3385561580000003,
         "heat_adsorption_CO2_P0.15bar_T298K [kcal/mol]": 2.957154,
         "_deepnote_index_column": 1965
        },
        {
         "MOFname": "mof_unit_pretest_1967",
         "volume [A^3]": 1751.314475,
         "weight [u]": 1672.412856,
         "surface_area [m^2/g]": 0,
         "void_fraction": 0.01973,
         "void_volume [cm^3/g]": 0.0124,
         "functional_groups": 206,
         "metal_linker": 10,
         "organic_linker1": 47,
         "organic_linker2": 48,
         "topology": 2,
         "CO2/N2_selectivity": 43.66039384,
         "heat_adsorption_CO2_P0.15bar_T298K [kcal/mol]": 6.890489,
         "_deepnote_index_column": 1966
        },
        {
         "MOFname": "mof_unit_pretest_1968",
         "volume [A^3]": 2800.014744,
         "weight [u]": 1136.47974,
         "surface_area [m^2/g]": 3981.95,
         "void_fraction": 0.538,
         "void_volume [cm^3/g]": 0.7982,
         "functional_groups": 67,
         "metal_linker": 3,
         "organic_linker1": 21,
         "organic_linker2": 25,
         "topology": 5,
         "CO2/N2_selectivity": 3.977001354,
         "heat_adsorption_CO2_P0.15bar_T298K [kcal/mol]": 3.176847,
         "_deepnote_index_column": 1967
        },
        {
         "MOFname": "mof_unit_pretest_1969",
         "volume [A^3]": 17906.403167,
         "weight [u]": 4692.45696,
         "surface_area [m^2/g]": 4141.64,
         "void_fraction": 0.58925,
         "void_volume [cm^3/g]": 1.3541,
         "functional_groups": 255,
         "metal_linker": 3,
         "organic_linker1": 22,
         "organic_linker2": 27,
         "topology": 4,
         "CO2/N2_selectivity": 4.126510978,
         "heat_adsorption_CO2_P0.15bar_T298K [kcal/mol]": 3.059794,
         "_deepnote_index_column": 1968
        },
        {
         "MOFname": "mof_unit_pretest_1970",
         "volume [A^3]": 1528.8317539999998,
         "weight [u]": 751.06032,
         "surface_area [m^2/g]": 2270.4,
         "void_fraction": 0.39678,
         "void_volume [cm^3/g]": 0.4864,
         "functional_groups": 39,
         "metal_linker": 3,
         "organic_linker1": 12,
         "organic_linker2": 20,
         "topology": 5,
         "CO2/N2_selectivity": 6.513730399,
         "heat_adsorption_CO2_P0.15bar_T298K [kcal/mol]": 4.111286,
         "_deepnote_index_column": 1969
        },
        {
         "MOFname": "mof_unit_pretest_1971",
         "volume [A^3]": 4536.898249,
         "weight [u]": 3405.8085,
         "surface_area [m^2/g]": 1381.6,
         "void_fraction": 0.31482,
         "void_volume [cm^3/g]": 0.2526,
         "functional_groups": 160,
         "metal_linker": 4,
         "organic_linker1": 6,
         "organic_linker2": 25,
         "topology": 0,
         "CO2/N2_selectivity": 7.782426546,
         "heat_adsorption_CO2_P0.15bar_T298K [kcal/mol]": 4.575605,
         "_deepnote_index_column": 1970
        },
        {
         "MOFname": "mof_unit_pretest_1972",
         "volume [A^3]": 2152.79575,
         "weight [u]": 1176.3194,
         "surface_area [m^2/g]": 2049,
         "void_fraction": 0.31445,
         "void_volume [cm^3/g]": 0.3466,
         "functional_groups": 243,
         "metal_linker": 9,
         "organic_linker1": 20,
         "organic_linker2": 22,
         "topology": 8,
         "CO2/N2_selectivity": 6.175174142,
         "heat_adsorption_CO2_P0.15bar_T298K [kcal/mol]": 4.176143,
         "_deepnote_index_column": 1971
        },
        {
         "MOFname": "mof_unit_pretest_1973",
         "volume [A^3]": 3269.071988,
         "weight [u]": 1133.93876,
         "surface_area [m^2/g]": 3729.5,
         "void_fraction": 0.54396,
         "void_volume [cm^3/g]": 0.9444,
         "functional_groups": 324,
         "metal_linker": 1,
         "organic_linker1": 12,
         "organic_linker2": 26,
         "topology": 5,
         "CO2/N2_selectivity": 4.950156641,
         "heat_adsorption_CO2_P0.15bar_T298K [kcal/mol]": 3.655535,
         "_deepnote_index_column": 1972
        },
        {
         "MOFname": "mof_unit_pretest_1974",
         "volume [A^3]": 3006.176384,
         "weight [u]": 825.01828,
         "surface_area [m^2/g]": 4717.46,
         "void_fraction": 0.6089600000000001,
         "void_volume [cm^3/g]": 1.3363,
         "functional_groups": 65,
         "metal_linker": 3,
         "organic_linker1": 2,
         "organic_linker2": 20,
         "topology": 5,
         "CO2/N2_selectivity": 3.917811162,
         "heat_adsorption_CO2_P0.15bar_T298K [kcal/mol]": 3.150682,
         "_deepnote_index_column": 1973
        },
        {
         "MOFname": "mof_unit_pretest_1975",
         "volume [A^3]": 21562.291531,
         "weight [u]": 3250.49456,
         "surface_area [m^2/g]": 5692.3,
         "void_fraction": 0.77864,
         "void_volume [cm^3/g]": 3.1105,
         "functional_groups": 115,
         "metal_linker": 3,
         "organic_linker1": 2,
         "organic_linker2": 19,
         "topology": 4,
         "CO2/N2_selectivity": 3.172814135,
         "heat_adsorption_CO2_P0.15bar_T298K [kcal/mol]": 2.812587,
         "_deepnote_index_column": 1974
        },
        {
         "MOFname": "mof_unit_pretest_1976",
         "volume [A^3]": 39704.673429,
         "weight [u]": 7961.8072,
         "surface_area [m^2/g]": 5291.59,
         "void_fraction": 0.7075600000000001,
         "void_volume [cm^3/g]": 2.1249,
         "functional_groups": 244,
         "metal_linker": 1,
         "organic_linker1": 6,
         "organic_linker2": 29,
         "topology": 5,
         "CO2/N2_selectivity": 3.496131512,
         "heat_adsorption_CO2_P0.15bar_T298K [kcal/mol]": 3.182175,
         "_deepnote_index_column": 1975
        },
        {
         "MOFname": "mof_unit_pretest_1977",
         "volume [A^3]": 59361.86809,
         "weight [u]": 8703.04336,
         "surface_area [m^2/g]": 4445.01,
         "void_fraction": 0.8351799999999999,
         "void_volume [cm^3/g]": 3.4306,
         "functional_groups": 116,
         "metal_linker": 3,
         "organic_linker1": 7,
         "organic_linker2": 28,
         "topology": 4,
         "CO2/N2_selectivity": 2.944529531,
         "heat_adsorption_CO2_P0.15bar_T298K [kcal/mol]": 2.969951,
         "_deepnote_index_column": 1976
        },
        {
         "MOFname": "mof_unit_pretest_1978",
         "volume [A^3]": 1896.579235,
         "weight [u]": 2443.1828800000003,
         "surface_area [m^2/g]": 402.68,
         "void_fraction": 0.1199,
         "void_volume [cm^3/g]": 0.0561,
         "functional_groups": 153,
         "metal_linker": 9,
         "organic_linker1": 5,
         "organic_linker2": 18,
         "topology": 8,
         "CO2/N2_selectivity": 13.97651127,
         "heat_adsorption_CO2_P0.15bar_T298K [kcal/mol]": 5.2048,
         "_deepnote_index_column": 1977
        },
        {
         "MOFname": "mof_unit_pretest_1979",
         "volume [A^3]": 3701.623503,
         "weight [u]": 1021.53846,
         "surface_area [m^2/g]": 5209.01,
         "void_fraction": 0.61098,
         "void_volume [cm^3/g]": 1.3333,
         "functional_groups": 152,
         "metal_linker": 2,
         "organic_linker1": 23,
         "organic_linker2": 25,
         "topology": 5,
         "CO2/N2_selectivity": 4.550306607,
         "heat_adsorption_CO2_P0.15bar_T298K [kcal/mol]": 3.392249,
         "_deepnote_index_column": 1978
        },
        {
         "MOFname": "mof_unit_pretest_1980",
         "volume [A^3]": 41553.835369,
         "weight [u]": 10609.14816,
         "surface_area [m^2/g]": 4566.39,
         "void_fraction": 0.6372,
         "void_volume [cm^3/g]": 1.503,
         "functional_groups": 231,
         "metal_linker": 1,
         "organic_linker1": 7,
         "organic_linker2": 11,
         "topology": 5,
         "CO2/N2_selectivity": 4.182764434,
         "heat_adsorption_CO2_P0.15bar_T298K [kcal/mol]": 3.130719,
         "_deepnote_index_column": 1979
        },
        {
         "MOFname": "mof_unit_pretest_1981",
         "volume [A^3]": 5009.10834,
         "weight [u]": 1803.42572,
         "surface_area [m^2/g]": 3455.05,
         "void_fraction": 0.48578,
         "void_volume [cm^3/g]": 0.8126,
         "functional_groups": 299,
         "metal_linker": 3,
         "organic_linker1": 1,
         "organic_linker2": 24,
         "topology": 4,
         "CO2/N2_selectivity": 7.467759126,
         "heat_adsorption_CO2_P0.15bar_T298K [kcal/mol]": 3.904462,
         "_deepnote_index_column": 1980
        },
        {
         "MOFname": "mof_unit_pretest_1982",
         "volume [A^3]": 15128.142553,
         "weight [u]": 4137.329479999999,
         "surface_area [m^2/g]": 4341.42,
         "void_fraction": 0.58348,
         "void_volume [cm^3/g]": 1.2848,
         "functional_groups": 130,
         "metal_linker": 2,
         "organic_linker1": 4,
         "organic_linker2": 25,
         "topology": 4,
         "CO2/N2_selectivity": 4.336663422,
         "heat_adsorption_CO2_P0.15bar_T298K [kcal/mol]": 3.823728,
         "_deepnote_index_column": 1981
        },
        {
         "MOFname": "mof_unit_pretest_1983",
         "volume [A^3]": 2523.079793,
         "weight [u]": 733.162613,
         "surface_area [m^2/g]": 4766.59,
         "void_fraction": 0.57685,
         "void_volume [cm^3/g]": 1.1955,
         "functional_groups": 95,
         "metal_linker": 3,
         "organic_linker1": 6,
         "organic_linker2": 24,
         "topology": 5,
         "CO2/N2_selectivity": 4.543114694,
         "heat_adsorption_CO2_P0.15bar_T298K [kcal/mol]": 3.405867,
         "_deepnote_index_column": 1982
        },
        {
         "MOFname": "mof_unit_pretest_1984",
         "volume [A^3]": 33147.281373000005,
         "weight [u]": 4627.273279999999,
         "surface_area [m^2/g]": 5016.07,
         "void_fraction": 0.81412,
         "void_volume [cm^3/g]": 3.5121,
         "functional_groups": 357,
         "metal_linker": 3,
         "organic_linker1": 20,
         "organic_linker2": 27,
         "topology": 4,
         "CO2/N2_selectivity": 3.262558028,
         "heat_adsorption_CO2_P0.15bar_T298K [kcal/mol]": 2.271462,
         "_deepnote_index_column": 1983
        },
        {
         "MOFname": "mof_unit_pretest_1985",
         "volume [A^3]": 4644.763969,
         "weight [u]": 1205.3456199999998,
         "surface_area [m^2/g]": 4285.06,
         "void_fraction": 0.65747,
         "void_volume [cm^3/g]": 1.5257,
         "functional_groups": 156,
         "metal_linker": 2,
         "organic_linker1": 7,
         "organic_linker2": 23,
         "topology": 5,
         "CO2/N2_selectivity": 4.2331690680000005,
         "heat_adsorption_CO2_P0.15bar_T298K [kcal/mol]": 3.82195,
         "_deepnote_index_column": 1984
        },
        {
         "MOFname": "mof_unit_pretest_1986",
         "volume [A^3]": 1465.706508,
         "weight [u]": 515.37718,
         "surface_area [m^2/g]": 4083.96,
         "void_fraction": 0.4933,
         "void_volume [cm^3/g]": 0.8449,
         "functional_groups": 130,
         "metal_linker": 2,
         "organic_linker1": 11,
         "organic_linker2": 21,
         "topology": 5,
         "CO2/N2_selectivity": 5.174784895,
         "heat_adsorption_CO2_P0.15bar_T298K [kcal/mol]": 3.828359,
         "_deepnote_index_column": 1985
        },
        {
         "MOFname": "mof_unit_pretest_1987",
         "volume [A^3]": 16829.557642,
         "weight [u]": 3968.85808,
         "surface_area [m^2/g]": 4343.96,
         "void_fraction": 0.66498,
         "void_volume [cm^3/g]": 1.6981,
         "functional_groups": 277,
         "metal_linker": 2,
         "organic_linker1": 4,
         "organic_linker2": 7,
         "topology": 4,
         "CO2/N2_selectivity": 3.499796625,
         "heat_adsorption_CO2_P0.15bar_T298K [kcal/mol]": 3.060597,
         "_deepnote_index_column": 1986
        },
        {
         "MOFname": "mof_unit_pretest_1988",
         "volume [A^3]": 32689.292788,
         "weight [u]": 6368.96288,
         "surface_area [m^2/g]": 4283.37,
         "void_fraction": 0.7430899999999999,
         "void_volume [cm^3/g]": 2.2968,
         "functional_groups": 270,
         "metal_linker": 3,
         "organic_linker1": 3,
         "organic_linker2": 4,
         "topology": 4,
         "CO2/N2_selectivity": 3.793509503,
         "heat_adsorption_CO2_P0.15bar_T298K [kcal/mol]": 3.13701,
         "_deepnote_index_column": 1987
        },
        {
         "MOFname": "mof_unit_pretest_1989",
         "volume [A^3]": 19679.741412,
         "weight [u]": 8065.052159999999,
         "surface_area [m^2/g]": 2578.92,
         "void_fraction": 0.59846,
         "void_volume [cm^3/g]": 0.8794,
         "functional_groups": 173,
         "metal_linker": 2,
         "organic_linker1": 17,
         "organic_linker2": 24,
         "topology": 4,
         "CO2/N2_selectivity": 6.175411193,
         "heat_adsorption_CO2_P0.15bar_T298K [kcal/mol]": 3.942724,
         "_deepnote_index_column": 1988
        },
        {
         "MOFname": "mof_unit_pretest_1990",
         "volume [A^3]": 6625.148565,
         "weight [u]": 1351.38382,
         "surface_area [m^2/g]": 5297.4,
         "void_fraction": 0.7107,
         "void_volume [cm^3/g]": 2.0982,
         "functional_groups": 152,
         "metal_linker": 3,
         "organic_linker1": 6,
         "organic_linker2": 29,
         "topology": 5,
         "CO2/N2_selectivity": 2.989103452,
         "heat_adsorption_CO2_P0.15bar_T298K [kcal/mol]": 2.913185,
         "_deepnote_index_column": 1989
        },
        {
         "MOFname": "mof_unit_pretest_1991",
         "volume [A^3]": 8035.092122,
         "weight [u]": 2327.5434800000003,
         "surface_area [m^2/g]": 3893.19,
         "void_fraction": 0.58838,
         "void_volume [cm^3/g]": 1.2232,
         "functional_groups": 133,
         "metal_linker": 2,
         "organic_linker1": 34,
         "organic_linker2": 34,
         "topology": 6,
         "CO2/N2_selectivity": 6.23172012,
         "heat_adsorption_CO2_P0.15bar_T298K [kcal/mol]": 3.4834120000000004,
         "_deepnote_index_column": 1990
        },
        {
         "MOFname": "mof_unit_pretest_1992",
         "volume [A^3]": 9607.440531,
         "weight [u]": 2435.933803,
         "surface_area [m^2/g]": 4460.46,
         "void_fraction": 0.6792,
         "void_volume [cm^3/g]": 1.6132,
         "functional_groups": 105,
         "metal_linker": 1,
         "organic_linker1": 8,
         "organic_linker2": 12,
         "topology": 5,
         "CO2/N2_selectivity": 3.629443169,
         "heat_adsorption_CO2_P0.15bar_T298K [kcal/mol]": 3.066646,
         "_deepnote_index_column": 1991
        },
        {
         "MOFname": "mof_unit_pretest_1993",
         "volume [A^3]": 2346.770472,
         "weight [u]": 2101.156667,
         "surface_area [m^2/g]": 515.9,
         "void_fraction": 0.13582,
         "void_volume [cm^3/g]": 0.0914,
         "functional_groups": 109,
         "metal_linker": 10,
         "organic_linker1": 45,
         "organic_linker2": 51,
         "topology": 2,
         "CO2/N2_selectivity": 15.37722164,
         "heat_adsorption_CO2_P0.15bar_T298K [kcal/mol]": 5.310767,
         "_deepnote_index_column": 1992
        },
        {
         "MOFname": "mof_unit_pretest_1994",
         "volume [A^3]": 2965.451007,
         "weight [u]": 1300.89188,
         "surface_area [m^2/g]": 3214.62,
         "void_fraction": 0.52904,
         "void_volume [cm^3/g]": 0.7262,
         "functional_groups": 171,
         "metal_linker": 3,
         "organic_linker1": 21,
         "organic_linker2": 26,
         "topology": 5,
         "CO2/N2_selectivity": 4.897691747,
         "heat_adsorption_CO2_P0.15bar_T298K [kcal/mol]": 3.523423,
         "_deepnote_index_column": 1993
        },
        {
         "MOFname": "mof_unit_pretest_1995",
         "volume [A^3]": 2799.554047,
         "weight [u]": 762.164073,
         "surface_area [m^2/g]": 5404.89,
         "void_fraction": 0.5885199999999999,
         "void_volume [cm^3/g]": 1.3018,
         "functional_groups": 25,
         "metal_linker": 3,
         "organic_linker1": 21,
         "organic_linker2": 23,
         "topology": 5,
         "CO2/N2_selectivity": 4.369918633,
         "heat_adsorption_CO2_P0.15bar_T298K [kcal/mol]": 2.851009,
         "_deepnote_index_column": 1994
        },
        {
         "MOFname": "mof_unit_pretest_1996",
         "volume [A^3]": 5111.109714,
         "weight [u]": 1578.08222,
         "surface_area [m^2/g]": 3630.31,
         "void_fraction": 0.5898100000000001,
         "void_volume [cm^3/g]": 1.1504,
         "functional_groups": 49,
         "metal_linker": 2,
         "organic_linker1": 1,
         "organic_linker2": 14,
         "topology": 4,
         "CO2/N2_selectivity": 4.778697788000001,
         "heat_adsorption_CO2_P0.15bar_T298K [kcal/mol]": 3.675003,
         "_deepnote_index_column": 1995
        },
        {
         "MOFname": "mof_unit_pretest_1997",
         "volume [A^3]": 911.269336,
         "weight [u]": 481.27968,
         "surface_area [m^2/g]": 2546.02,
         "void_fraction": 0.36132,
         "void_volume [cm^3/g]": 0.412,
         "functional_groups": 26,
         "metal_linker": 2,
         "organic_linker1": 10,
         "organic_linker2": 20,
         "topology": 5,
         "CO2/N2_selectivity": 6.883387497999999,
         "heat_adsorption_CO2_P0.15bar_T298K [kcal/mol]": 3.732121,
         "_deepnote_index_column": 1996
        },
        {
         "MOFname": "mof_unit_pretest_1998",
         "volume [A^3]": 4236.596493999999,
         "weight [u]": 1127.7926,
         "surface_area [m^2/g]": 4296.42,
         "void_fraction": 0.6029800000000001,
         "void_volume [cm^3/g]": 1.3641,
         "functional_groups": 143,
         "metal_linker": 2,
         "organic_linker1": 7,
         "organic_linker2": 20,
         "topology": 5,
         "CO2/N2_selectivity": 5.270734026,
         "heat_adsorption_CO2_P0.15bar_T298K [kcal/mol]": 3.354425,
         "_deepnote_index_column": 1997
        },
        {
         "MOFname": "mof_unit_pretest_1999",
         "volume [A^3]": 22861.645381,
         "weight [u]": 3492.7127200000004,
         "surface_area [m^2/g]": 6252.01,
         "void_fraction": 0.75732,
         "void_volume [cm^3/g]": 2.9852,
         "functional_groups": 186,
         "metal_linker": 2,
         "organic_linker1": 6,
         "organic_linker2": 11,
         "topology": 4,
         "CO2/N2_selectivity": 3.172914376,
         "heat_adsorption_CO2_P0.15bar_T298K [kcal/mol]": 2.643592,
         "_deepnote_index_column": 1998
        },
        {
         "MOFname": "mof_unit_pretest_2000",
         "volume [A^3]": 1959.675947,
         "weight [u]": 1725.765236,
         "surface_area [m^2/g]": 0,
         "void_fraction": 0.02102,
         "void_volume [cm^3/g]": 0.0144,
         "functional_groups": 179,
         "metal_linker": 10,
         "organic_linker1": 47,
         "organic_linker2": 50,
         "topology": 2,
         "CO2/N2_selectivity": 9.704603731,
         "heat_adsorption_CO2_P0.15bar_T298K [kcal/mol]": 7.289341999999999,
         "_deepnote_index_column": 1999
        }
       ]
      },
      "text/plain": "                    MOFname  volume [A^3]   weight [u]  surface_area [m^2/g]  \\\n0        mof_unit_pretest_1   6288.293858  2271.687140               4148.48   \n1        mof_unit_pretest_2   1790.506437   887.747320               2191.34   \n2        mof_unit_pretest_3   2348.969203  1239.765880               2030.88   \n3        mof_unit_pretest_4   2941.571525  1147.951400               3587.13   \n4        mof_unit_pretest_5    705.397601   643.270740                  0.00   \n...                     ...           ...          ...                   ...   \n1995  mof_unit_pretest_1996   5111.109714  1578.082220               3630.31   \n1996  mof_unit_pretest_1997    911.269336   481.279680               2546.02   \n1997  mof_unit_pretest_1998   4236.596494  1127.792600               4296.42   \n1998  mof_unit_pretest_1999  22861.645381  3492.712720               6252.01   \n1999  mof_unit_pretest_2000   1959.675947  1725.765236                  0.00   \n\n      void_fraction  void_volume [cm^3/g]  functional_groups  metal_linker  \\\n0           0.41225                0.6872                305             4   \n1           0.30231                0.3672                149             2   \n2           0.28533                0.3256                371             3   \n3           0.41963                0.6475                 91             2   \n4           0.07060                0.0466                 65             3   \n...             ...                   ...                ...           ...   \n1995        0.58981                1.1504                 49             2   \n1996        0.36132                0.4120                 26             2   \n1997        0.60298                1.3641                143             2   \n1998        0.75732                2.9852                186             2   \n1999        0.02102                0.0144                179            10   \n\n      organic_linker1  organic_linker2  topology  CO2/N2_selectivity  \\\n0                   7               27         0         14.04879074   \n1                   4               26         5         20.21722169   \n2                  18               22         5         33.10866151   \n3                   8               15         5         12.80056168   \n4                  10               22         5         23.39561652   \n...               ...              ...       ...                 ...   \n1995                1               14         4          4.77869779   \n1996               10               20         5          6.88338750   \n1997                7               20         5          5.27073403   \n1998                6               11         4          3.17291438   \n1999               47               50         2          9.70460373   \n\n      heat_adsorption_CO2_P0.15bar_T298K [kcal/mol]  \n0                                          5.604779  \n1                                          6.148776  \n2                                          6.164397  \n3                                          5.164957  \n4                                          7.090687  \n...                                             ...  \n1995                                       3.675003  \n1996                                       3.732121  \n1997                                       3.354425  \n1998                                       2.643592  \n1999                                       7.289342  \n\n[2000 rows x 13 columns]",
      "text/html": "<div>\n<style scoped>\n    .dataframe tbody tr th:only-of-type {\n        vertical-align: middle;\n    }\n\n    .dataframe tbody tr th {\n        vertical-align: top;\n    }\n\n    .dataframe thead th {\n        text-align: right;\n    }\n</style>\n<table border=\"1\" class=\"dataframe\">\n  <thead>\n    <tr style=\"text-align: right;\">\n      <th></th>\n      <th>MOFname</th>\n      <th>volume [A^3]</th>\n      <th>weight [u]</th>\n      <th>surface_area [m^2/g]</th>\n      <th>void_fraction</th>\n      <th>void_volume [cm^3/g]</th>\n      <th>functional_groups</th>\n      <th>metal_linker</th>\n      <th>organic_linker1</th>\n      <th>organic_linker2</th>\n      <th>topology</th>\n      <th>CO2/N2_selectivity</th>\n      <th>heat_adsorption_CO2_P0.15bar_T298K [kcal/mol]</th>\n    </tr>\n  </thead>\n  <tbody>\n    <tr>\n      <th>0</th>\n      <td>mof_unit_pretest_1</td>\n      <td>6288.293858</td>\n      <td>2271.687140</td>\n      <td>4148.48</td>\n      <td>0.41225</td>\n      <td>0.6872</td>\n      <td>305</td>\n      <td>4</td>\n      <td>7</td>\n      <td>27</td>\n      <td>0</td>\n      <td>14.04879074</td>\n      <td>5.604779</td>\n    </tr>\n    <tr>\n      <th>1</th>\n      <td>mof_unit_pretest_2</td>\n      <td>1790.506437</td>\n      <td>887.747320</td>\n      <td>2191.34</td>\n      <td>0.30231</td>\n      <td>0.3672</td>\n      <td>149</td>\n      <td>2</td>\n      <td>4</td>\n      <td>26</td>\n      <td>5</td>\n      <td>20.21722169</td>\n      <td>6.148776</td>\n    </tr>\n    <tr>\n      <th>2</th>\n      <td>mof_unit_pretest_3</td>\n      <td>2348.969203</td>\n      <td>1239.765880</td>\n      <td>2030.88</td>\n      <td>0.28533</td>\n      <td>0.3256</td>\n      <td>371</td>\n      <td>3</td>\n      <td>18</td>\n      <td>22</td>\n      <td>5</td>\n      <td>33.10866151</td>\n      <td>6.164397</td>\n    </tr>\n    <tr>\n      <th>3</th>\n      <td>mof_unit_pretest_4</td>\n      <td>2941.571525</td>\n      <td>1147.951400</td>\n      <td>3587.13</td>\n      <td>0.41963</td>\n      <td>0.6475</td>\n      <td>91</td>\n      <td>2</td>\n      <td>8</td>\n      <td>15</td>\n      <td>5</td>\n      <td>12.80056168</td>\n      <td>5.164957</td>\n    </tr>\n    <tr>\n      <th>4</th>\n      <td>mof_unit_pretest_5</td>\n      <td>705.397601</td>\n      <td>643.270740</td>\n      <td>0.00</td>\n      <td>0.07060</td>\n      <td>0.0466</td>\n      <td>65</td>\n      <td>3</td>\n      <td>10</td>\n      <td>22</td>\n      <td>5</td>\n      <td>23.39561652</td>\n      <td>7.090687</td>\n    </tr>\n    <tr>\n      <th>...</th>\n      <td>...</td>\n      <td>...</td>\n      <td>...</td>\n      <td>...</td>\n      <td>...</td>\n      <td>...</td>\n      <td>...</td>\n      <td>...</td>\n      <td>...</td>\n      <td>...</td>\n      <td>...</td>\n      <td>...</td>\n      <td>...</td>\n    </tr>\n    <tr>\n      <th>1995</th>\n      <td>mof_unit_pretest_1996</td>\n      <td>5111.109714</td>\n      <td>1578.082220</td>\n      <td>3630.31</td>\n      <td>0.58981</td>\n      <td>1.1504</td>\n      <td>49</td>\n      <td>2</td>\n      <td>1</td>\n      <td>14</td>\n      <td>4</td>\n      <td>4.77869779</td>\n      <td>3.675003</td>\n    </tr>\n    <tr>\n      <th>1996</th>\n      <td>mof_unit_pretest_1997</td>\n      <td>911.269336</td>\n      <td>481.279680</td>\n      <td>2546.02</td>\n      <td>0.36132</td>\n      <td>0.4120</td>\n      <td>26</td>\n      <td>2</td>\n      <td>10</td>\n      <td>20</td>\n      <td>5</td>\n      <td>6.88338750</td>\n      <td>3.732121</td>\n    </tr>\n    <tr>\n      <th>1997</th>\n      <td>mof_unit_pretest_1998</td>\n      <td>4236.596494</td>\n      <td>1127.792600</td>\n      <td>4296.42</td>\n      <td>0.60298</td>\n      <td>1.3641</td>\n      <td>143</td>\n      <td>2</td>\n      <td>7</td>\n      <td>20</td>\n      <td>5</td>\n      <td>5.27073403</td>\n      <td>3.354425</td>\n    </tr>\n    <tr>\n      <th>1998</th>\n      <td>mof_unit_pretest_1999</td>\n      <td>22861.645381</td>\n      <td>3492.712720</td>\n      <td>6252.01</td>\n      <td>0.75732</td>\n      <td>2.9852</td>\n      <td>186</td>\n      <td>2</td>\n      <td>6</td>\n      <td>11</td>\n      <td>4</td>\n      <td>3.17291438</td>\n      <td>2.643592</td>\n    </tr>\n    <tr>\n      <th>1999</th>\n      <td>mof_unit_pretest_2000</td>\n      <td>1959.675947</td>\n      <td>1725.765236</td>\n      <td>0.00</td>\n      <td>0.02102</td>\n      <td>0.0144</td>\n      <td>179</td>\n      <td>10</td>\n      <td>47</td>\n      <td>50</td>\n      <td>2</td>\n      <td>9.70460373</td>\n      <td>7.289342</td>\n    </tr>\n  </tbody>\n</table>\n<p>2000 rows × 13 columns</p>\n</div>"
     },
     "metadata": {}
    }
   ]
  },
  {
   "cell_type": "markdown",
   "source": "### Let's predict and create a submission file\n\nJoin the [Codalab competition](https://competitions.codalab.org/competitions/34540) for this course!\n\nCreate a `submission.csv` with your predictions to join the competition and upload it to the competition site.",
   "metadata": {
    "tags": [],
    "cell_id": "00064-c3d9ffcb-9efc-4378-aac6-4bbe16cfd4f5",
    "deepnote_cell_type": "markdown"
   }
  },
  {
   "cell_type": "code",
   "metadata": {
    "tags": [],
    "deepnote_to_be_reexecuted": false,
    "source_hash": "e4bd47fb",
    "execution_start": 1633152542098,
    "execution_millis": 148,
    "cell_id": "00065-9df320e3-5077-48e9-a233-00b42eced7f1",
    "deepnote_output_heights": [
     136.3125
    ],
    "deepnote_cell_type": "code"
   },
   "source": "pretest_pred = model.predict(pretest.iloc[:, [1,2,3,4,5,7,8,9,11,12]])\npretest_pred",
   "execution_count": null,
   "outputs": [
    {
     "output_type": "execute_result",
     "execution_count": 20,
     "data": {
      "text/plain": "array([[ 59.207752],\n       [120.78079 ],\n       [195.10524 ],\n       ...,\n       [ 18.645304],\n       [ 12.275341],\n       [ 57.88158 ]], dtype=float32)"
     },
     "metadata": {}
    }
   ]
  },
  {
   "cell_type": "markdown",
   "source": "<a style='text-decoration:none;line-height:16px;display:flex;color:#5B5B62;padding:10px;justify-content:end;' href='https://deepnote.com?utm_source=created-in-deepnote-cell&projectId=298852d4-1a55-4c9f-9b50-0f7ec627b93a' target=\"_blank\">\n<img alt='Created in deepnote.com' style='display:inline;max-height:16px;margin:0px;margin-right:7.5px;' src='data:image/svg+xml;base64,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' > </img>\nCreated in <span style='font-weight:600;margin-left:4px;'>Deepnote</span></a>",
   "metadata": {
    "tags": [],
    "created_in_deepnote_cell": true,
    "deepnote_cell_type": "markdown"
   }
  }
 ],
 "nbformat": 4,
 "nbformat_minor": 4,
 "metadata": {
  "colab": {
   "authorship_tag": "ABX9TyPN8k7TffsssTOVwMWzWg57",
   "collapsed_sections": [],
   "name": "linear-regression.ipynb",
   "provenance": [],
   "toc_visible": true
  },
  "kernelspec": {
   "display_name": "Python 3",
   "language": "python",
   "name": "python3"
  },
  "language_info": {
   "codemirror_mode": {
    "name": "ipython",
    "version": 3
   },
   "file_extension": ".py",
   "mimetype": "text/x-python",
   "name": "python",
   "nbconvert_exporter": "python",
   "pygments_lexer": "ipython3",
   "version": "3.7.10"
  },
  "deepnote_notebook_id": "1d6c0e40-73ec-4d79-a0ae-a5df93a98852",
  "deepnote": {},
  "deepnote_execution_queue": []
 }
}